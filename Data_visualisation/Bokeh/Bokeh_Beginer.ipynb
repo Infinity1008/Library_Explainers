{
 "cells": [
  {
   "cell_type": "markdown",
   "metadata": {},
   "source": [
    "#  Index\n",
    "\n",
    "\n",
    "<ol>\n",
    "    <li><a href='#1'>Getting started with Bokeh</a></li>\n",
    "    <li><a href='#2'>Exploring the figure function</a></li>\n",
    "    <li><a href='#3'>Adding Glyphs to the plot</a></li>\n",
    "    <ul><li><a href='#4'>Scatter markers</a></li>\n",
    "    <li><a href='#5'>Line glyphs</a></li>\n",
    "    <li><a href='#6'>Stacked Lines</a></li>\n",
    "    <li><a href='#7'>Bars</a></li>\n",
    "    <li><a href='#8'>Stacked Bars</a></li>\n",
    "    <li><a href='#9'>Patches</a></li>\n",
    "    <li><a href='#10'>Segments</a></li></ul>\n",
    "    <li><a href='#11'>Combining multiple glyphs together</a></li>\n",
    "    <li><a href='#12'>Toolbar</a></li>\n",
    "    <li><a href='#13'>Positioning the Toolbar</a></li>\n",
    "    <li><a href='#19'>Specifying Tools</a></li>\n",
    "    <li><a href='#14'>Configuring Plot Tools</a></li>\n",
    "    <ul><li><a href='#15'>Gestures</a></li>\n",
    "    <li><a href='#16'>Actions</a></li>\n",
    "    <li><a href='#17'>Inspectors</a></li>\n",
    "    <li><a href='#18'>Edit tools</a></li></ul>\n",
    "    <li></li>\n",
    "    <li></li>\n",
    "    <li></li>\n",
    "    \n",
    "</ol>\n",
    "\n",
    "\n",
    "<a href='#20'></a>\n",
    "<a href='#21'></a>\n",
    "<a href='#22'></a>\n",
    " \n",
    "\n",
    "<a id = \"1\"></a>"
   ]
  },
  {
   "cell_type": "markdown",
   "metadata": {},
   "source": [
    "# Getting started with Bokeh\n",
    "Bokeh has a simple 2 step process to draw a plot.\n",
    "\n",
    "1. <h3>Make a canvas</h3>\n",
    "<ul>\n",
    "    <li>We create an empty canvas, like an empty sheet of paper.</li>\n",
    "    <li>Then we can decide, how big this sheet of paper should be, what should be its color, does it has borders among other things.</li>\n",
    "    <li>This sheet of paper or canvas is given to us by the `figure` funciton.</li>\n",
    "    <li>We can configure the toolbar of our canvas</li>\n",
    "</ul>\n",
    "\n",
    "\n",
    "2. <h3>Draw on the canvas</h3>\n",
    "<ul>\n",
    "    <li>Now that we have a sheet of paper or a canvas, we can draw on it !!</li>\n",
    "    <li>Anything that we draw here, lines, points, bars, any shape are all reffered to as 'glyphs' in bokeh.</li>\n",
    "    <li>These different glyphs have their own set of properties and defaults. </li>\n",
    "    <li>For eg:- Let's say you draw a circle, you can set its size, color, alpha value etc</li>\n",
    "</ul>\n",
    "\n",
    "\n",
    "\n",
    "\n",
    "> Let's just make a simple plot and explain the flow described above\n",
    "<a id = \"1\"></a>"
   ]
  },
  {
   "cell_type": "code",
   "execution_count": 1,
   "metadata": {},
   "outputs": [
    {
     "data": {
      "text/html": [
       "\n",
       "    <div class=\"bk-root\">\n",
       "        <a href=\"https://bokeh.org\" target=\"_blank\" class=\"bk-logo bk-logo-small bk-logo-notebook\"></a>\n",
       "        <span id=\"1001\">Loading BokehJS ...</span>\n",
       "    </div>"
      ]
     },
     "metadata": {},
     "output_type": "display_data"
    },
    {
     "data": {
      "application/javascript": [
       "\n",
       "(function(root) {\n",
       "  function now() {\n",
       "    return new Date();\n",
       "  }\n",
       "\n",
       "  var force = true;\n",
       "\n",
       "  if (typeof root._bokeh_onload_callbacks === \"undefined\" || force === true) {\n",
       "    root._bokeh_onload_callbacks = [];\n",
       "    root._bokeh_is_loading = undefined;\n",
       "  }\n",
       "\n",
       "  var JS_MIME_TYPE = 'application/javascript';\n",
       "  var HTML_MIME_TYPE = 'text/html';\n",
       "  var EXEC_MIME_TYPE = 'application/vnd.bokehjs_exec.v0+json';\n",
       "  var CLASS_NAME = 'output_bokeh rendered_html';\n",
       "\n",
       "  /**\n",
       "   * Render data to the DOM node\n",
       "   */\n",
       "  function render(props, node) {\n",
       "    var script = document.createElement(\"script\");\n",
       "    node.appendChild(script);\n",
       "  }\n",
       "\n",
       "  /**\n",
       "   * Handle when an output is cleared or removed\n",
       "   */\n",
       "  function handleClearOutput(event, handle) {\n",
       "    var cell = handle.cell;\n",
       "\n",
       "    var id = cell.output_area._bokeh_element_id;\n",
       "    var server_id = cell.output_area._bokeh_server_id;\n",
       "    // Clean up Bokeh references\n",
       "    if (id != null && id in Bokeh.index) {\n",
       "      Bokeh.index[id].model.document.clear();\n",
       "      delete Bokeh.index[id];\n",
       "    }\n",
       "\n",
       "    if (server_id !== undefined) {\n",
       "      // Clean up Bokeh references\n",
       "      var cmd = \"from bokeh.io.state import curstate; print(curstate().uuid_to_server['\" + server_id + \"'].get_sessions()[0].document.roots[0]._id)\";\n",
       "      cell.notebook.kernel.execute(cmd, {\n",
       "        iopub: {\n",
       "          output: function(msg) {\n",
       "            var id = msg.content.text.trim();\n",
       "            if (id in Bokeh.index) {\n",
       "              Bokeh.index[id].model.document.clear();\n",
       "              delete Bokeh.index[id];\n",
       "            }\n",
       "          }\n",
       "        }\n",
       "      });\n",
       "      // Destroy server and session\n",
       "      var cmd = \"import bokeh.io.notebook as ion; ion.destroy_server('\" + server_id + \"')\";\n",
       "      cell.notebook.kernel.execute(cmd);\n",
       "    }\n",
       "  }\n",
       "\n",
       "  /**\n",
       "   * Handle when a new output is added\n",
       "   */\n",
       "  function handleAddOutput(event, handle) {\n",
       "    var output_area = handle.output_area;\n",
       "    var output = handle.output;\n",
       "\n",
       "    // limit handleAddOutput to display_data with EXEC_MIME_TYPE content only\n",
       "    if ((output.output_type != \"display_data\") || (!output.data.hasOwnProperty(EXEC_MIME_TYPE))) {\n",
       "      return\n",
       "    }\n",
       "\n",
       "    var toinsert = output_area.element.find(\".\" + CLASS_NAME.split(' ')[0]);\n",
       "\n",
       "    if (output.metadata[EXEC_MIME_TYPE][\"id\"] !== undefined) {\n",
       "      toinsert[toinsert.length - 1].firstChild.textContent = output.data[JS_MIME_TYPE];\n",
       "      // store reference to embed id on output_area\n",
       "      output_area._bokeh_element_id = output.metadata[EXEC_MIME_TYPE][\"id\"];\n",
       "    }\n",
       "    if (output.metadata[EXEC_MIME_TYPE][\"server_id\"] !== undefined) {\n",
       "      var bk_div = document.createElement(\"div\");\n",
       "      bk_div.innerHTML = output.data[HTML_MIME_TYPE];\n",
       "      var script_attrs = bk_div.children[0].attributes;\n",
       "      for (var i = 0; i < script_attrs.length; i++) {\n",
       "        toinsert[toinsert.length - 1].firstChild.setAttribute(script_attrs[i].name, script_attrs[i].value);\n",
       "        toinsert[toinsert.length - 1].firstChild.textContent = bk_div.children[0].textContent\n",
       "      }\n",
       "      // store reference to server id on output_area\n",
       "      output_area._bokeh_server_id = output.metadata[EXEC_MIME_TYPE][\"server_id\"];\n",
       "    }\n",
       "  }\n",
       "\n",
       "  function register_renderer(events, OutputArea) {\n",
       "\n",
       "    function append_mime(data, metadata, element) {\n",
       "      // create a DOM node to render to\n",
       "      var toinsert = this.create_output_subarea(\n",
       "        metadata,\n",
       "        CLASS_NAME,\n",
       "        EXEC_MIME_TYPE\n",
       "      );\n",
       "      this.keyboard_manager.register_events(toinsert);\n",
       "      // Render to node\n",
       "      var props = {data: data, metadata: metadata[EXEC_MIME_TYPE]};\n",
       "      render(props, toinsert[toinsert.length - 1]);\n",
       "      element.append(toinsert);\n",
       "      return toinsert\n",
       "    }\n",
       "\n",
       "    /* Handle when an output is cleared or removed */\n",
       "    events.on('clear_output.CodeCell', handleClearOutput);\n",
       "    events.on('delete.Cell', handleClearOutput);\n",
       "\n",
       "    /* Handle when a new output is added */\n",
       "    events.on('output_added.OutputArea', handleAddOutput);\n",
       "\n",
       "    /**\n",
       "     * Register the mime type and append_mime function with output_area\n",
       "     */\n",
       "    OutputArea.prototype.register_mime_type(EXEC_MIME_TYPE, append_mime, {\n",
       "      /* Is output safe? */\n",
       "      safe: true,\n",
       "      /* Index of renderer in `output_area.display_order` */\n",
       "      index: 0\n",
       "    });\n",
       "  }\n",
       "\n",
       "  // register the mime type if in Jupyter Notebook environment and previously unregistered\n",
       "  if (root.Jupyter !== undefined) {\n",
       "    var events = require('base/js/events');\n",
       "    var OutputArea = require('notebook/js/outputarea').OutputArea;\n",
       "\n",
       "    if (OutputArea.prototype.mime_types().indexOf(EXEC_MIME_TYPE) == -1) {\n",
       "      register_renderer(events, OutputArea);\n",
       "    }\n",
       "  }\n",
       "\n",
       "  \n",
       "  if (typeof (root._bokeh_timeout) === \"undefined\" || force === true) {\n",
       "    root._bokeh_timeout = Date.now() + 5000;\n",
       "    root._bokeh_failed_load = false;\n",
       "  }\n",
       "\n",
       "  var NB_LOAD_WARNING = {'data': {'text/html':\n",
       "     \"<div style='background-color: #fdd'>\\n\"+\n",
       "     \"<p>\\n\"+\n",
       "     \"BokehJS does not appear to have successfully loaded. If loading BokehJS from CDN, this \\n\"+\n",
       "     \"may be due to a slow or bad network connection. Possible fixes:\\n\"+\n",
       "     \"</p>\\n\"+\n",
       "     \"<ul>\\n\"+\n",
       "     \"<li>re-rerun `output_notebook()` to attempt to load from CDN again, or</li>\\n\"+\n",
       "     \"<li>use INLINE resources instead, as so:</li>\\n\"+\n",
       "     \"</ul>\\n\"+\n",
       "     \"<code>\\n\"+\n",
       "     \"from bokeh.resources import INLINE\\n\"+\n",
       "     \"output_notebook(resources=INLINE)\\n\"+\n",
       "     \"</code>\\n\"+\n",
       "     \"</div>\"}};\n",
       "\n",
       "  function display_loaded() {\n",
       "    var el = document.getElementById(\"1001\");\n",
       "    if (el != null) {\n",
       "      el.textContent = \"BokehJS is loading...\";\n",
       "    }\n",
       "    if (root.Bokeh !== undefined) {\n",
       "      if (el != null) {\n",
       "        el.textContent = \"BokehJS \" + root.Bokeh.version + \" successfully loaded.\";\n",
       "      }\n",
       "    } else if (Date.now() < root._bokeh_timeout) {\n",
       "      setTimeout(display_loaded, 100)\n",
       "    }\n",
       "  }\n",
       "\n",
       "\n",
       "  function run_callbacks() {\n",
       "    try {\n",
       "      root._bokeh_onload_callbacks.forEach(function(callback) {\n",
       "        if (callback != null)\n",
       "          callback();\n",
       "      });\n",
       "    } finally {\n",
       "      delete root._bokeh_onload_callbacks\n",
       "    }\n",
       "    console.debug(\"Bokeh: all callbacks have finished\");\n",
       "  }\n",
       "\n",
       "  function load_libs(css_urls, js_urls, callback) {\n",
       "    if (css_urls == null) css_urls = [];\n",
       "    if (js_urls == null) js_urls = [];\n",
       "\n",
       "    root._bokeh_onload_callbacks.push(callback);\n",
       "    if (root._bokeh_is_loading > 0) {\n",
       "      console.debug(\"Bokeh: BokehJS is being loaded, scheduling callback at\", now());\n",
       "      return null;\n",
       "    }\n",
       "    if (js_urls == null || js_urls.length === 0) {\n",
       "      run_callbacks();\n",
       "      return null;\n",
       "    }\n",
       "    console.debug(\"Bokeh: BokehJS not loaded, scheduling load and callback at\", now());\n",
       "    root._bokeh_is_loading = css_urls.length + js_urls.length;\n",
       "\n",
       "    function on_load() {\n",
       "      root._bokeh_is_loading--;\n",
       "      if (root._bokeh_is_loading === 0) {\n",
       "        console.debug(\"Bokeh: all BokehJS libraries/stylesheets loaded\");\n",
       "        run_callbacks()\n",
       "      }\n",
       "    }\n",
       "\n",
       "    function on_error() {\n",
       "      console.error(\"failed to load \" + url);\n",
       "    }\n",
       "\n",
       "    for (var i = 0; i < css_urls.length; i++) {\n",
       "      var url = css_urls[i];\n",
       "      const element = document.createElement(\"link\");\n",
       "      element.onload = on_load;\n",
       "      element.onerror = on_error;\n",
       "      element.rel = \"stylesheet\";\n",
       "      element.type = \"text/css\";\n",
       "      element.href = url;\n",
       "      console.debug(\"Bokeh: injecting link tag for BokehJS stylesheet: \", url);\n",
       "      document.body.appendChild(element);\n",
       "    }\n",
       "\n",
       "    const hashes = {\"https://cdn.bokeh.org/bokeh/release/bokeh-2.2.3.min.js\": \"T2yuo9Oe71Cz/I4X9Ac5+gpEa5a8PpJCDlqKYO0CfAuEszu1JrXLl8YugMqYe3sM\", \"https://cdn.bokeh.org/bokeh/release/bokeh-widgets-2.2.3.min.js\": \"98GDGJ0kOMCUMUePhksaQ/GYgB3+NH9h996V88sh3aOiUNX3N+fLXAtry6xctSZ6\", \"https://cdn.bokeh.org/bokeh/release/bokeh-tables-2.2.3.min.js\": \"89bArO+nlbP3sgakeHjCo1JYxYR5wufVgA3IbUvDY+K7w4zyxJqssu7wVnfeKCq8\"};\n",
       "\n",
       "    for (var i = 0; i < js_urls.length; i++) {\n",
       "      var url = js_urls[i];\n",
       "      var element = document.createElement('script');\n",
       "      element.onload = on_load;\n",
       "      element.onerror = on_error;\n",
       "      element.async = false;\n",
       "      element.src = url;\n",
       "      if (url in hashes) {\n",
       "        element.crossOrigin = \"anonymous\";\n",
       "        element.integrity = \"sha384-\" + hashes[url];\n",
       "      }\n",
       "      console.debug(\"Bokeh: injecting script tag for BokehJS library: \", url);\n",
       "      document.head.appendChild(element);\n",
       "    }\n",
       "  };\n",
       "\n",
       "  function inject_raw_css(css) {\n",
       "    const element = document.createElement(\"style\");\n",
       "    element.appendChild(document.createTextNode(css));\n",
       "    document.body.appendChild(element);\n",
       "  }\n",
       "\n",
       "  \n",
       "  var js_urls = [\"https://cdn.bokeh.org/bokeh/release/bokeh-2.2.3.min.js\", \"https://cdn.bokeh.org/bokeh/release/bokeh-widgets-2.2.3.min.js\", \"https://cdn.bokeh.org/bokeh/release/bokeh-tables-2.2.3.min.js\"];\n",
       "  var css_urls = [];\n",
       "  \n",
       "\n",
       "  var inline_js = [\n",
       "    function(Bokeh) {\n",
       "      Bokeh.set_log_level(\"info\");\n",
       "    },\n",
       "    function(Bokeh) {\n",
       "    \n",
       "    \n",
       "    }\n",
       "  ];\n",
       "\n",
       "  function run_inline_js() {\n",
       "    \n",
       "    if (root.Bokeh !== undefined || force === true) {\n",
       "      \n",
       "    for (var i = 0; i < inline_js.length; i++) {\n",
       "      inline_js[i].call(root, root.Bokeh);\n",
       "    }\n",
       "    if (force === true) {\n",
       "        display_loaded();\n",
       "      }} else if (Date.now() < root._bokeh_timeout) {\n",
       "      setTimeout(run_inline_js, 100);\n",
       "    } else if (!root._bokeh_failed_load) {\n",
       "      console.log(\"Bokeh: BokehJS failed to load within specified timeout.\");\n",
       "      root._bokeh_failed_load = true;\n",
       "    } else if (force !== true) {\n",
       "      var cell = $(document.getElementById(\"1001\")).parents('.cell').data().cell;\n",
       "      cell.output_area.append_execute_result(NB_LOAD_WARNING)\n",
       "    }\n",
       "\n",
       "  }\n",
       "\n",
       "  if (root._bokeh_is_loading === 0) {\n",
       "    console.debug(\"Bokeh: BokehJS loaded, going straight to plotting\");\n",
       "    run_inline_js();\n",
       "  } else {\n",
       "    load_libs(css_urls, js_urls, function() {\n",
       "      console.debug(\"Bokeh: BokehJS plotting callback run at\", now());\n",
       "      run_inline_js();\n",
       "    });\n",
       "  }\n",
       "}(window));"
      ],
      "application/vnd.bokehjs_load.v0+json": "\n(function(root) {\n  function now() {\n    return new Date();\n  }\n\n  var force = true;\n\n  if (typeof root._bokeh_onload_callbacks === \"undefined\" || force === true) {\n    root._bokeh_onload_callbacks = [];\n    root._bokeh_is_loading = undefined;\n  }\n\n  \n\n  \n  if (typeof (root._bokeh_timeout) === \"undefined\" || force === true) {\n    root._bokeh_timeout = Date.now() + 5000;\n    root._bokeh_failed_load = false;\n  }\n\n  var NB_LOAD_WARNING = {'data': {'text/html':\n     \"<div style='background-color: #fdd'>\\n\"+\n     \"<p>\\n\"+\n     \"BokehJS does not appear to have successfully loaded. If loading BokehJS from CDN, this \\n\"+\n     \"may be due to a slow or bad network connection. Possible fixes:\\n\"+\n     \"</p>\\n\"+\n     \"<ul>\\n\"+\n     \"<li>re-rerun `output_notebook()` to attempt to load from CDN again, or</li>\\n\"+\n     \"<li>use INLINE resources instead, as so:</li>\\n\"+\n     \"</ul>\\n\"+\n     \"<code>\\n\"+\n     \"from bokeh.resources import INLINE\\n\"+\n     \"output_notebook(resources=INLINE)\\n\"+\n     \"</code>\\n\"+\n     \"</div>\"}};\n\n  function display_loaded() {\n    var el = document.getElementById(\"1001\");\n    if (el != null) {\n      el.textContent = \"BokehJS is loading...\";\n    }\n    if (root.Bokeh !== undefined) {\n      if (el != null) {\n        el.textContent = \"BokehJS \" + root.Bokeh.version + \" successfully loaded.\";\n      }\n    } else if (Date.now() < root._bokeh_timeout) {\n      setTimeout(display_loaded, 100)\n    }\n  }\n\n\n  function run_callbacks() {\n    try {\n      root._bokeh_onload_callbacks.forEach(function(callback) {\n        if (callback != null)\n          callback();\n      });\n    } finally {\n      delete root._bokeh_onload_callbacks\n    }\n    console.debug(\"Bokeh: all callbacks have finished\");\n  }\n\n  function load_libs(css_urls, js_urls, callback) {\n    if (css_urls == null) css_urls = [];\n    if (js_urls == null) js_urls = [];\n\n    root._bokeh_onload_callbacks.push(callback);\n    if (root._bokeh_is_loading > 0) {\n      console.debug(\"Bokeh: BokehJS is being loaded, scheduling callback at\", now());\n      return null;\n    }\n    if (js_urls == null || js_urls.length === 0) {\n      run_callbacks();\n      return null;\n    }\n    console.debug(\"Bokeh: BokehJS not loaded, scheduling load and callback at\", now());\n    root._bokeh_is_loading = css_urls.length + js_urls.length;\n\n    function on_load() {\n      root._bokeh_is_loading--;\n      if (root._bokeh_is_loading === 0) {\n        console.debug(\"Bokeh: all BokehJS libraries/stylesheets loaded\");\n        run_callbacks()\n      }\n    }\n\n    function on_error() {\n      console.error(\"failed to load \" + url);\n    }\n\n    for (var i = 0; i < css_urls.length; i++) {\n      var url = css_urls[i];\n      const element = document.createElement(\"link\");\n      element.onload = on_load;\n      element.onerror = on_error;\n      element.rel = \"stylesheet\";\n      element.type = \"text/css\";\n      element.href = url;\n      console.debug(\"Bokeh: injecting link tag for BokehJS stylesheet: \", url);\n      document.body.appendChild(element);\n    }\n\n    const hashes = {\"https://cdn.bokeh.org/bokeh/release/bokeh-2.2.3.min.js\": \"T2yuo9Oe71Cz/I4X9Ac5+gpEa5a8PpJCDlqKYO0CfAuEszu1JrXLl8YugMqYe3sM\", \"https://cdn.bokeh.org/bokeh/release/bokeh-widgets-2.2.3.min.js\": \"98GDGJ0kOMCUMUePhksaQ/GYgB3+NH9h996V88sh3aOiUNX3N+fLXAtry6xctSZ6\", \"https://cdn.bokeh.org/bokeh/release/bokeh-tables-2.2.3.min.js\": \"89bArO+nlbP3sgakeHjCo1JYxYR5wufVgA3IbUvDY+K7w4zyxJqssu7wVnfeKCq8\"};\n\n    for (var i = 0; i < js_urls.length; i++) {\n      var url = js_urls[i];\n      var element = document.createElement('script');\n      element.onload = on_load;\n      element.onerror = on_error;\n      element.async = false;\n      element.src = url;\n      if (url in hashes) {\n        element.crossOrigin = \"anonymous\";\n        element.integrity = \"sha384-\" + hashes[url];\n      }\n      console.debug(\"Bokeh: injecting script tag for BokehJS library: \", url);\n      document.head.appendChild(element);\n    }\n  };\n\n  function inject_raw_css(css) {\n    const element = document.createElement(\"style\");\n    element.appendChild(document.createTextNode(css));\n    document.body.appendChild(element);\n  }\n\n  \n  var js_urls = [\"https://cdn.bokeh.org/bokeh/release/bokeh-2.2.3.min.js\", \"https://cdn.bokeh.org/bokeh/release/bokeh-widgets-2.2.3.min.js\", \"https://cdn.bokeh.org/bokeh/release/bokeh-tables-2.2.3.min.js\"];\n  var css_urls = [];\n  \n\n  var inline_js = [\n    function(Bokeh) {\n      Bokeh.set_log_level(\"info\");\n    },\n    function(Bokeh) {\n    \n    \n    }\n  ];\n\n  function run_inline_js() {\n    \n    if (root.Bokeh !== undefined || force === true) {\n      \n    for (var i = 0; i < inline_js.length; i++) {\n      inline_js[i].call(root, root.Bokeh);\n    }\n    if (force === true) {\n        display_loaded();\n      }} else if (Date.now() < root._bokeh_timeout) {\n      setTimeout(run_inline_js, 100);\n    } else if (!root._bokeh_failed_load) {\n      console.log(\"Bokeh: BokehJS failed to load within specified timeout.\");\n      root._bokeh_failed_load = true;\n    } else if (force !== true) {\n      var cell = $(document.getElementById(\"1001\")).parents('.cell').data().cell;\n      cell.output_area.append_execute_result(NB_LOAD_WARNING)\n    }\n\n  }\n\n  if (root._bokeh_is_loading === 0) {\n    console.debug(\"Bokeh: BokehJS loaded, going straight to plotting\");\n    run_inline_js();\n  } else {\n    load_libs(css_urls, js_urls, function() {\n      console.debug(\"Bokeh: BokehJS plotting callback run at\", now());\n      run_inline_js();\n    });\n  }\n}(window));"
     },
     "metadata": {},
     "output_type": "display_data"
    }
   ],
   "source": [
    "# Making the import\n",
    "from bokeh.plotting import figure\n",
    "from bokeh.io import output_notebook, show\n",
    "output_notebook()"
   ]
  },
  {
   "cell_type": "code",
   "execution_count": 2,
   "metadata": {},
   "outputs": [
    {
     "data": {
      "text/html": [
       "\n",
       "\n",
       "\n",
       "\n",
       "\n",
       "\n",
       "  <div class=\"bk-root\" id=\"1441a469-6d84-43b5-a673-2d7c25b4dc03\" data-root-id=\"1002\"></div>\n"
      ]
     },
     "metadata": {},
     "output_type": "display_data"
    },
    {
     "data": {
      "application/javascript": [
       "(function(root) {\n",
       "  function embed_document(root) {\n",
       "    \n",
       "  var docs_json = {\"86b6ffd0-94f1-4a70-9f03-c35dd7d6eeec\":{\"roots\":{\"references\":[{\"attributes\":{\"below\":[{\"id\":\"1011\"}],\"center\":[{\"id\":\"1014\"},{\"id\":\"1018\"}],\"left\":[{\"id\":\"1015\"}],\"renderers\":[{\"id\":\"1036\"}],\"title\":{\"id\":\"1038\"},\"toolbar\":{\"id\":\"1026\"},\"x_range\":{\"id\":\"1003\"},\"x_scale\":{\"id\":\"1007\"},\"y_range\":{\"id\":\"1005\"},\"y_scale\":{\"id\":\"1009\"}},\"id\":\"1002\",\"subtype\":\"Figure\",\"type\":\"Plot\"},{\"attributes\":{},\"id\":\"1040\",\"type\":\"BasicTickFormatter\"},{\"attributes\":{},\"id\":\"1045\",\"type\":\"Selection\"},{\"attributes\":{},\"id\":\"1046\",\"type\":\"UnionRenderers\"},{\"attributes\":{},\"id\":\"1024\",\"type\":\"HelpTool\"},{\"attributes\":{},\"id\":\"1009\",\"type\":\"LinearScale\"},{\"attributes\":{},\"id\":\"1020\",\"type\":\"WheelZoomTool\"},{\"attributes\":{},\"id\":\"1042\",\"type\":\"BasicTickFormatter\"},{\"attributes\":{\"formatter\":{\"id\":\"1042\"},\"ticker\":{\"id\":\"1012\"}},\"id\":\"1011\",\"type\":\"LinearAxis\"},{\"attributes\":{\"text\":\"\"},\"id\":\"1038\",\"type\":\"Title\"},{\"attributes\":{},\"id\":\"1016\",\"type\":\"BasicTicker\"},{\"attributes\":{},\"id\":\"1012\",\"type\":\"BasicTicker\"},{\"attributes\":{\"axis\":{\"id\":\"1015\"},\"dimension\":1,\"ticker\":null},\"id\":\"1018\",\"type\":\"Grid\"},{\"attributes\":{\"formatter\":{\"id\":\"1040\"},\"ticker\":{\"id\":\"1016\"}},\"id\":\"1015\",\"type\":\"LinearAxis\"},{\"attributes\":{},\"id\":\"1003\",\"type\":\"DataRange1d\"},{\"attributes\":{\"fill_alpha\":{\"value\":0.1},\"fill_color\":{\"value\":\"#1f77b4\"},\"line_alpha\":{\"value\":0.1},\"line_color\":{\"value\":\"#1f77b4\"},\"x\":{\"field\":\"x\"},\"y\":{\"field\":\"y\"}},\"id\":\"1035\",\"type\":\"Circle\"},{\"attributes\":{\"data\":{\"x\":[1,3,2,5,2],\"y\":[4,7,1,3,5]},\"selected\":{\"id\":\"1045\"},\"selection_policy\":{\"id\":\"1046\"}},\"id\":\"1033\",\"type\":\"ColumnDataSource\"},{\"attributes\":{\"axis\":{\"id\":\"1011\"},\"ticker\":null},\"id\":\"1014\",\"type\":\"Grid\"},{\"attributes\":{\"source\":{\"id\":\"1033\"}},\"id\":\"1037\",\"type\":\"CDSView\"},{\"attributes\":{\"bottom_units\":\"screen\",\"fill_alpha\":0.5,\"fill_color\":\"lightgrey\",\"left_units\":\"screen\",\"level\":\"overlay\",\"line_alpha\":1.0,\"line_color\":\"black\",\"line_dash\":[4,4],\"line_width\":2,\"right_units\":\"screen\",\"top_units\":\"screen\"},\"id\":\"1025\",\"type\":\"BoxAnnotation\"},{\"attributes\":{\"active_drag\":\"auto\",\"active_inspect\":\"auto\",\"active_multi\":null,\"active_scroll\":\"auto\",\"active_tap\":\"auto\",\"tools\":[{\"id\":\"1019\"},{\"id\":\"1020\"},{\"id\":\"1021\"},{\"id\":\"1022\"},{\"id\":\"1023\"},{\"id\":\"1024\"}]},\"id\":\"1026\",\"type\":\"Toolbar\"},{\"attributes\":{\"fill_color\":{\"value\":\"#1f77b4\"},\"line_color\":{\"value\":\"#1f77b4\"},\"x\":{\"field\":\"x\"},\"y\":{\"field\":\"y\"}},\"id\":\"1034\",\"type\":\"Circle\"},{\"attributes\":{},\"id\":\"1019\",\"type\":\"PanTool\"},{\"attributes\":{\"data_source\":{\"id\":\"1033\"},\"glyph\":{\"id\":\"1034\"},\"hover_glyph\":null,\"muted_glyph\":null,\"nonselection_glyph\":{\"id\":\"1035\"},\"selection_glyph\":null,\"view\":{\"id\":\"1037\"}},\"id\":\"1036\",\"type\":\"GlyphRenderer\"},{\"attributes\":{},\"id\":\"1007\",\"type\":\"LinearScale\"},{\"attributes\":{\"overlay\":{\"id\":\"1025\"}},\"id\":\"1021\",\"type\":\"BoxZoomTool\"},{\"attributes\":{},\"id\":\"1022\",\"type\":\"SaveTool\"},{\"attributes\":{},\"id\":\"1023\",\"type\":\"ResetTool\"},{\"attributes\":{},\"id\":\"1005\",\"type\":\"DataRange1d\"}],\"root_ids\":[\"1002\"]},\"title\":\"Bokeh Application\",\"version\":\"2.2.3\"}};\n",
       "  var render_items = [{\"docid\":\"86b6ffd0-94f1-4a70-9f03-c35dd7d6eeec\",\"root_ids\":[\"1002\"],\"roots\":{\"1002\":\"1441a469-6d84-43b5-a673-2d7c25b4dc03\"}}];\n",
       "  root.Bokeh.embed.embed_items_notebook(docs_json, render_items);\n",
       "\n",
       "  }\n",
       "  if (root.Bokeh !== undefined) {\n",
       "    embed_document(root);\n",
       "  } else {\n",
       "    var attempts = 0;\n",
       "    var timer = setInterval(function(root) {\n",
       "      if (root.Bokeh !== undefined) {\n",
       "        clearInterval(timer);\n",
       "        embed_document(root);\n",
       "      } else {\n",
       "        attempts++;\n",
       "        if (attempts > 100) {\n",
       "          clearInterval(timer);\n",
       "          console.log(\"Bokeh: ERROR: Unable to run BokehJS code because BokehJS library is missing\");\n",
       "        }\n",
       "      }\n",
       "    }, 10, root)\n",
       "  }\n",
       "})(window);"
      ],
      "application/vnd.bokehjs_exec.v0+json": ""
     },
     "metadata": {
      "application/vnd.bokehjs_exec.v0+json": {
       "id": "1002"
      }
     },
     "output_type": "display_data"
    }
   ],
   "source": [
    "# This will be a introduction to interactive plotting with bokeh\n",
    "# Let's get started with making a simple plot\n",
    "x = [1,3,2,5,2]\n",
    "y = [4,7,1,3,5]\n",
    "plot = figure()\n",
    "plot.circle(x,y) # You can do .square(), .triangle() here and that would determine the point shape\n",
    "show(plot) "
   ]
  },
  {
   "cell_type": "markdown",
   "metadata": {},
   "source": [
    "### Now let's just figure out what we just did. \n",
    "\n",
    "1. Creating a canvas\n",
    "<ul>\n",
    "    <li>First we created a canvas with the help of <code>figure()</code> <b>function</b></li>\n",
    "    <li>The <code>figure()</code> <b>function</b> is what creates the basic empty plot with sensible defaults(axes, grids and tools). Now you can change these defaults, but we will see that in a bit.</li>\n",
    "</ul>\n",
    "\n",
    "2. Drawing on the canvas\n",
    "<ul>\n",
    "    <li>Now that we have an empty plot we can draw on it.</li>\n",
    "    <li>Here we called a glyph 'circle' to draw circles on out plot</li>\n",
    "    <li>Now we could change the property of both the canvas and the circle glyph, but here we are using the default values.</li>\n",
    "</ul>\n",
    "---"
   ]
  },
  {
   "cell_type": "markdown",
   "metadata": {},
   "source": [
    "<a id = \"2\"></a>\n",
    "<h1> Exploring the <code>figure()</code> <b>function</b> </h1>"
   ]
  },
  {
   "cell_type": "code",
   "execution_count": 3,
   "metadata": {},
   "outputs": [
    {
     "name": "stderr",
     "output_type": "stream",
     "text": [
      "WARNING:bokeh.core.validation.check:W-1000 (MISSING_RENDERERS): Plot has no renderers: Figure(id='1092', ...)\n"
     ]
    },
    {
     "data": {
      "text/html": [
       "\n",
       "\n",
       "\n",
       "\n",
       "\n",
       "\n",
       "  <div class=\"bk-root\" id=\"7d4e337e-f793-4cda-ac7c-27aeaa7da45e\" data-root-id=\"1092\"></div>\n"
      ]
     },
     "metadata": {},
     "output_type": "display_data"
    },
    {
     "data": {
      "application/javascript": [
       "(function(root) {\n",
       "  function embed_document(root) {\n",
       "    \n",
       "  var docs_json = {\"c9f0c312-6e1e-4866-8af4-8825a132bfe4\":{\"roots\":{\"references\":[{\"attributes\":{\"below\":[{\"id\":\"1101\"}],\"center\":[{\"id\":\"1104\"},{\"id\":\"1108\"}],\"left\":[{\"id\":\"1105\"}],\"title\":{\"id\":\"1132\"},\"toolbar\":{\"id\":\"1116\"},\"x_range\":{\"id\":\"1093\"},\"x_scale\":{\"id\":\"1097\"},\"y_range\":{\"id\":\"1095\"},\"y_scale\":{\"id\":\"1099\"}},\"id\":\"1092\",\"subtype\":\"Figure\",\"type\":\"Plot\"},{\"attributes\":{},\"id\":\"1112\",\"type\":\"SaveTool\"},{\"attributes\":{},\"id\":\"1113\",\"type\":\"ResetTool\"},{\"attributes\":{\"overlay\":{\"id\":\"1115\"}},\"id\":\"1111\",\"type\":\"BoxZoomTool\"},{\"attributes\":{},\"id\":\"1114\",\"type\":\"HelpTool\"},{\"attributes\":{\"text\":\"\"},\"id\":\"1132\",\"type\":\"Title\"},{\"attributes\":{},\"id\":\"1134\",\"type\":\"BasicTickFormatter\"},{\"attributes\":{},\"id\":\"1093\",\"type\":\"DataRange1d\"},{\"attributes\":{},\"id\":\"1136\",\"type\":\"BasicTickFormatter\"},{\"attributes\":{},\"id\":\"1102\",\"type\":\"BasicTicker\"},{\"attributes\":{},\"id\":\"1095\",\"type\":\"DataRange1d\"},{\"attributes\":{},\"id\":\"1109\",\"type\":\"PanTool\"},{\"attributes\":{},\"id\":\"1097\",\"type\":\"LinearScale\"},{\"attributes\":{\"active_drag\":\"auto\",\"active_inspect\":\"auto\",\"active_multi\":null,\"active_scroll\":\"auto\",\"active_tap\":\"auto\",\"tools\":[{\"id\":\"1109\"},{\"id\":\"1110\"},{\"id\":\"1111\"},{\"id\":\"1112\"},{\"id\":\"1113\"},{\"id\":\"1114\"}]},\"id\":\"1116\",\"type\":\"Toolbar\"},{\"attributes\":{},\"id\":\"1110\",\"type\":\"WheelZoomTool\"},{\"attributes\":{},\"id\":\"1099\",\"type\":\"LinearScale\"},{\"attributes\":{},\"id\":\"1106\",\"type\":\"BasicTicker\"},{\"attributes\":{\"formatter\":{\"id\":\"1136\"},\"ticker\":{\"id\":\"1102\"}},\"id\":\"1101\",\"type\":\"LinearAxis\"},{\"attributes\":{\"axis\":{\"id\":\"1101\"},\"ticker\":null},\"id\":\"1104\",\"type\":\"Grid\"},{\"attributes\":{\"bottom_units\":\"screen\",\"fill_alpha\":0.5,\"fill_color\":\"lightgrey\",\"left_units\":\"screen\",\"level\":\"overlay\",\"line_alpha\":1.0,\"line_color\":\"black\",\"line_dash\":[4,4],\"line_width\":2,\"right_units\":\"screen\",\"top_units\":\"screen\"},\"id\":\"1115\",\"type\":\"BoxAnnotation\"},{\"attributes\":{\"formatter\":{\"id\":\"1134\"},\"ticker\":{\"id\":\"1106\"}},\"id\":\"1105\",\"type\":\"LinearAxis\"},{\"attributes\":{\"axis\":{\"id\":\"1105\"},\"dimension\":1,\"ticker\":null},\"id\":\"1108\",\"type\":\"Grid\"}],\"root_ids\":[\"1092\"]},\"title\":\"Bokeh Application\",\"version\":\"2.2.3\"}};\n",
       "  var render_items = [{\"docid\":\"c9f0c312-6e1e-4866-8af4-8825a132bfe4\",\"root_ids\":[\"1092\"],\"roots\":{\"1092\":\"7d4e337e-f793-4cda-ac7c-27aeaa7da45e\"}}];\n",
       "  root.Bokeh.embed.embed_items_notebook(docs_json, render_items);\n",
       "\n",
       "  }\n",
       "  if (root.Bokeh !== undefined) {\n",
       "    embed_document(root);\n",
       "  } else {\n",
       "    var attempts = 0;\n",
       "    var timer = setInterval(function(root) {\n",
       "      if (root.Bokeh !== undefined) {\n",
       "        clearInterval(timer);\n",
       "        embed_document(root);\n",
       "      } else {\n",
       "        attempts++;\n",
       "        if (attempts > 100) {\n",
       "          clearInterval(timer);\n",
       "          console.log(\"Bokeh: ERROR: Unable to run BokehJS code because BokehJS library is missing\");\n",
       "        }\n",
       "      }\n",
       "    }, 10, root)\n",
       "  }\n",
       "})(window);"
      ],
      "application/vnd.bokehjs_exec.v0+json": ""
     },
     "metadata": {
      "application/vnd.bokehjs_exec.v0+json": {
       "id": "1092"
      }
     },
     "output_type": "display_data"
    }
   ],
   "source": [
    "# So a figure() object gives you this\n",
    "plot = figure()\n",
    "show(plot) "
   ]
  },
  {
   "cell_type": "markdown",
   "metadata": {},
   "source": [
    "- Notice bokeh is giving us a warning, because after making the plot, we didn't draw/add anything on it. \n",
    "- Now you see, this is an empty plot with some defaults like tools on the side, you can add stuff to this plot, like dots, lines, bars anything.\n",
    "- As mentioned before you can change these defaults, like the width, hieght of the plot, the widgets/tools etc.\n",
    "- Let's do that and some more"
   ]
  },
  {
   "cell_type": "code",
   "execution_count": 4,
   "metadata": {},
   "outputs": [
    {
     "name": "stderr",
     "output_type": "stream",
     "text": [
      "WARNING:bokeh.core.validation.check:W-1000 (MISSING_RENDERERS): Plot has no renderers: Figure(id='1174', ...)\n"
     ]
    },
    {
     "data": {
      "text/html": [
       "\n",
       "\n",
       "\n",
       "\n",
       "\n",
       "\n",
       "  <div class=\"bk-root\" id=\"36335c64-bd1f-4e69-b8d0-2b3b28f2ce72\" data-root-id=\"1174\"></div>\n"
      ]
     },
     "metadata": {},
     "output_type": "display_data"
    },
    {
     "data": {
      "application/javascript": [
       "(function(root) {\n",
       "  function embed_document(root) {\n",
       "    \n",
       "  var docs_json = {\"31309f89-532e-4ccf-8aec-761c3dae6f98\":{\"roots\":{\"references\":[{\"attributes\":{\"below\":[{\"id\":\"1185\"}],\"center\":[{\"id\":\"1188\"},{\"id\":\"1192\"}],\"left\":[{\"id\":\"1189\"}],\"min_border\":30,\"outline_line_alpha\":0.5,\"outline_line_color\":\"green\",\"outline_line_width\":10,\"plot_height\":300,\"plot_width\":300,\"title\":{\"id\":\"1175\"},\"toolbar\":{\"id\":\"1200\"},\"x_range\":{\"id\":\"1177\"},\"x_scale\":{\"id\":\"1181\"},\"y_range\":{\"id\":\"1179\"},\"y_scale\":{\"id\":\"1183\"}},\"id\":\"1174\",\"subtype\":\"Figure\",\"type\":\"Plot\"},{\"attributes\":{},\"id\":\"1186\",\"type\":\"BasicTicker\"},{\"attributes\":{},\"id\":\"1196\",\"type\":\"SaveTool\"},{\"attributes\":{},\"id\":\"1181\",\"type\":\"LinearScale\"},{\"attributes\":{},\"id\":\"1190\",\"type\":\"BasicTicker\"},{\"attributes\":{},\"id\":\"1197\",\"type\":\"ResetTool\"},{\"attributes\":{\"axis\":{\"id\":\"1189\"},\"dimension\":1,\"ticker\":null},\"id\":\"1192\",\"type\":\"Grid\"},{\"attributes\":{\"text\":\"This is a title\"},\"id\":\"1175\",\"type\":\"Title\"},{\"attributes\":{},\"id\":\"1194\",\"type\":\"WheelZoomTool\"},{\"attributes\":{},\"id\":\"1224\",\"type\":\"BasicTickFormatter\"},{\"attributes\":{},\"id\":\"1179\",\"type\":\"DataRange1d\"},{\"attributes\":{},\"id\":\"1198\",\"type\":\"HelpTool\"},{\"attributes\":{\"bottom_units\":\"screen\",\"fill_alpha\":0.5,\"fill_color\":\"lightgrey\",\"left_units\":\"screen\",\"level\":\"overlay\",\"line_alpha\":1.0,\"line_color\":\"black\",\"line_dash\":[4,4],\"line_width\":2,\"right_units\":\"screen\",\"top_units\":\"screen\"},\"id\":\"1199\",\"type\":\"BoxAnnotation\"},{\"attributes\":{\"formatter\":{\"id\":\"1224\"},\"ticker\":{\"id\":\"1190\"}},\"id\":\"1189\",\"type\":\"LinearAxis\"},{\"attributes\":{\"axis\":{\"id\":\"1185\"},\"ticker\":null},\"id\":\"1188\",\"type\":\"Grid\"},{\"attributes\":{},\"id\":\"1226\",\"type\":\"BasicTickFormatter\"},{\"attributes\":{},\"id\":\"1177\",\"type\":\"DataRange1d\"},{\"attributes\":{\"overlay\":{\"id\":\"1199\"}},\"id\":\"1195\",\"type\":\"BoxZoomTool\"},{\"attributes\":{\"active_drag\":\"auto\",\"active_inspect\":\"auto\",\"active_multi\":null,\"active_scroll\":\"auto\",\"active_tap\":\"auto\",\"tools\":[{\"id\":\"1193\"},{\"id\":\"1194\"},{\"id\":\"1195\"},{\"id\":\"1196\"},{\"id\":\"1197\"},{\"id\":\"1198\"}]},\"id\":\"1200\",\"type\":\"Toolbar\"},{\"attributes\":{},\"id\":\"1183\",\"type\":\"LinearScale\"},{\"attributes\":{},\"id\":\"1193\",\"type\":\"PanTool\"},{\"attributes\":{\"formatter\":{\"id\":\"1226\"},\"ticker\":{\"id\":\"1186\"}},\"id\":\"1185\",\"type\":\"LinearAxis\"}],\"root_ids\":[\"1174\"]},\"title\":\"Bokeh Application\",\"version\":\"2.2.3\"}};\n",
       "  var render_items = [{\"docid\":\"31309f89-532e-4ccf-8aec-761c3dae6f98\",\"root_ids\":[\"1174\"],\"roots\":{\"1174\":\"36335c64-bd1f-4e69-b8d0-2b3b28f2ce72\"}}];\n",
       "  root.Bokeh.embed.embed_items_notebook(docs_json, render_items);\n",
       "\n",
       "  }\n",
       "  if (root.Bokeh !== undefined) {\n",
       "    embed_document(root);\n",
       "  } else {\n",
       "    var attempts = 0;\n",
       "    var timer = setInterval(function(root) {\n",
       "      if (root.Bokeh !== undefined) {\n",
       "        clearInterval(timer);\n",
       "        embed_document(root);\n",
       "      } else {\n",
       "        attempts++;\n",
       "        if (attempts > 100) {\n",
       "          clearInterval(timer);\n",
       "          console.log(\"Bokeh: ERROR: Unable to run BokehJS code because BokehJS library is missing\");\n",
       "        }\n",
       "      }\n",
       "    }, 10, root)\n",
       "  }\n",
       "})(window);"
      ],
      "application/vnd.bokehjs_exec.v0+json": ""
     },
     "metadata": {
      "application/vnd.bokehjs_exec.v0+json": {
       "id": "1174"
      }
     },
     "output_type": "display_data"
    }
   ],
   "source": [
    "plot = figure(plot_height=300, # Changes the height of the plot\n",
    "              plot_width=300, # Changes the width of the plot\n",
    "              title='This is a title', # You can even change the color, font size of the text\n",
    "#               border_fill_color = 'orange', # Color of the empty space around the plot\n",
    "#               border_fill_alpha = 0.4, # Transparecy of the plot\n",
    "              min_border = 30, #Addes border on all sides\n",
    "              outline_line_width = 10, # Width of the breen border\n",
    "              outline_line_color = 'green', # Color of the border\n",
    "              outline_line_alpha = 0.5 # Transparency/opacity of the border\n",
    "             )\n",
    "\n",
    "show(plot) \n",
    "\n",
    "################################## Additional info #####################################\n",
    "# plot = figure(plot_height=300,\n",
    "#               plot_width=300, \n",
    "#               title='This is a title')\n",
    "\n",
    "# Code above and below are the same, meaning they have the same effect\n",
    "\n",
    "# plot = figure()\n",
    "# plot.plot_height = 300\n",
    "# plot.plot_width = 300\n",
    "# plot.title = 'This is a title'\n",
    "\n",
    "########################################################################################"
   ]
  },
  {
   "cell_type": "markdown",
   "metadata": {},
   "source": [
    "- As you can see, we passed some argument to the figure function to change the defaults for the plots. \n",
    "- We can pass many more but i am just showcasing some here. I have also commented out some, feel free to uncomment them and running the code again to see the results.\n",
    "- You can change the background color with `background_fill_color = 'orange'`, its alpha/transparency with  `background_fill_alpha = 0.5`\n",
    "- You can add borders to your plots with `border_fill_color` & `border_fill_alpha`, you can change the border size on different sides with `min_border_left  min_border_right  min_border_top  min_border_bottom`\n",
    "- - You can change/add outline to your plots with `outline_line_width` change it's color with `outline_line_color` and `outline_line_alpha`\n",
    "- For more details go visit the bokeh documentation <a href=\"https://docs.bokeh.org/en/latest/docs/user_guide/styling.html\"> here</a>\n",
    "##### Now we have seen what the figure() function returns and some of the things we can do with it. Let's now add points, shapes, something to this plot."
   ]
  },
  {
   "cell_type": "markdown",
   "metadata": {},
   "source": [
    "<a id = \"3\"></a>\n",
    "# Adding Glyphs to the plot\n",
    "In Bokeh, shapes, lines, points are all reffered to as 'Glyphs'. These glyphs all have their own properties like size, color, orientation etc\n",
    "Some of the basic glyphs we will see are  :-\n",
    "- <b>Scatter Markers</b>\n",
    "- <b>Line Glyphs</b>\n",
    "- <b>Bars</b>\n",
    "- <b>Patches</b>\n",
    "- <b>Segments</b>\n",
    "<br>\n",
    "<br>\n",
    "\n",
    "<b>Important :-</b>\n",
    "<i>The least argument you have to give a glyph is the (x,y) coordinates for it, for the rest it will take on the default values, if you don't pass anything. Lets see some in actions</i>\n",
    "\n",
    "---"
   ]
  },
  {
   "cell_type": "markdown",
   "metadata": {},
   "source": [
    "<a id = \"4\"></a>\n",
    "## Scatter markers\n",
    "You can add many types of scatter markers onto your `figure` plot. \n",
    "All the markers have the same set of properties: x, y, size (in screen units), and angle (radians by default). Additionally, circle() has a radius property that can be used to specify data-space units.\n",
    "<br>\n",
    "The markers available to you are :-\n",
    "- asterisk()\n",
    "- circle()\n",
    "- circle_cross()\n",
    "- circle_x()\n",
    "- cross()\n",
    "- dash()\n",
    "- diamond()\n",
    "- diamond_cross()\n",
    "- inverted_triangle()\n",
    "- square()\n",
    "- square_cross()\n",
    "- square_x()\n",
    "- triangle()\n",
    "- x()\n",
    "\n",
    "Let's see some in action"
   ]
  },
  {
   "cell_type": "code",
   "execution_count": 5,
   "metadata": {},
   "outputs": [
    {
     "data": {
      "text/html": [
       "\n",
       "\n",
       "\n",
       "\n",
       "\n",
       "\n",
       "  <div class=\"bk-root\" id=\"049ccd3b-c25b-4174-b855-855d8cf20130\" data-root-id=\"1259\"></div>\n"
      ]
     },
     "metadata": {},
     "output_type": "display_data"
    },
    {
     "data": {
      "application/javascript": [
       "(function(root) {\n",
       "  function embed_document(root) {\n",
       "    \n",
       "  var docs_json = {\"6c89799a-aaac-4dca-aeec-6f263b6ce506\":{\"roots\":{\"references\":[{\"attributes\":{\"below\":[{\"id\":\"1268\"}],\"center\":[{\"id\":\"1271\"},{\"id\":\"1275\"}],\"left\":[{\"id\":\"1272\"}],\"renderers\":[{\"id\":\"1293\"}],\"title\":{\"id\":\"1317\"},\"toolbar\":{\"id\":\"1283\"},\"x_range\":{\"id\":\"1260\"},\"x_scale\":{\"id\":\"1264\"},\"y_range\":{\"id\":\"1262\"},\"y_scale\":{\"id\":\"1266\"}},\"id\":\"1259\",\"subtype\":\"Figure\",\"type\":\"Plot\"},{\"attributes\":{},\"id\":\"1260\",\"type\":\"DataRange1d\"},{\"attributes\":{},\"id\":\"1279\",\"type\":\"SaveTool\"},{\"attributes\":{},\"id\":\"1280\",\"type\":\"ResetTool\"},{\"attributes\":{\"source\":{\"id\":\"1290\"}},\"id\":\"1294\",\"type\":\"CDSView\"},{\"attributes\":{\"active_drag\":\"auto\",\"active_inspect\":\"auto\",\"active_multi\":null,\"active_scroll\":\"auto\",\"active_tap\":\"auto\",\"tools\":[{\"id\":\"1276\"},{\"id\":\"1277\"},{\"id\":\"1278\"},{\"id\":\"1279\"},{\"id\":\"1280\"},{\"id\":\"1281\"}]},\"id\":\"1283\",\"type\":\"Toolbar\"},{\"attributes\":{\"data_source\":{\"id\":\"1290\"},\"glyph\":{\"id\":\"1291\"},\"hover_glyph\":null,\"muted_glyph\":null,\"nonselection_glyph\":{\"id\":\"1292\"},\"selection_glyph\":null,\"view\":{\"id\":\"1294\"}},\"id\":\"1293\",\"type\":\"GlyphRenderer\"},{\"attributes\":{},\"id\":\"1262\",\"type\":\"DataRange1d\"},{\"attributes\":{},\"id\":\"1281\",\"type\":\"HelpTool\"},{\"attributes\":{\"fill_color\":{\"value\":\"#1f77b4\"},\"line_color\":{\"value\":\"#1f77b4\"},\"x\":{\"field\":\"x\"},\"y\":{\"field\":\"y\"}},\"id\":\"1291\",\"type\":\"Square\"},{\"attributes\":{\"fill_alpha\":{\"value\":0.1},\"fill_color\":{\"value\":\"#1f77b4\"},\"line_alpha\":{\"value\":0.1},\"line_color\":{\"value\":\"#1f77b4\"},\"x\":{\"field\":\"x\"},\"y\":{\"field\":\"y\"}},\"id\":\"1292\",\"type\":\"Square\"},{\"attributes\":{\"text\":\"\"},\"id\":\"1317\",\"type\":\"Title\"},{\"attributes\":{\"overlay\":{\"id\":\"1282\"}},\"id\":\"1278\",\"type\":\"BoxZoomTool\"},{\"attributes\":{},\"id\":\"1266\",\"type\":\"LinearScale\"},{\"attributes\":{},\"id\":\"1321\",\"type\":\"BasicTickFormatter\"},{\"attributes\":{},\"id\":\"1319\",\"type\":\"BasicTickFormatter\"},{\"attributes\":{},\"id\":\"1277\",\"type\":\"WheelZoomTool\"},{\"attributes\":{\"formatter\":{\"id\":\"1321\"},\"ticker\":{\"id\":\"1269\"}},\"id\":\"1268\",\"type\":\"LinearAxis\"},{\"attributes\":{},\"id\":\"1325\",\"type\":\"UnionRenderers\"},{\"attributes\":{},\"id\":\"1324\",\"type\":\"Selection\"},{\"attributes\":{},\"id\":\"1276\",\"type\":\"PanTool\"},{\"attributes\":{\"axis\":{\"id\":\"1268\"},\"ticker\":null},\"id\":\"1271\",\"type\":\"Grid\"},{\"attributes\":{},\"id\":\"1269\",\"type\":\"BasicTicker\"},{\"attributes\":{\"data\":{\"x\":[1,2,3],\"y\":[1,2,3]},\"selected\":{\"id\":\"1324\"},\"selection_policy\":{\"id\":\"1325\"}},\"id\":\"1290\",\"type\":\"ColumnDataSource\"},{\"attributes\":{},\"id\":\"1273\",\"type\":\"BasicTicker\"},{\"attributes\":{\"axis\":{\"id\":\"1272\"},\"dimension\":1,\"ticker\":null},\"id\":\"1275\",\"type\":\"Grid\"},{\"attributes\":{},\"id\":\"1264\",\"type\":\"LinearScale\"},{\"attributes\":{\"bottom_units\":\"screen\",\"fill_alpha\":0.5,\"fill_color\":\"lightgrey\",\"left_units\":\"screen\",\"level\":\"overlay\",\"line_alpha\":1.0,\"line_color\":\"black\",\"line_dash\":[4,4],\"line_width\":2,\"right_units\":\"screen\",\"top_units\":\"screen\"},\"id\":\"1282\",\"type\":\"BoxAnnotation\"},{\"attributes\":{\"formatter\":{\"id\":\"1319\"},\"ticker\":{\"id\":\"1273\"}},\"id\":\"1272\",\"type\":\"LinearAxis\"}],\"root_ids\":[\"1259\"]},\"title\":\"Bokeh Application\",\"version\":\"2.2.3\"}};\n",
       "  var render_items = [{\"docid\":\"6c89799a-aaac-4dca-aeec-6f263b6ce506\",\"root_ids\":[\"1259\"],\"roots\":{\"1259\":\"049ccd3b-c25b-4174-b855-855d8cf20130\"}}];\n",
       "  root.Bokeh.embed.embed_items_notebook(docs_json, render_items);\n",
       "\n",
       "  }\n",
       "  if (root.Bokeh !== undefined) {\n",
       "    embed_document(root);\n",
       "  } else {\n",
       "    var attempts = 0;\n",
       "    var timer = setInterval(function(root) {\n",
       "      if (root.Bokeh !== undefined) {\n",
       "        clearInterval(timer);\n",
       "        embed_document(root);\n",
       "      } else {\n",
       "        attempts++;\n",
       "        if (attempts > 100) {\n",
       "          clearInterval(timer);\n",
       "          console.log(\"Bokeh: ERROR: Unable to run BokehJS code because BokehJS library is missing\");\n",
       "        }\n",
       "      }\n",
       "    }, 10, root)\n",
       "  }\n",
       "})(window);"
      ],
      "application/vnd.bokehjs_exec.v0+json": ""
     },
     "metadata": {
      "application/vnd.bokehjs_exec.v0+json": {
       "id": "1259"
      }
     },
     "output_type": "display_data"
    }
   ],
   "source": [
    "plot = figure()\n",
    "plot.square([1,2,3],[1,2,3])\n",
    "show(plot)"
   ]
  },
  {
   "cell_type": "markdown",
   "metadata": {},
   "source": [
    "- As you can see, now that we have added 'glyphs' to out plot, bokeh automatically takes care of the x and y axis labels, grid in the plot and bokeh has automatically assigned the color to the square (blue).\n",
    "- Now we can change all of the above mentioned defaults, but this is what bokeh did by default.\n",
    "\n",
    "<br>\n",
    "\n",
    "- Now let's try different markers and see what they look like. I am also increasing the size for better visibility."
   ]
  },
  {
   "cell_type": "code",
   "execution_count": 6,
   "metadata": {},
   "outputs": [
    {
     "data": {
      "text/html": [
       "\n",
       "\n",
       "\n",
       "\n",
       "\n",
       "\n",
       "  <div class=\"bk-root\" id=\"b2f51d9d-10ea-4b5c-afbc-4241a0d1019d\" data-root-id=\"1558\"></div>\n"
      ]
     },
     "metadata": {},
     "output_type": "display_data"
    },
    {
     "data": {
      "application/javascript": [
       "(function(root) {\n",
       "  function embed_document(root) {\n",
       "    \n",
       "  var docs_json = {\"8067ed84-77c8-4c00-b29f-63b20e67e5c3\":{\"roots\":{\"references\":[{\"attributes\":{\"children\":[{\"id\":\"1557\"},{\"id\":\"1555\"}]},\"id\":\"1558\",\"type\":\"Column\"},{\"attributes\":{},\"id\":\"1393\",\"type\":\"HelpTool\"},{\"attributes\":{\"fill_color\":{\"value\":\"#1f77b4\"},\"line_color\":{\"value\":\"#1f77b4\"},\"size\":{\"units\":\"screen\",\"value\":20},\"x\":{\"field\":\"x\"},\"y\":{\"field\":\"y\"}},\"id\":\"1475\",\"type\":\"Triangle\"},{\"attributes\":{\"formatter\":{\"id\":\"1527\"},\"ticker\":{\"id\":\"1421\"}},\"id\":\"1420\",\"type\":\"LinearAxis\"},{\"attributes\":{\"formatter\":{\"id\":\"1529\"},\"ticker\":{\"id\":\"1417\"}},\"id\":\"1416\",\"type\":\"LinearAxis\"},{\"attributes\":{},\"id\":\"1414\",\"type\":\"LinearScale\"},{\"attributes\":{\"axis\":{\"id\":\"1416\"},\"ticker\":null},\"id\":\"1419\",\"type\":\"Grid\"},{\"attributes\":{},\"id\":\"1421\",\"type\":\"BasicTicker\"},{\"attributes\":{\"axis\":{\"id\":\"1420\"},\"dimension\":1,\"ticker\":null},\"id\":\"1423\",\"type\":\"Grid\"},{\"attributes\":{},\"id\":\"1417\",\"type\":\"BasicTicker\"},{\"attributes\":{\"active_drag\":\"auto\",\"active_inspect\":\"auto\",\"active_multi\":null,\"active_scroll\":\"auto\",\"active_tap\":\"auto\",\"tools\":[{\"id\":\"1388\"},{\"id\":\"1389\"},{\"id\":\"1390\"},{\"id\":\"1391\"},{\"id\":\"1392\"},{\"id\":\"1393\"}]},\"id\":\"1395\",\"type\":\"Toolbar\"},{\"attributes\":{\"bottom_units\":\"screen\",\"fill_alpha\":0.5,\"fill_color\":\"lightgrey\",\"left_units\":\"screen\",\"level\":\"overlay\",\"line_alpha\":1.0,\"line_color\":\"black\",\"line_dash\":[4,4],\"line_width\":2,\"right_units\":\"screen\",\"top_units\":\"screen\"},\"id\":\"1394\",\"type\":\"BoxAnnotation\"},{\"attributes\":{\"data_source\":{\"id\":\"1438\"},\"glyph\":{\"id\":\"1439\"},\"hover_glyph\":null,\"muted_glyph\":null,\"nonselection_glyph\":{\"id\":\"1440\"},\"selection_glyph\":null,\"view\":{\"id\":\"1442\"}},\"id\":\"1441\",\"type\":\"GlyphRenderer\"},{\"attributes\":{\"active_drag\":\"auto\",\"active_inspect\":\"auto\",\"active_multi\":null,\"active_scroll\":\"auto\",\"active_tap\":\"auto\",\"tools\":[{\"id\":\"1424\"},{\"id\":\"1425\"},{\"id\":\"1426\"},{\"id\":\"1427\"},{\"id\":\"1428\"},{\"id\":\"1429\"}]},\"id\":\"1431\",\"type\":\"Toolbar\"},{\"attributes\":{\"fill_alpha\":{\"value\":0.1},\"fill_color\":{\"value\":\"#1f77b4\"},\"line_alpha\":{\"value\":0.1},\"line_color\":{\"value\":\"#1f77b4\"},\"size\":{\"units\":\"screen\",\"value\":20},\"x\":{\"field\":\"x\"},\"y\":{\"field\":\"y\"}},\"id\":\"1440\",\"type\":\"Circle\"},{\"attributes\":{\"source\":{\"id\":\"1438\"}},\"id\":\"1442\",\"type\":\"CDSView\"},{\"attributes\":{},\"id\":\"1424\",\"type\":\"PanTool\"},{\"attributes\":{},\"id\":\"1425\",\"type\":\"WheelZoomTool\"},{\"attributes\":{\"overlay\":{\"id\":\"1430\"}},\"id\":\"1426\",\"type\":\"BoxZoomTool\"},{\"attributes\":{},\"id\":\"1427\",\"type\":\"SaveTool\"},{\"attributes\":{},\"id\":\"1428\",\"type\":\"ResetTool\"},{\"attributes\":{\"data_source\":{\"id\":\"1402\"},\"glyph\":{\"id\":\"1403\"},\"hover_glyph\":null,\"muted_glyph\":null,\"nonselection_glyph\":{\"id\":\"1404\"},\"selection_glyph\":null,\"view\":{\"id\":\"1406\"}},\"id\":\"1405\",\"type\":\"GlyphRenderer\"},{\"attributes\":{},\"id\":\"1429\",\"type\":\"HelpTool\"},{\"attributes\":{\"data_source\":{\"id\":\"1510\"},\"glyph\":{\"id\":\"1511\"},\"hover_glyph\":null,\"muted_glyph\":null,\"nonselection_glyph\":{\"id\":\"1512\"},\"selection_glyph\":null,\"view\":{\"id\":\"1514\"}},\"id\":\"1513\",\"type\":\"GlyphRenderer\"},{\"attributes\":{},\"id\":\"1496\",\"type\":\"PanTool\"},{\"attributes\":{\"axis\":{\"id\":\"1492\"},\"dimension\":1,\"ticker\":null},\"id\":\"1495\",\"type\":\"Grid\"},{\"attributes\":{\"data\":{\"x\":[1,2,3],\"y\":[1,2,3]},\"selected\":{\"id\":\"1552\"},\"selection_policy\":{\"id\":\"1553\"}},\"id\":\"1510\",\"type\":\"ColumnDataSource\"},{\"attributes\":{\"fill_alpha\":{\"value\":0.1},\"fill_color\":{\"value\":\"#1f77b4\"},\"line_alpha\":{\"value\":0.1},\"line_color\":{\"value\":\"#1f77b4\"},\"size\":{\"units\":\"screen\",\"value\":20},\"x\":{\"field\":\"x\"},\"y\":{\"field\":\"y\"}},\"id\":\"1512\",\"type\":\"Cross\"},{\"attributes\":{\"bottom_units\":\"screen\",\"fill_alpha\":0.5,\"fill_color\":\"lightgrey\",\"left_units\":\"screen\",\"level\":\"overlay\",\"line_alpha\":1.0,\"line_color\":\"black\",\"line_dash\":[4,4],\"line_width\":2,\"right_units\":\"screen\",\"top_units\":\"screen\"},\"id\":\"1430\",\"type\":\"BoxAnnotation\"},{\"attributes\":{},\"id\":\"1493\",\"type\":\"BasicTicker\"},{\"attributes\":{},\"id\":\"1444\",\"type\":\"DataRange1d\"},{\"attributes\":{},\"id\":\"1553\",\"type\":\"UnionRenderers\"},{\"attributes\":{\"toolbar\":{\"id\":\"1556\"},\"toolbar_location\":\"above\"},\"id\":\"1557\",\"type\":\"ToolbarBox\"},{\"attributes\":{\"source\":{\"id\":\"1510\"}},\"id\":\"1514\",\"type\":\"CDSView\"},{\"attributes\":{\"data\":{\"x\":[1,2,3],\"y\":[1,2,3]},\"selected\":{\"id\":\"1542\"},\"selection_policy\":{\"id\":\"1543\"}},\"id\":\"1474\",\"type\":\"ColumnDataSource\"},{\"attributes\":{},\"id\":\"1497\",\"type\":\"WheelZoomTool\"},{\"attributes\":{\"data_source\":{\"id\":\"1474\"},\"glyph\":{\"id\":\"1475\"},\"hover_glyph\":null,\"muted_glyph\":null,\"nonselection_glyph\":{\"id\":\"1476\"},\"selection_glyph\":null,\"view\":{\"id\":\"1478\"}},\"id\":\"1477\",\"type\":\"GlyphRenderer\"},{\"attributes\":{},\"id\":\"1499\",\"type\":\"SaveTool\"},{\"attributes\":{\"overlay\":{\"id\":\"1502\"}},\"id\":\"1498\",\"type\":\"BoxZoomTool\"},{\"attributes\":{},\"id\":\"1448\",\"type\":\"LinearScale\"},{\"attributes\":{},\"id\":\"1446\",\"type\":\"DataRange1d\"},{\"attributes\":{},\"id\":\"1500\",\"type\":\"ResetTool\"},{\"attributes\":{\"data\":{\"x\":[1,2,3],\"y\":[1,2,3]},\"selected\":{\"id\":\"1532\"},\"selection_policy\":{\"id\":\"1533\"}},\"id\":\"1438\",\"type\":\"ColumnDataSource\"},{\"attributes\":{\"below\":[{\"id\":\"1452\"}],\"center\":[{\"id\":\"1455\"},{\"id\":\"1459\"}],\"left\":[{\"id\":\"1456\"}],\"min_border\":30,\"plot_height\":300,\"plot_width\":450,\"renderers\":[{\"id\":\"1477\"}],\"title\":{\"id\":\"1535\"},\"toolbar\":{\"id\":\"1467\"},\"toolbar_location\":null,\"x_range\":{\"id\":\"1444\"},\"x_scale\":{\"id\":\"1448\"},\"y_range\":{\"id\":\"1446\"},\"y_scale\":{\"id\":\"1450\"}},\"id\":\"1443\",\"subtype\":\"Figure\",\"type\":\"Plot\"},{\"attributes\":{},\"id\":\"1501\",\"type\":\"HelpTool\"},{\"attributes\":{},\"id\":\"1408\",\"type\":\"DataRange1d\"},{\"attributes\":{},\"id\":\"1450\",\"type\":\"LinearScale\"},{\"attributes\":{\"active_drag\":\"auto\",\"active_inspect\":\"auto\",\"active_multi\":null,\"active_scroll\":\"auto\",\"active_tap\":\"auto\",\"tools\":[{\"id\":\"1496\"},{\"id\":\"1497\"},{\"id\":\"1498\"},{\"id\":\"1499\"},{\"id\":\"1500\"},{\"id\":\"1501\"}]},\"id\":\"1503\",\"type\":\"Toolbar\"},{\"attributes\":{\"below\":[{\"id\":\"1416\"}],\"center\":[{\"id\":\"1419\"},{\"id\":\"1423\"}],\"left\":[{\"id\":\"1420\"}],\"min_border\":30,\"plot_height\":300,\"plot_width\":450,\"renderers\":[{\"id\":\"1441\"}],\"title\":{\"id\":\"1525\"},\"toolbar\":{\"id\":\"1431\"},\"toolbar_location\":null,\"x_range\":{\"id\":\"1408\"},\"x_scale\":{\"id\":\"1412\"},\"y_range\":{\"id\":\"1410\"},\"y_scale\":{\"id\":\"1414\"}},\"id\":\"1407\",\"subtype\":\"Figure\",\"type\":\"Plot\"},{\"attributes\":{\"formatter\":{\"id\":\"1539\"},\"ticker\":{\"id\":\"1453\"}},\"id\":\"1452\",\"type\":\"LinearAxis\"},{\"attributes\":{},\"id\":\"1529\",\"type\":\"BasicTickFormatter\"},{\"attributes\":{\"below\":[{\"id\":\"1488\"}],\"center\":[{\"id\":\"1491\"},{\"id\":\"1495\"}],\"left\":[{\"id\":\"1492\"}],\"min_border\":30,\"plot_height\":300,\"plot_width\":450,\"renderers\":[{\"id\":\"1513\"}],\"title\":{\"id\":\"1545\"},\"toolbar\":{\"id\":\"1503\"},\"toolbar_location\":null,\"x_range\":{\"id\":\"1480\"},\"x_scale\":{\"id\":\"1484\"},\"y_range\":{\"id\":\"1482\"},\"y_scale\":{\"id\":\"1486\"}},\"id\":\"1479\",\"subtype\":\"Figure\",\"type\":\"Plot\"},{\"attributes\":{\"fill_color\":{\"value\":\"#1f77b4\"},\"line_color\":{\"value\":\"#1f77b4\"},\"size\":{\"units\":\"screen\",\"value\":20},\"x\":{\"field\":\"x\"},\"y\":{\"field\":\"y\"}},\"id\":\"1403\",\"type\":\"Square\"},{\"attributes\":{},\"id\":\"1457\",\"type\":\"BasicTicker\"},{\"attributes\":{},\"id\":\"1453\",\"type\":\"BasicTicker\"},{\"attributes\":{\"text\":\"\"},\"id\":\"1545\",\"type\":\"Title\"},{\"attributes\":{\"text\":\"\"},\"id\":\"1535\",\"type\":\"Title\"},{\"attributes\":{\"axis\":{\"id\":\"1452\"},\"ticker\":null},\"id\":\"1455\",\"type\":\"Grid\"},{\"attributes\":{\"data\":{\"x\":[1,2,3],\"y\":[1,2,3]},\"selected\":{\"id\":\"1522\"},\"selection_policy\":{\"id\":\"1523\"}},\"id\":\"1402\",\"type\":\"ColumnDataSource\"},{\"attributes\":{\"below\":[{\"id\":\"1380\"}],\"center\":[{\"id\":\"1383\"},{\"id\":\"1387\"}],\"left\":[{\"id\":\"1384\"}],\"min_border\":30,\"plot_height\":300,\"plot_width\":450,\"renderers\":[{\"id\":\"1405\"}],\"title\":{\"id\":\"1515\"},\"toolbar\":{\"id\":\"1395\"},\"toolbar_location\":null,\"x_range\":{\"id\":\"1372\"},\"x_scale\":{\"id\":\"1376\"},\"y_range\":{\"id\":\"1374\"},\"y_scale\":{\"id\":\"1378\"}},\"id\":\"1371\",\"subtype\":\"Figure\",\"type\":\"Plot\"},{\"attributes\":{\"fill_color\":{\"value\":\"#1f77b4\"},\"line_color\":{\"value\":\"#1f77b4\"},\"size\":{\"units\":\"screen\",\"value\":20},\"x\":{\"field\":\"x\"},\"y\":{\"field\":\"y\"}},\"id\":\"1439\",\"type\":\"Circle\"},{\"attributes\":{\"axis\":{\"id\":\"1456\"},\"dimension\":1,\"ticker\":null},\"id\":\"1459\",\"type\":\"Grid\"},{\"attributes\":{\"formatter\":{\"id\":\"1537\"},\"ticker\":{\"id\":\"1457\"}},\"id\":\"1456\",\"type\":\"LinearAxis\"},{\"attributes\":{\"source\":{\"id\":\"1402\"}},\"id\":\"1406\",\"type\":\"CDSView\"},{\"attributes\":{},\"id\":\"1372\",\"type\":\"DataRange1d\"},{\"attributes\":{},\"id\":\"1542\",\"type\":\"Selection\"},{\"attributes\":{},\"id\":\"1537\",\"type\":\"BasicTickFormatter\"},{\"attributes\":{},\"id\":\"1543\",\"type\":\"UnionRenderers\"},{\"attributes\":{\"source\":{\"id\":\"1474\"}},\"id\":\"1478\",\"type\":\"CDSView\"},{\"attributes\":{\"toolbars\":[{\"id\":\"1395\"},{\"id\":\"1431\"},{\"id\":\"1467\"},{\"id\":\"1503\"}],\"tools\":[{\"id\":\"1388\"},{\"id\":\"1389\"},{\"id\":\"1390\"},{\"id\":\"1391\"},{\"id\":\"1392\"},{\"id\":\"1393\"},{\"id\":\"1424\"},{\"id\":\"1425\"},{\"id\":\"1426\"},{\"id\":\"1427\"},{\"id\":\"1428\"},{\"id\":\"1429\"},{\"id\":\"1460\"},{\"id\":\"1461\"},{\"id\":\"1462\"},{\"id\":\"1463\"},{\"id\":\"1464\"},{\"id\":\"1465\"},{\"id\":\"1496\"},{\"id\":\"1497\"},{\"id\":\"1498\"},{\"id\":\"1499\"},{\"id\":\"1500\"},{\"id\":\"1501\"}]},\"id\":\"1556\",\"type\":\"ProxyToolbar\"},{\"attributes\":{},\"id\":\"1376\",\"type\":\"LinearScale\"},{\"attributes\":{},\"id\":\"1374\",\"type\":\"DataRange1d\"},{\"attributes\":{\"fill_alpha\":{\"value\":0.1},\"fill_color\":{\"value\":\"#1f77b4\"},\"line_alpha\":{\"value\":0.1},\"line_color\":{\"value\":\"#1f77b4\"},\"size\":{\"units\":\"screen\",\"value\":20},\"x\":{\"field\":\"x\"},\"y\":{\"field\":\"y\"}},\"id\":\"1476\",\"type\":\"Triangle\"},{\"attributes\":{},\"id\":\"1533\",\"type\":\"UnionRenderers\"},{\"attributes\":{\"bottom_units\":\"screen\",\"fill_alpha\":0.5,\"fill_color\":\"lightgrey\",\"left_units\":\"screen\",\"level\":\"overlay\",\"line_alpha\":1.0,\"line_color\":\"black\",\"line_dash\":[4,4],\"line_width\":2,\"right_units\":\"screen\",\"top_units\":\"screen\"},\"id\":\"1502\",\"type\":\"BoxAnnotation\"},{\"attributes\":{\"fill_alpha\":{\"value\":0.1},\"fill_color\":{\"value\":\"#1f77b4\"},\"line_alpha\":{\"value\":0.1},\"line_color\":{\"value\":\"#1f77b4\"},\"size\":{\"units\":\"screen\",\"value\":20},\"x\":{\"field\":\"x\"},\"y\":{\"field\":\"y\"}},\"id\":\"1404\",\"type\":\"Square\"},{\"attributes\":{\"fill_color\":{\"value\":\"#1f77b4\"},\"line_color\":{\"value\":\"#1f77b4\"},\"size\":{\"units\":\"screen\",\"value\":20},\"x\":{\"field\":\"x\"},\"y\":{\"field\":\"y\"}},\"id\":\"1511\",\"type\":\"Cross\"},{\"attributes\":{},\"id\":\"1460\",\"type\":\"PanTool\"},{\"attributes\":{},\"id\":\"1378\",\"type\":\"LinearScale\"},{\"attributes\":{},\"id\":\"1461\",\"type\":\"WheelZoomTool\"},{\"attributes\":{},\"id\":\"1539\",\"type\":\"BasicTickFormatter\"},{\"attributes\":{\"formatter\":{\"id\":\"1519\"},\"ticker\":{\"id\":\"1381\"}},\"id\":\"1380\",\"type\":\"LinearAxis\"},{\"attributes\":{\"children\":[[{\"id\":\"1371\"},0,0],[{\"id\":\"1407\"},0,1],[{\"id\":\"1443\"},1,0],[{\"id\":\"1479\"},1,1]]},\"id\":\"1555\",\"type\":\"GridBox\"},{\"attributes\":{\"overlay\":{\"id\":\"1466\"}},\"id\":\"1462\",\"type\":\"BoxZoomTool\"},{\"attributes\":{},\"id\":\"1385\",\"type\":\"BasicTicker\"},{\"attributes\":{},\"id\":\"1381\",\"type\":\"BasicTicker\"},{\"attributes\":{},\"id\":\"1549\",\"type\":\"BasicTickFormatter\"},{\"attributes\":{},\"id\":\"1463\",\"type\":\"SaveTool\"},{\"attributes\":{\"text\":\"\"},\"id\":\"1515\",\"type\":\"Title\"},{\"attributes\":{\"axis\":{\"id\":\"1380\"},\"ticker\":null},\"id\":\"1383\",\"type\":\"Grid\"},{\"attributes\":{},\"id\":\"1464\",\"type\":\"ResetTool\"},{\"attributes\":{},\"id\":\"1410\",\"type\":\"DataRange1d\"},{\"attributes\":{\"axis\":{\"id\":\"1384\"},\"dimension\":1,\"ticker\":null},\"id\":\"1387\",\"type\":\"Grid\"},{\"attributes\":{},\"id\":\"1519\",\"type\":\"BasicTickFormatter\"},{\"attributes\":{\"formatter\":{\"id\":\"1517\"},\"ticker\":{\"id\":\"1385\"}},\"id\":\"1384\",\"type\":\"LinearAxis\"},{\"attributes\":{},\"id\":\"1522\",\"type\":\"Selection\"},{\"attributes\":{},\"id\":\"1465\",\"type\":\"HelpTool\"},{\"attributes\":{},\"id\":\"1517\",\"type\":\"BasicTickFormatter\"},{\"attributes\":{\"active_drag\":\"auto\",\"active_inspect\":\"auto\",\"active_multi\":null,\"active_scroll\":\"auto\",\"active_tap\":\"auto\",\"tools\":[{\"id\":\"1460\"},{\"id\":\"1461\"},{\"id\":\"1462\"},{\"id\":\"1463\"},{\"id\":\"1464\"},{\"id\":\"1465\"}]},\"id\":\"1467\",\"type\":\"Toolbar\"},{\"attributes\":{\"formatter\":{\"id\":\"1547\"},\"ticker\":{\"id\":\"1493\"}},\"id\":\"1492\",\"type\":\"LinearAxis\"},{\"attributes\":{},\"id\":\"1523\",\"type\":\"UnionRenderers\"},{\"attributes\":{},\"id\":\"1489\",\"type\":\"BasicTicker\"},{\"attributes\":{\"text\":\"\"},\"id\":\"1525\",\"type\":\"Title\"},{\"attributes\":{},\"id\":\"1484\",\"type\":\"LinearScale\"},{\"attributes\":{\"axis\":{\"id\":\"1488\"},\"ticker\":null},\"id\":\"1491\",\"type\":\"Grid\"},{\"attributes\":{},\"id\":\"1412\",\"type\":\"LinearScale\"},{\"attributes\":{},\"id\":\"1388\",\"type\":\"PanTool\"},{\"attributes\":{},\"id\":\"1486\",\"type\":\"LinearScale\"},{\"attributes\":{},\"id\":\"1532\",\"type\":\"Selection\"},{\"attributes\":{},\"id\":\"1389\",\"type\":\"WheelZoomTool\"},{\"attributes\":{},\"id\":\"1527\",\"type\":\"BasicTickFormatter\"},{\"attributes\":{\"overlay\":{\"id\":\"1394\"}},\"id\":\"1390\",\"type\":\"BoxZoomTool\"},{\"attributes\":{\"formatter\":{\"id\":\"1549\"},\"ticker\":{\"id\":\"1489\"}},\"id\":\"1488\",\"type\":\"LinearAxis\"},{\"attributes\":{},\"id\":\"1391\",\"type\":\"SaveTool\"},{\"attributes\":{},\"id\":\"1482\",\"type\":\"DataRange1d\"},{\"attributes\":{},\"id\":\"1552\",\"type\":\"Selection\"},{\"attributes\":{},\"id\":\"1547\",\"type\":\"BasicTickFormatter\"},{\"attributes\":{},\"id\":\"1392\",\"type\":\"ResetTool\"},{\"attributes\":{\"bottom_units\":\"screen\",\"fill_alpha\":0.5,\"fill_color\":\"lightgrey\",\"left_units\":\"screen\",\"level\":\"overlay\",\"line_alpha\":1.0,\"line_color\":\"black\",\"line_dash\":[4,4],\"line_width\":2,\"right_units\":\"screen\",\"top_units\":\"screen\"},\"id\":\"1466\",\"type\":\"BoxAnnotation\"},{\"attributes\":{},\"id\":\"1480\",\"type\":\"DataRange1d\"}],\"root_ids\":[\"1558\"]},\"title\":\"Bokeh Application\",\"version\":\"2.2.3\"}};\n",
       "  var render_items = [{\"docid\":\"8067ed84-77c8-4c00-b29f-63b20e67e5c3\",\"root_ids\":[\"1558\"],\"roots\":{\"1558\":\"b2f51d9d-10ea-4b5c-afbc-4241a0d1019d\"}}];\n",
       "  root.Bokeh.embed.embed_items_notebook(docs_json, render_items);\n",
       "\n",
       "  }\n",
       "  if (root.Bokeh !== undefined) {\n",
       "    embed_document(root);\n",
       "  } else {\n",
       "    var attempts = 0;\n",
       "    var timer = setInterval(function(root) {\n",
       "      if (root.Bokeh !== undefined) {\n",
       "        clearInterval(timer);\n",
       "        embed_document(root);\n",
       "      } else {\n",
       "        attempts++;\n",
       "        if (attempts > 100) {\n",
       "          clearInterval(timer);\n",
       "          console.log(\"Bokeh: ERROR: Unable to run BokehJS code because BokehJS library is missing\");\n",
       "        }\n",
       "      }\n",
       "    }, 10, root)\n",
       "  }\n",
       "})(window);"
      ],
      "application/vnd.bokehjs_exec.v0+json": ""
     },
     "metadata": {
      "application/vnd.bokehjs_exec.v0+json": {
       "id": "1558"
      }
     },
     "output_type": "display_data"
    }
   ],
   "source": [
    "plot_1 = figure(plot_width=450,plot_height=300,min_border=30)\n",
    "plot_1.square([1,2,3],[1,2,3],size=20)\n",
    "\n",
    "plot_2 = figure(plot_width=450,plot_height=300,min_border=30)\n",
    "plot_2.circle([1,2,3],[1,2,3],size=20)\n",
    "\n",
    "plot_3 = figure(plot_width=450,plot_height=300,min_border=30)\n",
    "plot_3.triangle([1,2,3],[1,2,3],size=20)\n",
    "\n",
    "plot_4 = figure(plot_width=450,plot_height=300,min_border=30)\n",
    "plot_4.cross([1,2,3],[1,2,3],size=20)\n",
    "\n",
    "\n",
    "# Ignore this part if you don't understand this yet, we will cover this in a bit\n",
    "from bokeh.layouts import gridplot\n",
    "layout = gridplot([[plot_1,plot_2],[plot_3,plot_4]])\n",
    "show(layout)"
   ]
  },
  {
   "cell_type": "markdown",
   "metadata": {},
   "source": [
    "> Can you see, what adding different marker glyphs did to our plots, now we can individually tweak properties of each glyph. Like color, size, alpha and many more, check the docs for more info."
   ]
  },
  {
   "cell_type": "code",
   "execution_count": 7,
   "metadata": {},
   "outputs": [
    {
     "data": {
      "text/html": [
       "\n",
       "\n",
       "\n",
       "\n",
       "\n",
       "\n",
       "  <div class=\"bk-root\" id=\"039ba334-e63e-4827-abde-3e0125a99f2c\" data-root-id=\"1993\"></div>\n"
      ]
     },
     "metadata": {},
     "output_type": "display_data"
    },
    {
     "data": {
      "application/javascript": [
       "(function(root) {\n",
       "  function embed_document(root) {\n",
       "    \n",
       "  var docs_json = {\"771e0385-75d1-44a2-b869-6add32e2c41c\":{\"roots\":{\"references\":[{\"attributes\":{\"children\":[{\"id\":\"1992\"},{\"id\":\"1990\"}]},\"id\":\"1993\",\"type\":\"Column\"},{\"attributes\":{},\"id\":\"1820\",\"type\":\"BasicTicker\"},{\"attributes\":{\"text\":\"\"},\"id\":\"1980\",\"type\":\"Title\"},{\"attributes\":{\"fill_alpha\":{\"value\":0.1},\"fill_color\":{\"value\":\"black\"},\"line_alpha\":{\"value\":0.1},\"size\":{\"units\":\"screen\",\"value\":20},\"x\":{\"field\":\"x\"},\"y\":{\"field\":\"y\"}},\"id\":\"1947\",\"type\":\"Cross\"},{\"attributes\":{\"text\":\"\"},\"id\":\"1950\",\"type\":\"Title\"},{\"attributes\":{\"axis\":{\"id\":\"1819\"},\"dimension\":1,\"ticker\":null},\"id\":\"1822\",\"type\":\"Grid\"},{\"attributes\":{\"formatter\":{\"id\":\"1952\"},\"ticker\":{\"id\":\"1820\"}},\"id\":\"1819\",\"type\":\"LinearAxis\"},{\"attributes\":{},\"id\":\"1954\",\"type\":\"BasicTickFormatter\"},{\"attributes\":{},\"id\":\"1957\",\"type\":\"Selection\"},{\"attributes\":{\"data_source\":{\"id\":\"1837\"},\"glyph\":{\"id\":\"1838\"},\"hover_glyph\":null,\"muted_glyph\":null,\"nonselection_glyph\":{\"id\":\"1839\"},\"selection_glyph\":null,\"view\":{\"id\":\"1841\"}},\"id\":\"1840\",\"type\":\"GlyphRenderer\"},{\"attributes\":{},\"id\":\"1928\",\"type\":\"BasicTicker\"},{\"attributes\":{\"data\":{\"x\":[1,2,3],\"y\":[1,2,3]},\"selected\":{\"id\":\"1987\"},\"selection_policy\":{\"id\":\"1988\"}},\"id\":\"1945\",\"type\":\"ColumnDataSource\"},{\"attributes\":{},\"id\":\"1849\",\"type\":\"LinearScale\"},{\"attributes\":{},\"id\":\"1952\",\"type\":\"BasicTickFormatter\"},{\"attributes\":{\"source\":{\"id\":\"1837\"}},\"id\":\"1841\",\"type\":\"CDSView\"},{\"attributes\":{\"fill_color\":{\"value\":\"black\"},\"size\":{\"units\":\"screen\",\"value\":20},\"x\":{\"field\":\"x\"},\"y\":{\"field\":\"y\"}},\"id\":\"1946\",\"type\":\"Cross\"},{\"attributes\":{\"axis\":{\"id\":\"1851\"},\"ticker\":null},\"id\":\"1854\",\"type\":\"Grid\"},{\"attributes\":{\"axis\":{\"id\":\"1927\"},\"dimension\":1,\"ticker\":null},\"id\":\"1930\",\"type\":\"Grid\"},{\"attributes\":{},\"id\":\"1852\",\"type\":\"BasicTicker\"},{\"attributes\":{},\"id\":\"1958\",\"type\":\"UnionRenderers\"},{\"attributes\":{},\"id\":\"1987\",\"type\":\"Selection\"},{\"attributes\":{\"text\":\"\"},\"id\":\"1960\",\"type\":\"Title\"},{\"attributes\":{},\"id\":\"1823\",\"type\":\"PanTool\"},{\"attributes\":{\"data_source\":{\"id\":\"1945\"},\"glyph\":{\"id\":\"1946\"},\"hover_glyph\":null,\"muted_glyph\":null,\"nonselection_glyph\":{\"id\":\"1947\"},\"selection_glyph\":null,\"view\":{\"id\":\"1949\"}},\"id\":\"1948\",\"type\":\"GlyphRenderer\"},{\"attributes\":{\"bottom_units\":\"screen\",\"fill_alpha\":0.5,\"fill_color\":\"lightgrey\",\"left_units\":\"screen\",\"level\":\"overlay\",\"line_alpha\":1.0,\"line_color\":\"black\",\"line_dash\":[4,4],\"line_width\":2,\"right_units\":\"screen\",\"top_units\":\"screen\"},\"id\":\"1865\",\"type\":\"BoxAnnotation\"},{\"attributes\":{},\"id\":\"1824\",\"type\":\"WheelZoomTool\"},{\"attributes\":{},\"id\":\"1845\",\"type\":\"DataRange1d\"},{\"attributes\":{\"axis\":{\"id\":\"1923\"},\"ticker\":null},\"id\":\"1926\",\"type\":\"Grid\"},{\"attributes\":{\"active_drag\":\"auto\",\"active_inspect\":\"auto\",\"active_multi\":null,\"active_scroll\":\"auto\",\"active_tap\":\"auto\",\"tools\":[{\"id\":\"1931\"},{\"id\":\"1932\"},{\"id\":\"1933\"},{\"id\":\"1934\"},{\"id\":\"1935\"},{\"id\":\"1936\"}]},\"id\":\"1938\",\"type\":\"Toolbar\"},{\"attributes\":{\"overlay\":{\"id\":\"1829\"}},\"id\":\"1825\",\"type\":\"BoxZoomTool\"},{\"attributes\":{},\"id\":\"1964\",\"type\":\"BasicTickFormatter\"},{\"attributes\":{\"active_drag\":\"auto\",\"active_inspect\":\"auto\",\"active_multi\":null,\"active_scroll\":\"auto\",\"active_tap\":\"auto\",\"tools\":[{\"id\":\"1859\"},{\"id\":\"1860\"},{\"id\":\"1861\"},{\"id\":\"1862\"},{\"id\":\"1863\"},{\"id\":\"1864\"}]},\"id\":\"1866\",\"type\":\"Toolbar\"},{\"attributes\":{},\"id\":\"1826\",\"type\":\"SaveTool\"},{\"attributes\":{},\"id\":\"1962\",\"type\":\"BasicTickFormatter\"},{\"attributes\":{},\"id\":\"1879\",\"type\":\"DataRange1d\"},{\"attributes\":{},\"id\":\"1827\",\"type\":\"ResetTool\"},{\"attributes\":{},\"id\":\"1984\",\"type\":\"BasicTickFormatter\"},{\"attributes\":{\"formatter\":{\"id\":\"1982\"},\"ticker\":{\"id\":\"1928\"}},\"id\":\"1927\",\"type\":\"LinearAxis\"},{\"attributes\":{},\"id\":\"1988\",\"type\":\"UnionRenderers\"},{\"attributes\":{},\"id\":\"1828\",\"type\":\"HelpTool\"},{\"attributes\":{\"data\":{\"x\":[1,2,3],\"y\":[1,2,3]},\"selected\":{\"id\":\"1977\"},\"selection_policy\":{\"id\":\"1978\"}},\"id\":\"1909\",\"type\":\"ColumnDataSource\"},{\"attributes\":{\"angle\":{\"units\":\"rad\",\"value\":40},\"fill_alpha\":{\"value\":0.1},\"fill_color\":{\"value\":\"maroon\"},\"line_alpha\":{\"value\":0.1},\"line_color\":{\"value\":\"maroon\"},\"size\":{\"units\":\"screen\",\"value\":20},\"x\":{\"field\":\"x\"},\"y\":{\"field\":\"y\"}},\"id\":\"1911\",\"type\":\"Triangle\"},{\"attributes\":{},\"id\":\"1982\",\"type\":\"BasicTickFormatter\"},{\"attributes\":{\"toolbar\":{\"id\":\"1991\"},\"toolbar_location\":\"above\"},\"id\":\"1992\",\"type\":\"ToolbarBox\"},{\"attributes\":{},\"id\":\"1881\",\"type\":\"DataRange1d\"},{\"attributes\":{},\"id\":\"1859\",\"type\":\"PanTool\"},{\"attributes\":{},\"id\":\"1883\",\"type\":\"LinearScale\"},{\"attributes\":{},\"id\":\"1860\",\"type\":\"WheelZoomTool\"},{\"attributes\":{\"fill_alpha\":{\"value\":0.1},\"fill_color\":{\"value\":\"orange\"},\"line_alpha\":{\"value\":0.1},\"line_color\":{\"value\":\"orange\"},\"size\":{\"units\":\"screen\",\"value\":20},\"x\":{\"field\":\"x\"},\"y\":{\"field\":\"y\"}},\"id\":\"1875\",\"type\":\"Circle\"},{\"attributes\":{\"source\":{\"id\":\"1873\"}},\"id\":\"1877\",\"type\":\"CDSView\"},{\"attributes\":{\"formatter\":{\"id\":\"1964\"},\"ticker\":{\"id\":\"1852\"}},\"id\":\"1851\",\"type\":\"LinearAxis\"},{\"attributes\":{},\"id\":\"1885\",\"type\":\"LinearScale\"},{\"attributes\":{\"data_source\":{\"id\":\"1873\"},\"glyph\":{\"id\":\"1874\"},\"hover_glyph\":null,\"muted_glyph\":null,\"nonselection_glyph\":{\"id\":\"1875\"},\"selection_glyph\":null,\"view\":{\"id\":\"1877\"}},\"id\":\"1876\",\"type\":\"GlyphRenderer\"},{\"attributes\":{\"formatter\":{\"id\":\"1974\"},\"ticker\":{\"id\":\"1888\"}},\"id\":\"1887\",\"type\":\"LinearAxis\"},{\"attributes\":{},\"id\":\"1892\",\"type\":\"BasicTicker\"},{\"attributes\":{\"angle\":{\"units\":\"rad\",\"value\":40},\"fill_alpha\":{\"value\":0.5},\"fill_color\":{\"value\":\"maroon\"},\"line_alpha\":{\"value\":0.5},\"line_color\":{\"value\":\"maroon\"},\"size\":{\"units\":\"screen\",\"value\":20},\"x\":{\"field\":\"x\"},\"y\":{\"field\":\"y\"}},\"id\":\"1910\",\"type\":\"Triangle\"},{\"attributes\":{},\"id\":\"1888\",\"type\":\"BasicTicker\"},{\"attributes\":{\"formatter\":{\"id\":\"1962\"},\"ticker\":{\"id\":\"1856\"}},\"id\":\"1855\",\"type\":\"LinearAxis\"},{\"attributes\":{\"axis\":{\"id\":\"1855\"},\"dimension\":1,\"ticker\":null},\"id\":\"1858\",\"type\":\"Grid\"},{\"attributes\":{\"axis\":{\"id\":\"1887\"},\"ticker\":null},\"id\":\"1890\",\"type\":\"Grid\"},{\"attributes\":{\"source\":{\"id\":\"1909\"}},\"id\":\"1913\",\"type\":\"CDSView\"},{\"attributes\":{\"axis\":{\"id\":\"1891\"},\"dimension\":1,\"ticker\":null},\"id\":\"1894\",\"type\":\"Grid\"},{\"attributes\":{\"formatter\":{\"id\":\"1972\"},\"ticker\":{\"id\":\"1892\"}},\"id\":\"1891\",\"type\":\"LinearAxis\"},{\"attributes\":{\"data\":{\"x\":[1,2,3],\"y\":[1,2,3]},\"selected\":{\"id\":\"1957\"},\"selection_policy\":{\"id\":\"1958\"}},\"id\":\"1837\",\"type\":\"ColumnDataSource\"},{\"attributes\":{\"below\":[{\"id\":\"1815\"}],\"center\":[{\"id\":\"1818\"},{\"id\":\"1822\"}],\"left\":[{\"id\":\"1819\"}],\"plot_height\":300,\"plot_width\":500,\"renderers\":[{\"id\":\"1840\"}],\"title\":{\"id\":\"1950\"},\"toolbar\":{\"id\":\"1830\"},\"toolbar_location\":null,\"x_range\":{\"id\":\"1807\"},\"x_scale\":{\"id\":\"1811\"},\"y_range\":{\"id\":\"1809\"},\"y_scale\":{\"id\":\"1813\"}},\"id\":\"1806\",\"subtype\":\"Figure\",\"type\":\"Plot\"},{\"attributes\":{\"data_source\":{\"id\":\"1909\"},\"glyph\":{\"id\":\"1910\"},\"hover_glyph\":null,\"muted_glyph\":null,\"nonselection_glyph\":{\"id\":\"1911\"},\"selection_glyph\":null,\"view\":{\"id\":\"1913\"}},\"id\":\"1912\",\"type\":\"GlyphRenderer\"},{\"attributes\":{\"bottom_units\":\"screen\",\"fill_alpha\":0.5,\"fill_color\":\"lightgrey\",\"left_units\":\"screen\",\"level\":\"overlay\",\"line_alpha\":1.0,\"line_color\":\"black\",\"line_dash\":[4,4],\"line_width\":2,\"right_units\":\"screen\",\"top_units\":\"screen\"},\"id\":\"1829\",\"type\":\"BoxAnnotation\"},{\"attributes\":{\"below\":[{\"id\":\"1851\"}],\"center\":[{\"id\":\"1854\"},{\"id\":\"1858\"}],\"left\":[{\"id\":\"1855\"}],\"plot_height\":300,\"plot_width\":500,\"renderers\":[{\"id\":\"1876\"}],\"title\":{\"id\":\"1960\"},\"toolbar\":{\"id\":\"1866\"},\"toolbar_location\":null,\"x_range\":{\"id\":\"1843\"},\"x_scale\":{\"id\":\"1847\"},\"y_range\":{\"id\":\"1845\"},\"y_scale\":{\"id\":\"1849\"}},\"id\":\"1842\",\"subtype\":\"Figure\",\"type\":\"Plot\"},{\"attributes\":{\"active_drag\":\"auto\",\"active_inspect\":\"auto\",\"active_multi\":null,\"active_scroll\":\"auto\",\"active_tap\":\"auto\",\"tools\":[{\"id\":\"1823\"},{\"id\":\"1824\"},{\"id\":\"1825\"},{\"id\":\"1826\"},{\"id\":\"1827\"},{\"id\":\"1828\"}]},\"id\":\"1830\",\"type\":\"Toolbar\"},{\"attributes\":{\"angle\":{\"units\":\"rad\",\"value\":20},\"fill_color\":{\"value\":\"green\"},\"line_color\":{\"value\":\"green\"},\"size\":{\"units\":\"screen\",\"value\":20},\"x\":{\"field\":\"x\"},\"y\":{\"field\":\"y\"}},\"id\":\"1838\",\"type\":\"Square\"},{\"attributes\":{},\"id\":\"1807\",\"type\":\"DataRange1d\"},{\"attributes\":{},\"id\":\"1856\",\"type\":\"BasicTicker\"},{\"attributes\":{\"angle\":{\"units\":\"rad\",\"value\":20},\"fill_alpha\":{\"value\":0.1},\"fill_color\":{\"value\":\"green\"},\"line_alpha\":{\"value\":0.1},\"line_color\":{\"value\":\"green\"},\"size\":{\"units\":\"screen\",\"value\":20},\"x\":{\"field\":\"x\"},\"y\":{\"field\":\"y\"}},\"id\":\"1839\",\"type\":\"Square\"},{\"attributes\":{},\"id\":\"1809\",\"type\":\"DataRange1d\"},{\"attributes\":{\"below\":[{\"id\":\"1923\"}],\"center\":[{\"id\":\"1926\"},{\"id\":\"1930\"}],\"left\":[{\"id\":\"1927\"}],\"plot_height\":300,\"plot_width\":500,\"renderers\":[{\"id\":\"1948\"}],\"title\":{\"id\":\"1980\"},\"toolbar\":{\"id\":\"1938\"},\"toolbar_location\":null,\"x_range\":{\"id\":\"1915\"},\"x_scale\":{\"id\":\"1919\"},\"y_range\":{\"id\":\"1917\"},\"y_scale\":{\"id\":\"1921\"}},\"id\":\"1914\",\"subtype\":\"Figure\",\"type\":\"Plot\"},{\"attributes\":{},\"id\":\"1811\",\"type\":\"LinearScale\"},{\"attributes\":{\"overlay\":{\"id\":\"1865\"}},\"id\":\"1861\",\"type\":\"BoxZoomTool\"},{\"attributes\":{},\"id\":\"1895\",\"type\":\"PanTool\"},{\"attributes\":{},\"id\":\"1862\",\"type\":\"SaveTool\"},{\"attributes\":{},\"id\":\"1896\",\"type\":\"WheelZoomTool\"},{\"attributes\":{},\"id\":\"1863\",\"type\":\"ResetTool\"},{\"attributes\":{\"overlay\":{\"id\":\"1901\"}},\"id\":\"1897\",\"type\":\"BoxZoomTool\"},{\"attributes\":{},\"id\":\"1813\",\"type\":\"LinearScale\"},{\"attributes\":{\"axis\":{\"id\":\"1815\"},\"ticker\":null},\"id\":\"1818\",\"type\":\"Grid\"},{\"attributes\":{},\"id\":\"1898\",\"type\":\"SaveTool\"},{\"attributes\":{\"formatter\":{\"id\":\"1954\"},\"ticker\":{\"id\":\"1816\"}},\"id\":\"1815\",\"type\":\"LinearAxis\"},{\"attributes\":{},\"id\":\"1864\",\"type\":\"HelpTool\"},{\"attributes\":{},\"id\":\"1816\",\"type\":\"BasicTicker\"},{\"attributes\":{},\"id\":\"1899\",\"type\":\"ResetTool\"},{\"attributes\":{\"children\":[[{\"id\":\"1806\"},0,0],[{\"id\":\"1842\"},0,1],[{\"id\":\"1878\"},1,0],[{\"id\":\"1914\"},1,1]]},\"id\":\"1990\",\"type\":\"GridBox\"},{\"attributes\":{},\"id\":\"1900\",\"type\":\"HelpTool\"},{\"attributes\":{},\"id\":\"1974\",\"type\":\"BasicTickFormatter\"},{\"attributes\":{},\"id\":\"1847\",\"type\":\"LinearScale\"},{\"attributes\":{\"below\":[{\"id\":\"1887\"}],\"center\":[{\"id\":\"1890\"},{\"id\":\"1894\"}],\"left\":[{\"id\":\"1891\"}],\"plot_height\":300,\"plot_width\":500,\"renderers\":[{\"id\":\"1912\"}],\"title\":{\"id\":\"1970\"},\"toolbar\":{\"id\":\"1902\"},\"toolbar_location\":null,\"x_range\":{\"id\":\"1879\"},\"x_scale\":{\"id\":\"1883\"},\"y_range\":{\"id\":\"1881\"},\"y_scale\":{\"id\":\"1885\"}},\"id\":\"1878\",\"subtype\":\"Figure\",\"type\":\"Plot\"},{\"attributes\":{},\"id\":\"1936\",\"type\":\"HelpTool\"},{\"attributes\":{\"fill_alpha\":{\"value\":0.5},\"fill_color\":{\"value\":\"orange\"},\"line_alpha\":{\"value\":0.5},\"line_color\":{\"value\":\"orange\"},\"size\":{\"units\":\"screen\",\"value\":20},\"x\":{\"field\":\"x\"},\"y\":{\"field\":\"y\"}},\"id\":\"1874\",\"type\":\"Circle\"},{\"attributes\":{},\"id\":\"1935\",\"type\":\"ResetTool\"},{\"attributes\":{\"source\":{\"id\":\"1945\"}},\"id\":\"1949\",\"type\":\"CDSView\"},{\"attributes\":{},\"id\":\"1934\",\"type\":\"SaveTool\"},{\"attributes\":{\"overlay\":{\"id\":\"1937\"}},\"id\":\"1933\",\"type\":\"BoxZoomTool\"},{\"attributes\":{},\"id\":\"1932\",\"type\":\"WheelZoomTool\"},{\"attributes\":{\"bottom_units\":\"screen\",\"fill_alpha\":0.5,\"fill_color\":\"lightgrey\",\"left_units\":\"screen\",\"level\":\"overlay\",\"line_alpha\":1.0,\"line_color\":\"black\",\"line_dash\":[4,4],\"line_width\":2,\"right_units\":\"screen\",\"top_units\":\"screen\"},\"id\":\"1901\",\"type\":\"BoxAnnotation\"},{\"attributes\":{\"active_drag\":\"auto\",\"active_inspect\":\"auto\",\"active_multi\":null,\"active_scroll\":\"auto\",\"active_tap\":\"auto\",\"tools\":[{\"id\":\"1895\"},{\"id\":\"1896\"},{\"id\":\"1897\"},{\"id\":\"1898\"},{\"id\":\"1899\"},{\"id\":\"1900\"}]},\"id\":\"1902\",\"type\":\"Toolbar\"},{\"attributes\":{},\"id\":\"1915\",\"type\":\"DataRange1d\"},{\"attributes\":{},\"id\":\"1917\",\"type\":\"DataRange1d\"},{\"attributes\":{},\"id\":\"1919\",\"type\":\"LinearScale\"},{\"attributes\":{},\"id\":\"1843\",\"type\":\"DataRange1d\"},{\"attributes\":{},\"id\":\"1921\",\"type\":\"LinearScale\"},{\"attributes\":{},\"id\":\"1978\",\"type\":\"UnionRenderers\"},{\"attributes\":{\"formatter\":{\"id\":\"1984\"},\"ticker\":{\"id\":\"1924\"}},\"id\":\"1923\",\"type\":\"LinearAxis\"},{\"attributes\":{},\"id\":\"1924\",\"type\":\"BasicTicker\"},{\"attributes\":{},\"id\":\"1931\",\"type\":\"PanTool\"},{\"attributes\":{\"toolbars\":[{\"id\":\"1830\"},{\"id\":\"1866\"},{\"id\":\"1902\"},{\"id\":\"1938\"}],\"tools\":[{\"id\":\"1823\"},{\"id\":\"1824\"},{\"id\":\"1825\"},{\"id\":\"1826\"},{\"id\":\"1827\"},{\"id\":\"1828\"},{\"id\":\"1859\"},{\"id\":\"1860\"},{\"id\":\"1861\"},{\"id\":\"1862\"},{\"id\":\"1863\"},{\"id\":\"1864\"},{\"id\":\"1895\"},{\"id\":\"1896\"},{\"id\":\"1897\"},{\"id\":\"1898\"},{\"id\":\"1899\"},{\"id\":\"1900\"},{\"id\":\"1931\"},{\"id\":\"1932\"},{\"id\":\"1933\"},{\"id\":\"1934\"},{\"id\":\"1935\"},{\"id\":\"1936\"}]},\"id\":\"1991\",\"type\":\"ProxyToolbar\"},{\"attributes\":{\"text\":\"\"},\"id\":\"1970\",\"type\":\"Title\"},{\"attributes\":{},\"id\":\"1977\",\"type\":\"Selection\"},{\"attributes\":{},\"id\":\"1972\",\"type\":\"BasicTickFormatter\"},{\"attributes\":{},\"id\":\"1968\",\"type\":\"UnionRenderers\"},{\"attributes\":{\"bottom_units\":\"screen\",\"fill_alpha\":0.5,\"fill_color\":\"lightgrey\",\"left_units\":\"screen\",\"level\":\"overlay\",\"line_alpha\":1.0,\"line_color\":\"black\",\"line_dash\":[4,4],\"line_width\":2,\"right_units\":\"screen\",\"top_units\":\"screen\"},\"id\":\"1937\",\"type\":\"BoxAnnotation\"},{\"attributes\":{},\"id\":\"1967\",\"type\":\"Selection\"},{\"attributes\":{\"data\":{\"x\":[1,2,3],\"y\":[1,2,3]},\"selected\":{\"id\":\"1967\"},\"selection_policy\":{\"id\":\"1968\"}},\"id\":\"1873\",\"type\":\"ColumnDataSource\"}],\"root_ids\":[\"1993\"]},\"title\":\"Bokeh Application\",\"version\":\"2.2.3\"}};\n",
       "  var render_items = [{\"docid\":\"771e0385-75d1-44a2-b869-6add32e2c41c\",\"root_ids\":[\"1993\"],\"roots\":{\"1993\":\"039ba334-e63e-4827-abde-3e0125a99f2c\"}}];\n",
       "  root.Bokeh.embed.embed_items_notebook(docs_json, render_items);\n",
       "\n",
       "  }\n",
       "  if (root.Bokeh !== undefined) {\n",
       "    embed_document(root);\n",
       "  } else {\n",
       "    var attempts = 0;\n",
       "    var timer = setInterval(function(root) {\n",
       "      if (root.Bokeh !== undefined) {\n",
       "        clearInterval(timer);\n",
       "        embed_document(root);\n",
       "      } else {\n",
       "        attempts++;\n",
       "        if (attempts > 100) {\n",
       "          clearInterval(timer);\n",
       "          console.log(\"Bokeh: ERROR: Unable to run BokehJS code because BokehJS library is missing\");\n",
       "        }\n",
       "      }\n",
       "    }, 10, root)\n",
       "  }\n",
       "})(window);"
      ],
      "application/vnd.bokehjs_exec.v0+json": ""
     },
     "metadata": {
      "application/vnd.bokehjs_exec.v0+json": {
       "id": "1993"
      }
     },
     "output_type": "display_data"
    }
   ],
   "source": [
    "plot_1 = figure(plot_width=500,plot_height=300)\n",
    "plot_1.square([1,2,3],[1,2,3],size=20, color='green', angle=20)\n",
    "\n",
    "plot_2 = figure(plot_width=500,plot_height=300)\n",
    "plot_2.circle([1,2,3],[1,2,3],size=20, color='orange', alpha=0.5)\n",
    "\n",
    "plot_3 = figure(plot_width=500,plot_height=300)\n",
    "plot_3.triangle([1,2,3],[1,2,3],size=20, color='maroon', alpha=0.5, angle=40)\n",
    "\n",
    "plot_4 = figure(plot_width=500,plot_height=300)\n",
    "plot_4.cross([1,2,3],[1,2,3],size=20, color='black', alpha=1)\n",
    "\n",
    "\n",
    "# Ignore this part if you don't understand this yet, we will cover this in a bit\n",
    "from bokeh.layouts import gridplot\n",
    "layout = gridplot([[plot_1,plot_2],[plot_3,plot_4]])\n",
    "show(layout)"
   ]
  },
  {
   "cell_type": "markdown",
   "metadata": {},
   "source": [
    "## Important \n",
    "What kind of values can be attached to glyphs properties ? \n",
    "Python lists can be passed in, but more generally any sequence type will do: \n",
    "tuples, arrays, columns from DataFrames all will work as well.\n",
    "1. Lists, arrays, sequences of values\n",
    "2. Single fixed value\n",
    "\n",
    "<b>So you can pass NumPy arrays or Pandas DataFrame columns as an input to the glyphs like x,y,color etc.</b>\n",
    "\n",
    "It is also possible to configure properties with a single fixed value. In that case however, \n",
    "many glyphs are draw, its just that they will all have the same value for that property.\n",
    "This happened implicitly in the previous example, we supplied lists for x & y coordinates, \n",
    "but the size, color, transparency all had single default values, so how did they get applied to all the markers, \n",
    "the default got carried over to every marker that was drawn.\n",
    "\n",
    "An example to further explain this"
   ]
  },
  {
   "cell_type": "code",
   "execution_count": 8,
   "metadata": {},
   "outputs": [
    {
     "data": {
      "text/html": [
       "\n",
       "\n",
       "\n",
       "\n",
       "\n",
       "\n",
       "  <div class=\"bk-root\" id=\"35042ee8-5480-4ed6-addc-48fc7f50edc2\" data-root-id=\"2277\"></div>\n"
      ]
     },
     "metadata": {},
     "output_type": "display_data"
    },
    {
     "data": {
      "application/javascript": [
       "(function(root) {\n",
       "  function embed_document(root) {\n",
       "    \n",
       "  var docs_json = {\"60f6a320-067b-4623-a3ba-d344ce814723\":{\"roots\":{\"references\":[{\"attributes\":{\"below\":[{\"id\":\"2286\"}],\"center\":[{\"id\":\"2289\"},{\"id\":\"2293\"}],\"left\":[{\"id\":\"2290\"}],\"plot_height\":300,\"renderers\":[{\"id\":\"2311\"}],\"title\":{\"id\":\"2416\"},\"toolbar\":{\"id\":\"2301\"},\"x_range\":{\"id\":\"2278\"},\"x_scale\":{\"id\":\"2282\"},\"y_range\":{\"id\":\"2280\"},\"y_scale\":{\"id\":\"2284\"}},\"id\":\"2277\",\"subtype\":\"Figure\",\"type\":\"Plot\"},{\"attributes\":{\"text\":\"\"},\"id\":\"2416\",\"type\":\"Title\"},{\"attributes\":{},\"id\":\"2297\",\"type\":\"SaveTool\"},{\"attributes\":{},\"id\":\"2298\",\"type\":\"ResetTool\"},{\"attributes\":{},\"id\":\"2420\",\"type\":\"BasicTickFormatter\"},{\"attributes\":{},\"id\":\"2418\",\"type\":\"BasicTickFormatter\"},{\"attributes\":{},\"id\":\"2282\",\"type\":\"LinearScale\"},{\"attributes\":{},\"id\":\"2299\",\"type\":\"HelpTool\"},{\"attributes\":{},\"id\":\"2423\",\"type\":\"Selection\"},{\"attributes\":{},\"id\":\"2278\",\"type\":\"DataRange1d\"},{\"attributes\":{\"source\":{\"id\":\"2308\"}},\"id\":\"2312\",\"type\":\"CDSView\"},{\"attributes\":{\"fill_alpha\":{\"value\":0.1},\"fill_color\":{\"value\":\"#1f77b4\"},\"line_alpha\":{\"value\":0.1},\"line_color\":{\"value\":\"#1f77b4\"},\"size\":{\"field\":\"size\",\"units\":\"screen\"},\"x\":{\"value\":10},\"y\":{\"field\":\"y\"}},\"id\":\"2310\",\"type\":\"Circle\"},{\"attributes\":{\"active_drag\":\"auto\",\"active_inspect\":\"auto\",\"active_multi\":null,\"active_scroll\":\"auto\",\"active_tap\":\"auto\",\"tools\":[{\"id\":\"2294\"},{\"id\":\"2295\"},{\"id\":\"2296\"},{\"id\":\"2297\"},{\"id\":\"2298\"},{\"id\":\"2299\"}]},\"id\":\"2301\",\"type\":\"Toolbar\"},{\"attributes\":{\"axis\":{\"id\":\"2290\"},\"dimension\":1,\"ticker\":null},\"id\":\"2293\",\"type\":\"Grid\"},{\"attributes\":{},\"id\":\"2295\",\"type\":\"WheelZoomTool\"},{\"attributes\":{\"data\":{\"size\":[10,15,40,25],\"y\":[2,3,4,5]},\"selected\":{\"id\":\"2423\"},\"selection_policy\":{\"id\":\"2424\"}},\"id\":\"2308\",\"type\":\"ColumnDataSource\"},{\"attributes\":{\"fill_color\":{\"value\":\"#1f77b4\"},\"line_color\":{\"value\":\"#1f77b4\"},\"size\":{\"field\":\"size\",\"units\":\"screen\"},\"x\":{\"value\":10},\"y\":{\"field\":\"y\"}},\"id\":\"2309\",\"type\":\"Circle\"},{\"attributes\":{\"formatter\":{\"id\":\"2418\"},\"ticker\":{\"id\":\"2291\"}},\"id\":\"2290\",\"type\":\"LinearAxis\"},{\"attributes\":{},\"id\":\"2294\",\"type\":\"PanTool\"},{\"attributes\":{\"bottom_units\":\"screen\",\"fill_alpha\":0.5,\"fill_color\":\"lightgrey\",\"left_units\":\"screen\",\"level\":\"overlay\",\"line_alpha\":1.0,\"line_color\":\"black\",\"line_dash\":[4,4],\"line_width\":2,\"right_units\":\"screen\",\"top_units\":\"screen\"},\"id\":\"2300\",\"type\":\"BoxAnnotation\"},{\"attributes\":{},\"id\":\"2424\",\"type\":\"UnionRenderers\"},{\"attributes\":{\"overlay\":{\"id\":\"2300\"}},\"id\":\"2296\",\"type\":\"BoxZoomTool\"},{\"attributes\":{\"formatter\":{\"id\":\"2420\"},\"ticker\":{\"id\":\"2287\"}},\"id\":\"2286\",\"type\":\"LinearAxis\"},{\"attributes\":{},\"id\":\"2287\",\"type\":\"BasicTicker\"},{\"attributes\":{},\"id\":\"2291\",\"type\":\"BasicTicker\"},{\"attributes\":{\"axis\":{\"id\":\"2286\"},\"ticker\":null},\"id\":\"2289\",\"type\":\"Grid\"},{\"attributes\":{},\"id\":\"2284\",\"type\":\"LinearScale\"},{\"attributes\":{},\"id\":\"2280\",\"type\":\"DataRange1d\"},{\"attributes\":{\"data_source\":{\"id\":\"2308\"},\"glyph\":{\"id\":\"2309\"},\"hover_glyph\":null,\"muted_glyph\":null,\"nonselection_glyph\":{\"id\":\"2310\"},\"selection_glyph\":null,\"view\":{\"id\":\"2312\"}},\"id\":\"2311\",\"type\":\"GlyphRenderer\"}],\"root_ids\":[\"2277\"]},\"title\":\"Bokeh Application\",\"version\":\"2.2.3\"}};\n",
       "  var render_items = [{\"docid\":\"60f6a320-067b-4623-a3ba-d344ce814723\",\"root_ids\":[\"2277\"],\"roots\":{\"2277\":\"35042ee8-5480-4ed6-addc-48fc7f50edc2\"}}];\n",
       "  root.Bokeh.embed.embed_items_notebook(docs_json, render_items);\n",
       "\n",
       "  }\n",
       "  if (root.Bokeh !== undefined) {\n",
       "    embed_document(root);\n",
       "  } else {\n",
       "    var attempts = 0;\n",
       "    var timer = setInterval(function(root) {\n",
       "      if (root.Bokeh !== undefined) {\n",
       "        clearInterval(timer);\n",
       "        embed_document(root);\n",
       "      } else {\n",
       "        attempts++;\n",
       "        if (attempts > 100) {\n",
       "          clearInterval(timer);\n",
       "          console.log(\"Bokeh: ERROR: Unable to run BokehJS code because BokehJS library is missing\");\n",
       "        }\n",
       "      }\n",
       "    }, 10, root)\n",
       "  }\n",
       "})(window);"
      ],
      "application/vnd.bokehjs_exec.v0+json": ""
     },
     "metadata": {
      "application/vnd.bokehjs_exec.v0+json": {
       "id": "2277"
      }
     },
     "output_type": "display_data"
    }
   ],
   "source": [
    "plot=figure(plot_height=300)\n",
    "plot.circle(x=10,y=[2,3,4,5],size=[10,15,40,25])\n",
    "show(plot)"
   ]
  },
  {
   "cell_type": "markdown",
   "metadata": {},
   "source": [
    "<a id = \"5\"></a>\n",
    "## Line glyphs"
   ]
  },
  {
   "cell_type": "code",
   "execution_count": 9,
   "metadata": {},
   "outputs": [
    {
     "data": {
      "text/html": [
       "\n",
       "\n",
       "\n",
       "\n",
       "\n",
       "\n",
       "  <div class=\"bk-root\" id=\"86796284-43ef-4602-8332-f2fc8fb1af81\" data-root-id=\"2470\"></div>\n"
      ]
     },
     "metadata": {},
     "output_type": "display_data"
    },
    {
     "data": {
      "application/javascript": [
       "(function(root) {\n",
       "  function embed_document(root) {\n",
       "    \n",
       "  var docs_json = {\"4eaa4268-e192-4577-9f7e-c875100190ef\":{\"roots\":{\"references\":[{\"attributes\":{\"below\":[{\"id\":\"2479\"}],\"center\":[{\"id\":\"2482\"},{\"id\":\"2486\"}],\"left\":[{\"id\":\"2483\"}],\"plot_height\":400,\"plot_width\":400,\"renderers\":[{\"id\":\"2504\"}],\"title\":{\"id\":\"2618\"},\"toolbar\":{\"id\":\"2494\"},\"x_range\":{\"id\":\"2471\"},\"x_scale\":{\"id\":\"2475\"},\"y_range\":{\"id\":\"2473\"},\"y_scale\":{\"id\":\"2477\"}},\"id\":\"2470\",\"subtype\":\"Figure\",\"type\":\"Plot\"},{\"attributes\":{},\"id\":\"2491\",\"type\":\"ResetTool\"},{\"attributes\":{},\"id\":\"2492\",\"type\":\"HelpTool\"},{\"attributes\":{\"text\":\"\"},\"id\":\"2618\",\"type\":\"Title\"},{\"attributes\":{\"overlay\":{\"id\":\"2493\"}},\"id\":\"2489\",\"type\":\"BoxZoomTool\"},{\"attributes\":{},\"id\":\"2622\",\"type\":\"BasicTickFormatter\"},{\"attributes\":{\"line_color\":\"#1f77b4\",\"x\":{\"field\":\"x\"},\"y\":{\"field\":\"y\"}},\"id\":\"2502\",\"type\":\"Line\"},{\"attributes\":{},\"id\":\"2475\",\"type\":\"LinearScale\"},{\"attributes\":{\"active_drag\":\"auto\",\"active_inspect\":\"auto\",\"active_multi\":null,\"active_scroll\":\"auto\",\"active_tap\":\"auto\",\"tools\":[{\"id\":\"2487\"},{\"id\":\"2488\"},{\"id\":\"2489\"},{\"id\":\"2490\"},{\"id\":\"2491\"},{\"id\":\"2492\"}]},\"id\":\"2494\",\"type\":\"Toolbar\"},{\"attributes\":{},\"id\":\"2473\",\"type\":\"DataRange1d\"},{\"attributes\":{},\"id\":\"2625\",\"type\":\"Selection\"},{\"attributes\":{},\"id\":\"2477\",\"type\":\"LinearScale\"},{\"attributes\":{},\"id\":\"2626\",\"type\":\"UnionRenderers\"},{\"attributes\":{},\"id\":\"2620\",\"type\":\"BasicTickFormatter\"},{\"attributes\":{},\"id\":\"2487\",\"type\":\"PanTool\"},{\"attributes\":{\"formatter\":{\"id\":\"2622\"},\"ticker\":{\"id\":\"2480\"}},\"id\":\"2479\",\"type\":\"LinearAxis\"},{\"attributes\":{\"data\":{\"x\":[1,2,3,4,5],\"y\":[6,7,2,4,5]},\"selected\":{\"id\":\"2625\"},\"selection_policy\":{\"id\":\"2626\"}},\"id\":\"2501\",\"type\":\"ColumnDataSource\"},{\"attributes\":{\"formatter\":{\"id\":\"2620\"},\"ticker\":{\"id\":\"2484\"}},\"id\":\"2483\",\"type\":\"LinearAxis\"},{\"attributes\":{\"data_source\":{\"id\":\"2501\"},\"glyph\":{\"id\":\"2502\"},\"hover_glyph\":null,\"muted_glyph\":null,\"nonselection_glyph\":{\"id\":\"2503\"},\"selection_glyph\":null,\"view\":{\"id\":\"2505\"}},\"id\":\"2504\",\"type\":\"GlyphRenderer\"},{\"attributes\":{\"axis\":{\"id\":\"2483\"},\"dimension\":1,\"ticker\":null},\"id\":\"2486\",\"type\":\"Grid\"},{\"attributes\":{},\"id\":\"2480\",\"type\":\"BasicTicker\"},{\"attributes\":{\"source\":{\"id\":\"2501\"}},\"id\":\"2505\",\"type\":\"CDSView\"},{\"attributes\":{\"line_alpha\":0.1,\"line_color\":\"#1f77b4\",\"x\":{\"field\":\"x\"},\"y\":{\"field\":\"y\"}},\"id\":\"2503\",\"type\":\"Line\"},{\"attributes\":{\"axis\":{\"id\":\"2479\"},\"ticker\":null},\"id\":\"2482\",\"type\":\"Grid\"},{\"attributes\":{},\"id\":\"2471\",\"type\":\"DataRange1d\"},{\"attributes\":{},\"id\":\"2490\",\"type\":\"SaveTool\"},{\"attributes\":{\"bottom_units\":\"screen\",\"fill_alpha\":0.5,\"fill_color\":\"lightgrey\",\"left_units\":\"screen\",\"level\":\"overlay\",\"line_alpha\":1.0,\"line_color\":\"black\",\"line_dash\":[4,4],\"line_width\":2,\"right_units\":\"screen\",\"top_units\":\"screen\"},\"id\":\"2493\",\"type\":\"BoxAnnotation\"},{\"attributes\":{},\"id\":\"2488\",\"type\":\"WheelZoomTool\"},{\"attributes\":{},\"id\":\"2484\",\"type\":\"BasicTicker\"}],\"root_ids\":[\"2470\"]},\"title\":\"Bokeh Application\",\"version\":\"2.2.3\"}};\n",
       "  var render_items = [{\"docid\":\"4eaa4268-e192-4577-9f7e-c875100190ef\",\"root_ids\":[\"2470\"],\"roots\":{\"2470\":\"86796284-43ef-4602-8332-f2fc8fb1af81\"}}];\n",
       "  root.Bokeh.embed.embed_items_notebook(docs_json, render_items);\n",
       "\n",
       "  }\n",
       "  if (root.Bokeh !== undefined) {\n",
       "    embed_document(root);\n",
       "  } else {\n",
       "    var attempts = 0;\n",
       "    var timer = setInterval(function(root) {\n",
       "      if (root.Bokeh !== undefined) {\n",
       "        clearInterval(timer);\n",
       "        embed_document(root);\n",
       "      } else {\n",
       "        attempts++;\n",
       "        if (attempts > 100) {\n",
       "          clearInterval(timer);\n",
       "          console.log(\"Bokeh: ERROR: Unable to run BokehJS code because BokehJS library is missing\");\n",
       "        }\n",
       "      }\n",
       "    }, 10, root)\n",
       "  }\n",
       "})(window);"
      ],
      "application/vnd.bokehjs_exec.v0+json": ""
     },
     "metadata": {
      "application/vnd.bokehjs_exec.v0+json": {
       "id": "2470"
      }
     },
     "output_type": "display_data"
    }
   ],
   "source": [
    "p = figure(plot_width=400, plot_height=400)\n",
    "x = [1, 2, 3, 4, 5]\n",
    "y = [6, 7, 2, 4, 5]\n",
    "\n",
    "# add a line renderer\n",
    "p.line(x ,y)\n",
    "show(p)"
   ]
  },
  {
   "cell_type": "markdown",
   "metadata": {},
   "source": [
    "And just like that we have a line, you can change different properties of the line glyph, like\n",
    "`line_width=3`, `color='green'` etc like this\n",
    "\n",
    "Missing Points\n",
    "NaN values can be passed to line() glyphs. In that case, you end up with multiple disjoint components when rendered:\n",
    "Like this"
   ]
  },
  {
   "cell_type": "code",
   "execution_count": 10,
   "metadata": {},
   "outputs": [
    {
     "data": {
      "text/html": [
       "\n",
       "\n",
       "\n",
       "\n",
       "\n",
       "\n",
       "  <div class=\"bk-root\" id=\"3acd8428-7328-4438-8472-388cbad00ff7\" data-root-id=\"2672\"></div>\n"
      ]
     },
     "metadata": {},
     "output_type": "display_data"
    },
    {
     "data": {
      "application/javascript": [
       "(function(root) {\n",
       "  function embed_document(root) {\n",
       "    \n",
       "  var docs_json = {\"b84ff97b-6a50-41d1-8aa7-9795c4f13ddb\":{\"roots\":{\"references\":[{\"attributes\":{\"below\":[{\"id\":\"2681\"}],\"center\":[{\"id\":\"2684\"},{\"id\":\"2688\"}],\"left\":[{\"id\":\"2685\"}],\"plot_height\":400,\"plot_width\":400,\"renderers\":[{\"id\":\"2706\"}],\"title\":{\"id\":\"2829\"},\"toolbar\":{\"id\":\"2696\"},\"x_range\":{\"id\":\"2673\"},\"x_scale\":{\"id\":\"2677\"},\"y_range\":{\"id\":\"2675\"},\"y_scale\":{\"id\":\"2679\"}},\"id\":\"2672\",\"subtype\":\"Figure\",\"type\":\"Plot\"},{\"attributes\":{\"axis\":{\"id\":\"2685\"},\"dimension\":1,\"ticker\":null},\"id\":\"2688\",\"type\":\"Grid\"},{\"attributes\":{},\"id\":\"2693\",\"type\":\"ResetTool\"},{\"attributes\":{},\"id\":\"2694\",\"type\":\"HelpTool\"},{\"attributes\":{\"source\":{\"id\":\"2703\"}},\"id\":\"2707\",\"type\":\"CDSView\"},{\"attributes\":{},\"id\":\"2692\",\"type\":\"SaveTool\"},{\"attributes\":{},\"id\":\"2682\",\"type\":\"BasicTicker\"},{\"attributes\":{\"bottom_units\":\"screen\",\"fill_alpha\":0.5,\"fill_color\":\"lightgrey\",\"left_units\":\"screen\",\"level\":\"overlay\",\"line_alpha\":1.0,\"line_color\":\"black\",\"line_dash\":[4,4],\"line_width\":2,\"right_units\":\"screen\",\"top_units\":\"screen\"},\"id\":\"2695\",\"type\":\"BoxAnnotation\"},{\"attributes\":{\"line_alpha\":0.1,\"line_color\":\"green\",\"line_width\":2,\"x\":{\"field\":\"x\"},\"y\":{\"field\":\"y\"}},\"id\":\"2705\",\"type\":\"Line\"},{\"attributes\":{},\"id\":\"2679\",\"type\":\"LinearScale\"},{\"attributes\":{\"formatter\":{\"id\":\"2833\"},\"ticker\":{\"id\":\"2682\"}},\"id\":\"2681\",\"type\":\"LinearAxis\"},{\"attributes\":{},\"id\":\"2689\",\"type\":\"PanTool\"},{\"attributes\":{},\"id\":\"2677\",\"type\":\"LinearScale\"},{\"attributes\":{\"text\":\"\"},\"id\":\"2829\",\"type\":\"Title\"},{\"attributes\":{},\"id\":\"2675\",\"type\":\"DataRange1d\"},{\"attributes\":{},\"id\":\"2833\",\"type\":\"BasicTickFormatter\"},{\"attributes\":{\"line_color\":\"green\",\"line_width\":2,\"x\":{\"field\":\"x\"},\"y\":{\"field\":\"y\"}},\"id\":\"2704\",\"type\":\"Line\"},{\"attributes\":{},\"id\":\"2836\",\"type\":\"Selection\"},{\"attributes\":{},\"id\":\"2673\",\"type\":\"DataRange1d\"},{\"attributes\":{},\"id\":\"2831\",\"type\":\"BasicTickFormatter\"},{\"attributes\":{\"axis\":{\"id\":\"2681\"},\"ticker\":null},\"id\":\"2684\",\"type\":\"Grid\"},{\"attributes\":{\"formatter\":{\"id\":\"2831\"},\"ticker\":{\"id\":\"2686\"}},\"id\":\"2685\",\"type\":\"LinearAxis\"},{\"attributes\":{\"data_source\":{\"id\":\"2703\"},\"glyph\":{\"id\":\"2704\"},\"hover_glyph\":null,\"muted_glyph\":null,\"nonselection_glyph\":{\"id\":\"2705\"},\"selection_glyph\":null,\"view\":{\"id\":\"2707\"}},\"id\":\"2706\",\"type\":\"GlyphRenderer\"},{\"attributes\":{},\"id\":\"2837\",\"type\":\"UnionRenderers\"},{\"attributes\":{\"active_drag\":\"auto\",\"active_inspect\":\"auto\",\"active_multi\":null,\"active_scroll\":\"auto\",\"active_tap\":\"auto\",\"tools\":[{\"id\":\"2689\"},{\"id\":\"2690\"},{\"id\":\"2691\"},{\"id\":\"2692\"},{\"id\":\"2693\"},{\"id\":\"2694\"}]},\"id\":\"2696\",\"type\":\"Toolbar\"},{\"attributes\":{\"overlay\":{\"id\":\"2695\"}},\"id\":\"2691\",\"type\":\"BoxZoomTool\"},{\"attributes\":{},\"id\":\"2686\",\"type\":\"BasicTicker\"},{\"attributes\":{},\"id\":\"2690\",\"type\":\"WheelZoomTool\"},{\"attributes\":{\"data\":{\"x\":[1,2,3,\"NaN\",4,5],\"y\":[6,7,2,4,4,5]},\"selected\":{\"id\":\"2836\"},\"selection_policy\":{\"id\":\"2837\"}},\"id\":\"2703\",\"type\":\"ColumnDataSource\"}],\"root_ids\":[\"2672\"]},\"title\":\"Bokeh Application\",\"version\":\"2.2.3\"}};\n",
       "  var render_items = [{\"docid\":\"b84ff97b-6a50-41d1-8aa7-9795c4f13ddb\",\"root_ids\":[\"2672\"],\"roots\":{\"2672\":\"3acd8428-7328-4438-8472-388cbad00ff7\"}}];\n",
       "  root.Bokeh.embed.embed_items_notebook(docs_json, render_items);\n",
       "\n",
       "  }\n",
       "  if (root.Bokeh !== undefined) {\n",
       "    embed_document(root);\n",
       "  } else {\n",
       "    var attempts = 0;\n",
       "    var timer = setInterval(function(root) {\n",
       "      if (root.Bokeh !== undefined) {\n",
       "        clearInterval(timer);\n",
       "        embed_document(root);\n",
       "      } else {\n",
       "        attempts++;\n",
       "        if (attempts > 100) {\n",
       "          clearInterval(timer);\n",
       "          console.log(\"Bokeh: ERROR: Unable to run BokehJS code because BokehJS library is missing\");\n",
       "        }\n",
       "      }\n",
       "    }, 10, root)\n",
       "  }\n",
       "})(window);"
      ],
      "application/vnd.bokehjs_exec.v0+json": ""
     },
     "metadata": {
      "application/vnd.bokehjs_exec.v0+json": {
       "id": "2672"
      }
     },
     "output_type": "display_data"
    }
   ],
   "source": [
    "p = figure(plot_width=400, plot_height=400)\n",
    "\n",
    "# add a line renderer with a NaN\n",
    "nan = float('nan')\n",
    "p.line([1, 2, 3, nan, 4, 5], [6, 7, 2, 4, 4, 5], line_width=2, color='green')\n",
    "\n",
    "show(p)"
   ]
  },
  {
   "cell_type": "markdown",
   "metadata": {},
   "source": [
    "<a id = \"6\"></a>\n",
    "### Stacked Lines\n",
    "In some instances, it is desirable to stack lines that are aligned on a common index (e.g. time series of percentages). The vline_stack() and hline_stack() convenience methods can be used to accomplish this. Note that these methods stack columns from an explicitly supplied ColumnDataSource (More about ColumnDataSource Later)"
   ]
  },
  {
   "cell_type": "code",
   "execution_count": 11,
   "metadata": {},
   "outputs": [
    {
     "data": {
      "text/html": [
       "\n",
       "\n",
       "\n",
       "\n",
       "\n",
       "\n",
       "  <div class=\"bk-root\" id=\"fada284d-2c36-465c-803f-50782d8dab18\" data-root-id=\"2884\"></div>\n"
      ]
     },
     "metadata": {},
     "output_type": "display_data"
    },
    {
     "data": {
      "application/javascript": [
       "(function(root) {\n",
       "  function embed_document(root) {\n",
       "    \n",
       "  var docs_json = {\"069f6305-6fd7-4cda-960d-2abe3016663f\":{\"roots\":{\"references\":[{\"attributes\":{\"below\":[{\"id\":\"2893\"}],\"center\":[{\"id\":\"2896\"},{\"id\":\"2900\"}],\"left\":[{\"id\":\"2897\"}],\"plot_height\":400,\"plot_width\":400,\"renderers\":[{\"id\":\"2920\"},{\"id\":\"2925\"}],\"title\":{\"id\":\"3057\"},\"toolbar\":{\"id\":\"2908\"},\"x_range\":{\"id\":\"2885\"},\"x_scale\":{\"id\":\"2889\"},\"y_range\":{\"id\":\"2887\"},\"y_scale\":{\"id\":\"2891\"}},\"id\":\"2884\",\"subtype\":\"Figure\",\"type\":\"Plot\"},{\"attributes\":{},\"id\":\"3065\",\"type\":\"UnionRenderers\"},{\"attributes\":{\"line_color\":\"#1f77b4\",\"x\":{\"field\":\"x\"},\"y\":{\"expr\":{\"id\":\"2915\"}}},\"id\":\"2918\",\"type\":\"Line\"},{\"attributes\":{\"bottom_units\":\"screen\",\"fill_alpha\":0.5,\"fill_color\":\"lightgrey\",\"left_units\":\"screen\",\"level\":\"overlay\",\"line_alpha\":1.0,\"line_color\":\"black\",\"line_dash\":[4,4],\"line_width\":2,\"right_units\":\"screen\",\"top_units\":\"screen\"},\"id\":\"2907\",\"type\":\"BoxAnnotation\"},{\"attributes\":{},\"id\":\"3061\",\"type\":\"BasicTickFormatter\"},{\"attributes\":{},\"id\":\"3064\",\"type\":\"Selection\"},{\"attributes\":{\"active_drag\":\"auto\",\"active_inspect\":\"auto\",\"active_multi\":null,\"active_scroll\":\"auto\",\"active_tap\":\"auto\",\"tools\":[{\"id\":\"2901\"},{\"id\":\"2902\"},{\"id\":\"2903\"},{\"id\":\"2904\"},{\"id\":\"2905\"},{\"id\":\"2906\"}]},\"id\":\"2908\",\"type\":\"Toolbar\"},{\"attributes\":{},\"id\":\"2901\",\"type\":\"PanTool\"},{\"attributes\":{\"formatter\":{\"id\":\"3059\"},\"ticker\":{\"id\":\"2898\"}},\"id\":\"2897\",\"type\":\"LinearAxis\"},{\"attributes\":{\"line_alpha\":0.1,\"line_color\":\"#1f77b4\",\"x\":{\"field\":\"x\"},\"y\":{\"expr\":{\"id\":\"2915\"}}},\"id\":\"2919\",\"type\":\"Line\"},{\"attributes\":{},\"id\":\"2902\",\"type\":\"WheelZoomTool\"},{\"attributes\":{\"source\":{\"id\":\"2883\"}},\"id\":\"2921\",\"type\":\"CDSView\"},{\"attributes\":{\"overlay\":{\"id\":\"2907\"}},\"id\":\"2903\",\"type\":\"BoxZoomTool\"},{\"attributes\":{},\"id\":\"2889\",\"type\":\"LinearScale\"},{\"attributes\":{\"data_source\":{\"id\":\"2883\"},\"glyph\":{\"id\":\"2918\"},\"hover_glyph\":null,\"muted_glyph\":null,\"name\":\"y1\",\"nonselection_glyph\":{\"id\":\"2919\"},\"selection_glyph\":null,\"view\":{\"id\":\"2921\"}},\"id\":\"2920\",\"type\":\"GlyphRenderer\"},{\"attributes\":{},\"id\":\"2904\",\"type\":\"SaveTool\"},{\"attributes\":{},\"id\":\"2905\",\"type\":\"ResetTool\"},{\"attributes\":{},\"id\":\"2891\",\"type\":\"LinearScale\"},{\"attributes\":{\"fields\":[\"y1\",\"y2\"]},\"id\":\"2916\",\"type\":\"Stack\"},{\"attributes\":{\"text\":\"\"},\"id\":\"3057\",\"type\":\"Title\"},{\"attributes\":{},\"id\":\"2885\",\"type\":\"DataRange1d\"},{\"attributes\":{},\"id\":\"2906\",\"type\":\"HelpTool\"},{\"attributes\":{\"data\":{\"x\":[1,2,3,4,5],\"y1\":[1,2,4,3,4],\"y2\":[1,4,2,2,3]},\"selected\":{\"id\":\"3064\"},\"selection_policy\":{\"id\":\"3065\"}},\"id\":\"2883\",\"type\":\"ColumnDataSource\"},{\"attributes\":{\"line_alpha\":0.1,\"line_color\":\"#1f77b4\",\"x\":{\"field\":\"x\"},\"y\":{\"expr\":{\"id\":\"2916\"}}},\"id\":\"2924\",\"type\":\"Line\"},{\"attributes\":{\"line_color\":\"#1f77b4\",\"x\":{\"field\":\"x\"},\"y\":{\"expr\":{\"id\":\"2916\"}}},\"id\":\"2923\",\"type\":\"Line\"},{\"attributes\":{\"fields\":[\"y1\"]},\"id\":\"2915\",\"type\":\"Stack\"},{\"attributes\":{},\"id\":\"3059\",\"type\":\"BasicTickFormatter\"},{\"attributes\":{},\"id\":\"2898\",\"type\":\"BasicTicker\"},{\"attributes\":{\"axis\":{\"id\":\"2893\"},\"ticker\":null},\"id\":\"2896\",\"type\":\"Grid\"},{\"attributes\":{\"axis\":{\"id\":\"2897\"},\"dimension\":1,\"ticker\":null},\"id\":\"2900\",\"type\":\"Grid\"},{\"attributes\":{\"formatter\":{\"id\":\"3061\"},\"ticker\":{\"id\":\"2894\"}},\"id\":\"2893\",\"type\":\"LinearAxis\"},{\"attributes\":{\"source\":{\"id\":\"2883\"}},\"id\":\"2926\",\"type\":\"CDSView\"},{\"attributes\":{},\"id\":\"2887\",\"type\":\"DataRange1d\"},{\"attributes\":{},\"id\":\"2894\",\"type\":\"BasicTicker\"},{\"attributes\":{\"data_source\":{\"id\":\"2883\"},\"glyph\":{\"id\":\"2923\"},\"hover_glyph\":null,\"muted_glyph\":null,\"name\":\"y2\",\"nonselection_glyph\":{\"id\":\"2924\"},\"selection_glyph\":null,\"view\":{\"id\":\"2926\"}},\"id\":\"2925\",\"type\":\"GlyphRenderer\"}],\"root_ids\":[\"2884\"]},\"title\":\"Bokeh Application\",\"version\":\"2.2.3\"}};\n",
       "  var render_items = [{\"docid\":\"069f6305-6fd7-4cda-960d-2abe3016663f\",\"root_ids\":[\"2884\"],\"roots\":{\"2884\":\"fada284d-2c36-465c-803f-50782d8dab18\"}}];\n",
       "  root.Bokeh.embed.embed_items_notebook(docs_json, render_items);\n",
       "\n",
       "  }\n",
       "  if (root.Bokeh !== undefined) {\n",
       "    embed_document(root);\n",
       "  } else {\n",
       "    var attempts = 0;\n",
       "    var timer = setInterval(function(root) {\n",
       "      if (root.Bokeh !== undefined) {\n",
       "        clearInterval(timer);\n",
       "        embed_document(root);\n",
       "      } else {\n",
       "        attempts++;\n",
       "        if (attempts > 100) {\n",
       "          clearInterval(timer);\n",
       "          console.log(\"Bokeh: ERROR: Unable to run BokehJS code because BokehJS library is missing\");\n",
       "        }\n",
       "      }\n",
       "    }, 10, root)\n",
       "  }\n",
       "})(window);"
      ],
      "application/vnd.bokehjs_exec.v0+json": ""
     },
     "metadata": {
      "application/vnd.bokehjs_exec.v0+json": {
       "id": "2884"
      }
     },
     "output_type": "display_data"
    }
   ],
   "source": [
    "from bokeh.models import ColumnDataSource\n",
    "source = ColumnDataSource(data=dict(\n",
    "    x=[1, 2, 3, 4, 5],\n",
    "    y1=[1, 2, 4, 3, 4],\n",
    "    y2=[1, 4, 2, 2, 3],\n",
    "))\n",
    "p = figure(plot_width=400, plot_height=400)\n",
    "\n",
    "p.vline_stack(['y1', 'y2'], x='x', source=source)\n",
    "\n",
    "show(p)"
   ]
  },
  {
   "cell_type": "markdown",
   "metadata": {},
   "source": [
    "<a id = \"7\"></a>\n",
    "## Bars\n",
    "Bokeh provides the hbar() and vbar() glyphs function.\n",
    "\n",
    "To draw vertical bars specify a (center) x-coordinate, width, and top and bottom endpoints, use the vbar() glyph function:"
   ]
  },
  {
   "cell_type": "code",
   "execution_count": 12,
   "metadata": {},
   "outputs": [
    {
     "data": {
      "text/html": [
       "\n",
       "\n",
       "\n",
       "\n",
       "\n",
       "\n",
       "  <div class=\"bk-root\" id=\"2263f716-2ea0-47f5-ae38-b4432beed31b\" data-root-id=\"3111\"></div>\n"
      ]
     },
     "metadata": {},
     "output_type": "display_data"
    },
    {
     "data": {
      "application/javascript": [
       "(function(root) {\n",
       "  function embed_document(root) {\n",
       "    \n",
       "  var docs_json = {\"1a0bb5f2-80e5-4adc-8cfb-13c3deb1bdd9\":{\"roots\":{\"references\":[{\"attributes\":{\"below\":[{\"id\":\"3120\"}],\"center\":[{\"id\":\"3123\"},{\"id\":\"3127\"}],\"left\":[{\"id\":\"3124\"}],\"plot_height\":400,\"plot_width\":400,\"renderers\":[{\"id\":\"3145\"}],\"title\":{\"id\":\"3286\"},\"toolbar\":{\"id\":\"3135\"},\"x_range\":{\"id\":\"3112\"},\"x_scale\":{\"id\":\"3116\"},\"y_range\":{\"id\":\"3114\"},\"y_scale\":{\"id\":\"3118\"}},\"id\":\"3111\",\"subtype\":\"Figure\",\"type\":\"Plot\"},{\"attributes\":{\"axis\":{\"id\":\"3120\"},\"ticker\":null},\"id\":\"3123\",\"type\":\"Grid\"},{\"attributes\":{\"bottom_units\":\"screen\",\"fill_alpha\":0.5,\"fill_color\":\"lightgrey\",\"left_units\":\"screen\",\"level\":\"overlay\",\"line_alpha\":1.0,\"line_color\":\"black\",\"line_dash\":[4,4],\"line_width\":2,\"right_units\":\"screen\",\"top_units\":\"screen\"},\"id\":\"3134\",\"type\":\"BoxAnnotation\"},{\"attributes\":{},\"id\":\"3293\",\"type\":\"Selection\"},{\"attributes\":{\"formatter\":{\"id\":\"3290\"},\"ticker\":{\"id\":\"3121\"}},\"id\":\"3120\",\"type\":\"LinearAxis\"},{\"attributes\":{},\"id\":\"3133\",\"type\":\"HelpTool\"},{\"attributes\":{},\"id\":\"3121\",\"type\":\"BasicTicker\"},{\"attributes\":{\"fill_alpha\":{\"value\":0.1},\"fill_color\":{\"value\":\"firebrick\"},\"line_alpha\":{\"value\":0.1},\"line_color\":{\"value\":\"firebrick\"},\"top\":{\"field\":\"top\"},\"width\":{\"value\":0.5},\"x\":{\"field\":\"x\"}},\"id\":\"3144\",\"type\":\"VBar\"},{\"attributes\":{},\"id\":\"3125\",\"type\":\"BasicTicker\"},{\"attributes\":{\"source\":{\"id\":\"3142\"}},\"id\":\"3146\",\"type\":\"CDSView\"},{\"attributes\":{\"axis\":{\"id\":\"3124\"},\"dimension\":1,\"ticker\":null},\"id\":\"3127\",\"type\":\"Grid\"},{\"attributes\":{},\"id\":\"3118\",\"type\":\"LinearScale\"},{\"attributes\":{\"formatter\":{\"id\":\"3288\"},\"ticker\":{\"id\":\"3125\"}},\"id\":\"3124\",\"type\":\"LinearAxis\"},{\"attributes\":{\"data_source\":{\"id\":\"3142\"},\"glyph\":{\"id\":\"3143\"},\"hover_glyph\":null,\"muted_glyph\":null,\"nonselection_glyph\":{\"id\":\"3144\"},\"selection_glyph\":null,\"view\":{\"id\":\"3146\"}},\"id\":\"3145\",\"type\":\"GlyphRenderer\"},{\"attributes\":{},\"id\":\"3288\",\"type\":\"BasicTickFormatter\"},{\"attributes\":{},\"id\":\"3116\",\"type\":\"LinearScale\"},{\"attributes\":{\"active_drag\":\"auto\",\"active_inspect\":\"auto\",\"active_multi\":null,\"active_scroll\":\"auto\",\"active_tap\":\"auto\",\"tools\":[{\"id\":\"3128\"},{\"id\":\"3129\"},{\"id\":\"3130\"},{\"id\":\"3131\"},{\"id\":\"3132\"},{\"id\":\"3133\"}]},\"id\":\"3135\",\"type\":\"Toolbar\"},{\"attributes\":{},\"id\":\"3132\",\"type\":\"ResetTool\"},{\"attributes\":{},\"id\":\"3114\",\"type\":\"DataRange1d\"},{\"attributes\":{\"fill_color\":{\"value\":\"firebrick\"},\"line_color\":{\"value\":\"firebrick\"},\"top\":{\"field\":\"top\"},\"width\":{\"value\":0.5},\"x\":{\"field\":\"x\"}},\"id\":\"3143\",\"type\":\"VBar\"},{\"attributes\":{},\"id\":\"3112\",\"type\":\"DataRange1d\"},{\"attributes\":{},\"id\":\"3131\",\"type\":\"SaveTool\"},{\"attributes\":{},\"id\":\"3290\",\"type\":\"BasicTickFormatter\"},{\"attributes\":{\"overlay\":{\"id\":\"3134\"}},\"id\":\"3130\",\"type\":\"BoxZoomTool\"},{\"attributes\":{\"text\":\"\"},\"id\":\"3286\",\"type\":\"Title\"},{\"attributes\":{\"data\":{\"top\":[1.2,2.5,3.7],\"x\":[1,2,3]},\"selected\":{\"id\":\"3293\"},\"selection_policy\":{\"id\":\"3294\"}},\"id\":\"3142\",\"type\":\"ColumnDataSource\"},{\"attributes\":{},\"id\":\"3129\",\"type\":\"WheelZoomTool\"},{\"attributes\":{},\"id\":\"3128\",\"type\":\"PanTool\"},{\"attributes\":{},\"id\":\"3294\",\"type\":\"UnionRenderers\"}],\"root_ids\":[\"3111\"]},\"title\":\"Bokeh Application\",\"version\":\"2.2.3\"}};\n",
       "  var render_items = [{\"docid\":\"1a0bb5f2-80e5-4adc-8cfb-13c3deb1bdd9\",\"root_ids\":[\"3111\"],\"roots\":{\"3111\":\"2263f716-2ea0-47f5-ae38-b4432beed31b\"}}];\n",
       "  root.Bokeh.embed.embed_items_notebook(docs_json, render_items);\n",
       "\n",
       "  }\n",
       "  if (root.Bokeh !== undefined) {\n",
       "    embed_document(root);\n",
       "  } else {\n",
       "    var attempts = 0;\n",
       "    var timer = setInterval(function(root) {\n",
       "      if (root.Bokeh !== undefined) {\n",
       "        clearInterval(timer);\n",
       "        embed_document(root);\n",
       "      } else {\n",
       "        attempts++;\n",
       "        if (attempts > 100) {\n",
       "          clearInterval(timer);\n",
       "          console.log(\"Bokeh: ERROR: Unable to run BokehJS code because BokehJS library is missing\");\n",
       "        }\n",
       "      }\n",
       "    }, 10, root)\n",
       "  }\n",
       "})(window);"
      ],
      "application/vnd.bokehjs_exec.v0+json": ""
     },
     "metadata": {
      "application/vnd.bokehjs_exec.v0+json": {
       "id": "3111"
      }
     },
     "output_type": "display_data"
    }
   ],
   "source": [
    "p = figure(plot_width=400, plot_height=400)\n",
    "p.vbar(x=[1, 2, 3], width=0.5, bottom=0,\n",
    "       top=[1.2, 2.5, 3.7], color=\"firebrick\")\n",
    "\n",
    "show(p)"
   ]
  },
  {
   "cell_type": "markdown",
   "metadata": {},
   "source": [
    "To draw horizontal bars by specifying a (center) y-coordinate, height, and left and right endpoints, use the hbar() glyph function:"
   ]
  },
  {
   "cell_type": "code",
   "execution_count": 13,
   "metadata": {},
   "outputs": [
    {
     "data": {
      "text/html": [
       "\n",
       "\n",
       "\n",
       "\n",
       "\n",
       "\n",
       "  <div class=\"bk-root\" id=\"c78d04e7-59dd-456d-845d-445c10061af3\" data-root-id=\"3340\"></div>\n"
      ]
     },
     "metadata": {},
     "output_type": "display_data"
    },
    {
     "data": {
      "application/javascript": [
       "(function(root) {\n",
       "  function embed_document(root) {\n",
       "    \n",
       "  var docs_json = {\"578e62cb-56b6-4a5a-a644-f57d54160f4c\":{\"roots\":{\"references\":[{\"attributes\":{\"below\":[{\"id\":\"3349\"}],\"center\":[{\"id\":\"3352\"},{\"id\":\"3356\"}],\"left\":[{\"id\":\"3353\"}],\"plot_height\":400,\"plot_width\":400,\"renderers\":[{\"id\":\"3374\"}],\"title\":{\"id\":\"3524\"},\"toolbar\":{\"id\":\"3364\"},\"x_range\":{\"id\":\"3341\"},\"x_scale\":{\"id\":\"3345\"},\"y_range\":{\"id\":\"3343\"},\"y_scale\":{\"id\":\"3347\"}},\"id\":\"3340\",\"subtype\":\"Figure\",\"type\":\"Plot\"},{\"attributes\":{\"text\":\"\"},\"id\":\"3524\",\"type\":\"Title\"},{\"attributes\":{},\"id\":\"3362\",\"type\":\"HelpTool\"},{\"attributes\":{\"fill_color\":{\"value\":\"navy\"},\"height\":{\"value\":0.5},\"line_color\":{\"value\":\"navy\"},\"right\":{\"field\":\"right\"},\"y\":{\"field\":\"y\"}},\"id\":\"3372\",\"type\":\"HBar\"},{\"attributes\":{},\"id\":\"3347\",\"type\":\"LinearScale\"},{\"attributes\":{\"formatter\":{\"id\":\"3528\"},\"ticker\":{\"id\":\"3350\"}},\"id\":\"3349\",\"type\":\"LinearAxis\"},{\"attributes\":{},\"id\":\"3354\",\"type\":\"BasicTicker\"},{\"attributes\":{},\"id\":\"3350\",\"type\":\"BasicTicker\"},{\"attributes\":{},\"id\":\"3528\",\"type\":\"BasicTickFormatter\"},{\"attributes\":{\"axis\":{\"id\":\"3349\"},\"ticker\":null},\"id\":\"3352\",\"type\":\"Grid\"},{\"attributes\":{\"data\":{\"right\":[1.2,2.5,3.7],\"y\":[1,2,3]},\"selected\":{\"id\":\"3531\"},\"selection_policy\":{\"id\":\"3532\"}},\"id\":\"3371\",\"type\":\"ColumnDataSource\"},{\"attributes\":{\"axis\":{\"id\":\"3353\"},\"dimension\":1,\"ticker\":null},\"id\":\"3356\",\"type\":\"Grid\"},{\"attributes\":{},\"id\":\"3526\",\"type\":\"BasicTickFormatter\"},{\"attributes\":{\"formatter\":{\"id\":\"3526\"},\"ticker\":{\"id\":\"3354\"}},\"id\":\"3353\",\"type\":\"LinearAxis\"},{\"attributes\":{},\"id\":\"3341\",\"type\":\"DataRange1d\"},{\"attributes\":{},\"id\":\"3532\",\"type\":\"UnionRenderers\"},{\"attributes\":{},\"id\":\"3531\",\"type\":\"Selection\"},{\"attributes\":{\"source\":{\"id\":\"3371\"}},\"id\":\"3375\",\"type\":\"CDSView\"},{\"attributes\":{\"fill_alpha\":{\"value\":0.1},\"fill_color\":{\"value\":\"navy\"},\"height\":{\"value\":0.5},\"line_alpha\":{\"value\":0.1},\"line_color\":{\"value\":\"navy\"},\"right\":{\"field\":\"right\"},\"y\":{\"field\":\"y\"}},\"id\":\"3373\",\"type\":\"HBar\"},{\"attributes\":{},\"id\":\"3343\",\"type\":\"DataRange1d\"},{\"attributes\":{\"data_source\":{\"id\":\"3371\"},\"glyph\":{\"id\":\"3372\"},\"hover_glyph\":null,\"muted_glyph\":null,\"nonselection_glyph\":{\"id\":\"3373\"},\"selection_glyph\":null,\"view\":{\"id\":\"3375\"}},\"id\":\"3374\",\"type\":\"GlyphRenderer\"},{\"attributes\":{},\"id\":\"3357\",\"type\":\"PanTool\"},{\"attributes\":{\"bottom_units\":\"screen\",\"fill_alpha\":0.5,\"fill_color\":\"lightgrey\",\"left_units\":\"screen\",\"level\":\"overlay\",\"line_alpha\":1.0,\"line_color\":\"black\",\"line_dash\":[4,4],\"line_width\":2,\"right_units\":\"screen\",\"top_units\":\"screen\"},\"id\":\"3363\",\"type\":\"BoxAnnotation\"},{\"attributes\":{},\"id\":\"3358\",\"type\":\"WheelZoomTool\"},{\"attributes\":{\"active_drag\":\"auto\",\"active_inspect\":\"auto\",\"active_multi\":null,\"active_scroll\":\"auto\",\"active_tap\":\"auto\",\"tools\":[{\"id\":\"3357\"},{\"id\":\"3358\"},{\"id\":\"3359\"},{\"id\":\"3360\"},{\"id\":\"3361\"},{\"id\":\"3362\"}]},\"id\":\"3364\",\"type\":\"Toolbar\"},{\"attributes\":{\"overlay\":{\"id\":\"3363\"}},\"id\":\"3359\",\"type\":\"BoxZoomTool\"},{\"attributes\":{},\"id\":\"3345\",\"type\":\"LinearScale\"},{\"attributes\":{},\"id\":\"3360\",\"type\":\"SaveTool\"},{\"attributes\":{},\"id\":\"3361\",\"type\":\"ResetTool\"}],\"root_ids\":[\"3340\"]},\"title\":\"Bokeh Application\",\"version\":\"2.2.3\"}};\n",
       "  var render_items = [{\"docid\":\"578e62cb-56b6-4a5a-a644-f57d54160f4c\",\"root_ids\":[\"3340\"],\"roots\":{\"3340\":\"c78d04e7-59dd-456d-845d-445c10061af3\"}}];\n",
       "  root.Bokeh.embed.embed_items_notebook(docs_json, render_items);\n",
       "\n",
       "  }\n",
       "  if (root.Bokeh !== undefined) {\n",
       "    embed_document(root);\n",
       "  } else {\n",
       "    var attempts = 0;\n",
       "    var timer = setInterval(function(root) {\n",
       "      if (root.Bokeh !== undefined) {\n",
       "        clearInterval(timer);\n",
       "        embed_document(root);\n",
       "      } else {\n",
       "        attempts++;\n",
       "        if (attempts > 100) {\n",
       "          clearInterval(timer);\n",
       "          console.log(\"Bokeh: ERROR: Unable to run BokehJS code because BokehJS library is missing\");\n",
       "        }\n",
       "      }\n",
       "    }, 10, root)\n",
       "  }\n",
       "})(window);"
      ],
      "application/vnd.bokehjs_exec.v0+json": ""
     },
     "metadata": {
      "application/vnd.bokehjs_exec.v0+json": {
       "id": "3340"
      }
     },
     "output_type": "display_data"
    }
   ],
   "source": [
    "p = figure(plot_width=400, plot_height=400)\n",
    "p.hbar(y=[1, 2, 3], height=0.5, left=0,\n",
    "       right=[1.2, 2.5, 3.7], color=\"navy\")\n",
    "\n",
    "show(p)"
   ]
  },
  {
   "cell_type": "markdown",
   "metadata": {},
   "source": [
    "<a id = \"8\"></a>\n",
    "### Stacked Bars\n",
    "It is often desirable to stack bars. This can be accomplished with the vbar_stack() and hbar_stack() convenience methods. Note the these methods stack columns from an explicitly supplied ColumnDataSource (More about ColumnDataSource Later)."
   ]
  },
  {
   "cell_type": "code",
   "execution_count": 14,
   "metadata": {},
   "outputs": [
    {
     "data": {
      "text/html": [
       "\n",
       "\n",
       "\n",
       "\n",
       "\n",
       "\n",
       "  <div class=\"bk-root\" id=\"132a4ac5-aeba-4786-8681-ebc8cb8c9093\" data-root-id=\"3579\"></div>\n"
      ]
     },
     "metadata": {},
     "output_type": "display_data"
    },
    {
     "data": {
      "application/javascript": [
       "(function(root) {\n",
       "  function embed_document(root) {\n",
       "    \n",
       "  var docs_json = {\"73b3fc29-da19-4a3d-b451-942318e4cdc5\":{\"roots\":{\"references\":[{\"attributes\":{\"below\":[{\"id\":\"3588\"}],\"center\":[{\"id\":\"3591\"},{\"id\":\"3595\"}],\"left\":[{\"id\":\"3592\"}],\"plot_height\":400,\"plot_width\":400,\"renderers\":[{\"id\":\"3617\"},{\"id\":\"3622\"}],\"title\":{\"id\":\"3781\"},\"toolbar\":{\"id\":\"3603\"},\"x_range\":{\"id\":\"3580\"},\"x_scale\":{\"id\":\"3584\"},\"y_range\":{\"id\":\"3582\"},\"y_scale\":{\"id\":\"3586\"}},\"id\":\"3579\",\"subtype\":\"Figure\",\"type\":\"Plot\"},{\"attributes\":{\"axis\":{\"id\":\"3592\"},\"dimension\":1,\"ticker\":null},\"id\":\"3595\",\"type\":\"Grid\"},{\"attributes\":{\"formatter\":{\"id\":\"3783\"},\"ticker\":{\"id\":\"3593\"}},\"id\":\"3592\",\"type\":\"LinearAxis\"},{\"attributes\":{},\"id\":\"3593\",\"type\":\"BasicTicker\"},{\"attributes\":{\"text\":\"\"},\"id\":\"3781\",\"type\":\"Title\"},{\"attributes\":{\"fill_alpha\":{\"value\":0.1},\"fill_color\":{\"value\":\"lightgrey\"},\"height\":{\"value\":0.8},\"left\":{\"expr\":{\"id\":\"3612\"}},\"line_alpha\":{\"value\":0.1},\"line_color\":{\"value\":\"lightgrey\"},\"right\":{\"expr\":{\"id\":\"3613\"}},\"y\":{\"field\":\"y\"}},\"id\":\"3621\",\"type\":\"HBar\"},{\"attributes\":{\"data_source\":{\"id\":\"3578\"},\"glyph\":{\"id\":\"3615\"},\"hover_glyph\":null,\"muted_glyph\":null,\"name\":\"x1\",\"nonselection_glyph\":{\"id\":\"3616\"},\"selection_glyph\":null,\"view\":{\"id\":\"3618\"}},\"id\":\"3617\",\"type\":\"GlyphRenderer\"},{\"attributes\":{\"source\":{\"id\":\"3578\"}},\"id\":\"3623\",\"type\":\"CDSView\"},{\"attributes\":{},\"id\":\"3586\",\"type\":\"LinearScale\"},{\"attributes\":{\"data\":{\"x1\":[1,2,4,3,4],\"x2\":[1,4,2,2,3],\"y\":[1,2,3,4,5]},\"selected\":{\"id\":\"3788\"},\"selection_policy\":{\"id\":\"3789\"}},\"id\":\"3578\",\"type\":\"ColumnDataSource\"},{\"attributes\":{},\"id\":\"3789\",\"type\":\"UnionRenderers\"},{\"attributes\":{\"data_source\":{\"id\":\"3578\"},\"glyph\":{\"id\":\"3620\"},\"hover_glyph\":null,\"muted_glyph\":null,\"name\":\"x2\",\"nonselection_glyph\":{\"id\":\"3621\"},\"selection_glyph\":null,\"view\":{\"id\":\"3623\"}},\"id\":\"3622\",\"type\":\"GlyphRenderer\"},{\"attributes\":{},\"id\":\"3584\",\"type\":\"LinearScale\"},{\"attributes\":{},\"id\":\"3783\",\"type\":\"BasicTickFormatter\"},{\"attributes\":{\"fields\":[\"x1\"]},\"id\":\"3611\",\"type\":\"Stack\"},{\"attributes\":{\"fields\":[]},\"id\":\"3610\",\"type\":\"Stack\"},{\"attributes\":{},\"id\":\"3788\",\"type\":\"Selection\"},{\"attributes\":{},\"id\":\"3582\",\"type\":\"DataRange1d\"},{\"attributes\":{\"axis\":{\"id\":\"3588\"},\"ticker\":null},\"id\":\"3591\",\"type\":\"Grid\"},{\"attributes\":{},\"id\":\"3596\",\"type\":\"PanTool\"},{\"attributes\":{\"formatter\":{\"id\":\"3785\"},\"ticker\":{\"id\":\"3589\"}},\"id\":\"3588\",\"type\":\"LinearAxis\"},{\"attributes\":{\"bottom_units\":\"screen\",\"fill_alpha\":0.5,\"fill_color\":\"lightgrey\",\"left_units\":\"screen\",\"level\":\"overlay\",\"line_alpha\":1.0,\"line_color\":\"black\",\"line_dash\":[4,4],\"line_width\":2,\"right_units\":\"screen\",\"top_units\":\"screen\"},\"id\":\"3602\",\"type\":\"BoxAnnotation\"},{\"attributes\":{},\"id\":\"3597\",\"type\":\"WheelZoomTool\"},{\"attributes\":{\"active_drag\":\"auto\",\"active_inspect\":\"auto\",\"active_multi\":null,\"active_scroll\":\"auto\",\"active_tap\":\"auto\",\"tools\":[{\"id\":\"3596\"},{\"id\":\"3597\"},{\"id\":\"3598\"},{\"id\":\"3599\"},{\"id\":\"3600\"},{\"id\":\"3601\"}]},\"id\":\"3603\",\"type\":\"Toolbar\"},{\"attributes\":{\"overlay\":{\"id\":\"3602\"}},\"id\":\"3598\",\"type\":\"BoxZoomTool\"},{\"attributes\":{},\"id\":\"3589\",\"type\":\"BasicTicker\"},{\"attributes\":{\"source\":{\"id\":\"3578\"}},\"id\":\"3618\",\"type\":\"CDSView\"},{\"attributes\":{\"fields\":[\"x1\",\"x2\"]},\"id\":\"3613\",\"type\":\"Stack\"},{\"attributes\":{},\"id\":\"3599\",\"type\":\"SaveTool\"},{\"attributes\":{\"fill_color\":{\"value\":\"lightgrey\"},\"height\":{\"value\":0.8},\"left\":{\"expr\":{\"id\":\"3612\"}},\"line_color\":{\"value\":\"lightgrey\"},\"right\":{\"expr\":{\"id\":\"3613\"}},\"y\":{\"field\":\"y\"}},\"id\":\"3620\",\"type\":\"HBar\"},{\"attributes\":{\"fill_color\":{\"value\":\"grey\"},\"height\":{\"value\":0.8},\"left\":{\"expr\":{\"id\":\"3610\"}},\"line_color\":{\"value\":\"grey\"},\"right\":{\"expr\":{\"id\":\"3611\"}},\"y\":{\"field\":\"y\"}},\"id\":\"3615\",\"type\":\"HBar\"},{\"attributes\":{},\"id\":\"3600\",\"type\":\"ResetTool\"},{\"attributes\":{},\"id\":\"3580\",\"type\":\"DataRange1d\"},{\"attributes\":{},\"id\":\"3785\",\"type\":\"BasicTickFormatter\"},{\"attributes\":{\"fill_alpha\":{\"value\":0.1},\"fill_color\":{\"value\":\"grey\"},\"height\":{\"value\":0.8},\"left\":{\"expr\":{\"id\":\"3610\"}},\"line_alpha\":{\"value\":0.1},\"line_color\":{\"value\":\"grey\"},\"right\":{\"expr\":{\"id\":\"3611\"}},\"y\":{\"field\":\"y\"}},\"id\":\"3616\",\"type\":\"HBar\"},{\"attributes\":{\"fields\":[\"x1\"]},\"id\":\"3612\",\"type\":\"Stack\"},{\"attributes\":{},\"id\":\"3601\",\"type\":\"HelpTool\"}],\"root_ids\":[\"3579\"]},\"title\":\"Bokeh Application\",\"version\":\"2.2.3\"}};\n",
       "  var render_items = [{\"docid\":\"73b3fc29-da19-4a3d-b451-942318e4cdc5\",\"root_ids\":[\"3579\"],\"roots\":{\"3579\":\"132a4ac5-aeba-4786-8681-ebc8cb8c9093\"}}];\n",
       "  root.Bokeh.embed.embed_items_notebook(docs_json, render_items);\n",
       "\n",
       "  }\n",
       "  if (root.Bokeh !== undefined) {\n",
       "    embed_document(root);\n",
       "  } else {\n",
       "    var attempts = 0;\n",
       "    var timer = setInterval(function(root) {\n",
       "      if (root.Bokeh !== undefined) {\n",
       "        clearInterval(timer);\n",
       "        embed_document(root);\n",
       "      } else {\n",
       "        attempts++;\n",
       "        if (attempts > 100) {\n",
       "          clearInterval(timer);\n",
       "          console.log(\"Bokeh: ERROR: Unable to run BokehJS code because BokehJS library is missing\");\n",
       "        }\n",
       "      }\n",
       "    }, 10, root)\n",
       "  }\n",
       "})(window);"
      ],
      "application/vnd.bokehjs_exec.v0+json": ""
     },
     "metadata": {
      "application/vnd.bokehjs_exec.v0+json": {
       "id": "3579"
      }
     },
     "output_type": "display_data"
    }
   ],
   "source": [
    "source = ColumnDataSource(data=dict(\n",
    "    y=[1, 2, 3, 4, 5],\n",
    "    x1=[1, 2, 4, 3, 4],\n",
    "    x2=[1, 4, 2, 2, 3],\n",
    "))\n",
    "p = figure(plot_width=400, plot_height=400)\n",
    "\n",
    "p.hbar_stack(['x1', 'x2'], y='y', height=0.8, color=(\"grey\", \"lightgrey\"), source=source)\n",
    "\n",
    "show(p)"
   ]
  },
  {
   "cell_type": "markdown",
   "metadata": {},
   "source": [
    "<a id = \"9\"></a>\n",
    "### Patches\n",
    "With patches you can generate polygonal patch glyph from one dimensional sequences of x and y points using the patch() glyph method:"
   ]
  },
  {
   "cell_type": "code",
   "execution_count": 15,
   "metadata": {},
   "outputs": [
    {
     "data": {
      "text/html": [
       "\n",
       "\n",
       "\n",
       "\n",
       "\n",
       "\n",
       "  <div class=\"bk-root\" id=\"c4703c4b-3ed9-4448-ab82-270f6d7fef4f\" data-root-id=\"3835\"></div>\n"
      ]
     },
     "metadata": {},
     "output_type": "display_data"
    },
    {
     "data": {
      "application/javascript": [
       "(function(root) {\n",
       "  function embed_document(root) {\n",
       "    \n",
       "  var docs_json = {\"2cd39eac-d03d-4d2b-ab59-3223f39d4726\":{\"roots\":{\"references\":[{\"attributes\":{\"below\":[{\"id\":\"3844\"}],\"center\":[{\"id\":\"3847\"},{\"id\":\"3851\"}],\"left\":[{\"id\":\"3848\"}],\"plot_height\":400,\"plot_width\":400,\"renderers\":[{\"id\":\"3869\"}],\"title\":{\"id\":\"4037\"},\"toolbar\":{\"id\":\"3859\"},\"x_range\":{\"id\":\"3836\"},\"x_scale\":{\"id\":\"3840\"},\"y_range\":{\"id\":\"3838\"},\"y_scale\":{\"id\":\"3842\"}},\"id\":\"3835\",\"subtype\":\"Figure\",\"type\":\"Plot\"},{\"attributes\":{\"source\":{\"id\":\"3866\"}},\"id\":\"3870\",\"type\":\"CDSView\"},{\"attributes\":{\"data\":{\"x\":[1,2,3,4,5],\"y\":[6,7,8,7,3]},\"selected\":{\"id\":\"4044\"},\"selection_policy\":{\"id\":\"4045\"}},\"id\":\"3866\",\"type\":\"ColumnDataSource\"},{\"attributes\":{\"fill_alpha\":0.5,\"fill_color\":\"#1f77b4\",\"line_alpha\":0.5,\"line_color\":\"#1f77b4\",\"line_width\":2,\"x\":{\"field\":\"x\"},\"y\":{\"field\":\"y\"}},\"id\":\"3867\",\"type\":\"Patch\"},{\"attributes\":{\"bottom_units\":\"screen\",\"fill_alpha\":0.5,\"fill_color\":\"lightgrey\",\"left_units\":\"screen\",\"level\":\"overlay\",\"line_alpha\":1.0,\"line_color\":\"black\",\"line_dash\":[4,4],\"line_width\":2,\"right_units\":\"screen\",\"top_units\":\"screen\"},\"id\":\"3858\",\"type\":\"BoxAnnotation\"},{\"attributes\":{\"fill_alpha\":0.1,\"fill_color\":\"#1f77b4\",\"line_alpha\":0.1,\"line_color\":\"#1f77b4\",\"line_width\":2,\"x\":{\"field\":\"x\"},\"y\":{\"field\":\"y\"}},\"id\":\"3868\",\"type\":\"Patch\"},{\"attributes\":{\"data_source\":{\"id\":\"3866\"},\"glyph\":{\"id\":\"3867\"},\"hover_glyph\":null,\"muted_glyph\":null,\"nonselection_glyph\":{\"id\":\"3868\"},\"selection_glyph\":null,\"view\":{\"id\":\"3870\"}},\"id\":\"3869\",\"type\":\"GlyphRenderer\"},{\"attributes\":{\"text\":\"\"},\"id\":\"4037\",\"type\":\"Title\"},{\"attributes\":{},\"id\":\"3853\",\"type\":\"WheelZoomTool\"},{\"attributes\":{},\"id\":\"3852\",\"type\":\"PanTool\"},{\"attributes\":{\"axis\":{\"id\":\"3844\"},\"ticker\":null},\"id\":\"3847\",\"type\":\"Grid\"},{\"attributes\":{},\"id\":\"4039\",\"type\":\"BasicTickFormatter\"},{\"attributes\":{\"overlay\":{\"id\":\"3858\"}},\"id\":\"3854\",\"type\":\"BoxZoomTool\"},{\"attributes\":{},\"id\":\"3856\",\"type\":\"ResetTool\"},{\"attributes\":{},\"id\":\"3855\",\"type\":\"SaveTool\"},{\"attributes\":{\"formatter\":{\"id\":\"4039\"},\"ticker\":{\"id\":\"3849\"}},\"id\":\"3848\",\"type\":\"LinearAxis\"},{\"attributes\":{\"axis\":{\"id\":\"3848\"},\"dimension\":1,\"ticker\":null},\"id\":\"3851\",\"type\":\"Grid\"},{\"attributes\":{},\"id\":\"3849\",\"type\":\"BasicTicker\"},{\"attributes\":{},\"id\":\"3845\",\"type\":\"BasicTicker\"},{\"attributes\":{},\"id\":\"3842\",\"type\":\"LinearScale\"},{\"attributes\":{\"active_drag\":\"auto\",\"active_inspect\":\"auto\",\"active_multi\":null,\"active_scroll\":\"auto\",\"active_tap\":\"auto\",\"tools\":[{\"id\":\"3852\"},{\"id\":\"3853\"},{\"id\":\"3854\"},{\"id\":\"3855\"},{\"id\":\"3856\"},{\"id\":\"3857\"}]},\"id\":\"3859\",\"type\":\"Toolbar\"},{\"attributes\":{\"formatter\":{\"id\":\"4041\"},\"ticker\":{\"id\":\"3845\"}},\"id\":\"3844\",\"type\":\"LinearAxis\"},{\"attributes\":{},\"id\":\"4044\",\"type\":\"Selection\"},{\"attributes\":{},\"id\":\"3857\",\"type\":\"HelpTool\"},{\"attributes\":{},\"id\":\"4041\",\"type\":\"BasicTickFormatter\"},{\"attributes\":{},\"id\":\"4045\",\"type\":\"UnionRenderers\"},{\"attributes\":{},\"id\":\"3838\",\"type\":\"DataRange1d\"},{\"attributes\":{},\"id\":\"3840\",\"type\":\"LinearScale\"},{\"attributes\":{},\"id\":\"3836\",\"type\":\"DataRange1d\"}],\"root_ids\":[\"3835\"]},\"title\":\"Bokeh Application\",\"version\":\"2.2.3\"}};\n",
       "  var render_items = [{\"docid\":\"2cd39eac-d03d-4d2b-ab59-3223f39d4726\",\"root_ids\":[\"3835\"],\"roots\":{\"3835\":\"c4703c4b-3ed9-4448-ab82-270f6d7fef4f\"}}];\n",
       "  root.Bokeh.embed.embed_items_notebook(docs_json, render_items);\n",
       "\n",
       "  }\n",
       "  if (root.Bokeh !== undefined) {\n",
       "    embed_document(root);\n",
       "  } else {\n",
       "    var attempts = 0;\n",
       "    var timer = setInterval(function(root) {\n",
       "      if (root.Bokeh !== undefined) {\n",
       "        clearInterval(timer);\n",
       "        embed_document(root);\n",
       "      } else {\n",
       "        attempts++;\n",
       "        if (attempts > 100) {\n",
       "          clearInterval(timer);\n",
       "          console.log(\"Bokeh: ERROR: Unable to run BokehJS code because BokehJS library is missing\");\n",
       "        }\n",
       "      }\n",
       "    }, 10, root)\n",
       "  }\n",
       "})(window);"
      ],
      "application/vnd.bokehjs_exec.v0+json": ""
     },
     "metadata": {
      "application/vnd.bokehjs_exec.v0+json": {
       "id": "3835"
      }
     },
     "output_type": "display_data"
    }
   ],
   "source": [
    "p = figure(plot_width=400, plot_height=400)\n",
    "\n",
    "# add a patch renderer with an alpha an line width\n",
    "p.patch([1, 2, 3, 4, 5], [6, 7, 8, 7, 3], alpha=0.5, line_width=2)\n",
    "\n",
    "show(p)"
   ]
  },
  {
   "cell_type": "markdown",
   "metadata": {},
   "source": [
    "<a id = \"10\"></a>\n",
    "### Segments\n",
    "Sometimes it is useful to be able to draw many individual line segments at once. Bokeh provides the segment() glyph methods to render these."
   ]
  },
  {
   "cell_type": "code",
   "execution_count": 16,
   "metadata": {},
   "outputs": [
    {
     "data": {
      "text/html": [
       "\n",
       "\n",
       "\n",
       "\n",
       "\n",
       "\n",
       "  <div class=\"bk-root\" id=\"a793eb6d-5ea8-4da6-8b85-4d03c00bc8ed\" data-root-id=\"4091\"></div>\n"
      ]
     },
     "metadata": {},
     "output_type": "display_data"
    },
    {
     "data": {
      "application/javascript": [
       "(function(root) {\n",
       "  function embed_document(root) {\n",
       "    \n",
       "  var docs_json = {\"0ba60752-86e0-440c-b736-f48a70497397\":{\"roots\":{\"references\":[{\"attributes\":{\"below\":[{\"id\":\"4100\"}],\"center\":[{\"id\":\"4103\"},{\"id\":\"4107\"}],\"left\":[{\"id\":\"4104\"}],\"plot_height\":400,\"plot_width\":400,\"renderers\":[{\"id\":\"4125\"}],\"title\":{\"id\":\"4302\"},\"toolbar\":{\"id\":\"4115\"},\"x_range\":{\"id\":\"4092\"},\"x_scale\":{\"id\":\"4096\"},\"y_range\":{\"id\":\"4094\"},\"y_scale\":{\"id\":\"4098\"}},\"id\":\"4091\",\"subtype\":\"Figure\",\"type\":\"Plot\"},{\"attributes\":{\"source\":{\"id\":\"4122\"}},\"id\":\"4126\",\"type\":\"CDSView\"},{\"attributes\":{\"active_drag\":\"auto\",\"active_inspect\":\"auto\",\"active_multi\":null,\"active_scroll\":\"auto\",\"active_tap\":\"auto\",\"tools\":[{\"id\":\"4108\"},{\"id\":\"4109\"},{\"id\":\"4110\"},{\"id\":\"4111\"},{\"id\":\"4112\"},{\"id\":\"4113\"}]},\"id\":\"4115\",\"type\":\"Toolbar\"},{\"attributes\":{\"data\":{\"x0\":[1,2,3],\"x1\":[1.2,2.4,3.1],\"y0\":[1,2,3],\"y1\":[1.2,2.5,3.7]},\"selected\":{\"id\":\"4309\"},\"selection_policy\":{\"id\":\"4310\"}},\"id\":\"4122\",\"type\":\"ColumnDataSource\"},{\"attributes\":{\"line_alpha\":{\"value\":0.1},\"line_color\":{\"value\":\"#F4A582\"},\"line_width\":{\"value\":3},\"x0\":{\"field\":\"x0\"},\"x1\":{\"field\":\"x1\"},\"y0\":{\"field\":\"y0\"},\"y1\":{\"field\":\"y1\"}},\"id\":\"4124\",\"type\":\"Segment\"},{\"attributes\":{},\"id\":\"4108\",\"type\":\"PanTool\"},{\"attributes\":{},\"id\":\"4109\",\"type\":\"WheelZoomTool\"},{\"attributes\":{\"line_color\":{\"value\":\"#F4A582\"},\"line_width\":{\"value\":3},\"x0\":{\"field\":\"x0\"},\"x1\":{\"field\":\"x1\"},\"y0\":{\"field\":\"y0\"},\"y1\":{\"field\":\"y1\"}},\"id\":\"4123\",\"type\":\"Segment\"},{\"attributes\":{\"bottom_units\":\"screen\",\"fill_alpha\":0.5,\"fill_color\":\"lightgrey\",\"left_units\":\"screen\",\"level\":\"overlay\",\"line_alpha\":1.0,\"line_color\":\"black\",\"line_dash\":[4,4],\"line_width\":2,\"right_units\":\"screen\",\"top_units\":\"screen\"},\"id\":\"4114\",\"type\":\"BoxAnnotation\"},{\"attributes\":{},\"id\":\"4092\",\"type\":\"DataRange1d\"},{\"attributes\":{\"overlay\":{\"id\":\"4114\"}},\"id\":\"4110\",\"type\":\"BoxZoomTool\"},{\"attributes\":{},\"id\":\"4094\",\"type\":\"DataRange1d\"},{\"attributes\":{},\"id\":\"4111\",\"type\":\"SaveTool\"},{\"attributes\":{},\"id\":\"4096\",\"type\":\"LinearScale\"},{\"attributes\":{},\"id\":\"4112\",\"type\":\"ResetTool\"},{\"attributes\":{},\"id\":\"4113\",\"type\":\"HelpTool\"},{\"attributes\":{},\"id\":\"4098\",\"type\":\"LinearScale\"},{\"attributes\":{\"formatter\":{\"id\":\"4306\"},\"ticker\":{\"id\":\"4101\"}},\"id\":\"4100\",\"type\":\"LinearAxis\"},{\"attributes\":{},\"id\":\"4105\",\"type\":\"BasicTicker\"},{\"attributes\":{\"text\":\"\"},\"id\":\"4302\",\"type\":\"Title\"},{\"attributes\":{},\"id\":\"4306\",\"type\":\"BasicTickFormatter\"},{\"attributes\":{},\"id\":\"4101\",\"type\":\"BasicTicker\"},{\"attributes\":{\"axis\":{\"id\":\"4100\"},\"ticker\":null},\"id\":\"4103\",\"type\":\"Grid\"},{\"attributes\":{\"data_source\":{\"id\":\"4122\"},\"glyph\":{\"id\":\"4123\"},\"hover_glyph\":null,\"muted_glyph\":null,\"nonselection_glyph\":{\"id\":\"4124\"},\"selection_glyph\":null,\"view\":{\"id\":\"4126\"}},\"id\":\"4125\",\"type\":\"GlyphRenderer\"},{\"attributes\":{\"axis\":{\"id\":\"4104\"},\"dimension\":1,\"ticker\":null},\"id\":\"4107\",\"type\":\"Grid\"},{\"attributes\":{},\"id\":\"4310\",\"type\":\"UnionRenderers\"},{\"attributes\":{\"formatter\":{\"id\":\"4304\"},\"ticker\":{\"id\":\"4105\"}},\"id\":\"4104\",\"type\":\"LinearAxis\"},{\"attributes\":{},\"id\":\"4309\",\"type\":\"Selection\"},{\"attributes\":{},\"id\":\"4304\",\"type\":\"BasicTickFormatter\"}],\"root_ids\":[\"4091\"]},\"title\":\"Bokeh Application\",\"version\":\"2.2.3\"}};\n",
       "  var render_items = [{\"docid\":\"0ba60752-86e0-440c-b736-f48a70497397\",\"root_ids\":[\"4091\"],\"roots\":{\"4091\":\"a793eb6d-5ea8-4da6-8b85-4d03c00bc8ed\"}}];\n",
       "  root.Bokeh.embed.embed_items_notebook(docs_json, render_items);\n",
       "\n",
       "  }\n",
       "  if (root.Bokeh !== undefined) {\n",
       "    embed_document(root);\n",
       "  } else {\n",
       "    var attempts = 0;\n",
       "    var timer = setInterval(function(root) {\n",
       "      if (root.Bokeh !== undefined) {\n",
       "        clearInterval(timer);\n",
       "        embed_document(root);\n",
       "      } else {\n",
       "        attempts++;\n",
       "        if (attempts > 100) {\n",
       "          clearInterval(timer);\n",
       "          console.log(\"Bokeh: ERROR: Unable to run BokehJS code because BokehJS library is missing\");\n",
       "        }\n",
       "      }\n",
       "    }, 10, root)\n",
       "  }\n",
       "})(window);"
      ],
      "application/vnd.bokehjs_exec.v0+json": ""
     },
     "metadata": {
      "application/vnd.bokehjs_exec.v0+json": {
       "id": "4091"
      }
     },
     "output_type": "display_data"
    }
   ],
   "source": [
    "p = figure(plot_width=400, plot_height=400)\n",
    "p.segment(x0=[1, 2, 3], y0=[1, 2, 3], x1=[1.2, 2.4, 3.1],y1=[1.2, 2.5, 3.7],\n",
    "          color=\"#F4A582\", line_width=3)\n",
    "show(p)"
   ]
  },
  {
   "cell_type": "markdown",
   "metadata": {},
   "source": [
    "<a id = \"11\"></a>\n",
    "### Combining multiple glyphs together \n",
    "If you want lines and markers together, simply call more than one glyph method.\n",
    "All the glyphs that you will specify will be drawn in the order of the glyph method that you call.\n",
    "Like this"
   ]
  },
  {
   "cell_type": "code",
   "execution_count": 17,
   "metadata": {},
   "outputs": [
    {
     "data": {
      "text/html": [
       "\n",
       "\n",
       "\n",
       "\n",
       "\n",
       "\n",
       "  <div class=\"bk-root\" id=\"c361ee12-c125-48a9-8d2a-2344e815c4e6\" data-root-id=\"4356\"></div>\n"
      ]
     },
     "metadata": {},
     "output_type": "display_data"
    },
    {
     "data": {
      "application/javascript": [
       "(function(root) {\n",
       "  function embed_document(root) {\n",
       "    \n",
       "  var docs_json = {\"47929b31-8a4e-4cd1-afc6-473abe2677e1\":{\"roots\":{\"references\":[{\"attributes\":{\"below\":[{\"id\":\"4365\"}],\"center\":[{\"id\":\"4368\"},{\"id\":\"4372\"}],\"left\":[{\"id\":\"4369\"}],\"renderers\":[{\"id\":\"4390\"},{\"id\":\"4395\"}],\"title\":{\"id\":\"4581\"},\"toolbar\":{\"id\":\"4380\"},\"x_range\":{\"id\":\"4357\"},\"x_scale\":{\"id\":\"4361\"},\"y_range\":{\"id\":\"4359\"},\"y_scale\":{\"id\":\"4363\"}},\"id\":\"4356\",\"subtype\":\"Figure\",\"type\":\"Plot\"},{\"attributes\":{\"data_source\":{\"id\":\"4392\"},\"glyph\":{\"id\":\"4393\"},\"hover_glyph\":null,\"muted_glyph\":null,\"nonselection_glyph\":{\"id\":\"4394\"},\"selection_glyph\":null,\"view\":{\"id\":\"4396\"}},\"id\":\"4395\",\"type\":\"GlyphRenderer\"},{\"attributes\":{\"data\":{\"x\":[1,2,3,4,5],\"y\":[2,1,3,2,4]},\"selected\":{\"id\":\"4588\"},\"selection_policy\":{\"id\":\"4589\"}},\"id\":\"4387\",\"type\":\"ColumnDataSource\"},{\"attributes\":{\"fill_color\":{\"value\":\"red\"},\"line_color\":{\"value\":\"#1f77b4\"},\"size\":{\"units\":\"screen\",\"value\":15},\"x\":{\"field\":\"x\"},\"y\":{\"field\":\"y\"}},\"id\":\"4393\",\"type\":\"Circle\"},{\"attributes\":{},\"id\":\"4376\",\"type\":\"SaveTool\"},{\"attributes\":{},\"id\":\"4373\",\"type\":\"PanTool\"},{\"attributes\":{},\"id\":\"4591\",\"type\":\"UnionRenderers\"},{\"attributes\":{\"overlay\":{\"id\":\"4379\"}},\"id\":\"4375\",\"type\":\"BoxZoomTool\"},{\"attributes\":{},\"id\":\"4377\",\"type\":\"ResetTool\"},{\"attributes\":{\"source\":{\"id\":\"4392\"}},\"id\":\"4396\",\"type\":\"CDSView\"},{\"attributes\":{},\"id\":\"4357\",\"type\":\"DataRange1d\"},{\"attributes\":{\"source\":{\"id\":\"4387\"}},\"id\":\"4391\",\"type\":\"CDSView\"},{\"attributes\":{},\"id\":\"4378\",\"type\":\"HelpTool\"},{\"attributes\":{},\"id\":\"4590\",\"type\":\"Selection\"},{\"attributes\":{},\"id\":\"4359\",\"type\":\"DataRange1d\"},{\"attributes\":{\"fill_alpha\":{\"value\":0.1},\"fill_color\":{\"value\":\"red\"},\"line_alpha\":{\"value\":0.1},\"line_color\":{\"value\":\"#1f77b4\"},\"size\":{\"units\":\"screen\",\"value\":15},\"x\":{\"field\":\"x\"},\"y\":{\"field\":\"y\"}},\"id\":\"4394\",\"type\":\"Circle\"},{\"attributes\":{},\"id\":\"4589\",\"type\":\"UnionRenderers\"},{\"attributes\":{},\"id\":\"4585\",\"type\":\"BasicTickFormatter\"},{\"attributes\":{},\"id\":\"4374\",\"type\":\"WheelZoomTool\"},{\"attributes\":{\"active_drag\":\"auto\",\"active_inspect\":\"auto\",\"active_multi\":null,\"active_scroll\":\"auto\",\"active_tap\":\"auto\",\"tools\":[{\"id\":\"4373\"},{\"id\":\"4374\"},{\"id\":\"4375\"},{\"id\":\"4376\"},{\"id\":\"4377\"},{\"id\":\"4378\"}]},\"id\":\"4380\",\"type\":\"Toolbar\"},{\"attributes\":{\"line_color\":\"#1f77b4\",\"line_width\":3,\"x\":{\"field\":\"x\"},\"y\":{\"field\":\"y\"}},\"id\":\"4388\",\"type\":\"Line\"},{\"attributes\":{},\"id\":\"4361\",\"type\":\"LinearScale\"},{\"attributes\":{\"text\":\"\"},\"id\":\"4581\",\"type\":\"Title\"},{\"attributes\":{\"formatter\":{\"id\":\"4583\"},\"ticker\":{\"id\":\"4370\"}},\"id\":\"4369\",\"type\":\"LinearAxis\"},{\"attributes\":{\"axis\":{\"id\":\"4369\"},\"dimension\":1,\"ticker\":null},\"id\":\"4372\",\"type\":\"Grid\"},{\"attributes\":{},\"id\":\"4366\",\"type\":\"BasicTicker\"},{\"attributes\":{\"data\":{\"x\":[1,2,3,4,5],\"y\":[2,1,3,2,4]},\"selected\":{\"id\":\"4590\"},\"selection_policy\":{\"id\":\"4591\"}},\"id\":\"4392\",\"type\":\"ColumnDataSource\"},{\"attributes\":{},\"id\":\"4370\",\"type\":\"BasicTicker\"},{\"attributes\":{\"axis\":{\"id\":\"4365\"},\"ticker\":null},\"id\":\"4368\",\"type\":\"Grid\"},{\"attributes\":{\"formatter\":{\"id\":\"4585\"},\"ticker\":{\"id\":\"4366\"}},\"id\":\"4365\",\"type\":\"LinearAxis\"},{\"attributes\":{},\"id\":\"4583\",\"type\":\"BasicTickFormatter\"},{\"attributes\":{\"line_alpha\":0.1,\"line_color\":\"#1f77b4\",\"line_width\":3,\"x\":{\"field\":\"x\"},\"y\":{\"field\":\"y\"}},\"id\":\"4389\",\"type\":\"Line\"},{\"attributes\":{\"bottom_units\":\"screen\",\"fill_alpha\":0.5,\"fill_color\":\"lightgrey\",\"left_units\":\"screen\",\"level\":\"overlay\",\"line_alpha\":1.0,\"line_color\":\"black\",\"line_dash\":[4,4],\"line_width\":2,\"right_units\":\"screen\",\"top_units\":\"screen\"},\"id\":\"4379\",\"type\":\"BoxAnnotation\"},{\"attributes\":{},\"id\":\"4588\",\"type\":\"Selection\"},{\"attributes\":{\"data_source\":{\"id\":\"4387\"},\"glyph\":{\"id\":\"4388\"},\"hover_glyph\":null,\"muted_glyph\":null,\"nonselection_glyph\":{\"id\":\"4389\"},\"selection_glyph\":null,\"view\":{\"id\":\"4391\"}},\"id\":\"4390\",\"type\":\"GlyphRenderer\"},{\"attributes\":{},\"id\":\"4363\",\"type\":\"LinearScale\"}],\"root_ids\":[\"4356\"]},\"title\":\"Bokeh Application\",\"version\":\"2.2.3\"}};\n",
       "  var render_items = [{\"docid\":\"47929b31-8a4e-4cd1-afc6-473abe2677e1\",\"root_ids\":[\"4356\"],\"roots\":{\"4356\":\"c361ee12-c125-48a9-8d2a-2344e815c4e6\"}}];\n",
       "  root.Bokeh.embed.embed_items_notebook(docs_json, render_items);\n",
       "\n",
       "  }\n",
       "  if (root.Bokeh !== undefined) {\n",
       "    embed_document(root);\n",
       "  } else {\n",
       "    var attempts = 0;\n",
       "    var timer = setInterval(function(root) {\n",
       "      if (root.Bokeh !== undefined) {\n",
       "        clearInterval(timer);\n",
       "        embed_document(root);\n",
       "      } else {\n",
       "        attempts++;\n",
       "        if (attempts > 100) {\n",
       "          clearInterval(timer);\n",
       "          console.log(\"Bokeh: ERROR: Unable to run BokehJS code because BokehJS library is missing\");\n",
       "        }\n",
       "      }\n",
       "    }, 10, root)\n",
       "  }\n",
       "})(window);"
      ],
      "application/vnd.bokehjs_exec.v0+json": ""
     },
     "metadata": {
      "application/vnd.bokehjs_exec.v0+json": {
       "id": "4356"
      }
     },
     "output_type": "display_data"
    }
   ],
   "source": [
    "x = [1,2,3,4,5]\n",
    "y = [2,1,3,2,4]\n",
    "plot = figure()\n",
    "plot.line(x,y, line_width=3)\n",
    "plot.circle(x,y,fill_color='red',size=15)\n",
    "show(plot)"
   ]
  },
  {
   "cell_type": "markdown",
   "metadata": {},
   "source": [
    "<a id = \"12\"></a>\n",
    "# Toolbar\n",
    "Now we have covered the empty figure() plot, which gives us an empty plot with suitable defaults, then we covered adding different glyphs to this plot.\n",
    "\n",
    "Now for the next part we will look at the toolbar, which by default sits at the top right corner of the plot.\n",
    "We will see what options are available and what customization we can do to this toolbar"
   ]
  },
  {
   "cell_type": "markdown",
   "metadata": {},
   "source": [
    "<a id = \"13\"></a>\n",
    "#### Positioning the Toolbar\n",
    "\n",
    "By default, Bokeh plots come with a toolbar above the plot. Let's see how to specify a different location for the toolbar, or to remove it entirely.\n",
    "\n",
    "The toolbar location can be specified by passing the toolbar_location parameter to the figure() function. Valid values are:\n",
    "\n",
    "- \"above\"\n",
    "- \"below\"\n",
    "- \"left\"\n",
    "- \"right\"\n",
    "\n",
    "If you would like to hide the toolbar entirely, pass None."
   ]
  },
  {
   "cell_type": "code",
   "execution_count": 18,
   "metadata": {},
   "outputs": [
    {
     "data": {
      "text/html": [
       "\n",
       "\n",
       "\n",
       "\n",
       "\n",
       "\n",
       "  <div class=\"bk-root\" id=\"16e92fe0-4c6b-413f-912f-9d6dcddf2797\" data-root-id=\"4647\"></div>\n"
      ]
     },
     "metadata": {},
     "output_type": "display_data"
    },
    {
     "data": {
      "application/javascript": [
       "(function(root) {\n",
       "  function embed_document(root) {\n",
       "    \n",
       "  var docs_json = {\"e6f55fef-c4bb-42d6-8d41-651c2afeca4f\":{\"roots\":{\"references\":[{\"attributes\":{\"below\":[{\"id\":\"4657\"}],\"center\":[{\"id\":\"4660\"},{\"id\":\"4664\"}],\"left\":[{\"id\":\"4661\"}],\"plot_height\":400,\"plot_width\":400,\"renderers\":[{\"id\":\"4682\"}],\"title\":null,\"toolbar\":{\"id\":\"4672\"},\"toolbar_location\":\"left\",\"x_range\":{\"id\":\"4649\"},\"x_scale\":{\"id\":\"4653\"},\"y_range\":{\"id\":\"4651\"},\"y_scale\":{\"id\":\"4655\"}},\"id\":\"4647\",\"subtype\":\"Figure\",\"type\":\"Plot\"},{\"attributes\":{},\"id\":\"4653\",\"type\":\"LinearScale\"},{\"attributes\":{},\"id\":\"4658\",\"type\":\"BasicTicker\"},{\"attributes\":{},\"id\":\"4662\",\"type\":\"BasicTicker\"},{\"attributes\":{},\"id\":\"4651\",\"type\":\"DataRange1d\"},{\"attributes\":{\"axis\":{\"id\":\"4657\"},\"ticker\":null},\"id\":\"4660\",\"type\":\"Grid\"},{\"attributes\":{\"axis\":{\"id\":\"4661\"},\"dimension\":1,\"ticker\":null},\"id\":\"4664\",\"type\":\"Grid\"},{\"attributes\":{\"formatter\":{\"id\":\"4880\"},\"ticker\":{\"id\":\"4662\"}},\"id\":\"4661\",\"type\":\"LinearAxis\"},{\"attributes\":{\"source\":{\"id\":\"4679\"}},\"id\":\"4683\",\"type\":\"CDSView\"},{\"attributes\":{},\"id\":\"4886\",\"type\":\"UnionRenderers\"},{\"attributes\":{\"fill_color\":{\"value\":\"#1f77b4\"},\"line_color\":{\"value\":\"#1f77b4\"},\"size\":{\"units\":\"screen\",\"value\":10},\"x\":{\"field\":\"x\"},\"y\":{\"field\":\"y\"}},\"id\":\"4680\",\"type\":\"Circle\"},{\"attributes\":{\"data_source\":{\"id\":\"4679\"},\"glyph\":{\"id\":\"4680\"},\"hover_glyph\":null,\"muted_glyph\":null,\"nonselection_glyph\":{\"id\":\"4681\"},\"selection_glyph\":null,\"view\":{\"id\":\"4683\"}},\"id\":\"4682\",\"type\":\"GlyphRenderer\"},{\"attributes\":{\"data\":{\"x\":[1,2,3,4,5],\"y\":[2,5,8,2,7]},\"selected\":{\"id\":\"4885\"},\"selection_policy\":{\"id\":\"4886\"}},\"id\":\"4679\",\"type\":\"ColumnDataSource\"},{\"attributes\":{},\"id\":\"4885\",\"type\":\"Selection\"},{\"attributes\":{},\"id\":\"4665\",\"type\":\"PanTool\"},{\"attributes\":{\"bottom_units\":\"screen\",\"fill_alpha\":0.5,\"fill_color\":\"lightgrey\",\"left_units\":\"screen\",\"level\":\"overlay\",\"line_alpha\":1.0,\"line_color\":\"black\",\"line_dash\":[4,4],\"line_width\":2,\"right_units\":\"screen\",\"top_units\":\"screen\"},\"id\":\"4671\",\"type\":\"BoxAnnotation\"},{\"attributes\":{},\"id\":\"4670\",\"type\":\"HelpTool\"},{\"attributes\":{},\"id\":\"4666\",\"type\":\"WheelZoomTool\"},{\"attributes\":{\"active_drag\":\"auto\",\"active_inspect\":\"auto\",\"active_multi\":null,\"active_scroll\":\"auto\",\"active_tap\":\"auto\",\"tools\":[{\"id\":\"4665\"},{\"id\":\"4666\"},{\"id\":\"4667\"},{\"id\":\"4668\"},{\"id\":\"4669\"},{\"id\":\"4670\"}]},\"id\":\"4672\",\"type\":\"Toolbar\"},{\"attributes\":{},\"id\":\"4649\",\"type\":\"DataRange1d\"},{\"attributes\":{\"overlay\":{\"id\":\"4671\"}},\"id\":\"4667\",\"type\":\"BoxZoomTool\"},{\"attributes\":{\"fill_alpha\":{\"value\":0.1},\"fill_color\":{\"value\":\"#1f77b4\"},\"line_alpha\":{\"value\":0.1},\"line_color\":{\"value\":\"#1f77b4\"},\"size\":{\"units\":\"screen\",\"value\":10},\"x\":{\"field\":\"x\"},\"y\":{\"field\":\"y\"}},\"id\":\"4681\",\"type\":\"Circle\"},{\"attributes\":{},\"id\":\"4668\",\"type\":\"SaveTool\"},{\"attributes\":{\"formatter\":{\"id\":\"4882\"},\"ticker\":{\"id\":\"4658\"}},\"id\":\"4657\",\"type\":\"LinearAxis\"},{\"attributes\":{},\"id\":\"4669\",\"type\":\"ResetTool\"},{\"attributes\":{},\"id\":\"4882\",\"type\":\"BasicTickFormatter\"},{\"attributes\":{},\"id\":\"4655\",\"type\":\"LinearScale\"},{\"attributes\":{},\"id\":\"4880\",\"type\":\"BasicTickFormatter\"}],\"root_ids\":[\"4647\"]},\"title\":\"Bokeh Application\",\"version\":\"2.2.3\"}};\n",
       "  var render_items = [{\"docid\":\"e6f55fef-c4bb-42d6-8d41-651c2afeca4f\",\"root_ids\":[\"4647\"],\"roots\":{\"4647\":\"16e92fe0-4c6b-413f-912f-9d6dcddf2797\"}}];\n",
       "  root.Bokeh.embed.embed_items_notebook(docs_json, render_items);\n",
       "\n",
       "  }\n",
       "  if (root.Bokeh !== undefined) {\n",
       "    embed_document(root);\n",
       "  } else {\n",
       "    var attempts = 0;\n",
       "    var timer = setInterval(function(root) {\n",
       "      if (root.Bokeh !== undefined) {\n",
       "        clearInterval(timer);\n",
       "        embed_document(root);\n",
       "      } else {\n",
       "        attempts++;\n",
       "        if (attempts > 100) {\n",
       "          clearInterval(timer);\n",
       "          console.log(\"Bokeh: ERROR: Unable to run BokehJS code because BokehJS library is missing\");\n",
       "        }\n",
       "      }\n",
       "    }, 10, root)\n",
       "  }\n",
       "})(window);"
      ],
      "application/vnd.bokehjs_exec.v0+json": ""
     },
     "metadata": {
      "application/vnd.bokehjs_exec.v0+json": {
       "id": "4647"
      }
     },
     "output_type": "display_data"
    }
   ],
   "source": [
    "p = figure(plot_width=400, plot_height=400,\n",
    "           title=None, toolbar_location=\"left\")\n",
    "\n",
    "p.circle([1, 2, 3, 4, 5], [2, 5, 8, 2, 7], size=10)\n",
    "\n",
    "show(p)"
   ]
  },
  {
   "cell_type": "markdown",
   "metadata": {},
   "source": [
    "<a id = \"19\"></a>\n",
    "## Specifying Tools\n",
    "<ul>\n",
    "    <li>Tools can be specified by passing the tools parameter to the figure() function. The tools parameter accepts a list of tool objects, like this:\n",
    "`tools = [BoxZoomTool(), ResetTool()]`</li>\n",
    "    <li>Or tools can also be supplied conveniently with a comma-separate string containing tool shortcut names like this:\n",
    "`tools = \"pan,wheel_zoom,box_zoom,reset\"`</li>\n",
    "    <li>However, the second method does not allow setting properties of the tools whereas in the first option while initializing the tool, we can pass it configurable properties, like this :- \n",
    "    <code>tools = [BoxZoomTool(property=value)]</code> <br>\n",
    "    Then we cann pass this tools object to the figure function.</li>\n",
    "</ul>\n",
    "\n",
    "###### <b>By default bokeh uses 'pan', 'box_zoom', 'wheel_zoom', 'save', 'reset' tools. So if you do not pass the tools argument to the figure function, these will be used by default </b>\n",
    "---"
   ]
  },
  {
   "cell_type": "markdown",
   "metadata": {},
   "source": [
    "<a id = \"14\"></a>\n",
    "## Configuring Plot Tools\n",
    "Bokeh comes with a number of interactive tools that can be used to report information, to change plot parameters such as zoom level or range extents, or to add, edit, or delete glyphs. \n",
    "\n",
    "Tools can be grouped into four basic categories:\n",
    "\n",
    "\n",
    "<ol>\n",
    "\n",
    "\n",
    "<li><b>Gestures</b></li>\n",
    "These are tools that respond to single gestures, such as a pan movement. The types of gesture tools are:\n",
    "    \n",
    "<ul>\n",
    "<li>Pan/Drag Tools</li>\n",
    "<li>Click/Tap Tools</li>\n",
    "<li>Scroll/Pinch Tools</li>\n",
    "</ul>\n",
    "\n",
    "For each type of gesture, one tool can be active at any given time, and the active tool is indicated on the toolbar by a highlight next to to the tool icon.\n",
    "\n",
    "<li><b>Actions</b></li>\n",
    "These are immediate or modal operations that are only activated when their button in the toolbar is pressed, such as the ResetTool.\n",
    "\n",
    "<li><b>Inspectors</b></li>\n",
    "These are passive tools that report information or annotate plots in some way, such as the HoverTool or CrosshairTool.\n",
    "\n",
    "<li><b>Edit Tools</b></li>\n",
    "These are sophisticated multi-gesture tools that can add, delete, or modify glyphs on a plot. Since they may respond to several gestures at once, an edit tool will potentially deactivate multiple single-gesture tools at once when it is activated.\n",
    "\n",
    "</ol>\n",
    "\n",
    "---"
   ]
  },
  {
   "cell_type": "markdown",
   "metadata": {},
   "source": [
    "<a id = \"15\"></a>\n",
    "### 1. Gestures\n",
    "<ul>\n",
    "<li>Pan/Drag Tools</li>\n",
    "    <ul>\n",
    "    <li>BoxSelectTool ('box_select') # allows the user to define a rectangular selection region by left-dragging a mouse, or dragging a finger across the plot area.</li>\n",
    "    <li>BoxZoomTool ('box_zoom') # allows the user to define a rectangular region to zoom the plot bounds too.</li>\n",
    "    <li>LassoSelectTool ('lasso_select') # allows the user to define an arbitrary region for selection by left-dragging a mouse, or dragging a finger across the plot area.</li>\n",
    "    <li>PanTool ('pan') # The pan tool allows the user to pan the plot by left-dragging a mouse or dragging a finger across the plot region.</li>\n",
    "    </ul>\n",
    "\n",
    "\n",
    "<li>Click/Tap Tools</li>\n",
    "    <ul>\n",
    "        <li>PolySelectTool ('poly_select') # allows the user to define an arbitrary polygonal region for selection by left-clicking a mouse, or tapping a finger at different locations.</li>\n",
    "        <li>TapTool ('tap') # allows the user to select at single points by clicking a left mouse button, or tapping with a finger.</li>\n",
    "    </ul>\n",
    "    \n",
    "\n",
    "<li>Scroll/Pinch Tools</li>\n",
    "These tools are employed by pinching (on touch devices) or scrolling (on mouse devices). Only one scroll/pinch tool may be active at a time.\n",
    "    <ul>\n",
    "    <li>WheelZoomTool ('wheel_zoom') # The wheel zoom tool will zoom the plot in and out, centered on the current mouse location. It will respect any min and max values and ranges preventing zooming in and out beyond these.</li>\n",
    "</ul>\n",
    "    \n",
    "</ul>\n"
   ]
  },
  {
   "cell_type": "code",
   "execution_count": 45,
   "metadata": {},
   "outputs": [
    {
     "data": {
      "text/html": [
       "\n",
       "\n",
       "\n",
       "\n",
       "\n",
       "\n",
       "  <div class=\"bk-root\" id=\"437957cc-624c-4943-a5d3-732fbd8f14e1\" data-root-id=\"21124\"></div>\n"
      ]
     },
     "metadata": {},
     "output_type": "display_data"
    },
    {
     "data": {
      "application/javascript": [
       "(function(root) {\n",
       "  function embed_document(root) {\n",
       "    \n",
       "  var docs_json = {\"67dd2940-d6f9-4b72-9668-5b1c997eb16d\":{\"roots\":{\"references\":[{\"attributes\":{\"children\":[{\"id\":\"21120\"},{\"id\":\"21121\"},{\"id\":\"21122\"},{\"id\":\"21123\"}]},\"id\":\"21124\",\"type\":\"Column\"},{\"attributes\":{},\"id\":\"20985\",\"type\":\"DataRange1d\"},{\"attributes\":{},\"id\":\"22028\",\"type\":\"BasicTickFormatter\"},{\"attributes\":{},\"id\":\"20967\",\"type\":\"BasicTicker\"},{\"attributes\":{},\"id\":\"21026\",\"type\":\"BasicTicker\"},{\"attributes\":{\"axis\":{\"id\":\"20966\"},\"ticker\":null},\"id\":\"20969\",\"type\":\"Grid\"},{\"attributes\":{\"axis\":{\"id\":\"21025\"},\"dimension\":1,\"ticker\":null},\"id\":\"21028\",\"type\":\"Grid\"},{\"attributes\":{},\"id\":\"22042\",\"type\":\"BasicTickFormatter\"},{\"attributes\":{},\"id\":\"20987\",\"type\":\"DataRange1d\"},{\"attributes\":{\"formatter\":{\"id\":\"22034\"},\"ticker\":{\"id\":\"21026\"}},\"id\":\"21025\",\"type\":\"LinearAxis\"},{\"attributes\":{\"data\":{\"x\":[1,2,3,4,5],\"y\":[2,5,8,2,7]},\"selected\":{\"id\":\"22053\"},\"selection_policy\":{\"id\":\"22054\"}},\"id\":\"21005\",\"type\":\"ColumnDataSource\"},{\"attributes\":{\"below\":[{\"id\":\"21021\"}],\"center\":[{\"id\":\"21024\"},{\"id\":\"21028\"}],\"left\":[{\"id\":\"21025\"}],\"min_border\":50,\"plot_height\":300,\"plot_width\":300,\"renderers\":[{\"id\":\"21036\"}],\"title\":{\"id\":\"21011\"},\"toolbar\":{\"id\":\"21031\"},\"x_range\":{\"id\":\"21013\"},\"x_scale\":{\"id\":\"21017\"},\"y_range\":{\"id\":\"21015\"},\"y_scale\":{\"id\":\"21019\"}},\"id\":\"21010\",\"subtype\":\"Figure\",\"type\":\"Plot\"},{\"attributes\":{\"formatter\":{\"id\":\"22042\"},\"ticker\":{\"id\":\"21081\"}},\"id\":\"21080\",\"type\":\"LinearAxis\"},{\"attributes\":{\"axis\":{\"id\":\"21080\"},\"dimension\":1,\"ticker\":null},\"id\":\"21083\",\"type\":\"Grid\"},{\"attributes\":{\"active_drag\":\"auto\",\"active_inspect\":\"auto\",\"active_multi\":null,\"active_scroll\":\"auto\",\"active_tap\":\"auto\",\"tools\":[{\"id\":\"21029\"}]},\"id\":\"21031\",\"type\":\"Toolbar\"},{\"attributes\":{\"formatter\":{\"id\":\"22026\"},\"ticker\":{\"id\":\"20971\"}},\"id\":\"20970\",\"type\":\"LinearAxis\"},{\"attributes\":{},\"id\":\"21017\",\"type\":\"LinearScale\"},{\"attributes\":{\"overlay\":{\"id\":\"21030\"}},\"id\":\"21029\",\"type\":\"BoxSelectTool\"},{\"attributes\":{\"active_drag\":\"auto\",\"active_inspect\":\"auto\",\"active_multi\":null,\"active_scroll\":\"auto\",\"active_tap\":\"auto\",\"tools\":[{\"id\":\"21084\"}]},\"id\":\"21086\",\"type\":\"Toolbar\"},{\"attributes\":{\"fill_alpha\":{\"value\":0.1},\"fill_color\":{\"value\":\"#1f77b4\"},\"line_alpha\":{\"value\":0.1},\"line_color\":{\"value\":\"#1f77b4\"},\"size\":{\"units\":\"screen\",\"value\":10},\"x\":{\"field\":\"x\"},\"y\":{\"field\":\"y\"}},\"id\":\"20979\",\"type\":\"Circle\"},{\"attributes\":{\"text\":\"Pan/Drag Tools - lasso_select\"},\"id\":\"20983\",\"type\":\"Title\"},{\"attributes\":{},\"id\":\"21068\",\"type\":\"DataRange1d\"},{\"attributes\":{\"overlay\":{\"id\":\"21085\"}},\"id\":\"21084\",\"type\":\"PolySelectTool\"},{\"attributes\":{\"axis\":{\"id\":\"20993\"},\"ticker\":null},\"id\":\"20996\",\"type\":\"Grid\"},{\"attributes\":{\"fill_alpha\":{\"value\":0.1},\"fill_color\":{\"value\":\"#1f77b4\"},\"line_alpha\":{\"value\":0.1},\"line_color\":{\"value\":\"#1f77b4\"},\"size\":{\"units\":\"screen\",\"value\":10},\"x\":{\"field\":\"x\"},\"y\":{\"field\":\"y\"}},\"id\":\"21062\",\"type\":\"Circle\"},{\"attributes\":{\"below\":[{\"id\":\"20966\"}],\"center\":[{\"id\":\"20969\"},{\"id\":\"20973\"}],\"left\":[{\"id\":\"20970\"}],\"min_border\":50,\"plot_height\":300,\"plot_width\":300,\"renderers\":[{\"id\":\"20980\"}],\"title\":{\"id\":\"20956\"},\"toolbar\":{\"id\":\"20975\"},\"x_range\":{\"id\":\"20958\"},\"x_scale\":{\"id\":\"20962\"},\"y_range\":{\"id\":\"20960\"},\"y_scale\":{\"id\":\"20964\"}},\"id\":\"20955\",\"subtype\":\"Figure\",\"type\":\"Plot\"},{\"attributes\":{},\"id\":\"20962\",\"type\":\"LinearScale\"},{\"attributes\":{\"formatter\":{\"id\":\"22032\"},\"ticker\":{\"id\":\"20994\"}},\"id\":\"20993\",\"type\":\"LinearAxis\"},{\"attributes\":{\"below\":[{\"id\":\"21104\"}],\"center\":[{\"id\":\"21107\"},{\"id\":\"21111\"}],\"left\":[{\"id\":\"21108\"}],\"min_border\":50,\"plot_height\":300,\"plot_width\":300,\"renderers\":[{\"id\":\"21118\"}],\"title\":{\"id\":\"21094\"},\"toolbar\":{\"id\":\"21113\"},\"x_range\":{\"id\":\"21096\"},\"x_scale\":{\"id\":\"21100\"},\"y_range\":{\"id\":\"21098\"},\"y_scale\":{\"id\":\"21102\"}},\"id\":\"21093\",\"subtype\":\"Figure\",\"type\":\"Plot\"},{\"attributes\":{},\"id\":\"20958\",\"type\":\"DataRange1d\"},{\"attributes\":{\"formatter\":{\"id\":\"22030\"},\"ticker\":{\"id\":\"20998\"}},\"id\":\"20997\",\"type\":\"LinearAxis\"},{\"attributes\":{\"data\":{\"x\":[1,2,3,4,5],\"y\":[2,5,8,2,7]},\"selected\":{\"id\":\"22050\"},\"selection_policy\":{\"id\":\"22051\"}},\"id\":\"20977\",\"type\":\"ColumnDataSource\"},{\"attributes\":{\"fill_color\":{\"value\":\"#1f77b4\"},\"line_color\":{\"value\":\"#1f77b4\"},\"size\":{\"units\":\"screen\",\"value\":10},\"x\":{\"field\":\"x\"},\"y\":{\"field\":\"y\"}},\"id\":\"21089\",\"type\":\"Circle\"},{\"attributes\":{\"text\":\"Pan/Drag Tools - Pan\"},\"id\":\"20956\",\"type\":\"Title\"},{\"attributes\":{\"data\":{\"x\":[1,2,3,4,5],\"y\":[2,5,8,2,7]},\"selected\":{\"id\":\"22061\"},\"selection_policy\":{\"id\":\"22062\"}},\"id\":\"21088\",\"type\":\"ColumnDataSource\"},{\"attributes\":{\"text\":\"Click/Tap Tools - poly_select\"},\"id\":\"21066\",\"type\":\"Title\"},{\"attributes\":{\"data_source\":{\"id\":\"21060\"},\"glyph\":{\"id\":\"21061\"},\"hover_glyph\":null,\"muted_glyph\":null,\"nonselection_glyph\":{\"id\":\"21062\"},\"selection_glyph\":null,\"view\":{\"id\":\"21064\"}},\"id\":\"21063\",\"type\":\"GlyphRenderer\"},{\"attributes\":{},\"id\":\"20971\",\"type\":\"BasicTicker\"},{\"attributes\":{\"source\":{\"id\":\"21060\"}},\"id\":\"21064\",\"type\":\"CDSView\"},{\"attributes\":{\"bottom_units\":\"screen\",\"fill_alpha\":0.5,\"fill_color\":\"lightgrey\",\"left_units\":\"screen\",\"level\":\"overlay\",\"line_alpha\":1.0,\"line_color\":\"black\",\"line_dash\":[4,4],\"line_width\":2,\"right_units\":\"screen\",\"top_units\":\"screen\"},\"id\":\"21030\",\"type\":\"BoxAnnotation\"},{\"attributes\":{\"below\":[{\"id\":\"20993\"}],\"center\":[{\"id\":\"20996\"},{\"id\":\"21000\"}],\"left\":[{\"id\":\"20997\"}],\"min_border\":50,\"plot_height\":300,\"plot_width\":300,\"renderers\":[{\"id\":\"21008\"}],\"title\":{\"id\":\"20983\"},\"toolbar\":{\"id\":\"21003\"},\"x_range\":{\"id\":\"20985\"},\"x_scale\":{\"id\":\"20989\"},\"y_range\":{\"id\":\"20987\"},\"y_scale\":{\"id\":\"20991\"}},\"id\":\"20982\",\"subtype\":\"Figure\",\"type\":\"Plot\"},{\"attributes\":{},\"id\":\"20991\",\"type\":\"LinearScale\"},{\"attributes\":{},\"id\":\"21019\",\"type\":\"LinearScale\"},{\"attributes\":{\"data_source\":{\"id\":\"21033\"},\"glyph\":{\"id\":\"21034\"},\"hover_glyph\":null,\"muted_glyph\":null,\"nonselection_glyph\":{\"id\":\"21035\"},\"selection_glyph\":null,\"view\":{\"id\":\"21037\"}},\"id\":\"21036\",\"type\":\"GlyphRenderer\"},{\"attributes\":{\"source\":{\"id\":\"21005\"}},\"id\":\"21009\",\"type\":\"CDSView\"},{\"attributes\":{},\"id\":\"21013\",\"type\":\"DataRange1d\"},{\"attributes\":{},\"id\":\"20994\",\"type\":\"BasicTicker\"},{\"attributes\":{\"source\":{\"id\":\"21033\"}},\"id\":\"21037\",\"type\":\"CDSView\"},{\"attributes\":{\"source\":{\"id\":\"20977\"}},\"id\":\"20981\",\"type\":\"CDSView\"},{\"attributes\":{\"data\":{\"x\":[1,2,3,4,5],\"y\":[2,5,8,2,7]},\"selected\":{\"id\":\"22056\"},\"selection_policy\":{\"id\":\"22057\"}},\"id\":\"21033\",\"type\":\"ColumnDataSource\"},{\"attributes\":{\"fill_color\":{\"value\":\"#1f77b4\"},\"line_color\":{\"value\":\"#1f77b4\"},\"size\":{\"units\":\"screen\",\"value\":10},\"x\":{\"field\":\"x\"},\"y\":{\"field\":\"y\"}},\"id\":\"21061\",\"type\":\"Circle\"},{\"attributes\":{\"fill_alpha\":{\"value\":0.1},\"fill_color\":{\"value\":\"#1f77b4\"},\"line_alpha\":{\"value\":0.1},\"line_color\":{\"value\":\"#1f77b4\"},\"size\":{\"units\":\"screen\",\"value\":10},\"x\":{\"field\":\"x\"},\"y\":{\"field\":\"y\"}},\"id\":\"21035\",\"type\":\"Circle\"},{\"attributes\":{},\"id\":\"20989\",\"type\":\"LinearScale\"},{\"attributes\":{\"data\":{\"x\":[1,2,3,4,5],\"y\":[2,5,8,2,7]},\"selected\":{\"id\":\"22058\"},\"selection_policy\":{\"id\":\"22059\"}},\"id\":\"21060\",\"type\":\"ColumnDataSource\"},{\"attributes\":{\"fill_color\":{\"value\":\"#1f77b4\"},\"line_color\":{\"value\":\"#1f77b4\"},\"size\":{\"units\":\"screen\",\"value\":10},\"x\":{\"field\":\"x\"},\"y\":{\"field\":\"y\"}},\"id\":\"21034\",\"type\":\"Circle\"},{\"attributes\":{\"below\":[{\"id\":\"21076\"}],\"center\":[{\"id\":\"21079\"},{\"id\":\"21083\"}],\"left\":[{\"id\":\"21080\"}],\"min_border\":50,\"plot_height\":300,\"plot_width\":300,\"renderers\":[{\"id\":\"21091\"}],\"title\":{\"id\":\"21066\"},\"toolbar\":{\"id\":\"21086\"},\"x_range\":{\"id\":\"21068\"},\"x_scale\":{\"id\":\"21072\"},\"y_range\":{\"id\":\"21070\"},\"y_scale\":{\"id\":\"21074\"}},\"id\":\"21065\",\"subtype\":\"Figure\",\"type\":\"Plot\"},{\"attributes\":{\"text\":\"Click/Tap Tools - Tap\"},\"id\":\"21039\",\"type\":\"Title\"},{\"attributes\":{\"data_source\":{\"id\":\"21005\"},\"glyph\":{\"id\":\"21006\"},\"hover_glyph\":null,\"muted_glyph\":null,\"nonselection_glyph\":{\"id\":\"21007\"},\"selection_glyph\":null,\"view\":{\"id\":\"21009\"}},\"id\":\"21008\",\"type\":\"GlyphRenderer\"},{\"attributes\":{},\"id\":\"21045\",\"type\":\"LinearScale\"},{\"attributes\":{},\"id\":\"20964\",\"type\":\"LinearScale\"},{\"attributes\":{},\"id\":\"21041\",\"type\":\"DataRange1d\"},{\"attributes\":{\"formatter\":{\"id\":\"22028\"},\"ticker\":{\"id\":\"20967\"}},\"id\":\"20966\",\"type\":\"LinearAxis\"},{\"attributes\":{\"fill_alpha\":{\"value\":0.1},\"fill_color\":{\"value\":\"#1f77b4\"},\"line_alpha\":{\"value\":0.1},\"line_color\":{\"value\":\"#1f77b4\"},\"size\":{\"units\":\"screen\",\"value\":10},\"x\":{\"field\":\"x\"},\"y\":{\"field\":\"y\"}},\"id\":\"21007\",\"type\":\"Circle\"},{\"attributes\":{},\"id\":\"20960\",\"type\":\"DataRange1d\"},{\"attributes\":{\"fill_color\":{\"value\":\"#1f77b4\"},\"line_color\":{\"value\":\"#1f77b4\"},\"size\":{\"units\":\"screen\",\"value\":10},\"x\":{\"field\":\"x\"},\"y\":{\"field\":\"y\"}},\"id\":\"21006\",\"type\":\"Circle\"},{\"attributes\":{},\"id\":\"21072\",\"type\":\"LinearScale\"},{\"attributes\":{},\"id\":\"21043\",\"type\":\"DataRange1d\"},{\"attributes\":{\"fill_color\":{\"value\":\"#1f77b4\"},\"line_color\":{\"value\":\"#1f77b4\"},\"size\":{\"units\":\"screen\",\"value\":10},\"x\":{\"field\":\"x\"},\"y\":{\"field\":\"y\"}},\"id\":\"20978\",\"type\":\"Circle\"},{\"attributes\":{\"active_drag\":\"auto\",\"active_inspect\":\"auto\",\"active_multi\":null,\"active_scroll\":\"auto\",\"active_tap\":\"auto\",\"tools\":[{\"id\":\"20974\"}]},\"id\":\"20975\",\"type\":\"Toolbar\"},{\"attributes\":{},\"id\":\"21047\",\"type\":\"LinearScale\"},{\"attributes\":{\"below\":[{\"id\":\"21049\"}],\"center\":[{\"id\":\"21052\"},{\"id\":\"21056\"}],\"left\":[{\"id\":\"21053\"}],\"min_border\":50,\"plot_height\":300,\"plot_width\":300,\"renderers\":[{\"id\":\"21063\"}],\"title\":{\"id\":\"21039\"},\"toolbar\":{\"id\":\"21058\"},\"x_range\":{\"id\":\"21041\"},\"x_scale\":{\"id\":\"21045\"},\"y_range\":{\"id\":\"21043\"},\"y_scale\":{\"id\":\"21047\"}},\"id\":\"21038\",\"subtype\":\"Figure\",\"type\":\"Plot\"},{\"attributes\":{\"data_source\":{\"id\":\"20977\"},\"glyph\":{\"id\":\"20978\"},\"hover_glyph\":null,\"muted_glyph\":null,\"nonselection_glyph\":{\"id\":\"20979\"},\"selection_glyph\":null,\"view\":{\"id\":\"20981\"}},\"id\":\"20980\",\"type\":\"GlyphRenderer\"},{\"attributes\":{\"formatter\":{\"id\":\"22040\"},\"ticker\":{\"id\":\"21050\"}},\"id\":\"21049\",\"type\":\"LinearAxis\"},{\"attributes\":{},\"id\":\"21054\",\"type\":\"BasicTicker\"},{\"attributes\":{\"fill_alpha\":0.5,\"fill_color\":\"lightgrey\",\"level\":\"overlay\",\"line_alpha\":1.0,\"line_color\":\"black\",\"line_dash\":[4,4],\"line_width\":2,\"xs_units\":\"screen\",\"ys_units\":\"screen\"},\"id\":\"21002\",\"type\":\"PolyAnnotation\"},{\"attributes\":{},\"id\":\"21050\",\"type\":\"BasicTicker\"},{\"attributes\":{},\"id\":\"21070\",\"type\":\"DataRange1d\"},{\"attributes\":{\"axis\":{\"id\":\"21049\"},\"ticker\":null},\"id\":\"21052\",\"type\":\"Grid\"},{\"attributes\":{\"text\":\"Pan/Drag Tools - box_select\"},\"id\":\"21011\",\"type\":\"Title\"},{\"attributes\":{\"axis\":{\"id\":\"21053\"},\"dimension\":1,\"ticker\":null},\"id\":\"21056\",\"type\":\"Grid\"},{\"attributes\":{\"formatter\":{\"id\":\"22038\"},\"ticker\":{\"id\":\"21054\"}},\"id\":\"21053\",\"type\":\"LinearAxis\"},{\"attributes\":{},\"id\":\"22044\",\"type\":\"BasicTickFormatter\"},{\"attributes\":{},\"id\":\"22046\",\"type\":\"BasicTickFormatter\"},{\"attributes\":{\"formatter\":{\"id\":\"22044\"},\"ticker\":{\"id\":\"21077\"}},\"id\":\"21076\",\"type\":\"LinearAxis\"},{\"attributes\":{},\"id\":\"22056\",\"type\":\"Selection\"},{\"attributes\":{},\"id\":\"22054\",\"type\":\"UnionRenderers\"},{\"attributes\":{\"active_drag\":\"auto\",\"active_inspect\":\"auto\",\"active_multi\":null,\"active_scroll\":\"auto\",\"active_tap\":\"auto\",\"tools\":[{\"id\":\"21057\"}]},\"id\":\"21058\",\"type\":\"Toolbar\"},{\"attributes\":{},\"id\":\"22053\",\"type\":\"Selection\"},{\"attributes\":{\"callback\":null},\"id\":\"21057\",\"type\":\"TapTool\"},{\"attributes\":{},\"id\":\"22034\",\"type\":\"BasicTickFormatter\"},{\"attributes\":{\"source\":{\"id\":\"21088\"}},\"id\":\"21092\",\"type\":\"CDSView\"},{\"attributes\":{},\"id\":\"22057\",\"type\":\"UnionRenderers\"},{\"attributes\":{},\"id\":\"22036\",\"type\":\"BasicTickFormatter\"},{\"attributes\":{},\"id\":\"22051\",\"type\":\"UnionRenderers\"},{\"attributes\":{\"data_source\":{\"id\":\"21088\"},\"glyph\":{\"id\":\"21089\"},\"hover_glyph\":null,\"muted_glyph\":null,\"nonselection_glyph\":{\"id\":\"21090\"},\"selection_glyph\":null,\"view\":{\"id\":\"21092\"}},\"id\":\"21091\",\"type\":\"GlyphRenderer\"},{\"attributes\":{},\"id\":\"22032\",\"type\":\"BasicTickFormatter\"},{\"attributes\":{\"axis\":{\"id\":\"21076\"},\"ticker\":null},\"id\":\"21079\",\"type\":\"Grid\"},{\"attributes\":{},\"id\":\"21081\",\"type\":\"BasicTicker\"},{\"attributes\":{\"fill_alpha\":0.5,\"fill_color\":\"lightgrey\",\"level\":\"overlay\",\"line_alpha\":1.0,\"line_color\":\"black\",\"line_dash\":[4,4],\"line_width\":2,\"xs_units\":\"screen\",\"ys_units\":\"screen\"},\"id\":\"21085\",\"type\":\"PolyAnnotation\"},{\"attributes\":{\"children\":[{\"id\":\"20955\"},{\"id\":\"20982\"},{\"id\":\"21010\"}]},\"id\":\"21121\",\"type\":\"Row\"},{\"attributes\":{\"formatter\":{\"id\":\"22036\"},\"ticker\":{\"id\":\"21022\"}},\"id\":\"21021\",\"type\":\"LinearAxis\"},{\"attributes\":{\"source\":{\"id\":\"21115\"}},\"id\":\"21119\",\"type\":\"CDSView\"},{\"attributes\":{},\"id\":\"20998\",\"type\":\"BasicTicker\"},{\"attributes\":{\"overlay\":{\"id\":\"21002\"}},\"id\":\"21001\",\"type\":\"LassoSelectTool\"},{\"attributes\":{},\"id\":\"22040\",\"type\":\"BasicTickFormatter\"},{\"attributes\":{\"axis\":{\"id\":\"20997\"},\"dimension\":1,\"ticker\":null},\"id\":\"21000\",\"type\":\"Grid\"},{\"attributes\":{\"fill_alpha\":{\"value\":0.1},\"fill_color\":{\"value\":\"#1f77b4\"},\"line_alpha\":{\"value\":0.1},\"line_color\":{\"value\":\"#1f77b4\"},\"size\":{\"units\":\"screen\",\"value\":10},\"x\":{\"field\":\"x\"},\"y\":{\"field\":\"y\"}},\"id\":\"21117\",\"type\":\"Circle\"},{\"attributes\":{\"active_drag\":\"auto\",\"active_inspect\":\"auto\",\"active_multi\":null,\"active_scroll\":\"auto\",\"active_tap\":\"auto\",\"tools\":[{\"id\":\"21001\"}]},\"id\":\"21003\",\"type\":\"Toolbar\"},{\"attributes\":{\"data_source\":{\"id\":\"21115\"},\"glyph\":{\"id\":\"21116\"},\"hover_glyph\":null,\"muted_glyph\":null,\"nonselection_glyph\":{\"id\":\"21117\"},\"selection_glyph\":null,\"view\":{\"id\":\"21119\"}},\"id\":\"21118\",\"type\":\"GlyphRenderer\"},{\"attributes\":{},\"id\":\"21015\",\"type\":\"DataRange1d\"},{\"attributes\":{},\"id\":\"22038\",\"type\":\"BasicTickFormatter\"},{\"attributes\":{\"children\":[{\"id\":\"21038\"},{\"id\":\"21065\"}]},\"id\":\"21122\",\"type\":\"Row\"},{\"attributes\":{\"children\":[{\"id\":\"21093\"}]},\"id\":\"21123\",\"type\":\"Row\"},{\"attributes\":{\"data\":{\"x\":[1,2,3,4,5],\"y\":[2,5,8,2,7]},\"selected\":{\"id\":\"22063\"},\"selection_policy\":{\"id\":\"22064\"}},\"id\":\"21115\",\"type\":\"ColumnDataSource\"},{\"attributes\":{},\"id\":\"21022\",\"type\":\"BasicTicker\"},{\"attributes\":{\"fill_alpha\":{\"value\":0.1},\"fill_color\":{\"value\":\"#1f77b4\"},\"line_alpha\":{\"value\":0.1},\"line_color\":{\"value\":\"#1f77b4\"},\"size\":{\"units\":\"screen\",\"value\":10},\"x\":{\"field\":\"x\"},\"y\":{\"field\":\"y\"}},\"id\":\"21090\",\"type\":\"Circle\"},{\"attributes\":{\"fill_color\":{\"value\":\"#1f77b4\"},\"line_color\":{\"value\":\"#1f77b4\"},\"size\":{\"units\":\"screen\",\"value\":10},\"x\":{\"field\":\"x\"},\"y\":{\"field\":\"y\"}},\"id\":\"21116\",\"type\":\"Circle\"},{\"attributes\":{\"text\":\"<h1>Try Playing around with these plots to see what plot tools do</h1>\"},\"id\":\"21120\",\"type\":\"Div\"},{\"attributes\":{},\"id\":\"22062\",\"type\":\"UnionRenderers\"},{\"attributes\":{\"text\":\"Scroll/Pinch Tool - wheel_zoom\"},\"id\":\"21094\",\"type\":\"Title\"},{\"attributes\":{},\"id\":\"21100\",\"type\":\"LinearScale\"},{\"attributes\":{},\"id\":\"22059\",\"type\":\"UnionRenderers\"},{\"attributes\":{},\"id\":\"21096\",\"type\":\"DataRange1d\"},{\"attributes\":{},\"id\":\"22061\",\"type\":\"Selection\"},{\"attributes\":{},\"id\":\"22058\",\"type\":\"Selection\"},{\"attributes\":{},\"id\":\"22063\",\"type\":\"Selection\"},{\"attributes\":{},\"id\":\"21098\",\"type\":\"DataRange1d\"},{\"attributes\":{},\"id\":\"22050\",\"type\":\"Selection\"},{\"attributes\":{},\"id\":\"22064\",\"type\":\"UnionRenderers\"},{\"attributes\":{},\"id\":\"21102\",\"type\":\"LinearScale\"},{\"attributes\":{},\"id\":\"22048\",\"type\":\"BasicTickFormatter\"},{\"attributes\":{\"axis\":{\"id\":\"20970\"},\"dimension\":1,\"ticker\":null},\"id\":\"20973\",\"type\":\"Grid\"},{\"attributes\":{\"formatter\":{\"id\":\"22048\"},\"ticker\":{\"id\":\"21105\"}},\"id\":\"21104\",\"type\":\"LinearAxis\"},{\"attributes\":{},\"id\":\"21109\",\"type\":\"BasicTicker\"},{\"attributes\":{},\"id\":\"21105\",\"type\":\"BasicTicker\"},{\"attributes\":{},\"id\":\"21074\",\"type\":\"LinearScale\"},{\"attributes\":{\"axis\":{\"id\":\"21104\"},\"ticker\":null},\"id\":\"21107\",\"type\":\"Grid\"},{\"attributes\":{\"axis\":{\"id\":\"21108\"},\"dimension\":1,\"ticker\":null},\"id\":\"21111\",\"type\":\"Grid\"},{\"attributes\":{\"formatter\":{\"id\":\"22046\"},\"ticker\":{\"id\":\"21109\"}},\"id\":\"21108\",\"type\":\"LinearAxis\"},{\"attributes\":{},\"id\":\"22030\",\"type\":\"BasicTickFormatter\"},{\"attributes\":{},\"id\":\"21112\",\"type\":\"WheelZoomTool\"},{\"attributes\":{},\"id\":\"20974\",\"type\":\"PanTool\"},{\"attributes\":{\"active_drag\":\"auto\",\"active_inspect\":\"auto\",\"active_multi\":null,\"active_scroll\":\"auto\",\"active_tap\":\"auto\",\"tools\":[{\"id\":\"21112\"}]},\"id\":\"21113\",\"type\":\"Toolbar\"},{\"attributes\":{},\"id\":\"22026\",\"type\":\"BasicTickFormatter\"},{\"attributes\":{\"axis\":{\"id\":\"21021\"},\"ticker\":null},\"id\":\"21024\",\"type\":\"Grid\"},{\"attributes\":{},\"id\":\"21077\",\"type\":\"BasicTicker\"}],\"root_ids\":[\"21124\"]},\"title\":\"Bokeh Application\",\"version\":\"2.2.3\"}};\n",
       "  var render_items = [{\"docid\":\"67dd2940-d6f9-4b72-9668-5b1c997eb16d\",\"root_ids\":[\"21124\"],\"roots\":{\"21124\":\"437957cc-624c-4943-a5d3-732fbd8f14e1\"}}];\n",
       "  root.Bokeh.embed.embed_items_notebook(docs_json, render_items);\n",
       "\n",
       "  }\n",
       "  if (root.Bokeh !== undefined) {\n",
       "    embed_document(root);\n",
       "  } else {\n",
       "    var attempts = 0;\n",
       "    var timer = setInterval(function(root) {\n",
       "      if (root.Bokeh !== undefined) {\n",
       "        clearInterval(timer);\n",
       "        embed_document(root);\n",
       "      } else {\n",
       "        attempts++;\n",
       "        if (attempts > 100) {\n",
       "          clearInterval(timer);\n",
       "          console.log(\"Bokeh: ERROR: Unable to run BokehJS code because BokehJS library is missing\");\n",
       "        }\n",
       "      }\n",
       "    }, 10, root)\n",
       "  }\n",
       "})(window);"
      ],
      "application/vnd.bokehjs_exec.v0+json": ""
     },
     "metadata": {
      "application/vnd.bokehjs_exec.v0+json": {
       "id": "21124"
      }
     },
     "output_type": "display_data"
    }
   ],
   "source": [
    "# Have gestures ki ek row, 1 for pan/drag, 1 for click/tap, har row me x columns pan ka ek column, drag ka ek columns\n",
    "# todo\n",
    "# Gestures\n",
    "plot_1a = figure(plot_width=300, plot_height=300,tools=\"pan\", title='Pan/Drag Tools - Pan', min_border=50)\n",
    "plot_1a.circle([1, 2, 3, 4, 5], [2, 5, 8, 2, 7], size=10)\n",
    "\n",
    "plot_1b = figure(plot_width=300, plot_height=300,tools=\"lasso_select\", title='Pan/Drag Tools - lasso_select', min_border=50)\n",
    "plot_1b.circle([1, 2, 3, 4, 5], [2, 5, 8, 2, 7], size=10)\n",
    "\n",
    "plot_1c = figure(plot_width=300, plot_height=300,tools=\"box_select\", title='Pan/Drag Tools - box_select', min_border=50)\n",
    "plot_1c.circle([1, 2, 3, 4, 5], [2, 5, 8, 2, 7], size=10)\n",
    "\n",
    "\n",
    "\n",
    "plot_2a = figure(plot_width=300, plot_height=300,tools=\"tap\", title='Click/Tap Tools - Tap', min_border=50)\n",
    "plot_2a.circle([1, 2, 3, 4, 5], [2, 5, 8, 2, 7], size=10)\n",
    "\n",
    "plot_2b = figure(plot_width=300, plot_height=300,tools=\"poly_select\", title='Click/Tap Tools - poly_select', min_border=50)\n",
    "plot_2b.circle([1, 2, 3, 4, 5], [2, 5, 8, 2, 7], size=10)\n",
    "\n",
    "\n",
    "plot_3 = figure(plot_width=300, plot_height=300,tools=\"wheel_zoom\", title='Scroll/Pinch Tool - wheel_zoom', min_border=50)\n",
    "plot_3.circle([1, 2, 3, 4, 5], [2, 5, 8, 2, 7], size=10)\n",
    "\n",
    "\n",
    "# Ignore this part if you don't understand this yet, we will cover this in a bit\n",
    "from bokeh.layouts import row\n",
    "from bokeh.models import Div\n",
    "title = Div(text=\"\"\"<h1>Try Playing around with these plots to see what plot tools do</h1>\"\"\")\n",
    "show(column(title,row(plot_1a,plot_1b,plot_1c),row(plot_2a,plot_2b),row(plot_3)))\n",
    "\n",
    "\n",
    "# from bokeh.layouts import gridplot\n",
    "# layout = gridplot([[plot_1a,plot_1b,plot_1c],[plot_2a,plot_2b,None],[plot_3,None,None]])\n",
    "# show(layout)"
   ]
  },
  {
   "cell_type": "markdown",
   "metadata": {},
   "source": [
    "<a id = \"16\"></a>\n",
    "### 2. Actions\n",
    "\n",
    "<ul>\n",
    "    <li>UndoTool ('undo') # The undo tool allows to restore previous state of the plot.</li>\n",
    "    <li>RedoTool ('redo') # The redo tool reverses the last action performed by undo tool.</li>\n",
    "    <li>ResetTool ('reset') # The reset tool will restore the plot ranges to their original values.</li>\n",
    "    <li>SaveTool ('save') # The save tool pops up a modal dialog that allows the user to save a PNG image of the plot.</li>\n",
    "    <li>ZoomInTool ('zoom_in') # The zoom-in tool will increase the zoom of the plot. It will respect any min and max values and ranges preventing zooming in and out beyond these.</li>\n",
    "    <li>ZoomOutTool ('zoom_out') # The zoom-out tool will decrease the zoom level of the plot. It will respect any min and max values and ranges preventing zooming in and out beyond these.</li>\n",
    "</ul>"
   ]
  },
  {
   "cell_type": "code",
   "execution_count": 20,
   "metadata": {},
   "outputs": [
    {
     "data": {
      "text/html": [
       "\n",
       "\n",
       "\n",
       "\n",
       "\n",
       "\n",
       "  <div class=\"bk-root\" id=\"a7749651-5dde-4c81-83df-ee816936c2d3\" data-root-id=\"5365\"></div>\n"
      ]
     },
     "metadata": {},
     "output_type": "display_data"
    },
    {
     "data": {
      "application/javascript": [
       "(function(root) {\n",
       "  function embed_document(root) {\n",
       "    \n",
       "  var docs_json = {\"780389a1-0393-44d8-84df-eb00849fb74a\":{\"roots\":{\"references\":[{\"attributes\":{\"below\":[{\"id\":\"5376\"}],\"center\":[{\"id\":\"5379\"},{\"id\":\"5383\"}],\"left\":[{\"id\":\"5380\"}],\"min_border\":30,\"plot_height\":300,\"plot_width\":300,\"renderers\":[{\"id\":\"5400\"}],\"title\":{\"id\":\"5366\"},\"toolbar\":{\"id\":\"5390\"},\"x_range\":{\"id\":\"5368\"},\"x_scale\":{\"id\":\"5372\"},\"y_range\":{\"id\":\"5370\"},\"y_scale\":{\"id\":\"5374\"}},\"id\":\"5365\",\"subtype\":\"Figure\",\"type\":\"Plot\"},{\"attributes\":{},\"id\":\"5386\",\"type\":\"ResetTool\"},{\"attributes\":{},\"id\":\"5635\",\"type\":\"UnionRenderers\"},{\"attributes\":{\"text\":\"Actions\"},\"id\":\"5366\",\"type\":\"Title\"},{\"attributes\":{},\"id\":\"5381\",\"type\":\"BasicTicker\"},{\"attributes\":{},\"id\":\"5387\",\"type\":\"SaveTool\"},{\"attributes\":{},\"id\":\"5377\",\"type\":\"BasicTicker\"},{\"attributes\":{},\"id\":\"5372\",\"type\":\"LinearScale\"},{\"attributes\":{\"formatter\":{\"id\":\"5632\"},\"ticker\":{\"id\":\"5377\"}},\"id\":\"5376\",\"type\":\"LinearAxis\"},{\"attributes\":{\"data\":{\"x\":[1,2,3,4,5],\"y\":[2,5,8,2,7]},\"selected\":{\"id\":\"5634\"},\"selection_policy\":{\"id\":\"5635\"}},\"id\":\"5397\",\"type\":\"ColumnDataSource\"},{\"attributes\":{\"axis\":{\"id\":\"5376\"},\"ticker\":null},\"id\":\"5379\",\"type\":\"Grid\"},{\"attributes\":{},\"id\":\"5368\",\"type\":\"DataRange1d\"},{\"attributes\":{\"axis\":{\"id\":\"5380\"},\"dimension\":1,\"ticker\":null},\"id\":\"5383\",\"type\":\"Grid\"},{\"attributes\":{\"formatter\":{\"id\":\"5630\"},\"ticker\":{\"id\":\"5381\"}},\"id\":\"5380\",\"type\":\"LinearAxis\"},{\"attributes\":{\"fill_alpha\":{\"value\":0.1},\"fill_color\":{\"value\":\"#1f77b4\"},\"line_alpha\":{\"value\":0.1},\"line_color\":{\"value\":\"#1f77b4\"},\"size\":{\"units\":\"screen\",\"value\":10},\"x\":{\"field\":\"x\"},\"y\":{\"field\":\"y\"}},\"id\":\"5399\",\"type\":\"Circle\"},{\"attributes\":{\"fill_color\":{\"value\":\"#1f77b4\"},\"line_color\":{\"value\":\"#1f77b4\"},\"size\":{\"units\":\"screen\",\"value\":10},\"x\":{\"field\":\"x\"},\"y\":{\"field\":\"y\"}},\"id\":\"5398\",\"type\":\"Circle\"},{\"attributes\":{\"source\":{\"id\":\"5397\"}},\"id\":\"5401\",\"type\":\"CDSView\"},{\"attributes\":{},\"id\":\"5385\",\"type\":\"RedoTool\"},{\"attributes\":{},\"id\":\"5630\",\"type\":\"BasicTickFormatter\"},{\"attributes\":{},\"id\":\"5632\",\"type\":\"BasicTickFormatter\"},{\"attributes\":{\"data_source\":{\"id\":\"5397\"},\"glyph\":{\"id\":\"5398\"},\"hover_glyph\":null,\"muted_glyph\":null,\"nonselection_glyph\":{\"id\":\"5399\"},\"selection_glyph\":null,\"view\":{\"id\":\"5401\"}},\"id\":\"5400\",\"type\":\"GlyphRenderer\"},{\"attributes\":{},\"id\":\"5388\",\"type\":\"ZoomInTool\"},{\"attributes\":{\"active_drag\":\"auto\",\"active_inspect\":\"auto\",\"active_multi\":null,\"active_scroll\":\"auto\",\"active_tap\":\"auto\",\"tools\":[{\"id\":\"5384\"},{\"id\":\"5385\"},{\"id\":\"5386\"},{\"id\":\"5387\"},{\"id\":\"5388\"},{\"id\":\"5389\"}]},\"id\":\"5390\",\"type\":\"Toolbar\"},{\"attributes\":{},\"id\":\"5384\",\"type\":\"UndoTool\"},{\"attributes\":{},\"id\":\"5634\",\"type\":\"Selection\"},{\"attributes\":{},\"id\":\"5374\",\"type\":\"LinearScale\"},{\"attributes\":{},\"id\":\"5370\",\"type\":\"DataRange1d\"},{\"attributes\":{},\"id\":\"5389\",\"type\":\"ZoomOutTool\"}],\"root_ids\":[\"5365\"]},\"title\":\"Bokeh Application\",\"version\":\"2.2.3\"}};\n",
       "  var render_items = [{\"docid\":\"780389a1-0393-44d8-84df-eb00849fb74a\",\"root_ids\":[\"5365\"],\"roots\":{\"5365\":\"a7749651-5dde-4c81-83df-ee816936c2d3\"}}];\n",
       "  root.Bokeh.embed.embed_items_notebook(docs_json, render_items);\n",
       "\n",
       "  }\n",
       "  if (root.Bokeh !== undefined) {\n",
       "    embed_document(root);\n",
       "  } else {\n",
       "    var attempts = 0;\n",
       "    var timer = setInterval(function(root) {\n",
       "      if (root.Bokeh !== undefined) {\n",
       "        clearInterval(timer);\n",
       "        embed_document(root);\n",
       "      } else {\n",
       "        attempts++;\n",
       "        if (attempts > 100) {\n",
       "          clearInterval(timer);\n",
       "          console.log(\"Bokeh: ERROR: Unable to run BokehJS code because BokehJS library is missing\");\n",
       "        }\n",
       "      }\n",
       "    }, 10, root)\n",
       "  }\n",
       "})(window);"
      ],
      "application/vnd.bokehjs_exec.v0+json": ""
     },
     "metadata": {
      "application/vnd.bokehjs_exec.v0+json": {
       "id": "5365"
      }
     },
     "output_type": "display_data"
    }
   ],
   "source": [
    "# Actions\n",
    "plot = figure(plot_width=300, plot_height=300,tools=\"undo, redo, reset, save, zoom_in, zoom_out\", title='Actions', min_border=30)\n",
    "plot.circle([1, 2, 3, 4, 5], [2, 5, 8, 2, 7], size=10)\n",
    "show(plot)"
   ]
  },
  {
   "cell_type": "markdown",
   "metadata": {},
   "source": [
    "<a id = \"17\"></a>\n",
    "### 3. Inspectors\n",
    "Inspectors are passive tools that annotate or otherwise report information about the plot, based on the current cursor position. Any number of inspectors may be active at any given time. The inspectors menu in the toolbar allows users to toggle the active state of any inspector.\n",
    "\n",
    "<ul>\n",
    "    <li>CrosshairTool ('crosshair') # Th crosshair tool draws a crosshair annotation over the plot, centered on the current mouse position</li>\n",
    "    <li>HoverTool ('hover') # The hover tool is a passive inspector tool.</li>\n",
    "</ul>"
   ]
  },
  {
   "cell_type": "code",
   "execution_count": 47,
   "metadata": {},
   "outputs": [
    {
     "data": {
      "text/html": [
       "\n",
       "\n",
       "\n",
       "\n",
       "\n",
       "\n",
       "  <div class=\"bk-root\" id=\"adb1c2a7-48f9-4a4e-bb1a-1f11e8da0a04\" data-root-id=\"23423\"></div>\n"
      ]
     },
     "metadata": {},
     "output_type": "display_data"
    },
    {
     "data": {
      "application/javascript": [
       "(function(root) {\n",
       "  function embed_document(root) {\n",
       "    \n",
       "  var docs_json = {\"ca2cdf2f-e421-4856-8b62-79acf6910c01\":{\"roots\":{\"references\":[{\"attributes\":{\"children\":[{\"id\":\"23369\"},{\"id\":\"23396\"}]},\"id\":\"23423\",\"type\":\"Row\"},{\"attributes\":{\"active_drag\":\"auto\",\"active_inspect\":\"auto\",\"active_multi\":null,\"active_scroll\":\"auto\",\"active_tap\":\"auto\",\"tools\":[{\"id\":\"23415\"}]},\"id\":\"23416\",\"type\":\"Toolbar\"},{\"attributes\":{\"source\":{\"id\":\"23391\"}},\"id\":\"23395\",\"type\":\"CDSView\"},{\"attributes\":{\"data\":{\"x\":[1,2,3,4,5],\"y\":[2,5,8,2,7]},\"selected\":{\"id\":\"24390\"},\"selection_policy\":{\"id\":\"24391\"}},\"id\":\"23418\",\"type\":\"ColumnDataSource\"},{\"attributes\":{\"text\":\"Inspectors - hover\"},\"id\":\"23397\",\"type\":\"Title\"},{\"attributes\":{},\"id\":\"23376\",\"type\":\"LinearScale\"},{\"attributes\":{\"formatter\":{\"id\":\"24380\"},\"ticker\":{\"id\":\"23385\"}},\"id\":\"23384\",\"type\":\"LinearAxis\"},{\"attributes\":{},\"id\":\"23403\",\"type\":\"LinearScale\"},{\"attributes\":{},\"id\":\"23399\",\"type\":\"DataRange1d\"},{\"attributes\":{},\"id\":\"23374\",\"type\":\"DataRange1d\"},{\"attributes\":{},\"id\":\"23381\",\"type\":\"BasicTicker\"},{\"attributes\":{},\"id\":\"24382\",\"type\":\"BasicTickFormatter\"},{\"attributes\":{\"axis\":{\"id\":\"23380\"},\"ticker\":null},\"id\":\"23383\",\"type\":\"Grid\"},{\"attributes\":{},\"id\":\"24388\",\"type\":\"Selection\"},{\"attributes\":{},\"id\":\"23372\",\"type\":\"DataRange1d\"},{\"attributes\":{},\"id\":\"24380\",\"type\":\"BasicTickFormatter\"},{\"attributes\":{},\"id\":\"24389\",\"type\":\"UnionRenderers\"},{\"attributes\":{\"data_source\":{\"id\":\"23391\"},\"glyph\":{\"id\":\"23392\"},\"hover_glyph\":null,\"muted_glyph\":null,\"nonselection_glyph\":{\"id\":\"23393\"},\"selection_glyph\":null,\"view\":{\"id\":\"23395\"}},\"id\":\"23394\",\"type\":\"GlyphRenderer\"},{\"attributes\":{},\"id\":\"23401\",\"type\":\"DataRange1d\"},{\"attributes\":{},\"id\":\"24384\",\"type\":\"BasicTickFormatter\"},{\"attributes\":{},\"id\":\"23405\",\"type\":\"LinearScale\"},{\"attributes\":{\"text\":\"Inspectors - crosshair\"},\"id\":\"23370\",\"type\":\"Title\"},{\"attributes\":{\"data_source\":{\"id\":\"23418\"},\"glyph\":{\"id\":\"23419\"},\"hover_glyph\":null,\"muted_glyph\":null,\"nonselection_glyph\":{\"id\":\"23420\"},\"selection_glyph\":null,\"view\":{\"id\":\"23422\"}},\"id\":\"23421\",\"type\":\"GlyphRenderer\"},{\"attributes\":{},\"id\":\"24390\",\"type\":\"Selection\"},{\"attributes\":{\"formatter\":{\"id\":\"24386\"},\"ticker\":{\"id\":\"23408\"}},\"id\":\"23407\",\"type\":\"LinearAxis\"},{\"attributes\":{},\"id\":\"23412\",\"type\":\"BasicTicker\"},{\"attributes\":{\"source\":{\"id\":\"23418\"}},\"id\":\"23422\",\"type\":\"CDSView\"},{\"attributes\":{\"axis\":{\"id\":\"23384\"},\"dimension\":1,\"ticker\":null},\"id\":\"23387\",\"type\":\"Grid\"},{\"attributes\":{},\"id\":\"23408\",\"type\":\"BasicTicker\"},{\"attributes\":{},\"id\":\"23385\",\"type\":\"BasicTicker\"},{\"attributes\":{},\"id\":\"23388\",\"type\":\"CrosshairTool\"},{\"attributes\":{\"callback\":null},\"id\":\"23415\",\"type\":\"HoverTool\"},{\"attributes\":{\"axis\":{\"id\":\"23407\"},\"ticker\":null},\"id\":\"23410\",\"type\":\"Grid\"},{\"attributes\":{\"fill_alpha\":{\"value\":0.1},\"fill_color\":{\"value\":\"#1f77b4\"},\"line_alpha\":{\"value\":0.1},\"line_color\":{\"value\":\"#1f77b4\"},\"size\":{\"units\":\"screen\",\"value\":10},\"x\":{\"field\":\"x\"},\"y\":{\"field\":\"y\"}},\"id\":\"23420\",\"type\":\"Circle\"},{\"attributes\":{\"fill_alpha\":{\"value\":0.1},\"fill_color\":{\"value\":\"#1f77b4\"},\"line_alpha\":{\"value\":0.1},\"line_color\":{\"value\":\"#1f77b4\"},\"size\":{\"units\":\"screen\",\"value\":10},\"x\":{\"field\":\"x\"},\"y\":{\"field\":\"y\"}},\"id\":\"23393\",\"type\":\"Circle\"},{\"attributes\":{},\"id\":\"24391\",\"type\":\"UnionRenderers\"},{\"attributes\":{\"axis\":{\"id\":\"23411\"},\"dimension\":1,\"ticker\":null},\"id\":\"23414\",\"type\":\"Grid\"},{\"attributes\":{\"formatter\":{\"id\":\"24384\"},\"ticker\":{\"id\":\"23412\"}},\"id\":\"23411\",\"type\":\"LinearAxis\"},{\"attributes\":{},\"id\":\"23378\",\"type\":\"LinearScale\"},{\"attributes\":{},\"id\":\"24386\",\"type\":\"BasicTickFormatter\"},{\"attributes\":{\"active_drag\":\"auto\",\"active_inspect\":\"auto\",\"active_multi\":null,\"active_scroll\":\"auto\",\"active_tap\":\"auto\",\"tools\":[{\"id\":\"23388\"}]},\"id\":\"23389\",\"type\":\"Toolbar\"},{\"attributes\":{\"data\":{\"x\":[1,2,3,4,5],\"y\":[2,5,8,2,7]},\"selected\":{\"id\":\"24388\"},\"selection_policy\":{\"id\":\"24389\"}},\"id\":\"23391\",\"type\":\"ColumnDataSource\"},{\"attributes\":{\"below\":[{\"id\":\"23407\"}],\"center\":[{\"id\":\"23410\"},{\"id\":\"23414\"}],\"left\":[{\"id\":\"23411\"}],\"min_border\":30,\"plot_height\":300,\"plot_width\":300,\"renderers\":[{\"id\":\"23421\"}],\"title\":{\"id\":\"23397\"},\"toolbar\":{\"id\":\"23416\"},\"x_range\":{\"id\":\"23399\"},\"x_scale\":{\"id\":\"23403\"},\"y_range\":{\"id\":\"23401\"},\"y_scale\":{\"id\":\"23405\"}},\"id\":\"23396\",\"subtype\":\"Figure\",\"type\":\"Plot\"},{\"attributes\":{\"fill_color\":{\"value\":\"#1f77b4\"},\"line_color\":{\"value\":\"#1f77b4\"},\"size\":{\"units\":\"screen\",\"value\":10},\"x\":{\"field\":\"x\"},\"y\":{\"field\":\"y\"}},\"id\":\"23419\",\"type\":\"Circle\"},{\"attributes\":{\"below\":[{\"id\":\"23380\"}],\"center\":[{\"id\":\"23383\"},{\"id\":\"23387\"}],\"left\":[{\"id\":\"23384\"}],\"min_border\":30,\"plot_height\":300,\"plot_width\":300,\"renderers\":[{\"id\":\"23394\"}],\"title\":{\"id\":\"23370\"},\"toolbar\":{\"id\":\"23389\"},\"x_range\":{\"id\":\"23372\"},\"x_scale\":{\"id\":\"23376\"},\"y_range\":{\"id\":\"23374\"},\"y_scale\":{\"id\":\"23378\"}},\"id\":\"23369\",\"subtype\":\"Figure\",\"type\":\"Plot\"},{\"attributes\":{\"formatter\":{\"id\":\"24382\"},\"ticker\":{\"id\":\"23381\"}},\"id\":\"23380\",\"type\":\"LinearAxis\"},{\"attributes\":{\"fill_color\":{\"value\":\"#1f77b4\"},\"line_color\":{\"value\":\"#1f77b4\"},\"size\":{\"units\":\"screen\",\"value\":10},\"x\":{\"field\":\"x\"},\"y\":{\"field\":\"y\"}},\"id\":\"23392\",\"type\":\"Circle\"}],\"root_ids\":[\"23423\"]},\"title\":\"Bokeh Application\",\"version\":\"2.2.3\"}};\n",
       "  var render_items = [{\"docid\":\"ca2cdf2f-e421-4856-8b62-79acf6910c01\",\"root_ids\":[\"23423\"],\"roots\":{\"23423\":\"adb1c2a7-48f9-4a4e-bb1a-1f11e8da0a04\"}}];\n",
       "  root.Bokeh.embed.embed_items_notebook(docs_json, render_items);\n",
       "\n",
       "  }\n",
       "  if (root.Bokeh !== undefined) {\n",
       "    embed_document(root);\n",
       "  } else {\n",
       "    var attempts = 0;\n",
       "    var timer = setInterval(function(root) {\n",
       "      if (root.Bokeh !== undefined) {\n",
       "        clearInterval(timer);\n",
       "        embed_document(root);\n",
       "      } else {\n",
       "        attempts++;\n",
       "        if (attempts > 100) {\n",
       "          clearInterval(timer);\n",
       "          console.log(\"Bokeh: ERROR: Unable to run BokehJS code because BokehJS library is missing\");\n",
       "        }\n",
       "      }\n",
       "    }, 10, root)\n",
       "  }\n",
       "})(window);"
      ],
      "application/vnd.bokehjs_exec.v0+json": ""
     },
     "metadata": {
      "application/vnd.bokehjs_exec.v0+json": {
       "id": "23423"
      }
     },
     "output_type": "display_data"
    }
   ],
   "source": [
    "# Inspectors\n",
    "plot_1 = figure(plot_width=300, plot_height=300,tools=\"crosshair\", title='Inspectors - crosshair', min_border=30)\n",
    "plot_1.circle([1, 2, 3, 4, 5], [2, 5, 8, 2, 7], size=10)\n",
    "\n",
    "plot_2 = figure(plot_width=300, plot_height=300,tools=\"hover\", title='Inspectors - hover', min_border=30)\n",
    "plot_2.circle([1, 2, 3, 4, 5], [2, 5, 8, 2, 7], size=10)\n",
    "show(row(plot_1,plot_2))"
   ]
  },
  {
   "cell_type": "markdown",
   "metadata": {},
   "source": [
    "<a id = \"18\"></a>\n",
    "### 4. Edit tools\n",
    "\n",
    "These are advanced features of bokeh, that we will not cover, Check the docs for more info\n",
    "\n",
    "---"
   ]
  },
  {
   "cell_type": "markdown",
   "metadata": {},
   "source": [
    "## Summary till now\n",
    "- Alright, now we have seen, how to work with the figure object, configure it to our liking.\n",
    "- Add 'glyphs' to our plot and configure then to our liking.\n",
    "- Configure the toolbar, to our liking and customize the plot tools.\n",
    "\n",
    "Now we will see how to arrange plots when we have more than one. "
   ]
  },
  {
   "cell_type": "markdown",
   "metadata": {},
   "source": [
    "# Introduction to layouts\n",
    "Sometimes we might want to create more than one plot at a time, we also want to link intercations across plots, or add annotations to our plot\n",
    "\n",
    "Bokeh supports user interface controls such as sliders and menus. These controls can be arranged visually within a document together with plots to make rich interacative applications\n",
    "\n",
    "\n",
    "What kind of layout's bokeh supports ?\n",
    "The simplest kind of layout involves putting elements(such as plots) in rows or columns. \n",
    "These layouts can also be nested to build up more sophisticated layouts.\n",
    "\n",
    "Arrange plots(and controls) visually on a page\n",
    "- Rows\n",
    "- Columns\n",
    "- Grid arrangements\n",
    "- Tabbed layouts\n",
    "\n",
    "Let's use bokeh's various layout functions with plots."
   ]
  },
  {
   "cell_type": "markdown",
   "metadata": {},
   "source": [
    "## Rows"
   ]
  },
  {
   "cell_type": "code",
   "execution_count": 22,
   "metadata": {},
   "outputs": [
    {
     "data": {
      "text/html": [
       "\n",
       "\n",
       "\n",
       "\n",
       "\n",
       "\n",
       "  <div class=\"bk-root\" id=\"22bf61e0-76fb-4ba2-a887-527b8aeda119\" data-root-id=\"6084\"></div>\n"
      ]
     },
     "metadata": {},
     "output_type": "display_data"
    },
    {
     "data": {
      "application/javascript": [
       "(function(root) {\n",
       "  function embed_document(root) {\n",
       "    \n",
       "  var docs_json = {\"3d4ea063-9856-4afa-bf56-74434c13734e\":{\"roots\":{\"references\":[{\"attributes\":{\"children\":[{\"id\":\"5976\"},{\"id\":\"6012\"},{\"id\":\"6048\"}]},\"id\":\"6084\",\"type\":\"Row\"},{\"attributes\":{\"active_drag\":\"auto\",\"active_inspect\":\"auto\",\"active_multi\":null,\"active_scroll\":\"auto\",\"active_tap\":\"auto\",\"tools\":[{\"id\":\"5993\"},{\"id\":\"5994\"},{\"id\":\"5995\"},{\"id\":\"5996\"},{\"id\":\"5997\"},{\"id\":\"5998\"}]},\"id\":\"6000\",\"type\":\"Toolbar\"},{\"attributes\":{},\"id\":\"5994\",\"type\":\"WheelZoomTool\"},{\"attributes\":{\"overlay\":{\"id\":\"5999\"}},\"id\":\"5995\",\"type\":\"BoxZoomTool\"},{\"attributes\":{},\"id\":\"5981\",\"type\":\"LinearScale\"},{\"attributes\":{},\"id\":\"5996\",\"type\":\"SaveTool\"},{\"attributes\":{},\"id\":\"5997\",\"type\":\"ResetTool\"},{\"attributes\":{\"text\":\"\"},\"id\":\"6326\",\"type\":\"Title\"},{\"attributes\":{\"text\":\"\"},\"id\":\"6328\",\"type\":\"Title\"},{\"attributes\":{},\"id\":\"6029\",\"type\":\"PanTool\"},{\"attributes\":{},\"id\":\"5998\",\"type\":\"HelpTool\"},{\"attributes\":{},\"id\":\"6013\",\"type\":\"DataRange1d\"},{\"attributes\":{\"text\":\"\"},\"id\":\"6330\",\"type\":\"Title\"},{\"attributes\":{},\"id\":\"6332\",\"type\":\"BasicTickFormatter\"},{\"attributes\":{},\"id\":\"6351\",\"type\":\"Selection\"},{\"attributes\":{\"source\":{\"id\":\"6043\"}},\"id\":\"6047\",\"type\":\"CDSView\"},{\"attributes\":{},\"id\":\"6352\",\"type\":\"UnionRenderers\"},{\"attributes\":{},\"id\":\"5979\",\"type\":\"DataRange1d\"},{\"attributes\":{},\"id\":\"6034\",\"type\":\"HelpTool\"},{\"attributes\":{},\"id\":\"6033\",\"type\":\"ResetTool\"},{\"attributes\":{\"bottom_units\":\"screen\",\"fill_alpha\":0.5,\"fill_color\":\"lightgrey\",\"left_units\":\"screen\",\"level\":\"overlay\",\"line_alpha\":1.0,\"line_color\":\"black\",\"line_dash\":[4,4],\"line_width\":2,\"right_units\":\"screen\",\"top_units\":\"screen\"},\"id\":\"5999\",\"type\":\"BoxAnnotation\"},{\"attributes\":{},\"id\":\"6032\",\"type\":\"SaveTool\"},{\"attributes\":{},\"id\":\"6349\",\"type\":\"UnionRenderers\"},{\"attributes\":{\"fill_alpha\":{\"value\":0.1},\"fill_color\":{\"value\":\"#1f77b4\"},\"line_alpha\":{\"value\":0.1},\"line_color\":{\"value\":\"#1f77b4\"},\"size\":{\"units\":\"screen\",\"value\":8},\"x\":{\"field\":\"x\"},\"y\":{\"field\":\"y\"}},\"id\":\"6045\",\"type\":\"Square\"},{\"attributes\":{},\"id\":\"6015\",\"type\":\"DataRange1d\"},{\"attributes\":{},\"id\":\"6017\",\"type\":\"LinearScale\"},{\"attributes\":{\"overlay\":{\"id\":\"6035\"}},\"id\":\"6031\",\"type\":\"BoxZoomTool\"},{\"attributes\":{\"data_source\":{\"id\":\"6043\"},\"glyph\":{\"id\":\"6044\"},\"hover_glyph\":null,\"muted_glyph\":null,\"nonselection_glyph\":{\"id\":\"6045\"},\"selection_glyph\":null,\"view\":{\"id\":\"6047\"}},\"id\":\"6046\",\"type\":\"GlyphRenderer\"},{\"attributes\":{},\"id\":\"6019\",\"type\":\"LinearScale\"},{\"attributes\":{\"formatter\":{\"id\":\"6338\"},\"ticker\":{\"id\":\"6022\"}},\"id\":\"6021\",\"type\":\"LinearAxis\"},{\"attributes\":{},\"id\":\"6026\",\"type\":\"BasicTicker\"},{\"attributes\":{},\"id\":\"6022\",\"type\":\"BasicTicker\"},{\"attributes\":{\"axis\":{\"id\":\"6021\"},\"ticker\":null},\"id\":\"6024\",\"type\":\"Grid\"},{\"attributes\":{\"formatter\":{\"id\":\"6336\"},\"ticker\":{\"id\":\"6026\"}},\"id\":\"6025\",\"type\":\"LinearAxis\"},{\"attributes\":{},\"id\":\"6348\",\"type\":\"Selection\"},{\"attributes\":{\"bottom_units\":\"screen\",\"fill_alpha\":0.5,\"fill_color\":\"lightgrey\",\"left_units\":\"screen\",\"level\":\"overlay\",\"line_alpha\":1.0,\"line_color\":\"black\",\"line_dash\":[4,4],\"line_width\":2,\"right_units\":\"screen\",\"top_units\":\"screen\"},\"id\":\"6035\",\"type\":\"BoxAnnotation\"},{\"attributes\":{\"active_drag\":\"auto\",\"active_inspect\":\"auto\",\"active_multi\":null,\"active_scroll\":\"auto\",\"active_tap\":\"auto\",\"tools\":[{\"id\":\"6029\"},{\"id\":\"6030\"},{\"id\":\"6031\"},{\"id\":\"6032\"},{\"id\":\"6033\"},{\"id\":\"6034\"}]},\"id\":\"6036\",\"type\":\"Toolbar\"},{\"attributes\":{},\"id\":\"6049\",\"type\":\"DataRange1d\"},{\"attributes\":{\"fill_alpha\":{\"value\":0.1},\"fill_color\":{\"value\":\"#1f77b4\"},\"line_alpha\":{\"value\":0.1},\"line_color\":{\"value\":\"#1f77b4\"},\"size\":{\"units\":\"screen\",\"value\":8},\"x\":{\"field\":\"x\"},\"y\":{\"field\":\"y\"}},\"id\":\"6081\",\"type\":\"Diamond\"},{\"attributes\":{\"data\":{\"x\":[1,3,2,5,2],\"y\":[4,7,1,3,5]},\"selected\":{\"id\":\"6351\"},\"selection_policy\":{\"id\":\"6352\"}},\"id\":\"6079\",\"type\":\"ColumnDataSource\"},{\"attributes\":{},\"id\":\"6051\",\"type\":\"DataRange1d\"},{\"attributes\":{},\"id\":\"6053\",\"type\":\"LinearScale\"},{\"attributes\":{},\"id\":\"6055\",\"type\":\"LinearScale\"},{\"attributes\":{\"formatter\":{\"id\":\"6342\"},\"ticker\":{\"id\":\"6058\"}},\"id\":\"6057\",\"type\":\"LinearAxis\"},{\"attributes\":{},\"id\":\"6062\",\"type\":\"BasicTicker\"},{\"attributes\":{},\"id\":\"6058\",\"type\":\"BasicTicker\"},{\"attributes\":{\"axis\":{\"id\":\"6057\"},\"ticker\":null},\"id\":\"6060\",\"type\":\"Grid\"},{\"attributes\":{\"source\":{\"id\":\"6079\"}},\"id\":\"6083\",\"type\":\"CDSView\"},{\"attributes\":{\"axis\":{\"id\":\"6061\"},\"dimension\":1,\"ticker\":null},\"id\":\"6064\",\"type\":\"Grid\"},{\"attributes\":{\"formatter\":{\"id\":\"6340\"},\"ticker\":{\"id\":\"6062\"}},\"id\":\"6061\",\"type\":\"LinearAxis\"},{\"attributes\":{\"active_drag\":\"auto\",\"active_inspect\":\"auto\",\"active_multi\":null,\"active_scroll\":\"auto\",\"active_tap\":\"auto\",\"tools\":[{\"id\":\"6065\"},{\"id\":\"6066\"},{\"id\":\"6067\"},{\"id\":\"6068\"},{\"id\":\"6069\"},{\"id\":\"6070\"}]},\"id\":\"6072\",\"type\":\"Toolbar\"},{\"attributes\":{},\"id\":\"5977\",\"type\":\"DataRange1d\"},{\"attributes\":{},\"id\":\"6065\",\"type\":\"PanTool\"},{\"attributes\":{\"below\":[{\"id\":\"5985\"}],\"center\":[{\"id\":\"5988\"},{\"id\":\"5992\"}],\"left\":[{\"id\":\"5989\"}],\"plot_height\":200,\"plot_width\":300,\"renderers\":[{\"id\":\"6010\"}],\"title\":{\"id\":\"6326\"},\"toolbar\":{\"id\":\"6000\"},\"x_range\":{\"id\":\"5977\"},\"x_scale\":{\"id\":\"5981\"},\"y_range\":{\"id\":\"5979\"},\"y_scale\":{\"id\":\"5983\"}},\"id\":\"5976\",\"subtype\":\"Figure\",\"type\":\"Plot\"},{\"attributes\":{\"below\":[{\"id\":\"6057\"}],\"center\":[{\"id\":\"6060\"},{\"id\":\"6064\"}],\"left\":[{\"id\":\"6061\"}],\"plot_height\":200,\"plot_width\":300,\"renderers\":[{\"id\":\"6082\"}],\"title\":{\"id\":\"6330\"},\"toolbar\":{\"id\":\"6072\"},\"x_range\":{\"id\":\"6049\"},\"x_scale\":{\"id\":\"6053\"},\"y_range\":{\"id\":\"6051\"},\"y_scale\":{\"id\":\"6055\"}},\"id\":\"6048\",\"subtype\":\"Figure\",\"type\":\"Plot\"},{\"attributes\":{\"fill_color\":{\"value\":\"#1f77b4\"},\"line_color\":{\"value\":\"#1f77b4\"},\"size\":{\"units\":\"screen\",\"value\":8},\"x\":{\"field\":\"x\"},\"y\":{\"field\":\"y\"}},\"id\":\"6008\",\"type\":\"Circle\"},{\"attributes\":{},\"id\":\"6066\",\"type\":\"WheelZoomTool\"},{\"attributes\":{\"data\":{\"x\":[1,3,2,5,2],\"y\":[4,7,1,3,5]},\"selected\":{\"id\":\"6345\"},\"selection_policy\":{\"id\":\"6346\"}},\"id\":\"6007\",\"type\":\"ColumnDataSource\"},{\"attributes\":{},\"id\":\"6030\",\"type\":\"WheelZoomTool\"},{\"attributes\":{\"overlay\":{\"id\":\"6071\"}},\"id\":\"6067\",\"type\":\"BoxZoomTool\"},{\"attributes\":{},\"id\":\"6068\",\"type\":\"SaveTool\"},{\"attributes\":{\"data\":{\"x\":[1,3,2,5,2],\"y\":[4,7,1,3,5]},\"selected\":{\"id\":\"6348\"},\"selection_policy\":{\"id\":\"6349\"}},\"id\":\"6043\",\"type\":\"ColumnDataSource\"},{\"attributes\":{},\"id\":\"6069\",\"type\":\"ResetTool\"},{\"attributes\":{\"data_source\":{\"id\":\"6079\"},\"glyph\":{\"id\":\"6080\"},\"hover_glyph\":null,\"muted_glyph\":null,\"nonselection_glyph\":{\"id\":\"6081\"},\"selection_glyph\":null,\"view\":{\"id\":\"6083\"}},\"id\":\"6082\",\"type\":\"GlyphRenderer\"},{\"attributes\":{},\"id\":\"5983\",\"type\":\"LinearScale\"},{\"attributes\":{},\"id\":\"6070\",\"type\":\"HelpTool\"},{\"attributes\":{\"fill_color\":{\"value\":\"#1f77b4\"},\"line_color\":{\"value\":\"#1f77b4\"},\"size\":{\"units\":\"screen\",\"value\":8},\"x\":{\"field\":\"x\"},\"y\":{\"field\":\"y\"}},\"id\":\"6080\",\"type\":\"Diamond\"},{\"attributes\":{\"formatter\":{\"id\":\"6334\"},\"ticker\":{\"id\":\"5986\"}},\"id\":\"5985\",\"type\":\"LinearAxis\"},{\"attributes\":{},\"id\":\"5990\",\"type\":\"BasicTicker\"},{\"attributes\":{},\"id\":\"5986\",\"type\":\"BasicTicker\"},{\"attributes\":{},\"id\":\"6338\",\"type\":\"BasicTickFormatter\"},{\"attributes\":{},\"id\":\"6346\",\"type\":\"UnionRenderers\"},{\"attributes\":{\"axis\":{\"id\":\"5985\"},\"ticker\":null},\"id\":\"5988\",\"type\":\"Grid\"},{\"attributes\":{},\"id\":\"6336\",\"type\":\"BasicTickFormatter\"},{\"attributes\":{\"source\":{\"id\":\"6007\"}},\"id\":\"6011\",\"type\":\"CDSView\"},{\"attributes\":{\"axis\":{\"id\":\"5989\"},\"dimension\":1,\"ticker\":null},\"id\":\"5992\",\"type\":\"Grid\"},{\"attributes\":{},\"id\":\"6340\",\"type\":\"BasicTickFormatter\"},{\"attributes\":{\"formatter\":{\"id\":\"6332\"},\"ticker\":{\"id\":\"5990\"}},\"id\":\"5989\",\"type\":\"LinearAxis\"},{\"attributes\":{},\"id\":\"6342\",\"type\":\"BasicTickFormatter\"},{\"attributes\":{\"data_source\":{\"id\":\"6007\"},\"glyph\":{\"id\":\"6008\"},\"hover_glyph\":null,\"muted_glyph\":null,\"nonselection_glyph\":{\"id\":\"6009\"},\"selection_glyph\":null,\"view\":{\"id\":\"6011\"}},\"id\":\"6010\",\"type\":\"GlyphRenderer\"},{\"attributes\":{\"below\":[{\"id\":\"6021\"}],\"center\":[{\"id\":\"6024\"},{\"id\":\"6028\"}],\"left\":[{\"id\":\"6025\"}],\"plot_height\":200,\"plot_width\":300,\"renderers\":[{\"id\":\"6046\"}],\"title\":{\"id\":\"6328\"},\"toolbar\":{\"id\":\"6036\"},\"x_range\":{\"id\":\"6013\"},\"x_scale\":{\"id\":\"6017\"},\"y_range\":{\"id\":\"6015\"},\"y_scale\":{\"id\":\"6019\"}},\"id\":\"6012\",\"subtype\":\"Figure\",\"type\":\"Plot\"},{\"attributes\":{},\"id\":\"6345\",\"type\":\"Selection\"},{\"attributes\":{\"fill_alpha\":{\"value\":0.1},\"fill_color\":{\"value\":\"#1f77b4\"},\"line_alpha\":{\"value\":0.1},\"line_color\":{\"value\":\"#1f77b4\"},\"size\":{\"units\":\"screen\",\"value\":8},\"x\":{\"field\":\"x\"},\"y\":{\"field\":\"y\"}},\"id\":\"6009\",\"type\":\"Circle\"},{\"attributes\":{\"axis\":{\"id\":\"6025\"},\"dimension\":1,\"ticker\":null},\"id\":\"6028\",\"type\":\"Grid\"},{\"attributes\":{},\"id\":\"6334\",\"type\":\"BasicTickFormatter\"},{\"attributes\":{\"fill_color\":{\"value\":\"#1f77b4\"},\"line_color\":{\"value\":\"#1f77b4\"},\"size\":{\"units\":\"screen\",\"value\":8},\"x\":{\"field\":\"x\"},\"y\":{\"field\":\"y\"}},\"id\":\"6044\",\"type\":\"Square\"},{\"attributes\":{\"bottom_units\":\"screen\",\"fill_alpha\":0.5,\"fill_color\":\"lightgrey\",\"left_units\":\"screen\",\"level\":\"overlay\",\"line_alpha\":1.0,\"line_color\":\"black\",\"line_dash\":[4,4],\"line_width\":2,\"right_units\":\"screen\",\"top_units\":\"screen\"},\"id\":\"6071\",\"type\":\"BoxAnnotation\"},{\"attributes\":{},\"id\":\"5993\",\"type\":\"PanTool\"}],\"root_ids\":[\"6084\"]},\"title\":\"Bokeh Application\",\"version\":\"2.2.3\"}};\n",
       "  var render_items = [{\"docid\":\"3d4ea063-9856-4afa-bf56-74434c13734e\",\"root_ids\":[\"6084\"],\"roots\":{\"6084\":\"22bf61e0-76fb-4ba2-a887-527b8aeda119\"}}];\n",
       "  root.Bokeh.embed.embed_items_notebook(docs_json, render_items);\n",
       "\n",
       "  }\n",
       "  if (root.Bokeh !== undefined) {\n",
       "    embed_document(root);\n",
       "  } else {\n",
       "    var attempts = 0;\n",
       "    var timer = setInterval(function(root) {\n",
       "      if (root.Bokeh !== undefined) {\n",
       "        clearInterval(timer);\n",
       "        embed_document(root);\n",
       "      } else {\n",
       "        attempts++;\n",
       "        if (attempts > 100) {\n",
       "          clearInterval(timer);\n",
       "          console.log(\"Bokeh: ERROR: Unable to run BokehJS code because BokehJS library is missing\");\n",
       "        }\n",
       "      }\n",
       "    }, 10, root)\n",
       "  }\n",
       "})(window);"
      ],
      "application/vnd.bokehjs_exec.v0+json": ""
     },
     "metadata": {
      "application/vnd.bokehjs_exec.v0+json": {
       "id": "6084"
      }
     },
     "output_type": "display_data"
    }
   ],
   "source": [
    "from bokeh.layouts import row\n",
    "\n",
    "x = [1,3,2,5,2]\n",
    "y = [4,7,1,3,5]\n",
    "plot_1 = figure(plot_width=300,plot_height=200)\n",
    "plot_1.circle(x,y,size=8)\n",
    "\n",
    "x = [1,3,2,5,2]\n",
    "y = [4,7,1,3,5]\n",
    "plot_2 = figure(plot_width=300,plot_height=200)\n",
    "plot_2.square(x,y,size=8)\n",
    "\n",
    "x = [1,3,2,5,2]\n",
    "y = [4,7,1,3,5]\n",
    "plot_3 = figure(plot_width=300,plot_height=200)\n",
    "plot_3.diamond(x,y,size=8)\n",
    "\n",
    "layout = row(plot_1,plot_2,plot_3)\n",
    "show(layout)"
   ]
  },
  {
   "cell_type": "markdown",
   "metadata": {},
   "source": [
    "## Column"
   ]
  },
  {
   "cell_type": "code",
   "execution_count": 23,
   "metadata": {},
   "outputs": [
    {
     "data": {
      "text/html": [
       "\n",
       "\n",
       "\n",
       "\n",
       "\n",
       "\n",
       "  <div class=\"bk-root\" id=\"6b9e9a5a-2564-40f9-a5c1-8976dd1f05e6\" data-root-id=\"6488\"></div>\n"
      ]
     },
     "metadata": {},
     "output_type": "display_data"
    },
    {
     "data": {
      "application/javascript": [
       "(function(root) {\n",
       "  function embed_document(root) {\n",
       "    \n",
       "  var docs_json = {\"67a0d1f8-5242-4980-b01e-db4b6c915d3b\":{\"roots\":{\"references\":[{\"attributes\":{\"children\":[{\"id\":\"5976\"},{\"id\":\"6012\"},{\"id\":\"6048\"}]},\"id\":\"6488\",\"type\":\"Column\"},{\"attributes\":{\"active_drag\":\"auto\",\"active_inspect\":\"auto\",\"active_multi\":null,\"active_scroll\":\"auto\",\"active_tap\":\"auto\",\"tools\":[{\"id\":\"5993\"},{\"id\":\"5994\"},{\"id\":\"5995\"},{\"id\":\"5996\"},{\"id\":\"5997\"},{\"id\":\"5998\"}]},\"id\":\"6000\",\"type\":\"Toolbar\"},{\"attributes\":{},\"id\":\"5994\",\"type\":\"WheelZoomTool\"},{\"attributes\":{\"overlay\":{\"id\":\"5999\"}},\"id\":\"5995\",\"type\":\"BoxZoomTool\"},{\"attributes\":{},\"id\":\"5981\",\"type\":\"LinearScale\"},{\"attributes\":{},\"id\":\"5996\",\"type\":\"SaveTool\"},{\"attributes\":{},\"id\":\"5997\",\"type\":\"ResetTool\"},{\"attributes\":{\"text\":\"\"},\"id\":\"6326\",\"type\":\"Title\"},{\"attributes\":{\"text\":\"\"},\"id\":\"6328\",\"type\":\"Title\"},{\"attributes\":{},\"id\":\"6029\",\"type\":\"PanTool\"},{\"attributes\":{},\"id\":\"5998\",\"type\":\"HelpTool\"},{\"attributes\":{},\"id\":\"6013\",\"type\":\"DataRange1d\"},{\"attributes\":{\"text\":\"\"},\"id\":\"6330\",\"type\":\"Title\"},{\"attributes\":{},\"id\":\"6332\",\"type\":\"BasicTickFormatter\"},{\"attributes\":{},\"id\":\"6351\",\"type\":\"Selection\"},{\"attributes\":{\"source\":{\"id\":\"6043\"}},\"id\":\"6047\",\"type\":\"CDSView\"},{\"attributes\":{},\"id\":\"6352\",\"type\":\"UnionRenderers\"},{\"attributes\":{},\"id\":\"5979\",\"type\":\"DataRange1d\"},{\"attributes\":{},\"id\":\"6034\",\"type\":\"HelpTool\"},{\"attributes\":{},\"id\":\"6033\",\"type\":\"ResetTool\"},{\"attributes\":{\"bottom_units\":\"screen\",\"fill_alpha\":0.5,\"fill_color\":\"lightgrey\",\"left_units\":\"screen\",\"level\":\"overlay\",\"line_alpha\":1.0,\"line_color\":\"black\",\"line_dash\":[4,4],\"line_width\":2,\"right_units\":\"screen\",\"top_units\":\"screen\"},\"id\":\"5999\",\"type\":\"BoxAnnotation\"},{\"attributes\":{},\"id\":\"6032\",\"type\":\"SaveTool\"},{\"attributes\":{},\"id\":\"6349\",\"type\":\"UnionRenderers\"},{\"attributes\":{\"fill_alpha\":{\"value\":0.1},\"fill_color\":{\"value\":\"#1f77b4\"},\"line_alpha\":{\"value\":0.1},\"line_color\":{\"value\":\"#1f77b4\"},\"size\":{\"units\":\"screen\",\"value\":8},\"x\":{\"field\":\"x\"},\"y\":{\"field\":\"y\"}},\"id\":\"6045\",\"type\":\"Square\"},{\"attributes\":{},\"id\":\"6015\",\"type\":\"DataRange1d\"},{\"attributes\":{},\"id\":\"6017\",\"type\":\"LinearScale\"},{\"attributes\":{\"overlay\":{\"id\":\"6035\"}},\"id\":\"6031\",\"type\":\"BoxZoomTool\"},{\"attributes\":{\"data_source\":{\"id\":\"6043\"},\"glyph\":{\"id\":\"6044\"},\"hover_glyph\":null,\"muted_glyph\":null,\"nonselection_glyph\":{\"id\":\"6045\"},\"selection_glyph\":null,\"view\":{\"id\":\"6047\"}},\"id\":\"6046\",\"type\":\"GlyphRenderer\"},{\"attributes\":{},\"id\":\"6019\",\"type\":\"LinearScale\"},{\"attributes\":{\"formatter\":{\"id\":\"6338\"},\"ticker\":{\"id\":\"6022\"}},\"id\":\"6021\",\"type\":\"LinearAxis\"},{\"attributes\":{},\"id\":\"6026\",\"type\":\"BasicTicker\"},{\"attributes\":{},\"id\":\"6022\",\"type\":\"BasicTicker\"},{\"attributes\":{\"axis\":{\"id\":\"6021\"},\"ticker\":null},\"id\":\"6024\",\"type\":\"Grid\"},{\"attributes\":{\"formatter\":{\"id\":\"6336\"},\"ticker\":{\"id\":\"6026\"}},\"id\":\"6025\",\"type\":\"LinearAxis\"},{\"attributes\":{},\"id\":\"6348\",\"type\":\"Selection\"},{\"attributes\":{\"bottom_units\":\"screen\",\"fill_alpha\":0.5,\"fill_color\":\"lightgrey\",\"left_units\":\"screen\",\"level\":\"overlay\",\"line_alpha\":1.0,\"line_color\":\"black\",\"line_dash\":[4,4],\"line_width\":2,\"right_units\":\"screen\",\"top_units\":\"screen\"},\"id\":\"6035\",\"type\":\"BoxAnnotation\"},{\"attributes\":{\"active_drag\":\"auto\",\"active_inspect\":\"auto\",\"active_multi\":null,\"active_scroll\":\"auto\",\"active_tap\":\"auto\",\"tools\":[{\"id\":\"6029\"},{\"id\":\"6030\"},{\"id\":\"6031\"},{\"id\":\"6032\"},{\"id\":\"6033\"},{\"id\":\"6034\"}]},\"id\":\"6036\",\"type\":\"Toolbar\"},{\"attributes\":{},\"id\":\"6049\",\"type\":\"DataRange1d\"},{\"attributes\":{\"fill_alpha\":{\"value\":0.1},\"fill_color\":{\"value\":\"#1f77b4\"},\"line_alpha\":{\"value\":0.1},\"line_color\":{\"value\":\"#1f77b4\"},\"size\":{\"units\":\"screen\",\"value\":8},\"x\":{\"field\":\"x\"},\"y\":{\"field\":\"y\"}},\"id\":\"6081\",\"type\":\"Diamond\"},{\"attributes\":{\"data\":{\"x\":[1,3,2,5,2],\"y\":[4,7,1,3,5]},\"selected\":{\"id\":\"6351\"},\"selection_policy\":{\"id\":\"6352\"}},\"id\":\"6079\",\"type\":\"ColumnDataSource\"},{\"attributes\":{},\"id\":\"6051\",\"type\":\"DataRange1d\"},{\"attributes\":{},\"id\":\"6053\",\"type\":\"LinearScale\"},{\"attributes\":{},\"id\":\"6055\",\"type\":\"LinearScale\"},{\"attributes\":{\"formatter\":{\"id\":\"6342\"},\"ticker\":{\"id\":\"6058\"}},\"id\":\"6057\",\"type\":\"LinearAxis\"},{\"attributes\":{},\"id\":\"6062\",\"type\":\"BasicTicker\"},{\"attributes\":{},\"id\":\"6058\",\"type\":\"BasicTicker\"},{\"attributes\":{\"axis\":{\"id\":\"6057\"},\"ticker\":null},\"id\":\"6060\",\"type\":\"Grid\"},{\"attributes\":{\"source\":{\"id\":\"6079\"}},\"id\":\"6083\",\"type\":\"CDSView\"},{\"attributes\":{\"axis\":{\"id\":\"6061\"},\"dimension\":1,\"ticker\":null},\"id\":\"6064\",\"type\":\"Grid\"},{\"attributes\":{\"formatter\":{\"id\":\"6340\"},\"ticker\":{\"id\":\"6062\"}},\"id\":\"6061\",\"type\":\"LinearAxis\"},{\"attributes\":{\"active_drag\":\"auto\",\"active_inspect\":\"auto\",\"active_multi\":null,\"active_scroll\":\"auto\",\"active_tap\":\"auto\",\"tools\":[{\"id\":\"6065\"},{\"id\":\"6066\"},{\"id\":\"6067\"},{\"id\":\"6068\"},{\"id\":\"6069\"},{\"id\":\"6070\"}]},\"id\":\"6072\",\"type\":\"Toolbar\"},{\"attributes\":{},\"id\":\"5977\",\"type\":\"DataRange1d\"},{\"attributes\":{},\"id\":\"6065\",\"type\":\"PanTool\"},{\"attributes\":{\"below\":[{\"id\":\"5985\"}],\"center\":[{\"id\":\"5988\"},{\"id\":\"5992\"}],\"left\":[{\"id\":\"5989\"}],\"plot_height\":200,\"plot_width\":300,\"renderers\":[{\"id\":\"6010\"}],\"title\":{\"id\":\"6326\"},\"toolbar\":{\"id\":\"6000\"},\"x_range\":{\"id\":\"5977\"},\"x_scale\":{\"id\":\"5981\"},\"y_range\":{\"id\":\"5979\"},\"y_scale\":{\"id\":\"5983\"}},\"id\":\"5976\",\"subtype\":\"Figure\",\"type\":\"Plot\"},{\"attributes\":{\"below\":[{\"id\":\"6057\"}],\"center\":[{\"id\":\"6060\"},{\"id\":\"6064\"}],\"left\":[{\"id\":\"6061\"}],\"plot_height\":200,\"plot_width\":300,\"renderers\":[{\"id\":\"6082\"}],\"title\":{\"id\":\"6330\"},\"toolbar\":{\"id\":\"6072\"},\"x_range\":{\"id\":\"6049\"},\"x_scale\":{\"id\":\"6053\"},\"y_range\":{\"id\":\"6051\"},\"y_scale\":{\"id\":\"6055\"}},\"id\":\"6048\",\"subtype\":\"Figure\",\"type\":\"Plot\"},{\"attributes\":{\"fill_color\":{\"value\":\"#1f77b4\"},\"line_color\":{\"value\":\"#1f77b4\"},\"size\":{\"units\":\"screen\",\"value\":8},\"x\":{\"field\":\"x\"},\"y\":{\"field\":\"y\"}},\"id\":\"6008\",\"type\":\"Circle\"},{\"attributes\":{},\"id\":\"6066\",\"type\":\"WheelZoomTool\"},{\"attributes\":{\"data\":{\"x\":[1,3,2,5,2],\"y\":[4,7,1,3,5]},\"selected\":{\"id\":\"6345\"},\"selection_policy\":{\"id\":\"6346\"}},\"id\":\"6007\",\"type\":\"ColumnDataSource\"},{\"attributes\":{},\"id\":\"6030\",\"type\":\"WheelZoomTool\"},{\"attributes\":{\"overlay\":{\"id\":\"6071\"}},\"id\":\"6067\",\"type\":\"BoxZoomTool\"},{\"attributes\":{},\"id\":\"6068\",\"type\":\"SaveTool\"},{\"attributes\":{\"data\":{\"x\":[1,3,2,5,2],\"y\":[4,7,1,3,5]},\"selected\":{\"id\":\"6348\"},\"selection_policy\":{\"id\":\"6349\"}},\"id\":\"6043\",\"type\":\"ColumnDataSource\"},{\"attributes\":{},\"id\":\"6069\",\"type\":\"ResetTool\"},{\"attributes\":{\"data_source\":{\"id\":\"6079\"},\"glyph\":{\"id\":\"6080\"},\"hover_glyph\":null,\"muted_glyph\":null,\"nonselection_glyph\":{\"id\":\"6081\"},\"selection_glyph\":null,\"view\":{\"id\":\"6083\"}},\"id\":\"6082\",\"type\":\"GlyphRenderer\"},{\"attributes\":{},\"id\":\"5983\",\"type\":\"LinearScale\"},{\"attributes\":{},\"id\":\"6070\",\"type\":\"HelpTool\"},{\"attributes\":{\"fill_color\":{\"value\":\"#1f77b4\"},\"line_color\":{\"value\":\"#1f77b4\"},\"size\":{\"units\":\"screen\",\"value\":8},\"x\":{\"field\":\"x\"},\"y\":{\"field\":\"y\"}},\"id\":\"6080\",\"type\":\"Diamond\"},{\"attributes\":{\"formatter\":{\"id\":\"6334\"},\"ticker\":{\"id\":\"5986\"}},\"id\":\"5985\",\"type\":\"LinearAxis\"},{\"attributes\":{},\"id\":\"5990\",\"type\":\"BasicTicker\"},{\"attributes\":{},\"id\":\"5986\",\"type\":\"BasicTicker\"},{\"attributes\":{},\"id\":\"6338\",\"type\":\"BasicTickFormatter\"},{\"attributes\":{},\"id\":\"6346\",\"type\":\"UnionRenderers\"},{\"attributes\":{\"axis\":{\"id\":\"5985\"},\"ticker\":null},\"id\":\"5988\",\"type\":\"Grid\"},{\"attributes\":{},\"id\":\"6336\",\"type\":\"BasicTickFormatter\"},{\"attributes\":{\"source\":{\"id\":\"6007\"}},\"id\":\"6011\",\"type\":\"CDSView\"},{\"attributes\":{\"axis\":{\"id\":\"5989\"},\"dimension\":1,\"ticker\":null},\"id\":\"5992\",\"type\":\"Grid\"},{\"attributes\":{},\"id\":\"6340\",\"type\":\"BasicTickFormatter\"},{\"attributes\":{\"formatter\":{\"id\":\"6332\"},\"ticker\":{\"id\":\"5990\"}},\"id\":\"5989\",\"type\":\"LinearAxis\"},{\"attributes\":{},\"id\":\"6342\",\"type\":\"BasicTickFormatter\"},{\"attributes\":{\"data_source\":{\"id\":\"6007\"},\"glyph\":{\"id\":\"6008\"},\"hover_glyph\":null,\"muted_glyph\":null,\"nonselection_glyph\":{\"id\":\"6009\"},\"selection_glyph\":null,\"view\":{\"id\":\"6011\"}},\"id\":\"6010\",\"type\":\"GlyphRenderer\"},{\"attributes\":{\"below\":[{\"id\":\"6021\"}],\"center\":[{\"id\":\"6024\"},{\"id\":\"6028\"}],\"left\":[{\"id\":\"6025\"}],\"plot_height\":200,\"plot_width\":300,\"renderers\":[{\"id\":\"6046\"}],\"title\":{\"id\":\"6328\"},\"toolbar\":{\"id\":\"6036\"},\"x_range\":{\"id\":\"6013\"},\"x_scale\":{\"id\":\"6017\"},\"y_range\":{\"id\":\"6015\"},\"y_scale\":{\"id\":\"6019\"}},\"id\":\"6012\",\"subtype\":\"Figure\",\"type\":\"Plot\"},{\"attributes\":{},\"id\":\"6345\",\"type\":\"Selection\"},{\"attributes\":{\"fill_alpha\":{\"value\":0.1},\"fill_color\":{\"value\":\"#1f77b4\"},\"line_alpha\":{\"value\":0.1},\"line_color\":{\"value\":\"#1f77b4\"},\"size\":{\"units\":\"screen\",\"value\":8},\"x\":{\"field\":\"x\"},\"y\":{\"field\":\"y\"}},\"id\":\"6009\",\"type\":\"Circle\"},{\"attributes\":{\"axis\":{\"id\":\"6025\"},\"dimension\":1,\"ticker\":null},\"id\":\"6028\",\"type\":\"Grid\"},{\"attributes\":{},\"id\":\"6334\",\"type\":\"BasicTickFormatter\"},{\"attributes\":{\"fill_color\":{\"value\":\"#1f77b4\"},\"line_color\":{\"value\":\"#1f77b4\"},\"size\":{\"units\":\"screen\",\"value\":8},\"x\":{\"field\":\"x\"},\"y\":{\"field\":\"y\"}},\"id\":\"6044\",\"type\":\"Square\"},{\"attributes\":{\"bottom_units\":\"screen\",\"fill_alpha\":0.5,\"fill_color\":\"lightgrey\",\"left_units\":\"screen\",\"level\":\"overlay\",\"line_alpha\":1.0,\"line_color\":\"black\",\"line_dash\":[4,4],\"line_width\":2,\"right_units\":\"screen\",\"top_units\":\"screen\"},\"id\":\"6071\",\"type\":\"BoxAnnotation\"},{\"attributes\":{},\"id\":\"5993\",\"type\":\"PanTool\"}],\"root_ids\":[\"6488\"]},\"title\":\"Bokeh Application\",\"version\":\"2.2.3\"}};\n",
       "  var render_items = [{\"docid\":\"67a0d1f8-5242-4980-b01e-db4b6c915d3b\",\"root_ids\":[\"6488\"],\"roots\":{\"6488\":\"6b9e9a5a-2564-40f9-a5c1-8976dd1f05e6\"}}];\n",
       "  root.Bokeh.embed.embed_items_notebook(docs_json, render_items);\n",
       "\n",
       "  }\n",
       "  if (root.Bokeh !== undefined) {\n",
       "    embed_document(root);\n",
       "  } else {\n",
       "    var attempts = 0;\n",
       "    var timer = setInterval(function(root) {\n",
       "      if (root.Bokeh !== undefined) {\n",
       "        clearInterval(timer);\n",
       "        embed_document(root);\n",
       "      } else {\n",
       "        attempts++;\n",
       "        if (attempts > 100) {\n",
       "          clearInterval(timer);\n",
       "          console.log(\"Bokeh: ERROR: Unable to run BokehJS code because BokehJS library is missing\");\n",
       "        }\n",
       "      }\n",
       "    }, 10, root)\n",
       "  }\n",
       "})(window);"
      ],
      "application/vnd.bokehjs_exec.v0+json": ""
     },
     "metadata": {
      "application/vnd.bokehjs_exec.v0+json": {
       "id": "6488"
      }
     },
     "output_type": "display_data"
    }
   ],
   "source": [
    "# columns of plots\n",
    "from bokeh.layouts import column\n",
    "layout = column(plot_1,plot_2,plot_3)\n",
    "show(layout)"
   ]
  },
  {
   "cell_type": "markdown",
   "metadata": {},
   "source": [
    "### Nested layout\n",
    "Rows and columns can be nested for more sophisticated layouts, it is possible to pass a column as an argument to row and vice versa."
   ]
  },
  {
   "cell_type": "code",
   "execution_count": 24,
   "metadata": {},
   "outputs": [
    {
     "data": {
      "text/html": [
       "\n",
       "\n",
       "\n",
       "\n",
       "\n",
       "\n",
       "  <div class=\"bk-root\" id=\"2661587c-ac64-4d13-9e2f-734fe94b668e\" data-root-id=\"6920\"></div>\n"
      ]
     },
     "metadata": {},
     "output_type": "display_data"
    },
    {
     "data": {
      "application/javascript": [
       "(function(root) {\n",
       "  function embed_document(root) {\n",
       "    \n",
       "  var docs_json = {\"2a6ca0c3-e6d7-4172-ae25-7bf9921f1758\":{\"roots\":{\"references\":[{\"attributes\":{\"children\":[{\"id\":\"6919\"},{\"id\":\"6048\"}]},\"id\":\"6920\",\"type\":\"Row\"},{\"attributes\":{\"active_drag\":\"auto\",\"active_inspect\":\"auto\",\"active_multi\":null,\"active_scroll\":\"auto\",\"active_tap\":\"auto\",\"tools\":[{\"id\":\"5993\"},{\"id\":\"5994\"},{\"id\":\"5995\"},{\"id\":\"5996\"},{\"id\":\"5997\"},{\"id\":\"5998\"}]},\"id\":\"6000\",\"type\":\"Toolbar\"},{\"attributes\":{},\"id\":\"5994\",\"type\":\"WheelZoomTool\"},{\"attributes\":{\"overlay\":{\"id\":\"5999\"}},\"id\":\"5995\",\"type\":\"BoxZoomTool\"},{\"attributes\":{},\"id\":\"5981\",\"type\":\"LinearScale\"},{\"attributes\":{},\"id\":\"5996\",\"type\":\"SaveTool\"},{\"attributes\":{},\"id\":\"5997\",\"type\":\"ResetTool\"},{\"attributes\":{\"text\":\"\"},\"id\":\"6326\",\"type\":\"Title\"},{\"attributes\":{\"text\":\"\"},\"id\":\"6328\",\"type\":\"Title\"},{\"attributes\":{},\"id\":\"6029\",\"type\":\"PanTool\"},{\"attributes\":{},\"id\":\"5998\",\"type\":\"HelpTool\"},{\"attributes\":{\"text\":\"\"},\"id\":\"6330\",\"type\":\"Title\"},{\"attributes\":{},\"id\":\"6013\",\"type\":\"DataRange1d\"},{\"attributes\":{},\"id\":\"6332\",\"type\":\"BasicTickFormatter\"},{\"attributes\":{},\"id\":\"6351\",\"type\":\"Selection\"},{\"attributes\":{\"source\":{\"id\":\"6043\"}},\"id\":\"6047\",\"type\":\"CDSView\"},{\"attributes\":{},\"id\":\"6352\",\"type\":\"UnionRenderers\"},{\"attributes\":{},\"id\":\"5979\",\"type\":\"DataRange1d\"},{\"attributes\":{},\"id\":\"6034\",\"type\":\"HelpTool\"},{\"attributes\":{},\"id\":\"6033\",\"type\":\"ResetTool\"},{\"attributes\":{\"bottom_units\":\"screen\",\"fill_alpha\":0.5,\"fill_color\":\"lightgrey\",\"left_units\":\"screen\",\"level\":\"overlay\",\"line_alpha\":1.0,\"line_color\":\"black\",\"line_dash\":[4,4],\"line_width\":2,\"right_units\":\"screen\",\"top_units\":\"screen\"},\"id\":\"5999\",\"type\":\"BoxAnnotation\"},{\"attributes\":{},\"id\":\"6032\",\"type\":\"SaveTool\"},{\"attributes\":{},\"id\":\"6349\",\"type\":\"UnionRenderers\"},{\"attributes\":{\"fill_alpha\":{\"value\":0.1},\"fill_color\":{\"value\":\"#1f77b4\"},\"line_alpha\":{\"value\":0.1},\"line_color\":{\"value\":\"#1f77b4\"},\"size\":{\"units\":\"screen\",\"value\":8},\"x\":{\"field\":\"x\"},\"y\":{\"field\":\"y\"}},\"id\":\"6045\",\"type\":\"Square\"},{\"attributes\":{},\"id\":\"6015\",\"type\":\"DataRange1d\"},{\"attributes\":{},\"id\":\"6017\",\"type\":\"LinearScale\"},{\"attributes\":{\"overlay\":{\"id\":\"6035\"}},\"id\":\"6031\",\"type\":\"BoxZoomTool\"},{\"attributes\":{\"data_source\":{\"id\":\"6043\"},\"glyph\":{\"id\":\"6044\"},\"hover_glyph\":null,\"muted_glyph\":null,\"nonselection_glyph\":{\"id\":\"6045\"},\"selection_glyph\":null,\"view\":{\"id\":\"6047\"}},\"id\":\"6046\",\"type\":\"GlyphRenderer\"},{\"attributes\":{},\"id\":\"6019\",\"type\":\"LinearScale\"},{\"attributes\":{\"formatter\":{\"id\":\"6338\"},\"ticker\":{\"id\":\"6022\"}},\"id\":\"6021\",\"type\":\"LinearAxis\"},{\"attributes\":{\"children\":[{\"id\":\"5976\"},{\"id\":\"6012\"}]},\"id\":\"6919\",\"type\":\"Column\"},{\"attributes\":{},\"id\":\"6026\",\"type\":\"BasicTicker\"},{\"attributes\":{},\"id\":\"6022\",\"type\":\"BasicTicker\"},{\"attributes\":{\"axis\":{\"id\":\"6021\"},\"ticker\":null},\"id\":\"6024\",\"type\":\"Grid\"},{\"attributes\":{\"formatter\":{\"id\":\"6336\"},\"ticker\":{\"id\":\"6026\"}},\"id\":\"6025\",\"type\":\"LinearAxis\"},{\"attributes\":{},\"id\":\"6348\",\"type\":\"Selection\"},{\"attributes\":{\"bottom_units\":\"screen\",\"fill_alpha\":0.5,\"fill_color\":\"lightgrey\",\"left_units\":\"screen\",\"level\":\"overlay\",\"line_alpha\":1.0,\"line_color\":\"black\",\"line_dash\":[4,4],\"line_width\":2,\"right_units\":\"screen\",\"top_units\":\"screen\"},\"id\":\"6035\",\"type\":\"BoxAnnotation\"},{\"attributes\":{\"active_drag\":\"auto\",\"active_inspect\":\"auto\",\"active_multi\":null,\"active_scroll\":\"auto\",\"active_tap\":\"auto\",\"tools\":[{\"id\":\"6029\"},{\"id\":\"6030\"},{\"id\":\"6031\"},{\"id\":\"6032\"},{\"id\":\"6033\"},{\"id\":\"6034\"}]},\"id\":\"6036\",\"type\":\"Toolbar\"},{\"attributes\":{},\"id\":\"6049\",\"type\":\"DataRange1d\"},{\"attributes\":{\"fill_alpha\":{\"value\":0.1},\"fill_color\":{\"value\":\"#1f77b4\"},\"line_alpha\":{\"value\":0.1},\"line_color\":{\"value\":\"#1f77b4\"},\"size\":{\"units\":\"screen\",\"value\":8},\"x\":{\"field\":\"x\"},\"y\":{\"field\":\"y\"}},\"id\":\"6081\",\"type\":\"Diamond\"},{\"attributes\":{\"data\":{\"x\":[1,3,2,5,2],\"y\":[4,7,1,3,5]},\"selected\":{\"id\":\"6351\"},\"selection_policy\":{\"id\":\"6352\"}},\"id\":\"6079\",\"type\":\"ColumnDataSource\"},{\"attributes\":{},\"id\":\"6051\",\"type\":\"DataRange1d\"},{\"attributes\":{},\"id\":\"6053\",\"type\":\"LinearScale\"},{\"attributes\":{},\"id\":\"6055\",\"type\":\"LinearScale\"},{\"attributes\":{\"formatter\":{\"id\":\"6342\"},\"ticker\":{\"id\":\"6058\"}},\"id\":\"6057\",\"type\":\"LinearAxis\"},{\"attributes\":{},\"id\":\"6062\",\"type\":\"BasicTicker\"},{\"attributes\":{},\"id\":\"6058\",\"type\":\"BasicTicker\"},{\"attributes\":{\"axis\":{\"id\":\"6057\"},\"ticker\":null},\"id\":\"6060\",\"type\":\"Grid\"},{\"attributes\":{\"source\":{\"id\":\"6079\"}},\"id\":\"6083\",\"type\":\"CDSView\"},{\"attributes\":{\"axis\":{\"id\":\"6061\"},\"dimension\":1,\"ticker\":null},\"id\":\"6064\",\"type\":\"Grid\"},{\"attributes\":{\"formatter\":{\"id\":\"6340\"},\"ticker\":{\"id\":\"6062\"}},\"id\":\"6061\",\"type\":\"LinearAxis\"},{\"attributes\":{\"active_drag\":\"auto\",\"active_inspect\":\"auto\",\"active_multi\":null,\"active_scroll\":\"auto\",\"active_tap\":\"auto\",\"tools\":[{\"id\":\"6065\"},{\"id\":\"6066\"},{\"id\":\"6067\"},{\"id\":\"6068\"},{\"id\":\"6069\"},{\"id\":\"6070\"}]},\"id\":\"6072\",\"type\":\"Toolbar\"},{\"attributes\":{},\"id\":\"5977\",\"type\":\"DataRange1d\"},{\"attributes\":{},\"id\":\"6065\",\"type\":\"PanTool\"},{\"attributes\":{\"below\":[{\"id\":\"5985\"}],\"center\":[{\"id\":\"5988\"},{\"id\":\"5992\"}],\"left\":[{\"id\":\"5989\"}],\"plot_height\":200,\"plot_width\":300,\"renderers\":[{\"id\":\"6010\"}],\"title\":{\"id\":\"6326\"},\"toolbar\":{\"id\":\"6000\"},\"x_range\":{\"id\":\"5977\"},\"x_scale\":{\"id\":\"5981\"},\"y_range\":{\"id\":\"5979\"},\"y_scale\":{\"id\":\"5983\"}},\"id\":\"5976\",\"subtype\":\"Figure\",\"type\":\"Plot\"},{\"attributes\":{\"below\":[{\"id\":\"6057\"}],\"center\":[{\"id\":\"6060\"},{\"id\":\"6064\"}],\"left\":[{\"id\":\"6061\"}],\"plot_height\":200,\"plot_width\":300,\"renderers\":[{\"id\":\"6082\"}],\"title\":{\"id\":\"6330\"},\"toolbar\":{\"id\":\"6072\"},\"x_range\":{\"id\":\"6049\"},\"x_scale\":{\"id\":\"6053\"},\"y_range\":{\"id\":\"6051\"},\"y_scale\":{\"id\":\"6055\"}},\"id\":\"6048\",\"subtype\":\"Figure\",\"type\":\"Plot\"},{\"attributes\":{},\"id\":\"6066\",\"type\":\"WheelZoomTool\"},{\"attributes\":{\"fill_color\":{\"value\":\"#1f77b4\"},\"line_color\":{\"value\":\"#1f77b4\"},\"size\":{\"units\":\"screen\",\"value\":8},\"x\":{\"field\":\"x\"},\"y\":{\"field\":\"y\"}},\"id\":\"6008\",\"type\":\"Circle\"},{\"attributes\":{\"data\":{\"x\":[1,3,2,5,2],\"y\":[4,7,1,3,5]},\"selected\":{\"id\":\"6345\"},\"selection_policy\":{\"id\":\"6346\"}},\"id\":\"6007\",\"type\":\"ColumnDataSource\"},{\"attributes\":{\"overlay\":{\"id\":\"6071\"}},\"id\":\"6067\",\"type\":\"BoxZoomTool\"},{\"attributes\":{},\"id\":\"6030\",\"type\":\"WheelZoomTool\"},{\"attributes\":{},\"id\":\"6068\",\"type\":\"SaveTool\"},{\"attributes\":{},\"id\":\"6069\",\"type\":\"ResetTool\"},{\"attributes\":{\"data\":{\"x\":[1,3,2,5,2],\"y\":[4,7,1,3,5]},\"selected\":{\"id\":\"6348\"},\"selection_policy\":{\"id\":\"6349\"}},\"id\":\"6043\",\"type\":\"ColumnDataSource\"},{\"attributes\":{\"data_source\":{\"id\":\"6079\"},\"glyph\":{\"id\":\"6080\"},\"hover_glyph\":null,\"muted_glyph\":null,\"nonselection_glyph\":{\"id\":\"6081\"},\"selection_glyph\":null,\"view\":{\"id\":\"6083\"}},\"id\":\"6082\",\"type\":\"GlyphRenderer\"},{\"attributes\":{},\"id\":\"5983\",\"type\":\"LinearScale\"},{\"attributes\":{},\"id\":\"6070\",\"type\":\"HelpTool\"},{\"attributes\":{\"fill_color\":{\"value\":\"#1f77b4\"},\"line_color\":{\"value\":\"#1f77b4\"},\"size\":{\"units\":\"screen\",\"value\":8},\"x\":{\"field\":\"x\"},\"y\":{\"field\":\"y\"}},\"id\":\"6080\",\"type\":\"Diamond\"},{\"attributes\":{\"formatter\":{\"id\":\"6334\"},\"ticker\":{\"id\":\"5986\"}},\"id\":\"5985\",\"type\":\"LinearAxis\"},{\"attributes\":{},\"id\":\"5990\",\"type\":\"BasicTicker\"},{\"attributes\":{},\"id\":\"5986\",\"type\":\"BasicTicker\"},{\"attributes\":{},\"id\":\"6338\",\"type\":\"BasicTickFormatter\"},{\"attributes\":{},\"id\":\"6346\",\"type\":\"UnionRenderers\"},{\"attributes\":{\"axis\":{\"id\":\"5985\"},\"ticker\":null},\"id\":\"5988\",\"type\":\"Grid\"},{\"attributes\":{},\"id\":\"6336\",\"type\":\"BasicTickFormatter\"},{\"attributes\":{\"source\":{\"id\":\"6007\"}},\"id\":\"6011\",\"type\":\"CDSView\"},{\"attributes\":{\"axis\":{\"id\":\"5989\"},\"dimension\":1,\"ticker\":null},\"id\":\"5992\",\"type\":\"Grid\"},{\"attributes\":{},\"id\":\"6340\",\"type\":\"BasicTickFormatter\"},{\"attributes\":{\"formatter\":{\"id\":\"6332\"},\"ticker\":{\"id\":\"5990\"}},\"id\":\"5989\",\"type\":\"LinearAxis\"},{\"attributes\":{},\"id\":\"6342\",\"type\":\"BasicTickFormatter\"},{\"attributes\":{\"data_source\":{\"id\":\"6007\"},\"glyph\":{\"id\":\"6008\"},\"hover_glyph\":null,\"muted_glyph\":null,\"nonselection_glyph\":{\"id\":\"6009\"},\"selection_glyph\":null,\"view\":{\"id\":\"6011\"}},\"id\":\"6010\",\"type\":\"GlyphRenderer\"},{\"attributes\":{\"below\":[{\"id\":\"6021\"}],\"center\":[{\"id\":\"6024\"},{\"id\":\"6028\"}],\"left\":[{\"id\":\"6025\"}],\"plot_height\":200,\"plot_width\":300,\"renderers\":[{\"id\":\"6046\"}],\"title\":{\"id\":\"6328\"},\"toolbar\":{\"id\":\"6036\"},\"x_range\":{\"id\":\"6013\"},\"x_scale\":{\"id\":\"6017\"},\"y_range\":{\"id\":\"6015\"},\"y_scale\":{\"id\":\"6019\"}},\"id\":\"6012\",\"subtype\":\"Figure\",\"type\":\"Plot\"},{\"attributes\":{},\"id\":\"6345\",\"type\":\"Selection\"},{\"attributes\":{\"fill_alpha\":{\"value\":0.1},\"fill_color\":{\"value\":\"#1f77b4\"},\"line_alpha\":{\"value\":0.1},\"line_color\":{\"value\":\"#1f77b4\"},\"size\":{\"units\":\"screen\",\"value\":8},\"x\":{\"field\":\"x\"},\"y\":{\"field\":\"y\"}},\"id\":\"6009\",\"type\":\"Circle\"},{\"attributes\":{\"axis\":{\"id\":\"6025\"},\"dimension\":1,\"ticker\":null},\"id\":\"6028\",\"type\":\"Grid\"},{\"attributes\":{},\"id\":\"6334\",\"type\":\"BasicTickFormatter\"},{\"attributes\":{\"fill_color\":{\"value\":\"#1f77b4\"},\"line_color\":{\"value\":\"#1f77b4\"},\"size\":{\"units\":\"screen\",\"value\":8},\"x\":{\"field\":\"x\"},\"y\":{\"field\":\"y\"}},\"id\":\"6044\",\"type\":\"Square\"},{\"attributes\":{\"bottom_units\":\"screen\",\"fill_alpha\":0.5,\"fill_color\":\"lightgrey\",\"left_units\":\"screen\",\"level\":\"overlay\",\"line_alpha\":1.0,\"line_color\":\"black\",\"line_dash\":[4,4],\"line_width\":2,\"right_units\":\"screen\",\"top_units\":\"screen\"},\"id\":\"6071\",\"type\":\"BoxAnnotation\"},{\"attributes\":{},\"id\":\"5993\",\"type\":\"PanTool\"}],\"root_ids\":[\"6920\"]},\"title\":\"Bokeh Application\",\"version\":\"2.2.3\"}};\n",
       "  var render_items = [{\"docid\":\"2a6ca0c3-e6d7-4172-ae25-7bf9921f1758\",\"root_ids\":[\"6920\"],\"roots\":{\"6920\":\"2661587c-ac64-4d13-9e2f-734fe94b668e\"}}];\n",
       "  root.Bokeh.embed.embed_items_notebook(docs_json, render_items);\n",
       "\n",
       "  }\n",
       "  if (root.Bokeh !== undefined) {\n",
       "    embed_document(root);\n",
       "  } else {\n",
       "    var attempts = 0;\n",
       "    var timer = setInterval(function(root) {\n",
       "      if (root.Bokeh !== undefined) {\n",
       "        clearInterval(timer);\n",
       "        embed_document(root);\n",
       "      } else {\n",
       "        attempts++;\n",
       "        if (attempts > 100) {\n",
       "          clearInterval(timer);\n",
       "          console.log(\"Bokeh: ERROR: Unable to run BokehJS code because BokehJS library is missing\");\n",
       "        }\n",
       "      }\n",
       "    }, 10, root)\n",
       "  }\n",
       "})(window);"
      ],
      "application/vnd.bokehjs_exec.v0+json": ""
     },
     "metadata": {
      "application/vnd.bokehjs_exec.v0+json": {
       "id": "6920"
      }
     },
     "output_type": "display_data"
    }
   ],
   "source": [
    "from bokeh.layouts import column, row\n",
    "layout = row(column(plot_1,plot_2),plot_3)\n",
    "show(layout)"
   ]
  },
  {
   "cell_type": "markdown",
   "metadata": {},
   "source": [
    "### Advanced layouts\n",
    "Bokeh also supports gridded nad tabbed layouts\n",
    "\n",
    "#### Gridplots\n",
    "The argument to grid layout is slightly more involved. We pass a list of lists, where each inner list represent one row of plots we'd like to display. Then all the rows are used to arrange a grid.\n",
    "Note :- \n",
    "- All inner lists for the grid rows should be the same length.\n",
    "- Can use none as a placeholder for 'empty' space in our grid\n",
    "\n",
    "\n",
    "##### Gridplots has 1 additional functioality\n",
    "It gathers all the individual toolbars into one single toolbar for the entire gridplot.\n",
    "Eg - if you have pan tool, it will be active on all the plot."
   ]
  },
  {
   "cell_type": "code",
   "execution_count": 25,
   "metadata": {},
   "outputs": [
    {
     "data": {
      "text/html": [
       "\n",
       "\n",
       "\n",
       "\n",
       "\n",
       "\n",
       "  <div class=\"bk-root\" id=\"8368ac9d-4386-43aa-a00f-b754c4237bd0\" data-root-id=\"7411\"></div>\n"
      ]
     },
     "metadata": {},
     "output_type": "display_data"
    },
    {
     "data": {
      "application/javascript": [
       "(function(root) {\n",
       "  function embed_document(root) {\n",
       "    \n",
       "  var docs_json = {\"4c353098-3d6b-417c-a214-e976316c221c\":{\"roots\":{\"references\":[{\"attributes\":{\"children\":[{\"id\":\"7410\"},{\"id\":\"7408\"}]},\"id\":\"7411\",\"type\":\"Column\"},{\"attributes\":{\"active_drag\":\"auto\",\"active_inspect\":\"auto\",\"active_multi\":null,\"active_scroll\":\"auto\",\"active_tap\":\"auto\",\"tools\":[{\"id\":\"5993\"},{\"id\":\"5994\"},{\"id\":\"5995\"},{\"id\":\"5996\"},{\"id\":\"5997\"},{\"id\":\"5998\"}]},\"id\":\"6000\",\"type\":\"Toolbar\"},{\"attributes\":{},\"id\":\"5994\",\"type\":\"WheelZoomTool\"},{\"attributes\":{\"overlay\":{\"id\":\"5999\"}},\"id\":\"5995\",\"type\":\"BoxZoomTool\"},{\"attributes\":{\"toolbar\":{\"id\":\"7409\"},\"toolbar_location\":\"above\"},\"id\":\"7410\",\"type\":\"ToolbarBox\"},{\"attributes\":{},\"id\":\"5996\",\"type\":\"SaveTool\"},{\"attributes\":{},\"id\":\"5981\",\"type\":\"LinearScale\"},{\"attributes\":{},\"id\":\"5997\",\"type\":\"ResetTool\"},{\"attributes\":{\"text\":\"\"},\"id\":\"6326\",\"type\":\"Title\"},{\"attributes\":{\"text\":\"\"},\"id\":\"6328\",\"type\":\"Title\"},{\"attributes\":{},\"id\":\"6029\",\"type\":\"PanTool\"},{\"attributes\":{},\"id\":\"5998\",\"type\":\"HelpTool\"},{\"attributes\":{},\"id\":\"6013\",\"type\":\"DataRange1d\"},{\"attributes\":{\"text\":\"\"},\"id\":\"6330\",\"type\":\"Title\"},{\"attributes\":{},\"id\":\"6332\",\"type\":\"BasicTickFormatter\"},{\"attributes\":{},\"id\":\"6351\",\"type\":\"Selection\"},{\"attributes\":{\"source\":{\"id\":\"6043\"}},\"id\":\"6047\",\"type\":\"CDSView\"},{\"attributes\":{},\"id\":\"6352\",\"type\":\"UnionRenderers\"},{\"attributes\":{},\"id\":\"6034\",\"type\":\"HelpTool\"},{\"attributes\":{},\"id\":\"5979\",\"type\":\"DataRange1d\"},{\"attributes\":{},\"id\":\"6033\",\"type\":\"ResetTool\"},{\"attributes\":{\"bottom_units\":\"screen\",\"fill_alpha\":0.5,\"fill_color\":\"lightgrey\",\"left_units\":\"screen\",\"level\":\"overlay\",\"line_alpha\":1.0,\"line_color\":\"black\",\"line_dash\":[4,4],\"line_width\":2,\"right_units\":\"screen\",\"top_units\":\"screen\"},\"id\":\"5999\",\"type\":\"BoxAnnotation\"},{\"attributes\":{},\"id\":\"6032\",\"type\":\"SaveTool\"},{\"attributes\":{},\"id\":\"6349\",\"type\":\"UnionRenderers\"},{\"attributes\":{\"fill_alpha\":{\"value\":0.1},\"fill_color\":{\"value\":\"#1f77b4\"},\"line_alpha\":{\"value\":0.1},\"line_color\":{\"value\":\"#1f77b4\"},\"size\":{\"units\":\"screen\",\"value\":8},\"x\":{\"field\":\"x\"},\"y\":{\"field\":\"y\"}},\"id\":\"6045\",\"type\":\"Square\"},{\"attributes\":{},\"id\":\"6015\",\"type\":\"DataRange1d\"},{\"attributes\":{},\"id\":\"6017\",\"type\":\"LinearScale\"},{\"attributes\":{\"overlay\":{\"id\":\"6035\"}},\"id\":\"6031\",\"type\":\"BoxZoomTool\"},{\"attributes\":{\"data_source\":{\"id\":\"6043\"},\"glyph\":{\"id\":\"6044\"},\"hover_glyph\":null,\"muted_glyph\":null,\"nonselection_glyph\":{\"id\":\"6045\"},\"selection_glyph\":null,\"view\":{\"id\":\"6047\"}},\"id\":\"6046\",\"type\":\"GlyphRenderer\"},{\"attributes\":{},\"id\":\"6019\",\"type\":\"LinearScale\"},{\"attributes\":{\"formatter\":{\"id\":\"6338\"},\"ticker\":{\"id\":\"6022\"}},\"id\":\"6021\",\"type\":\"LinearAxis\"},{\"attributes\":{},\"id\":\"6026\",\"type\":\"BasicTicker\"},{\"attributes\":{},\"id\":\"6022\",\"type\":\"BasicTicker\"},{\"attributes\":{\"axis\":{\"id\":\"6021\"},\"ticker\":null},\"id\":\"6024\",\"type\":\"Grid\"},{\"attributes\":{\"formatter\":{\"id\":\"6336\"},\"ticker\":{\"id\":\"6026\"}},\"id\":\"6025\",\"type\":\"LinearAxis\"},{\"attributes\":{},\"id\":\"6348\",\"type\":\"Selection\"},{\"attributes\":{\"bottom_units\":\"screen\",\"fill_alpha\":0.5,\"fill_color\":\"lightgrey\",\"left_units\":\"screen\",\"level\":\"overlay\",\"line_alpha\":1.0,\"line_color\":\"black\",\"line_dash\":[4,4],\"line_width\":2,\"right_units\":\"screen\",\"top_units\":\"screen\"},\"id\":\"6035\",\"type\":\"BoxAnnotation\"},{\"attributes\":{\"active_drag\":\"auto\",\"active_inspect\":\"auto\",\"active_multi\":null,\"active_scroll\":\"auto\",\"active_tap\":\"auto\",\"tools\":[{\"id\":\"6029\"},{\"id\":\"6030\"},{\"id\":\"6031\"},{\"id\":\"6032\"},{\"id\":\"6033\"},{\"id\":\"6034\"}]},\"id\":\"6036\",\"type\":\"Toolbar\"},{\"attributes\":{},\"id\":\"6049\",\"type\":\"DataRange1d\"},{\"attributes\":{\"fill_alpha\":{\"value\":0.1},\"fill_color\":{\"value\":\"#1f77b4\"},\"line_alpha\":{\"value\":0.1},\"line_color\":{\"value\":\"#1f77b4\"},\"size\":{\"units\":\"screen\",\"value\":8},\"x\":{\"field\":\"x\"},\"y\":{\"field\":\"y\"}},\"id\":\"6081\",\"type\":\"Diamond\"},{\"attributes\":{\"data\":{\"x\":[1,3,2,5,2],\"y\":[4,7,1,3,5]},\"selected\":{\"id\":\"6351\"},\"selection_policy\":{\"id\":\"6352\"}},\"id\":\"6079\",\"type\":\"ColumnDataSource\"},{\"attributes\":{},\"id\":\"6051\",\"type\":\"DataRange1d\"},{\"attributes\":{},\"id\":\"6053\",\"type\":\"LinearScale\"},{\"attributes\":{},\"id\":\"6055\",\"type\":\"LinearScale\"},{\"attributes\":{\"formatter\":{\"id\":\"6342\"},\"ticker\":{\"id\":\"6058\"}},\"id\":\"6057\",\"type\":\"LinearAxis\"},{\"attributes\":{},\"id\":\"6062\",\"type\":\"BasicTicker\"},{\"attributes\":{},\"id\":\"6058\",\"type\":\"BasicTicker\"},{\"attributes\":{\"axis\":{\"id\":\"6057\"},\"ticker\":null},\"id\":\"6060\",\"type\":\"Grid\"},{\"attributes\":{\"source\":{\"id\":\"6079\"}},\"id\":\"6083\",\"type\":\"CDSView\"},{\"attributes\":{\"axis\":{\"id\":\"6061\"},\"dimension\":1,\"ticker\":null},\"id\":\"6064\",\"type\":\"Grid\"},{\"attributes\":{\"formatter\":{\"id\":\"6340\"},\"ticker\":{\"id\":\"6062\"}},\"id\":\"6061\",\"type\":\"LinearAxis\"},{\"attributes\":{\"children\":[[{\"id\":\"5976\"},0,1],[{\"id\":\"6012\"},1,0],[{\"id\":\"6048\"},1,1]]},\"id\":\"7408\",\"type\":\"GridBox\"},{\"attributes\":{\"toolbars\":[{\"id\":\"6000\"},{\"id\":\"6036\"},{\"id\":\"6072\"}],\"tools\":[{\"id\":\"5993\"},{\"id\":\"5994\"},{\"id\":\"5995\"},{\"id\":\"5996\"},{\"id\":\"5997\"},{\"id\":\"5998\"},{\"id\":\"6029\"},{\"id\":\"6030\"},{\"id\":\"6031\"},{\"id\":\"6032\"},{\"id\":\"6033\"},{\"id\":\"6034\"},{\"id\":\"6065\"},{\"id\":\"6066\"},{\"id\":\"6067\"},{\"id\":\"6068\"},{\"id\":\"6069\"},{\"id\":\"6070\"}]},\"id\":\"7409\",\"type\":\"ProxyToolbar\"},{\"attributes\":{\"active_drag\":\"auto\",\"active_inspect\":\"auto\",\"active_multi\":null,\"active_scroll\":\"auto\",\"active_tap\":\"auto\",\"tools\":[{\"id\":\"6065\"},{\"id\":\"6066\"},{\"id\":\"6067\"},{\"id\":\"6068\"},{\"id\":\"6069\"},{\"id\":\"6070\"}]},\"id\":\"6072\",\"type\":\"Toolbar\"},{\"attributes\":{},\"id\":\"5977\",\"type\":\"DataRange1d\"},{\"attributes\":{},\"id\":\"6065\",\"type\":\"PanTool\"},{\"attributes\":{\"below\":[{\"id\":\"5985\"}],\"center\":[{\"id\":\"5988\"},{\"id\":\"5992\"}],\"left\":[{\"id\":\"5989\"}],\"plot_height\":200,\"plot_width\":300,\"renderers\":[{\"id\":\"6010\"}],\"title\":{\"id\":\"6326\"},\"toolbar\":{\"id\":\"6000\"},\"toolbar_location\":null,\"x_range\":{\"id\":\"5977\"},\"x_scale\":{\"id\":\"5981\"},\"y_range\":{\"id\":\"5979\"},\"y_scale\":{\"id\":\"5983\"}},\"id\":\"5976\",\"subtype\":\"Figure\",\"type\":\"Plot\"},{\"attributes\":{\"below\":[{\"id\":\"6057\"}],\"center\":[{\"id\":\"6060\"},{\"id\":\"6064\"}],\"left\":[{\"id\":\"6061\"}],\"plot_height\":200,\"plot_width\":300,\"renderers\":[{\"id\":\"6082\"}],\"title\":{\"id\":\"6330\"},\"toolbar\":{\"id\":\"6072\"},\"toolbar_location\":null,\"x_range\":{\"id\":\"6049\"},\"x_scale\":{\"id\":\"6053\"},\"y_range\":{\"id\":\"6051\"},\"y_scale\":{\"id\":\"6055\"}},\"id\":\"6048\",\"subtype\":\"Figure\",\"type\":\"Plot\"},{\"attributes\":{},\"id\":\"6066\",\"type\":\"WheelZoomTool\"},{\"attributes\":{\"fill_color\":{\"value\":\"#1f77b4\"},\"line_color\":{\"value\":\"#1f77b4\"},\"size\":{\"units\":\"screen\",\"value\":8},\"x\":{\"field\":\"x\"},\"y\":{\"field\":\"y\"}},\"id\":\"6008\",\"type\":\"Circle\"},{\"attributes\":{\"data\":{\"x\":[1,3,2,5,2],\"y\":[4,7,1,3,5]},\"selected\":{\"id\":\"6345\"},\"selection_policy\":{\"id\":\"6346\"}},\"id\":\"6007\",\"type\":\"ColumnDataSource\"},{\"attributes\":{},\"id\":\"6030\",\"type\":\"WheelZoomTool\"},{\"attributes\":{\"overlay\":{\"id\":\"6071\"}},\"id\":\"6067\",\"type\":\"BoxZoomTool\"},{\"attributes\":{},\"id\":\"6068\",\"type\":\"SaveTool\"},{\"attributes\":{},\"id\":\"6069\",\"type\":\"ResetTool\"},{\"attributes\":{\"data\":{\"x\":[1,3,2,5,2],\"y\":[4,7,1,3,5]},\"selected\":{\"id\":\"6348\"},\"selection_policy\":{\"id\":\"6349\"}},\"id\":\"6043\",\"type\":\"ColumnDataSource\"},{\"attributes\":{\"data_source\":{\"id\":\"6079\"},\"glyph\":{\"id\":\"6080\"},\"hover_glyph\":null,\"muted_glyph\":null,\"nonselection_glyph\":{\"id\":\"6081\"},\"selection_glyph\":null,\"view\":{\"id\":\"6083\"}},\"id\":\"6082\",\"type\":\"GlyphRenderer\"},{\"attributes\":{},\"id\":\"6070\",\"type\":\"HelpTool\"},{\"attributes\":{},\"id\":\"5983\",\"type\":\"LinearScale\"},{\"attributes\":{\"fill_color\":{\"value\":\"#1f77b4\"},\"line_color\":{\"value\":\"#1f77b4\"},\"size\":{\"units\":\"screen\",\"value\":8},\"x\":{\"field\":\"x\"},\"y\":{\"field\":\"y\"}},\"id\":\"6080\",\"type\":\"Diamond\"},{\"attributes\":{\"formatter\":{\"id\":\"6334\"},\"ticker\":{\"id\":\"5986\"}},\"id\":\"5985\",\"type\":\"LinearAxis\"},{\"attributes\":{},\"id\":\"5990\",\"type\":\"BasicTicker\"},{\"attributes\":{},\"id\":\"5986\",\"type\":\"BasicTicker\"},{\"attributes\":{},\"id\":\"6338\",\"type\":\"BasicTickFormatter\"},{\"attributes\":{},\"id\":\"6346\",\"type\":\"UnionRenderers\"},{\"attributes\":{\"axis\":{\"id\":\"5985\"},\"ticker\":null},\"id\":\"5988\",\"type\":\"Grid\"},{\"attributes\":{},\"id\":\"6336\",\"type\":\"BasicTickFormatter\"},{\"attributes\":{\"source\":{\"id\":\"6007\"}},\"id\":\"6011\",\"type\":\"CDSView\"},{\"attributes\":{\"axis\":{\"id\":\"5989\"},\"dimension\":1,\"ticker\":null},\"id\":\"5992\",\"type\":\"Grid\"},{\"attributes\":{},\"id\":\"6340\",\"type\":\"BasicTickFormatter\"},{\"attributes\":{\"formatter\":{\"id\":\"6332\"},\"ticker\":{\"id\":\"5990\"}},\"id\":\"5989\",\"type\":\"LinearAxis\"},{\"attributes\":{},\"id\":\"6342\",\"type\":\"BasicTickFormatter\"},{\"attributes\":{\"data_source\":{\"id\":\"6007\"},\"glyph\":{\"id\":\"6008\"},\"hover_glyph\":null,\"muted_glyph\":null,\"nonselection_glyph\":{\"id\":\"6009\"},\"selection_glyph\":null,\"view\":{\"id\":\"6011\"}},\"id\":\"6010\",\"type\":\"GlyphRenderer\"},{\"attributes\":{\"below\":[{\"id\":\"6021\"}],\"center\":[{\"id\":\"6024\"},{\"id\":\"6028\"}],\"left\":[{\"id\":\"6025\"}],\"plot_height\":200,\"plot_width\":300,\"renderers\":[{\"id\":\"6046\"}],\"title\":{\"id\":\"6328\"},\"toolbar\":{\"id\":\"6036\"},\"toolbar_location\":null,\"x_range\":{\"id\":\"6013\"},\"x_scale\":{\"id\":\"6017\"},\"y_range\":{\"id\":\"6015\"},\"y_scale\":{\"id\":\"6019\"}},\"id\":\"6012\",\"subtype\":\"Figure\",\"type\":\"Plot\"},{\"attributes\":{},\"id\":\"6345\",\"type\":\"Selection\"},{\"attributes\":{\"fill_alpha\":{\"value\":0.1},\"fill_color\":{\"value\":\"#1f77b4\"},\"line_alpha\":{\"value\":0.1},\"line_color\":{\"value\":\"#1f77b4\"},\"size\":{\"units\":\"screen\",\"value\":8},\"x\":{\"field\":\"x\"},\"y\":{\"field\":\"y\"}},\"id\":\"6009\",\"type\":\"Circle\"},{\"attributes\":{\"axis\":{\"id\":\"6025\"},\"dimension\":1,\"ticker\":null},\"id\":\"6028\",\"type\":\"Grid\"},{\"attributes\":{},\"id\":\"6334\",\"type\":\"BasicTickFormatter\"},{\"attributes\":{\"bottom_units\":\"screen\",\"fill_alpha\":0.5,\"fill_color\":\"lightgrey\",\"left_units\":\"screen\",\"level\":\"overlay\",\"line_alpha\":1.0,\"line_color\":\"black\",\"line_dash\":[4,4],\"line_width\":2,\"right_units\":\"screen\",\"top_units\":\"screen\"},\"id\":\"6071\",\"type\":\"BoxAnnotation\"},{\"attributes\":{\"fill_color\":{\"value\":\"#1f77b4\"},\"line_color\":{\"value\":\"#1f77b4\"},\"size\":{\"units\":\"screen\",\"value\":8},\"x\":{\"field\":\"x\"},\"y\":{\"field\":\"y\"}},\"id\":\"6044\",\"type\":\"Square\"},{\"attributes\":{},\"id\":\"5993\",\"type\":\"PanTool\"}],\"root_ids\":[\"7411\"]},\"title\":\"Bokeh Application\",\"version\":\"2.2.3\"}};\n",
       "  var render_items = [{\"docid\":\"4c353098-3d6b-417c-a214-e976316c221c\",\"root_ids\":[\"7411\"],\"roots\":{\"7411\":\"8368ac9d-4386-43aa-a00f-b754c4237bd0\"}}];\n",
       "  root.Bokeh.embed.embed_items_notebook(docs_json, render_items);\n",
       "\n",
       "  }\n",
       "  if (root.Bokeh !== undefined) {\n",
       "    embed_document(root);\n",
       "  } else {\n",
       "    var attempts = 0;\n",
       "    var timer = setInterval(function(root) {\n",
       "      if (root.Bokeh !== undefined) {\n",
       "        clearInterval(timer);\n",
       "        embed_document(root);\n",
       "      } else {\n",
       "        attempts++;\n",
       "        if (attempts > 100) {\n",
       "          clearInterval(timer);\n",
       "          console.log(\"Bokeh: ERROR: Unable to run BokehJS code because BokehJS library is missing\");\n",
       "        }\n",
       "      }\n",
       "    }, 10, root)\n",
       "  }\n",
       "})(window);"
      ],
      "application/vnd.bokehjs_exec.v0+json": ""
     },
     "metadata": {
      "application/vnd.bokehjs_exec.v0+json": {
       "id": "7411"
      }
     },
     "output_type": "display_data"
    }
   ],
   "source": [
    "from bokeh.layouts import gridplot\n",
    "layout = gridplot([[None,plot_1],[plot_2,plot_3]])\n",
    "show(layout)"
   ]
  },
  {
   "cell_type": "markdown",
   "metadata": {},
   "source": [
    "### Tabbed layout \n",
    "There are 2 steps - First a panel must be made for each tab, then the tabs must be collected in a tabs object.\n",
    "\n",
    "We create a panel for every tab we want to have. We call panel with 2 arguments :-\n",
    "1. First argument is the child argument, which should have the content for the tab. This could be a \n",
    "plot or another layout. We can put plots/controls, rows/columns of plots & controls\n",
    "2. The second argument is a title for the tab, which will be displayed.\n",
    "To create a final layout that we will show , we call Tabs with a list of the panels as the tabs parameter\n",
    "'''"
   ]
  },
  {
   "cell_type": "code",
   "execution_count": 26,
   "metadata": {},
   "outputs": [
    {
     "data": {
      "text/html": [
       "\n",
       "\n",
       "\n",
       "\n",
       "\n",
       "\n",
       "  <div class=\"bk-root\" id=\"bd6f4f10-712c-4e14-8ee8-057b107af3e3\" data-root-id=\"7900\"></div>\n"
      ]
     },
     "metadata": {},
     "output_type": "display_data"
    },
    {
     "data": {
      "application/javascript": [
       "(function(root) {\n",
       "  function embed_document(root) {\n",
       "    \n",
       "  var docs_json = {\"2d5560de-3d3d-4bf6-b382-dd8368fb6272\":{\"roots\":{\"references\":[{\"attributes\":{\"tabs\":[{\"id\":\"7897\"},{\"id\":\"7899\"}]},\"id\":\"7900\",\"type\":\"Tabs\"},{\"attributes\":{\"active_drag\":\"auto\",\"active_inspect\":\"auto\",\"active_multi\":null,\"active_scroll\":\"auto\",\"active_tap\":\"auto\",\"tools\":[{\"id\":\"5993\"},{\"id\":\"5994\"},{\"id\":\"5995\"},{\"id\":\"5996\"},{\"id\":\"5997\"},{\"id\":\"5998\"}]},\"id\":\"6000\",\"type\":\"Toolbar\"},{\"attributes\":{},\"id\":\"5994\",\"type\":\"WheelZoomTool\"},{\"attributes\":{\"overlay\":{\"id\":\"5999\"}},\"id\":\"5995\",\"type\":\"BoxZoomTool\"},{\"attributes\":{},\"id\":\"5981\",\"type\":\"LinearScale\"},{\"attributes\":{},\"id\":\"5996\",\"type\":\"SaveTool\"},{\"attributes\":{},\"id\":\"5997\",\"type\":\"ResetTool\"},{\"attributes\":{\"text\":\"\"},\"id\":\"6326\",\"type\":\"Title\"},{\"attributes\":{\"text\":\"\"},\"id\":\"6328\",\"type\":\"Title\"},{\"attributes\":{},\"id\":\"6029\",\"type\":\"PanTool\"},{\"attributes\":{},\"id\":\"5998\",\"type\":\"HelpTool\"},{\"attributes\":{},\"id\":\"6013\",\"type\":\"DataRange1d\"},{\"attributes\":{\"text\":\"\"},\"id\":\"6330\",\"type\":\"Title\"},{\"attributes\":{},\"id\":\"6332\",\"type\":\"BasicTickFormatter\"},{\"attributes\":{},\"id\":\"6351\",\"type\":\"Selection\"},{\"attributes\":{\"source\":{\"id\":\"6043\"}},\"id\":\"6047\",\"type\":\"CDSView\"},{\"attributes\":{},\"id\":\"6352\",\"type\":\"UnionRenderers\"},{\"attributes\":{},\"id\":\"5979\",\"type\":\"DataRange1d\"},{\"attributes\":{},\"id\":\"6034\",\"type\":\"HelpTool\"},{\"attributes\":{\"children\":[{\"id\":\"6048\"}]},\"id\":\"7898\",\"type\":\"Row\"},{\"attributes\":{},\"id\":\"6033\",\"type\":\"ResetTool\"},{\"attributes\":{\"bottom_units\":\"screen\",\"fill_alpha\":0.5,\"fill_color\":\"lightgrey\",\"left_units\":\"screen\",\"level\":\"overlay\",\"line_alpha\":1.0,\"line_color\":\"black\",\"line_dash\":[4,4],\"line_width\":2,\"right_units\":\"screen\",\"top_units\":\"screen\"},\"id\":\"5999\",\"type\":\"BoxAnnotation\"},{\"attributes\":{\"children\":[{\"id\":\"5976\"},{\"id\":\"6012\"}]},\"id\":\"7896\",\"type\":\"Row\"},{\"attributes\":{},\"id\":\"6032\",\"type\":\"SaveTool\"},{\"attributes\":{},\"id\":\"6349\",\"type\":\"UnionRenderers\"},{\"attributes\":{\"child\":{\"id\":\"7896\"},\"title\":\"First_panel\"},\"id\":\"7897\",\"type\":\"Panel\"},{\"attributes\":{\"fill_alpha\":{\"value\":0.1},\"fill_color\":{\"value\":\"#1f77b4\"},\"line_alpha\":{\"value\":0.1},\"line_color\":{\"value\":\"#1f77b4\"},\"size\":{\"units\":\"screen\",\"value\":8},\"x\":{\"field\":\"x\"},\"y\":{\"field\":\"y\"}},\"id\":\"6045\",\"type\":\"Square\"},{\"attributes\":{\"child\":{\"id\":\"7898\"},\"title\":\"Second_panel\"},\"id\":\"7899\",\"type\":\"Panel\"},{\"attributes\":{},\"id\":\"6015\",\"type\":\"DataRange1d\"},{\"attributes\":{},\"id\":\"6017\",\"type\":\"LinearScale\"},{\"attributes\":{\"overlay\":{\"id\":\"6035\"}},\"id\":\"6031\",\"type\":\"BoxZoomTool\"},{\"attributes\":{\"data_source\":{\"id\":\"6043\"},\"glyph\":{\"id\":\"6044\"},\"hover_glyph\":null,\"muted_glyph\":null,\"nonselection_glyph\":{\"id\":\"6045\"},\"selection_glyph\":null,\"view\":{\"id\":\"6047\"}},\"id\":\"6046\",\"type\":\"GlyphRenderer\"},{\"attributes\":{},\"id\":\"6019\",\"type\":\"LinearScale\"},{\"attributes\":{\"formatter\":{\"id\":\"6338\"},\"ticker\":{\"id\":\"6022\"}},\"id\":\"6021\",\"type\":\"LinearAxis\"},{\"attributes\":{},\"id\":\"6026\",\"type\":\"BasicTicker\"},{\"attributes\":{},\"id\":\"6022\",\"type\":\"BasicTicker\"},{\"attributes\":{\"axis\":{\"id\":\"6021\"},\"ticker\":null},\"id\":\"6024\",\"type\":\"Grid\"},{\"attributes\":{\"formatter\":{\"id\":\"6336\"},\"ticker\":{\"id\":\"6026\"}},\"id\":\"6025\",\"type\":\"LinearAxis\"},{\"attributes\":{},\"id\":\"6348\",\"type\":\"Selection\"},{\"attributes\":{\"bottom_units\":\"screen\",\"fill_alpha\":0.5,\"fill_color\":\"lightgrey\",\"left_units\":\"screen\",\"level\":\"overlay\",\"line_alpha\":1.0,\"line_color\":\"black\",\"line_dash\":[4,4],\"line_width\":2,\"right_units\":\"screen\",\"top_units\":\"screen\"},\"id\":\"6035\",\"type\":\"BoxAnnotation\"},{\"attributes\":{\"active_drag\":\"auto\",\"active_inspect\":\"auto\",\"active_multi\":null,\"active_scroll\":\"auto\",\"active_tap\":\"auto\",\"tools\":[{\"id\":\"6029\"},{\"id\":\"6030\"},{\"id\":\"6031\"},{\"id\":\"6032\"},{\"id\":\"6033\"},{\"id\":\"6034\"}]},\"id\":\"6036\",\"type\":\"Toolbar\"},{\"attributes\":{},\"id\":\"6049\",\"type\":\"DataRange1d\"},{\"attributes\":{\"fill_alpha\":{\"value\":0.1},\"fill_color\":{\"value\":\"#1f77b4\"},\"line_alpha\":{\"value\":0.1},\"line_color\":{\"value\":\"#1f77b4\"},\"size\":{\"units\":\"screen\",\"value\":8},\"x\":{\"field\":\"x\"},\"y\":{\"field\":\"y\"}},\"id\":\"6081\",\"type\":\"Diamond\"},{\"attributes\":{\"data\":{\"x\":[1,3,2,5,2],\"y\":[4,7,1,3,5]},\"selected\":{\"id\":\"6351\"},\"selection_policy\":{\"id\":\"6352\"}},\"id\":\"6079\",\"type\":\"ColumnDataSource\"},{\"attributes\":{},\"id\":\"6051\",\"type\":\"DataRange1d\"},{\"attributes\":{},\"id\":\"6053\",\"type\":\"LinearScale\"},{\"attributes\":{},\"id\":\"6055\",\"type\":\"LinearScale\"},{\"attributes\":{\"formatter\":{\"id\":\"6342\"},\"ticker\":{\"id\":\"6058\"}},\"id\":\"6057\",\"type\":\"LinearAxis\"},{\"attributes\":{},\"id\":\"6062\",\"type\":\"BasicTicker\"},{\"attributes\":{},\"id\":\"6058\",\"type\":\"BasicTicker\"},{\"attributes\":{\"axis\":{\"id\":\"6057\"},\"ticker\":null},\"id\":\"6060\",\"type\":\"Grid\"},{\"attributes\":{\"source\":{\"id\":\"6079\"}},\"id\":\"6083\",\"type\":\"CDSView\"},{\"attributes\":{\"axis\":{\"id\":\"6061\"},\"dimension\":1,\"ticker\":null},\"id\":\"6064\",\"type\":\"Grid\"},{\"attributes\":{\"formatter\":{\"id\":\"6340\"},\"ticker\":{\"id\":\"6062\"}},\"id\":\"6061\",\"type\":\"LinearAxis\"},{\"attributes\":{\"active_drag\":\"auto\",\"active_inspect\":\"auto\",\"active_multi\":null,\"active_scroll\":\"auto\",\"active_tap\":\"auto\",\"tools\":[{\"id\":\"6065\"},{\"id\":\"6066\"},{\"id\":\"6067\"},{\"id\":\"6068\"},{\"id\":\"6069\"},{\"id\":\"6070\"}]},\"id\":\"6072\",\"type\":\"Toolbar\"},{\"attributes\":{},\"id\":\"5977\",\"type\":\"DataRange1d\"},{\"attributes\":{},\"id\":\"6065\",\"type\":\"PanTool\"},{\"attributes\":{\"below\":[{\"id\":\"5985\"}],\"center\":[{\"id\":\"5988\"},{\"id\":\"5992\"}],\"left\":[{\"id\":\"5989\"}],\"plot_height\":200,\"plot_width\":300,\"renderers\":[{\"id\":\"6010\"}],\"title\":{\"id\":\"6326\"},\"toolbar\":{\"id\":\"6000\"},\"toolbar_location\":null,\"x_range\":{\"id\":\"5977\"},\"x_scale\":{\"id\":\"5981\"},\"y_range\":{\"id\":\"5979\"},\"y_scale\":{\"id\":\"5983\"}},\"id\":\"5976\",\"subtype\":\"Figure\",\"type\":\"Plot\"},{\"attributes\":{\"below\":[{\"id\":\"6057\"}],\"center\":[{\"id\":\"6060\"},{\"id\":\"6064\"}],\"left\":[{\"id\":\"6061\"}],\"plot_height\":200,\"plot_width\":300,\"renderers\":[{\"id\":\"6082\"}],\"title\":{\"id\":\"6330\"},\"toolbar\":{\"id\":\"6072\"},\"toolbar_location\":null,\"x_range\":{\"id\":\"6049\"},\"x_scale\":{\"id\":\"6053\"},\"y_range\":{\"id\":\"6051\"},\"y_scale\":{\"id\":\"6055\"}},\"id\":\"6048\",\"subtype\":\"Figure\",\"type\":\"Plot\"},{\"attributes\":{\"fill_color\":{\"value\":\"#1f77b4\"},\"line_color\":{\"value\":\"#1f77b4\"},\"size\":{\"units\":\"screen\",\"value\":8},\"x\":{\"field\":\"x\"},\"y\":{\"field\":\"y\"}},\"id\":\"6008\",\"type\":\"Circle\"},{\"attributes\":{},\"id\":\"6066\",\"type\":\"WheelZoomTool\"},{\"attributes\":{\"data\":{\"x\":[1,3,2,5,2],\"y\":[4,7,1,3,5]},\"selected\":{\"id\":\"6345\"},\"selection_policy\":{\"id\":\"6346\"}},\"id\":\"6007\",\"type\":\"ColumnDataSource\"},{\"attributes\":{},\"id\":\"6030\",\"type\":\"WheelZoomTool\"},{\"attributes\":{\"overlay\":{\"id\":\"6071\"}},\"id\":\"6067\",\"type\":\"BoxZoomTool\"},{\"attributes\":{},\"id\":\"6068\",\"type\":\"SaveTool\"},{\"attributes\":{\"data\":{\"x\":[1,3,2,5,2],\"y\":[4,7,1,3,5]},\"selected\":{\"id\":\"6348\"},\"selection_policy\":{\"id\":\"6349\"}},\"id\":\"6043\",\"type\":\"ColumnDataSource\"},{\"attributes\":{},\"id\":\"6069\",\"type\":\"ResetTool\"},{\"attributes\":{\"data_source\":{\"id\":\"6079\"},\"glyph\":{\"id\":\"6080\"},\"hover_glyph\":null,\"muted_glyph\":null,\"nonselection_glyph\":{\"id\":\"6081\"},\"selection_glyph\":null,\"view\":{\"id\":\"6083\"}},\"id\":\"6082\",\"type\":\"GlyphRenderer\"},{\"attributes\":{},\"id\":\"5983\",\"type\":\"LinearScale\"},{\"attributes\":{},\"id\":\"6070\",\"type\":\"HelpTool\"},{\"attributes\":{\"fill_color\":{\"value\":\"#1f77b4\"},\"line_color\":{\"value\":\"#1f77b4\"},\"size\":{\"units\":\"screen\",\"value\":8},\"x\":{\"field\":\"x\"},\"y\":{\"field\":\"y\"}},\"id\":\"6080\",\"type\":\"Diamond\"},{\"attributes\":{\"formatter\":{\"id\":\"6334\"},\"ticker\":{\"id\":\"5986\"}},\"id\":\"5985\",\"type\":\"LinearAxis\"},{\"attributes\":{},\"id\":\"5990\",\"type\":\"BasicTicker\"},{\"attributes\":{},\"id\":\"5986\",\"type\":\"BasicTicker\"},{\"attributes\":{},\"id\":\"6338\",\"type\":\"BasicTickFormatter\"},{\"attributes\":{},\"id\":\"6346\",\"type\":\"UnionRenderers\"},{\"attributes\":{\"axis\":{\"id\":\"5985\"},\"ticker\":null},\"id\":\"5988\",\"type\":\"Grid\"},{\"attributes\":{},\"id\":\"6336\",\"type\":\"BasicTickFormatter\"},{\"attributes\":{\"source\":{\"id\":\"6007\"}},\"id\":\"6011\",\"type\":\"CDSView\"},{\"attributes\":{\"axis\":{\"id\":\"5989\"},\"dimension\":1,\"ticker\":null},\"id\":\"5992\",\"type\":\"Grid\"},{\"attributes\":{},\"id\":\"6340\",\"type\":\"BasicTickFormatter\"},{\"attributes\":{\"formatter\":{\"id\":\"6332\"},\"ticker\":{\"id\":\"5990\"}},\"id\":\"5989\",\"type\":\"LinearAxis\"},{\"attributes\":{},\"id\":\"6342\",\"type\":\"BasicTickFormatter\"},{\"attributes\":{\"data_source\":{\"id\":\"6007\"},\"glyph\":{\"id\":\"6008\"},\"hover_glyph\":null,\"muted_glyph\":null,\"nonselection_glyph\":{\"id\":\"6009\"},\"selection_glyph\":null,\"view\":{\"id\":\"6011\"}},\"id\":\"6010\",\"type\":\"GlyphRenderer\"},{\"attributes\":{\"below\":[{\"id\":\"6021\"}],\"center\":[{\"id\":\"6024\"},{\"id\":\"6028\"}],\"left\":[{\"id\":\"6025\"}],\"plot_height\":200,\"plot_width\":300,\"renderers\":[{\"id\":\"6046\"}],\"title\":{\"id\":\"6328\"},\"toolbar\":{\"id\":\"6036\"},\"toolbar_location\":null,\"x_range\":{\"id\":\"6013\"},\"x_scale\":{\"id\":\"6017\"},\"y_range\":{\"id\":\"6015\"},\"y_scale\":{\"id\":\"6019\"}},\"id\":\"6012\",\"subtype\":\"Figure\",\"type\":\"Plot\"},{\"attributes\":{},\"id\":\"6345\",\"type\":\"Selection\"},{\"attributes\":{\"fill_alpha\":{\"value\":0.1},\"fill_color\":{\"value\":\"#1f77b4\"},\"line_alpha\":{\"value\":0.1},\"line_color\":{\"value\":\"#1f77b4\"},\"size\":{\"units\":\"screen\",\"value\":8},\"x\":{\"field\":\"x\"},\"y\":{\"field\":\"y\"}},\"id\":\"6009\",\"type\":\"Circle\"},{\"attributes\":{\"axis\":{\"id\":\"6025\"},\"dimension\":1,\"ticker\":null},\"id\":\"6028\",\"type\":\"Grid\"},{\"attributes\":{},\"id\":\"6334\",\"type\":\"BasicTickFormatter\"},{\"attributes\":{\"fill_color\":{\"value\":\"#1f77b4\"},\"line_color\":{\"value\":\"#1f77b4\"},\"size\":{\"units\":\"screen\",\"value\":8},\"x\":{\"field\":\"x\"},\"y\":{\"field\":\"y\"}},\"id\":\"6044\",\"type\":\"Square\"},{\"attributes\":{\"bottom_units\":\"screen\",\"fill_alpha\":0.5,\"fill_color\":\"lightgrey\",\"left_units\":\"screen\",\"level\":\"overlay\",\"line_alpha\":1.0,\"line_color\":\"black\",\"line_dash\":[4,4],\"line_width\":2,\"right_units\":\"screen\",\"top_units\":\"screen\"},\"id\":\"6071\",\"type\":\"BoxAnnotation\"},{\"attributes\":{},\"id\":\"5993\",\"type\":\"PanTool\"}],\"root_ids\":[\"7900\"]},\"title\":\"Bokeh Application\",\"version\":\"2.2.3\"}};\n",
       "  var render_items = [{\"docid\":\"2d5560de-3d3d-4bf6-b382-dd8368fb6272\",\"root_ids\":[\"7900\"],\"roots\":{\"7900\":\"bd6f4f10-712c-4e14-8ee8-057b107af3e3\"}}];\n",
       "  root.Bokeh.embed.embed_items_notebook(docs_json, render_items);\n",
       "\n",
       "  }\n",
       "  if (root.Bokeh !== undefined) {\n",
       "    embed_document(root);\n",
       "  } else {\n",
       "    var attempts = 0;\n",
       "    var timer = setInterval(function(root) {\n",
       "      if (root.Bokeh !== undefined) {\n",
       "        clearInterval(timer);\n",
       "        embed_document(root);\n",
       "      } else {\n",
       "        attempts++;\n",
       "        if (attempts > 100) {\n",
       "          clearInterval(timer);\n",
       "          console.log(\"Bokeh: ERROR: Unable to run BokehJS code because BokehJS library is missing\");\n",
       "        }\n",
       "      }\n",
       "    }, 10, root)\n",
       "  }\n",
       "})(window);"
      ],
      "application/vnd.bokehjs_exec.v0+json": ""
     },
     "metadata": {
      "application/vnd.bokehjs_exec.v0+json": {
       "id": "7900"
      }
     },
     "output_type": "display_data"
    }
   ],
   "source": [
    "from bokeh.models.widgets import Tabs, Panel\n",
    "\n",
    "# Create a Panel with a title for each tab\n",
    "first_panel = Panel(child=row(plot_1,plot_2),title='First_panel')\n",
    "second_panel = Panel(child=row(plot_3),title='Second_panel')\n",
    "\n",
    "# Put the Panels in a tab object\n",
    "tabs = Tabs(tabs=[first_panel,second_panel])\n",
    "show(tabs)"
   ]
  },
  {
   "cell_type": "markdown",
   "metadata": {},
   "source": [
    "### Column Data Source"
   ]
  },
  {
   "cell_type": "markdown",
   "metadata": {},
   "source": [
    "A data structure that is central to bokeh.\n",
    "A common fundamental data structure for bokeh\n",
    "This data structure is used extensively in bokeh\n",
    "It is what takes care of getting your data from python to the final javascript & HTML document that is daisplayed to your users.\n",
    "Essentially it is a stripped down, simpler version of a dataframe. It has a .data attribute that is a python dictionary, that maps string names to sequences of data\n",
    "Maps string column names to sequesnces of data\n",
    "\n",
    "often created automatically for you\n",
    "\n",
    "Column Data sources are often created for you, and in all the examples we have seen so far, this has been the case.\n",
    "\n",
    "When you pass in x=[1,2,3], to the circle method, bokeh creates a column data source for you behind the scenes and maps the name 'x' to the list [1,2,3]\n",
    "\n",
    "But there are times when it is useful to be able to create or use column data sources directly\n",
    "\n",
    "They can be shared between glyphs to link selections \n",
    "For instance column data sources can be shared between glyphs, and this enables selection between plots to be automatically linked together(more later)\n",
    "\n",
    "Extra columns can be used with hover tooltips\n",
    "it is also possible to add extra columns data sources that can be displayed in hover tooltips or by other tools (more later)\n",
    "\n",
    "Column Data Source\n",
    "To use them directly, we must import ColumnDataSource from bokeh\n",
    "Then we create an instance of column data source by passing a data dictionary to the initializer\n",
    "This dictionry should have 'string' keys, and sequences (such as lists/arrays) as values\n",
    "__**__ All the columns in a column data source must be the same length"
   ]
  },
  {
   "cell_type": "code",
   "execution_count": 27,
   "metadata": {},
   "outputs": [
    {
     "data": {
      "text/plain": [
       "{'x': [1, 2, 3, 4, 5], 'y': [8, 6, 5, 2, 3]}"
      ]
     },
     "execution_count": 27,
     "metadata": {},
     "output_type": "execute_result"
    }
   ],
   "source": [
    "from bokeh.models import ColumnDataSource\n",
    "source= ColumnDataSource(data={'x':[1,2,3,4,5],'y':[8,6,5,2,3]})\n",
    "source.data"
   ]
  },
  {
   "cell_type": "markdown",
   "metadata": {},
   "source": [
    "Column Data Source from DataFrame\n",
    "Column data source are easy to create drectly from pandas dataframes"
   ]
  },
  {
   "cell_type": "code",
   "execution_count": 28,
   "metadata": {},
   "outputs": [],
   "source": [
    "import pandas as pd\n",
    "df = pd.DataFrame({'x':[1,2,3],'y':[4,5,6]})"
   ]
  },
  {
   "cell_type": "code",
   "execution_count": 29,
   "metadata": {},
   "outputs": [
    {
     "data": {
      "text/html": [
       "<div style=\"display: table;\"><div style=\"display: table-row;\"><div style=\"display: table-cell;\"><b title=\"bokeh.models.sources.ColumnDataSource\">ColumnDataSource</b>(</div><div style=\"display: table-cell;\">id&nbsp;=&nbsp;'8413', <span id=\"8415\" style=\"cursor: pointer;\">&hellip;)</span></div></div><div class=\"8414\" style=\"display: none;\"><div style=\"display: table-cell;\"></div><div style=\"display: table-cell;\">data&nbsp;=&nbsp;{'y': [4, 5, 6], 'x': [1, 2, 3], 'index': [0, 1, 2]},</div></div><div class=\"8414\" style=\"display: none;\"><div style=\"display: table-cell;\"></div><div style=\"display: table-cell;\">js_event_callbacks&nbsp;=&nbsp;{},</div></div><div class=\"8414\" style=\"display: none;\"><div style=\"display: table-cell;\"></div><div style=\"display: table-cell;\">js_property_callbacks&nbsp;=&nbsp;{},</div></div><div class=\"8414\" style=\"display: none;\"><div style=\"display: table-cell;\"></div><div style=\"display: table-cell;\">name&nbsp;=&nbsp;None,</div></div><div class=\"8414\" style=\"display: none;\"><div style=\"display: table-cell;\"></div><div style=\"display: table-cell;\">selected&nbsp;=&nbsp;Selection(id='8417', ...),</div></div><div class=\"8414\" style=\"display: none;\"><div style=\"display: table-cell;\"></div><div style=\"display: table-cell;\">selection_policy&nbsp;=&nbsp;UnionRenderers(id='8416', ...),</div></div><div class=\"8414\" style=\"display: none;\"><div style=\"display: table-cell;\"></div><div style=\"display: table-cell;\">subscribed_events&nbsp;=&nbsp;[],</div></div><div class=\"8414\" style=\"display: none;\"><div style=\"display: table-cell;\"></div><div style=\"display: table-cell;\">tags&nbsp;=&nbsp;[])</div></div></div>\n",
       "<script>\n",
       "(function() {\n",
       "  var expanded = false;\n",
       "  var ellipsis = document.getElementById(\"8415\");\n",
       "  ellipsis.addEventListener(\"click\", function() {\n",
       "    var rows = document.getElementsByClassName(\"8414\");\n",
       "    for (var i = 0; i < rows.length; i++) {\n",
       "      var el = rows[i];\n",
       "      el.style.display = expanded ? \"none\" : \"table-row\";\n",
       "    }\n",
       "    ellipsis.innerHTML = expanded ? \"&hellip;)\" : \"&lsaquo;&lsaquo;&lsaquo;\";\n",
       "    expanded = !expanded;\n",
       "  });\n",
       "})();\n",
       "</script>\n"
      ],
      "text/plain": [
       "ColumnDataSource(id='8413', ...)"
      ]
     },
     "execution_count": 29,
     "metadata": {},
     "output_type": "execute_result"
    }
   ],
   "source": [
    "from bokeh.models import ColumnDataSource\n",
    "source = ColumnDataSource(df)\n",
    "source"
   ]
  },
  {
   "cell_type": "code",
   "execution_count": null,
   "metadata": {},
   "outputs": [],
   "source": []
  },
  {
   "cell_type": "code",
   "execution_count": null,
   "metadata": {},
   "outputs": [],
   "source": []
  },
  {
   "cell_type": "code",
   "execution_count": null,
   "metadata": {},
   "outputs": [],
   "source": []
  },
  {
   "cell_type": "markdown",
   "metadata": {},
   "source": [
    "<ul>\n",
    "    <li></li>\n",
    "    <li></li>\n",
    "    <li></li>\n",
    "</ul>"
   ]
  },
  {
   "cell_type": "code",
   "execution_count": null,
   "metadata": {},
   "outputs": [],
   "source": []
  },
  {
   "cell_type": "code",
   "execution_count": null,
   "metadata": {},
   "outputs": [],
   "source": []
  },
  {
   "cell_type": "code",
   "execution_count": null,
   "metadata": {},
   "outputs": [],
   "source": []
  },
  {
   "cell_type": "code",
   "execution_count": 30,
   "metadata": {},
   "outputs": [],
   "source": [
    "# Tell that we can use the output_file rather output_notebook to output the file in an HTML file with all the HTML and Javascript code in that file"
   ]
  }
 ],
 "metadata": {
  "kernelspec": {
   "display_name": "Python 3",
   "language": "python",
   "name": "python3"
  },
  "language_info": {
   "codemirror_mode": {
    "name": "ipython",
    "version": 3
   },
   "file_extension": ".py",
   "mimetype": "text/x-python",
   "name": "python",
   "nbconvert_exporter": "python",
   "pygments_lexer": "ipython3",
   "version": "3.7.9"
  }
 },
 "nbformat": 4,
 "nbformat_minor": 4
}
