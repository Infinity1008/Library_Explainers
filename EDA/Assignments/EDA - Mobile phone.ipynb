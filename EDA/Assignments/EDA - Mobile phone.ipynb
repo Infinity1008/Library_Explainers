{
 "cells": [
  {
   "cell_type": "markdown",
   "id": "59d1e3a0",
   "metadata": {},
   "source": [
    "<h1><center>Pandas & Numpy Mini Project</center></h1>\n",
    "\n",
    "\n",
    "## About Dataset\n",
    "\n",
    "- This Dataset is about information on smartphones, and feature phone available in the Indian market.\n",
    "- This Dataset is having 5 columns -> model name, price, ratings, reviews, and specifications.\n",
    "\n",
    "Do not confuse the duplicated values in the name and the price columns, because for the same model there are the same phones available with different color options like Google pixel 6pro. It is available in 2-3 color options but the price remains the same.\n",
    "\n",
    "## You are to perform these things on the dataset. \n",
    "- Data cleaning\n",
    "- Feature engineering\n",
    "- Data Visualisation \n",
    "\n",
    "The objective of this project is to see what insights you can extract out of this dataset \n",
    "\n",
    "## Some hints on what can be done\n",
    "- Which phone model sold the most units\n",
    "- Which color was the most common\n",
    "- What ram was the most common\n",
    "- Which company sold the most phones\n",
    "- Which company had the highest average rating for their phones\n",
    "\n",
    "These are just some of the examples of things you can uncover with this dataset. Feel free to get creative with your code and see what all insights you can extract from this dataset. Best of luck"
   ]
  },
  {
   "cell_type": "code",
   "execution_count": 1,
   "id": "42e173d9",
   "metadata": {},
   "outputs": [],
   "source": [
    "import pandas as pd"
   ]
  },
  {
   "cell_type": "code",
   "execution_count": 2,
   "id": "2deaa671",
   "metadata": {},
   "outputs": [],
   "source": [
    "df = pd.read_csv('Mobile_dataSet.csv')"
   ]
  },
  {
   "cell_type": "code",
   "execution_count": 3,
   "id": "0a4e565a",
   "metadata": {},
   "outputs": [
    {
     "data": {
      "text/html": [
       "<div>\n",
       "<style scoped>\n",
       "    .dataframe tbody tr th:only-of-type {\n",
       "        vertical-align: middle;\n",
       "    }\n",
       "\n",
       "    .dataframe tbody tr th {\n",
       "        vertical-align: top;\n",
       "    }\n",
       "\n",
       "    .dataframe thead th {\n",
       "        text-align: right;\n",
       "    }\n",
       "</style>\n",
       "<table border=\"1\" class=\"dataframe\">\n",
       "  <thead>\n",
       "    <tr style=\"text-align: right;\">\n",
       "      <th></th>\n",
       "      <th>Unnamed: 0</th>\n",
       "      <th>Model</th>\n",
       "      <th>Mrp</th>\n",
       "      <th>Rating</th>\n",
       "      <th>Review</th>\n",
       "      <th>Specs</th>\n",
       "    </tr>\n",
       "  </thead>\n",
       "  <tbody>\n",
       "    <tr>\n",
       "      <th>0</th>\n",
       "      <td>0</td>\n",
       "      <td>Infinix HOT 20 Play (Luna Blue, 64 GB)</td>\n",
       "      <td>₹8,199</td>\n",
       "      <td>4.3</td>\n",
       "      <td>505 Ratings &amp; 52 Reviews</td>\n",
       "      <td>4 GB RAM | 64 GB ROM | Expandable Upto 256 GB</td>\n",
       "    </tr>\n",
       "    <tr>\n",
       "      <th>1</th>\n",
       "      <td>1</td>\n",
       "      <td>MOTOROLA e40 (Carbon Gray, 64 GB)</td>\n",
       "      <td>₹7,999</td>\n",
       "      <td>4.1</td>\n",
       "      <td>56,085 Ratings &amp; 5,600 Reviews</td>\n",
       "      <td>4 GB RAM | 64 GB ROM | Expandable Upto 1 TB</td>\n",
       "    </tr>\n",
       "    <tr>\n",
       "      <th>2</th>\n",
       "      <td>2</td>\n",
       "      <td>POCO C31 (Shadow Gray, 64 GB)</td>\n",
       "      <td>₹7,499</td>\n",
       "      <td>4.3</td>\n",
       "      <td>1,83,688 Ratings &amp; 11,185 Reviews</td>\n",
       "      <td>4 GB RAM | 64 GB ROM | Expandable Upto 512 GB</td>\n",
       "    </tr>\n",
       "    <tr>\n",
       "      <th>3</th>\n",
       "      <td>3</td>\n",
       "      <td>REDMI 9i Sport (Coral Green, 64 GB)</td>\n",
       "      <td>₹7,199</td>\n",
       "      <td>4.3</td>\n",
       "      <td>2,09,377 Ratings &amp; 12,027 Reviews</td>\n",
       "      <td>4 GB RAM | 64 GB ROM | Expandable Upto 512 GB</td>\n",
       "    </tr>\n",
       "    <tr>\n",
       "      <th>4</th>\n",
       "      <td>4</td>\n",
       "      <td>SAMSUNG Galaxy F23 5G (Aqua Blue, 128 GB)</td>\n",
       "      <td>₹14,999</td>\n",
       "      <td>4.3</td>\n",
       "      <td>1,37,778 Ratings &amp; 11,213 Reviews</td>\n",
       "      <td>6 GB RAM | 128 GB ROM | Expandable Upto 1 TB</td>\n",
       "    </tr>\n",
       "  </tbody>\n",
       "</table>\n",
       "</div>"
      ],
      "text/plain": [
       "   Unnamed: 0                                      Model      Mrp  Rating  \\\n",
       "0           0     Infinix HOT 20 Play (Luna Blue, 64 GB)   ₹8,199     4.3   \n",
       "1           1          MOTOROLA e40 (Carbon Gray, 64 GB)   ₹7,999     4.1   \n",
       "2           2              POCO C31 (Shadow Gray, 64 GB)   ₹7,499     4.3   \n",
       "3           3        REDMI 9i Sport (Coral Green, 64 GB)   ₹7,199     4.3   \n",
       "4           4  SAMSUNG Galaxy F23 5G (Aqua Blue, 128 GB)  ₹14,999     4.3   \n",
       "\n",
       "                              Review  \\\n",
       "0           505 Ratings & 52 Reviews   \n",
       "1     56,085 Ratings & 5,600 Reviews   \n",
       "2  1,83,688 Ratings & 11,185 Reviews   \n",
       "3  2,09,377 Ratings & 12,027 Reviews   \n",
       "4  1,37,778 Ratings & 11,213 Reviews   \n",
       "\n",
       "                                           Specs  \n",
       "0  4 GB RAM | 64 GB ROM | Expandable Upto 256 GB  \n",
       "1    4 GB RAM | 64 GB ROM | Expandable Upto 1 TB  \n",
       "2  4 GB RAM | 64 GB ROM | Expandable Upto 512 GB  \n",
       "3  4 GB RAM | 64 GB ROM | Expandable Upto 512 GB  \n",
       "4   6 GB RAM | 128 GB ROM | Expandable Upto 1 TB  "
      ]
     },
     "execution_count": 3,
     "metadata": {},
     "output_type": "execute_result"
    }
   ],
   "source": [
    "df.head()"
   ]
  },
  {
   "cell_type": "code",
   "execution_count": null,
   "id": "b73f24fd",
   "metadata": {},
   "outputs": [],
   "source": []
  }
 ],
 "metadata": {
  "kernelspec": {
   "display_name": "Python 3 (ipykernel)",
   "language": "python",
   "name": "python3"
  },
  "language_info": {
   "codemirror_mode": {
    "name": "ipython",
    "version": 3
   },
   "file_extension": ".py",
   "mimetype": "text/x-python",
   "name": "python",
   "nbconvert_exporter": "python",
   "pygments_lexer": "ipython3",
   "version": "3.7.16"
  }
 },
 "nbformat": 4,
 "nbformat_minor": 5
}
