{
 "cells": [
  {
   "cell_type": "markdown",
   "id": "c6193412",
   "metadata": {},
   "source": [
    "<h1><center>Python Practice Questions</center><h1>"
   ]
  },
  {
   "cell_type": "markdown",
   "id": "b25a9849",
   "metadata": {},
   "source": [
    "# Strings\n",
    "\n",
    "### Question 1\n",
    "Python Program to check if two Strings are Anagram. (Both the strings have the same letters, example: race-care, part-trap, etc)\n",
    "\n",
    "### Question 2\n",
    "Python program to check given character is vowel or consonant.\n",
    "\n",
    "### Question 3\n",
    "Python program to check given character is digit or not.\n",
    "\n",
    "### Question 4\n",
    "Python program to convert lowercase vowel to uppercase in string.\n",
    "\n",
    "### Question 5\n",
    "Python program to delete vowels in a given string.\n",
    "\n",
    "### Question 6\n",
    "Python program to remove blank space from string.\n",
    "\n",
    "### Question 7\n",
    "Python program to remove repeated character from string.\n",
    "\n",
    "### Question 8\n",
    "Python program to calculate sum of integers in string.\n",
    "\n",
    "### Question 9\n",
    "Python program to print all non repeating character in string.\n",
    "\n",
    "### Question 10\n",
    "Python Program to sort characters of string in ascending order."
   ]
  },
  {
   "cell_type": "markdown",
   "id": "912f3b76",
   "metadata": {},
   "source": [
    "<h1><center>Answers</center></h1>"
   ]
  },
  {
   "cell_type": "markdown",
   "id": "f375ebdb",
   "metadata": {},
   "source": [
    "### Answer 1"
   ]
  },
  {
   "cell_type": "code",
   "execution_count": 98,
   "id": "3bdfc0f8",
   "metadata": {},
   "outputs": [],
   "source": [
    "# Python Program to check if two Strings are Anagram. (Same if reversed, example: reverse of 'naman' is 'naman')\n",
    "def check_if_anagramCheck(str1, str2):\n",
    "    if (sorted(str1) == sorted(str2)) :  \n",
    "        print(\"Anagram\")\n",
    "    else :  \n",
    "        print(\"Not an anagram\") "
   ]
  },
  {
   "cell_type": "code",
   "execution_count": 100,
   "id": "610e0388",
   "metadata": {},
   "outputs": [
    {
     "name": "stdout",
     "output_type": "stream",
     "text": [
      "Anagram\n"
     ]
    }
   ],
   "source": [
    "check_if_anagramCheck('Hi','iH')"
   ]
  },
  {
   "cell_type": "code",
   "execution_count": 101,
   "id": "18ef6dbd",
   "metadata": {},
   "outputs": [
    {
     "name": "stdout",
     "output_type": "stream",
     "text": [
      "Anagram\n"
     ]
    }
   ],
   "source": [
    "check_if_anagramCheck('race','care')"
   ]
  },
  {
   "cell_type": "code",
   "execution_count": 103,
   "id": "bc5493ea",
   "metadata": {},
   "outputs": [
    {
     "name": "stdout",
     "output_type": "stream",
     "text": [
      "Not an anagram\n"
     ]
    }
   ],
   "source": [
    "# It is case sensitive\n",
    "check_if_anagramCheck('race','Care')"
   ]
  },
  {
   "cell_type": "markdown",
   "id": "3fb5c376",
   "metadata": {},
   "source": [
    "### Answer 2"
   ]
  },
  {
   "cell_type": "code",
   "execution_count": 112,
   "id": "0b8c33c3",
   "metadata": {},
   "outputs": [],
   "source": [
    "# Python program to check given character is vowel or consonant.\n",
    "def check_if_vowel(character):\n",
    "    if character in vowels:\n",
    "        print('This is a Vowel')\n",
    "    else:\n",
    "        print('Not a Vowel')"
   ]
  },
  {
   "cell_type": "code",
   "execution_count": 114,
   "id": "2928d5ce",
   "metadata": {},
   "outputs": [
    {
     "name": "stdout",
     "output_type": "stream",
     "text": [
      "This is a Vowel\n"
     ]
    }
   ],
   "source": [
    "check_if_vowel('a')"
   ]
  },
  {
   "cell_type": "markdown",
   "id": "ddeb34ea",
   "metadata": {},
   "source": [
    "### Answer 3"
   ]
  },
  {
   "cell_type": "code",
   "execution_count": 123,
   "id": "56ada1d2",
   "metadata": {},
   "outputs": [],
   "source": [
    "# Python program to check given character is digit or not.\n",
    "def num_is_digit(num):\n",
    "    num = str(num)\n",
    "    if num.isdigit():\n",
    "        print('This is a digit')\n",
    "    else:\n",
    "        print('This is not a digit')"
   ]
  },
  {
   "cell_type": "code",
   "execution_count": 124,
   "id": "9c7a130d",
   "metadata": {},
   "outputs": [
    {
     "name": "stdout",
     "output_type": "stream",
     "text": [
      "This is a digit\n"
     ]
    }
   ],
   "source": [
    "num_is_digit('10')"
   ]
  },
  {
   "cell_type": "code",
   "execution_count": 125,
   "id": "3cd0a29c",
   "metadata": {},
   "outputs": [
    {
     "name": "stdout",
     "output_type": "stream",
     "text": [
      "This is a digit\n"
     ]
    }
   ],
   "source": [
    "num_is_digit('53')"
   ]
  },
  {
   "cell_type": "code",
   "execution_count": 126,
   "id": "01fc255a",
   "metadata": {},
   "outputs": [
    {
     "name": "stdout",
     "output_type": "stream",
     "text": [
      "This is not a digit\n"
     ]
    }
   ],
   "source": [
    "num_is_digit('10a')"
   ]
  },
  {
   "cell_type": "markdown",
   "id": "067f16b0",
   "metadata": {},
   "source": [
    "### Answer 4"
   ]
  },
  {
   "cell_type": "code",
   "execution_count": 132,
   "id": "7165d55b",
   "metadata": {},
   "outputs": [],
   "source": [
    "# Python program to convert lowercase vowel to uppercase in string.\n",
    "def vowel_cap(text):\n",
    "    len_text = len(text)\n",
    "    str1 =\"\"\n",
    "    vowels = 'aeiouAEIOU'\n",
    "\n",
    "    for i in range(len_text):\n",
    "        if text[i] in vowels:\n",
    "            c = (text[i]).upper()\n",
    "            str1 += c\n",
    "        else:\n",
    "            str1 += text[i]\n",
    "    print(str1)\n"
   ]
  },
  {
   "cell_type": "code",
   "execution_count": 134,
   "id": "baa958c1",
   "metadata": {},
   "outputs": [
    {
     "name": "stdout",
     "output_type": "stream",
     "text": [
      "sIddhArth\n"
     ]
    }
   ],
   "source": [
    "vowel_cap('siddharth')"
   ]
  },
  {
   "cell_type": "markdown",
   "id": "f825b885",
   "metadata": {},
   "source": [
    "### Answer 5"
   ]
  },
  {
   "cell_type": "code",
   "execution_count": 139,
   "id": "bdddc3da",
   "metadata": {},
   "outputs": [],
   "source": [
    "# Python program to delete vowels in a given string.\n",
    "def delete_vowel(text):\n",
    "    result=''\n",
    "    vowels = 'aeiouAEIOU'\n",
    "    #iterating through each character of the string\n",
    "    for i in text:  \n",
    "        #seaching for vowels\n",
    "        if i in vowels:\n",
    "            i = ''  \n",
    "    #if vowel found replace it with empty string\n",
    "        result += i \n",
    "        #concatenate rest of the string\n",
    "    print(\"String after removing the vowels :\",result)"
   ]
  },
  {
   "cell_type": "code",
   "execution_count": 138,
   "id": "c2e5a505",
   "metadata": {},
   "outputs": [
    {
     "name": "stdout",
     "output_type": "stream",
     "text": [
      "String after removing the vowels : Sddhrth\n"
     ]
    }
   ],
   "source": [
    "delete_vowel('Siddharth')"
   ]
  },
  {
   "cell_type": "markdown",
   "id": "44d9c647",
   "metadata": {},
   "source": [
    "### Answer 6"
   ]
  },
  {
   "cell_type": "code",
   "execution_count": 146,
   "id": "9e29f9a6",
   "metadata": {},
   "outputs": [],
   "source": [
    "# Python program to remove blank space from string.\n",
    "def remove_spaces(text):\n",
    "    new_text = text.replace(' ','')\n",
    "    print(new_text)"
   ]
  },
  {
   "cell_type": "code",
   "execution_count": 147,
   "id": "2149e13c",
   "metadata": {},
   "outputs": [
    {
     "name": "stdout",
     "output_type": "stream",
     "text": [
      "Thisisatext\n"
     ]
    }
   ],
   "source": [
    "remove_spaces('This is a text')"
   ]
  },
  {
   "cell_type": "markdown",
   "id": "a71937dc",
   "metadata": {},
   "source": [
    "### Answer 7"
   ]
  },
  {
   "cell_type": "code",
   "execution_count": 150,
   "id": "53b3d3e4",
   "metadata": {},
   "outputs": [],
   "source": [
    "# Python program to remove repeated character from string.\n",
    "def remove_repeated(text):\n",
    "    new_text=\"\"\n",
    "    for char in text:\n",
    "        if char not in new_text:\n",
    "            new_text=new_text+char\n",
    "    print(new_text)    "
   ]
  },
  {
   "cell_type": "code",
   "execution_count": 152,
   "id": "bf63bf98",
   "metadata": {},
   "outputs": [
    {
     "name": "stdout",
     "output_type": "stream",
     "text": [
      "Sidhart\n"
     ]
    }
   ],
   "source": [
    "remove_repeated('Siddharth')"
   ]
  },
  {
   "cell_type": "markdown",
   "id": "01339906",
   "metadata": {},
   "source": [
    "### Answer 8"
   ]
  },
  {
   "cell_type": "code",
   "execution_count": 157,
   "id": "46435eee",
   "metadata": {},
   "outputs": [],
   "source": [
    "# Python program to calculate sum of integers in string.\n",
    "def sum_of_string(text):\n",
    "    sum_of_char=0\n",
    "    for i in text:\n",
    "        #if character is a digit\n",
    "        if i.isdigit():\n",
    "            #taking sum of integral digits present in the string \n",
    "            sum_of_char=sum_of_char+int(i)\n",
    "    print(\"sum =\",sum_of_char)"
   ]
  },
  {
   "cell_type": "code",
   "execution_count": 158,
   "id": "9d675e6e",
   "metadata": {},
   "outputs": [
    {
     "name": "stdout",
     "output_type": "stream",
     "text": [
      "sum = 5\n"
     ]
    }
   ],
   "source": [
    "sum_of_string('23')"
   ]
  },
  {
   "cell_type": "code",
   "execution_count": 159,
   "id": "24d1af0e",
   "metadata": {},
   "outputs": [
    {
     "name": "stdout",
     "output_type": "stream",
     "text": [
      "sum = 13\n"
     ]
    }
   ],
   "source": [
    "sum_of_string('94')"
   ]
  },
  {
   "cell_type": "markdown",
   "id": "33c09b2c",
   "metadata": {},
   "source": [
    "### Answer 9"
   ]
  },
  {
   "cell_type": "code",
   "execution_count": 163,
   "id": "9e44cd7f",
   "metadata": {},
   "outputs": [],
   "source": [
    "# Python program to print all non repeating character in string.\n",
    "def non_repeating(text):\n",
    "    for i in text:\n",
    "        #initialize a count variable\n",
    "        count = 0\n",
    "        for j in text:\n",
    "            #check for repeated characters\n",
    "            if i == j:\n",
    "                count+=1\n",
    "            #if character is found more than 1 time\n",
    "            #brerak the loop\n",
    "            if count > 1:\n",
    "                break\n",
    "        #print for nonrepeating characters\n",
    "        if count == 1:\n",
    "            print(i)"
   ]
  },
  {
   "cell_type": "code",
   "execution_count": 164,
   "id": "e439c1d9",
   "metadata": {},
   "outputs": [
    {
     "name": "stdout",
     "output_type": "stream",
     "text": [
      "S\n",
      "i\n",
      "a\n",
      "r\n",
      "t\n"
     ]
    }
   ],
   "source": [
    "non_repeating(\"Siddharth\")"
   ]
  },
  {
   "cell_type": "markdown",
   "id": "f6424ac6",
   "metadata": {},
   "source": [
    "### Answer 10"
   ]
  },
  {
   "cell_type": "code",
   "execution_count": 166,
   "id": "1d248aea",
   "metadata": {},
   "outputs": [],
   "source": [
    "# Python Program to sort characters of string in ascending order.\n",
    "def sort_characters(text):\n",
    "    #converting string into list of its characters\n",
    "    textList=list(text) \n",
    "    \n",
    "    #sorting elements of list\n",
    "    sortedString=''.join(sorted(textList)) \n",
    "    print(\"String Sorted in ascending order :\", sortedString)\n"
   ]
  },
  {
   "cell_type": "code",
   "execution_count": 167,
   "id": "bbfb4980",
   "metadata": {},
   "outputs": [
    {
     "name": "stdout",
     "output_type": "stream",
     "text": [
      "String Sorted in ascending order : Saddhhirt\n"
     ]
    }
   ],
   "source": [
    "sort_characters(\"Siddharth\")"
   ]
  }
 ],
 "metadata": {
  "kernelspec": {
   "display_name": "Python 3 (ipykernel)",
   "language": "python",
   "name": "python3"
  },
  "language_info": {
   "codemirror_mode": {
    "name": "ipython",
    "version": 3
   },
   "file_extension": ".py",
   "mimetype": "text/x-python",
   "name": "python",
   "nbconvert_exporter": "python",
   "pygments_lexer": "ipython3",
   "version": "3.7.15"
  }
 },
 "nbformat": 4,
 "nbformat_minor": 5
}
