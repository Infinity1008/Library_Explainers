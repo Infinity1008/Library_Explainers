{
 "cells": [
  {
   "cell_type": "markdown",
   "id": "1b5f9e96",
   "metadata": {},
   "source": [
    "# Python\n",
    "\n",
    "## Table on Contents\n",
    "\n",
    "* [Basic Python Data Structures](#bpds)\n",
    "    * [Variables and Types](#vat)\n",
    "        * [Numbers](#num)\n",
    "        * [Strings](#str)\n",
    "    * [Lists](#lst)\n",
    "    * [Tuples](#tup)\n",
    "    * [Sets](#set)\n",
    "    * [Dictionaries](#dict)"
   ]
  },
  {
   "cell_type": "markdown",
   "id": "796b568b",
   "metadata": {},
   "source": [
    "![image.png](https://www.python.org/static/img/python-logo@2x.png)\n",
    "\n",
    "Python is a high-level, general-purpose programming language. Its design philosophy emphasizes code readability with the use of significant indentation. Python is dynamically-typed and garbage-collected. It supports multiple programming paradigms, including structured, object-oriented and functional programming. \n",
    "\n",
    "The official Website can be found [here](https://www.python.org/). "
   ]
  },
  {
   "cell_type": "markdown",
   "id": "f88eb83c",
   "metadata": {
    "tags": []
   },
   "source": [
    "## Basic Python Data Structures<a class=\"anchor\" id=\"bpds\"></a>"
   ]
  },
  {
   "cell_type": "markdown",
   "id": "fecf1f02",
   "metadata": {},
   "source": [
    "## Hello World"
   ]
  },
  {
   "cell_type": "code",
   "execution_count": 3,
   "id": "b09bc969",
   "metadata": {},
   "outputs": [
    {
     "name": "stdout",
     "output_type": "stream",
     "text": [
      "Hello World\n"
     ]
    }
   ],
   "source": [
    "print('Hello World')"
   ]
  },
  {
   "cell_type": "markdown",
   "id": "b45c003b",
   "metadata": {},
   "source": [
    "# Variables and Types<a class=\"anchor\" id=\"vat\"></a>\n",
    "1. Numbers\n",
    "2. Strings"
   ]
  },
  {
   "cell_type": "markdown",
   "id": "209c5163-8480-46af-97d8-d860610a6a80",
   "metadata": {},
   "source": [
    "## Numbers<a class=\"anchor\" id=\"num\"></a>"
   ]
  },
  {
   "cell_type": "code",
   "execution_count": 1,
   "id": "8487fe52-45f1-406a-93b5-fe322153e4ec",
   "metadata": {
    "scrolled": true
   },
   "outputs": [
    {
     "name": "stdout",
     "output_type": "stream",
     "text": [
      "3\n",
      "3.0\n"
     ]
    }
   ],
   "source": [
    "a = 3\n",
    "b = 3.0\n",
    "print(a)\n",
    "print(b)"
   ]
  },
  {
   "cell_type": "markdown",
   "id": "5bace570",
   "metadata": {},
   "source": [
    "What is the difference, both look the same."
   ]
  },
  {
   "cell_type": "code",
   "execution_count": 3,
   "id": "c630c7d6",
   "metadata": {},
   "outputs": [
    {
     "data": {
      "text/plain": [
       "int"
      ]
     },
     "execution_count": 3,
     "metadata": {},
     "output_type": "execute_result"
    }
   ],
   "source": [
    "type(a)"
   ]
  },
  {
   "cell_type": "code",
   "execution_count": 4,
   "id": "32a991ca",
   "metadata": {},
   "outputs": [
    {
     "data": {
      "text/plain": [
       "float"
      ]
     },
     "execution_count": 4,
     "metadata": {},
     "output_type": "execute_result"
    }
   ],
   "source": [
    "type(b)"
   ]
  },
  {
   "cell_type": "code",
   "execution_count": null,
   "id": "917b3715",
   "metadata": {},
   "outputs": [],
   "source": []
  },
  {
   "cell_type": "code",
   "execution_count": 5,
   "id": "51b66406-711c-40cb-a57b-be2d4019a8cc",
   "metadata": {
    "tags": []
   },
   "outputs": [
    {
     "name": "stdout",
     "output_type": "stream",
     "text": [
      "<class 'int'>\n"
     ]
    }
   ],
   "source": [
    "print(type(a))"
   ]
  },
  {
   "cell_type": "code",
   "execution_count": 6,
   "id": "78553962-09b6-488b-a439-e0b62929bdb4",
   "metadata": {
    "tags": []
   },
   "outputs": [
    {
     "name": "stdout",
     "output_type": "stream",
     "text": [
      "<class 'float'>\n"
     ]
    }
   ],
   "source": [
    "print(type(b))"
   ]
  },
  {
   "cell_type": "markdown",
   "id": "f1c231bd",
   "metadata": {},
   "source": [
    "## Basic math operations"
   ]
  },
  {
   "cell_type": "markdown",
   "id": "928a9809",
   "metadata": {},
   "source": [
    "What will happen if we divide the two."
   ]
  },
  {
   "cell_type": "code",
   "execution_count": 7,
   "id": "5f1f00f5-0f4f-4289-a8c5-a2bfaa132134",
   "metadata": {
    "tags": []
   },
   "outputs": [
    {
     "name": "stdout",
     "output_type": "stream",
     "text": [
      "1.0\n"
     ]
    }
   ],
   "source": [
    "print(a/b)"
   ]
  },
  {
   "cell_type": "code",
   "execution_count": 5,
   "id": "dd6c33fd",
   "metadata": {},
   "outputs": [
    {
     "name": "stdout",
     "output_type": "stream",
     "text": [
      "1.0\n"
     ]
    }
   ],
   "source": [
    "print(b/a)"
   ]
  },
  {
   "cell_type": "markdown",
   "id": "b7c8c029",
   "metadata": {},
   "source": [
    "What will happen if we multiply both. "
   ]
  },
  {
   "cell_type": "code",
   "execution_count": 9,
   "id": "41128627-23f5-490e-ae0c-c6cf03525b3c",
   "metadata": {},
   "outputs": [
    {
     "name": "stdout",
     "output_type": "stream",
     "text": [
      "9.0\n"
     ]
    }
   ],
   "source": [
    "print(a*b)"
   ]
  },
  {
   "cell_type": "markdown",
   "id": "7dc3db40",
   "metadata": {},
   "source": [
    "Subtraction"
   ]
  },
  {
   "cell_type": "code",
   "execution_count": 10,
   "id": "f98ceeca-1013-4c9d-ac63-6a1ba7efc85e",
   "metadata": {},
   "outputs": [
    {
     "name": "stdout",
     "output_type": "stream",
     "text": [
      "0.0\n"
     ]
    }
   ],
   "source": [
    "print(a-b)"
   ]
  },
  {
   "cell_type": "markdown",
   "id": "3db83200",
   "metadata": {},
   "source": [
    "Addition"
   ]
  },
  {
   "cell_type": "code",
   "execution_count": 11,
   "id": "e36516f8-fcc1-42b0-890b-917e772dd521",
   "metadata": {},
   "outputs": [
    {
     "name": "stdout",
     "output_type": "stream",
     "text": [
      "6.0\n"
     ]
    }
   ],
   "source": [
    "print(a+b)"
   ]
  },
  {
   "cell_type": "markdown",
   "id": "b59fb63f",
   "metadata": {},
   "source": [
    "Remainder"
   ]
  },
  {
   "cell_type": "code",
   "execution_count": 12,
   "id": "49ddd777",
   "metadata": {},
   "outputs": [
    {
     "name": "stdout",
     "output_type": "stream",
     "text": [
      "0.0\n"
     ]
    }
   ],
   "source": [
    "print(a%b)"
   ]
  },
  {
   "cell_type": "markdown",
   "id": "f893287a",
   "metadata": {},
   "source": [
    "Squared"
   ]
  },
  {
   "cell_type": "code",
   "execution_count": 19,
   "id": "8f366e9d",
   "metadata": {},
   "outputs": [
    {
     "name": "stdout",
     "output_type": "stream",
     "text": [
      "46656\n"
     ]
    }
   ],
   "source": [
    "print(6**6)"
   ]
  },
  {
   "cell_type": "markdown",
   "id": "3f22cf75",
   "metadata": {},
   "source": [
    "-----\n",
    "\n",
    "### Practice\n",
    "Practice all the operators that you have just seen.\n",
    "\n",
    "----"
   ]
  },
  {
   "cell_type": "markdown",
   "id": "1cdc7f21-12fb-4c65-8e4f-3ab18ce28a2c",
   "metadata": {},
   "source": [
    "## Strings<a class=\"anchor\" id=\"str\"></a>"
   ]
  },
  {
   "cell_type": "code",
   "execution_count": 26,
   "id": "ac10dfb6-2a89-4931-a03e-543b65027a0c",
   "metadata": {},
   "outputs": [],
   "source": [
    "s1 = \"This is a string\"\n",
    "s2 = \"This is also a string\"\n",
    "s3 = '''This too is a string''' ## you can write multiline strings using ''' triple quotes '''"
   ]
  },
  {
   "cell_type": "markdown",
   "id": "3c98243b",
   "metadata": {},
   "source": [
    "Strings are iterables and can be indexed and looped through\n"
   ]
  },
  {
   "cell_type": "code",
   "execution_count": 28,
   "id": "c838b39c-ecff-4192-bdd8-94165b4271c3",
   "metadata": {},
   "outputs": [
    {
     "data": {
      "text/plain": [
       "'i'"
      ]
     },
     "execution_count": 28,
     "metadata": {},
     "output_type": "execute_result"
    }
   ],
   "source": [
    "s1[2]"
   ]
  },
  {
   "cell_type": "code",
   "execution_count": 16,
   "id": "822e975d-a99b-43f4-bc97-687a7a8418d8",
   "metadata": {},
   "outputs": [
    {
     "data": {
      "text/plain": [
       "'i'"
      ]
     },
     "execution_count": 16,
     "metadata": {},
     "output_type": "execute_result"
    }
   ],
   "source": [
    "s1[2]"
   ]
  },
  {
   "cell_type": "code",
   "execution_count": 31,
   "id": "409d9ae1-baee-4d1c-9c22-3ac34e3a2d14",
   "metadata": {},
   "outputs": [
    {
     "data": {
      "text/plain": [
       "'r'"
      ]
     },
     "execution_count": 31,
     "metadata": {},
     "output_type": "execute_result"
    }
   ],
   "source": [
    "s1[-4]"
   ]
  },
  {
   "cell_type": "markdown",
   "id": "581fc754",
   "metadata": {},
   "source": [
    "You can run a loop to iterate over all. "
   ]
  },
  {
   "cell_type": "code",
   "execution_count": 33,
   "id": "4ac5feaf",
   "metadata": {},
   "outputs": [],
   "source": [
    "# s1 = \"This is a string\"\n",
    "# # Standard template\n",
    "# for i in iterableitem:\n",
    "#     print(i)"
   ]
  },
  {
   "cell_type": "code",
   "execution_count": 34,
   "id": "9a08c937",
   "metadata": {},
   "outputs": [],
   "source": [
    "s = 'T'"
   ]
  },
  {
   "cell_type": "code",
   "execution_count": 35,
   "id": "5357f399",
   "metadata": {},
   "outputs": [
    {
     "data": {
      "text/plain": [
       "str"
      ]
     },
     "execution_count": 35,
     "metadata": {},
     "output_type": "execute_result"
    }
   ],
   "source": [
    "type(s)"
   ]
  },
  {
   "cell_type": "code",
   "execution_count": 37,
   "id": "dfa1bf1c-bcde-47c9-ba1b-932949e237f3",
   "metadata": {
    "scrolled": true
   },
   "outputs": [
    {
     "name": "stdout",
     "output_type": "stream",
     "text": [
      "T\n",
      "<class 'str'>\n",
      "h\n",
      "<class 'str'>\n",
      "i\n",
      "<class 'str'>\n",
      "s\n",
      "<class 'str'>\n",
      " \n",
      "<class 'str'>\n",
      "i\n",
      "<class 'str'>\n",
      "s\n",
      "<class 'str'>\n",
      " \n",
      "<class 'str'>\n",
      "a\n",
      "<class 'str'>\n",
      " \n",
      "<class 'str'>\n",
      "s\n",
      "<class 'str'>\n",
      "t\n",
      "<class 'str'>\n",
      "r\n",
      "<class 'str'>\n",
      "i\n",
      "<class 'str'>\n",
      "n\n",
      "<class 'str'>\n",
      "g\n",
      "<class 'str'>\n"
     ]
    }
   ],
   "source": [
    "s1 = \"This is a string\"\n",
    "for s in s1:\n",
    "    print(s)\n",
    "    print(type(s))"
   ]
  },
  {
   "cell_type": "code",
   "execution_count": 38,
   "id": "322bac0d",
   "metadata": {},
   "outputs": [],
   "source": [
    "a = 4"
   ]
  },
  {
   "cell_type": "code",
   "execution_count": 39,
   "id": "959df381",
   "metadata": {},
   "outputs": [
    {
     "data": {
      "text/plain": [
       "int"
      ]
     },
     "execution_count": 39,
     "metadata": {},
     "output_type": "execute_result"
    }
   ],
   "source": [
    "type(a)"
   ]
  },
  {
   "cell_type": "code",
   "execution_count": 40,
   "id": "c17c03c6",
   "metadata": {},
   "outputs": [],
   "source": [
    "a = 4.4"
   ]
  },
  {
   "cell_type": "code",
   "execution_count": 41,
   "id": "f8ba89ce",
   "metadata": {},
   "outputs": [
    {
     "data": {
      "text/plain": [
       "float"
      ]
     },
     "execution_count": 41,
     "metadata": {},
     "output_type": "execute_result"
    }
   ],
   "source": [
    "type(a)"
   ]
  },
  {
   "cell_type": "code",
   "execution_count": 42,
   "id": "3a286004",
   "metadata": {},
   "outputs": [],
   "source": [
    "a = 'This'"
   ]
  },
  {
   "cell_type": "code",
   "execution_count": 45,
   "id": "ea76f063",
   "metadata": {},
   "outputs": [
    {
     "data": {
      "text/plain": [
       "str"
      ]
     },
     "execution_count": 45,
     "metadata": {},
     "output_type": "execute_result"
    }
   ],
   "source": [
    "type(a)"
   ]
  },
  {
   "cell_type": "code",
   "execution_count": 46,
   "id": "2fa0b510",
   "metadata": {},
   "outputs": [],
   "source": [
    "a = \"S\""
   ]
  },
  {
   "cell_type": "code",
   "execution_count": 48,
   "id": "4b4e1c1b",
   "metadata": {},
   "outputs": [
    {
     "data": {
      "text/plain": [
       "str"
      ]
     },
     "execution_count": 48,
     "metadata": {},
     "output_type": "execute_result"
    }
   ],
   "source": [
    "type(a)"
   ]
  },
  {
   "cell_type": "code",
   "execution_count": 49,
   "id": "04d8968f",
   "metadata": {},
   "outputs": [],
   "source": [
    "a = 'Siddharth'"
   ]
  },
  {
   "cell_type": "code",
   "execution_count": 51,
   "id": "dd819749",
   "metadata": {},
   "outputs": [
    {
     "data": {
      "text/plain": [
       "'d'"
      ]
     },
     "execution_count": 51,
     "metadata": {},
     "output_type": "execute_result"
    }
   ],
   "source": [
    "a[2]"
   ]
  },
  {
   "cell_type": "code",
   "execution_count": 53,
   "id": "06d9d32e",
   "metadata": {},
   "outputs": [
    {
     "ename": "TypeError",
     "evalue": "'str' object does not support item assignment",
     "output_type": "error",
     "traceback": [
      "\u001b[0;31m---------------------------------------------------------------------------\u001b[0m",
      "\u001b[0;31mTypeError\u001b[0m                                 Traceback (most recent call last)",
      "\u001b[0;32m/var/folders/qm/dbhwkv990ggf8k64763bvn1w0000gn/T/ipykernel_10488/3521219196.py\u001b[0m in \u001b[0;36m<module>\u001b[0;34m\u001b[0m\n\u001b[0;32m----> 1\u001b[0;31m \u001b[0ma\u001b[0m\u001b[0;34m[\u001b[0m\u001b[0;36m2\u001b[0m\u001b[0;34m]\u001b[0m \u001b[0;34m=\u001b[0m \u001b[0;34m'X'\u001b[0m\u001b[0;34m\u001b[0m\u001b[0;34m\u001b[0m\u001b[0m\n\u001b[0m",
      "\u001b[0;31mTypeError\u001b[0m: 'str' object does not support item assignment"
     ]
    }
   ],
   "source": [
    "a[2] = 'X'"
   ]
  },
  {
   "cell_type": "code",
   "execution_count": 54,
   "id": "d313d921",
   "metadata": {},
   "outputs": [
    {
     "data": {
      "text/plain": [
       "'Siddharth'"
      ]
     },
     "execution_count": 54,
     "metadata": {},
     "output_type": "execute_result"
    }
   ],
   "source": [
    "a "
   ]
  },
  {
   "cell_type": "code",
   "execution_count": 55,
   "id": "7ccde998",
   "metadata": {},
   "outputs": [],
   "source": [
    "a= \"Messi\""
   ]
  },
  {
   "cell_type": "code",
   "execution_count": 56,
   "id": "6efcaa92",
   "metadata": {},
   "outputs": [
    {
     "data": {
      "text/plain": [
       "'Messi'"
      ]
     },
     "execution_count": 56,
     "metadata": {},
     "output_type": "execute_result"
    }
   ],
   "source": [
    "a"
   ]
  },
  {
   "cell_type": "markdown",
   "id": "4431d878-cfb3-49e3-ac55-db6f38fabf8c",
   "metadata": {},
   "source": [
    "## Some peculiarities of strings"
   ]
  },
  {
   "cell_type": "code",
   "execution_count": 57,
   "id": "09c4d01c-8a30-4f87-b3df-c867ceeae7b9",
   "metadata": {},
   "outputs": [
    {
     "name": "stdout",
     "output_type": "stream",
     "text": [
      "4\n"
     ]
    }
   ],
   "source": [
    "a = 4 \n",
    "print(a) ## you can change numbers at place"
   ]
  },
  {
   "cell_type": "code",
   "execution_count": 58,
   "id": "33f02e15-ef6b-4dfc-b24d-fc53a421fde2",
   "metadata": {},
   "outputs": [
    {
     "name": "stdout",
     "output_type": "stream",
     "text": [
      "This is a string\n",
      "This is not a string\n"
     ]
    }
   ],
   "source": [
    "print(s1)\n",
    "s1 = 'This is not a string'\n",
    "print(s1) ## you can overwrite the whole string"
   ]
  },
  {
   "cell_type": "code",
   "execution_count": 59,
   "id": "718a9f80-14d6-40a0-aea4-d0170f8f474c",
   "metadata": {},
   "outputs": [
    {
     "ename": "TypeError",
     "evalue": "'str' object does not support item assignment",
     "output_type": "error",
     "traceback": [
      "\u001b[0;31m---------------------------------------------------------------------------\u001b[0m",
      "\u001b[0;31mTypeError\u001b[0m                                 Traceback (most recent call last)",
      "\u001b[0;32m/var/folders/qm/dbhwkv990ggf8k64763bvn1w0000gn/T/ipykernel_10488/569328156.py\u001b[0m in \u001b[0;36m<module>\u001b[0;34m\u001b[0m\n\u001b[0;32m----> 1\u001b[0;31m \u001b[0ms1\u001b[0m\u001b[0;34m[\u001b[0m\u001b[0;36m0\u001b[0m\u001b[0;34m]\u001b[0m\u001b[0;34m=\u001b[0m\u001b[0;34m\"h\"\u001b[0m \u001b[0;31m#but you can't change the strings in place\u001b[0m\u001b[0;34m\u001b[0m\u001b[0;34m\u001b[0m\u001b[0m\n\u001b[0m",
      "\u001b[0;31mTypeError\u001b[0m: 'str' object does not support item assignment"
     ]
    }
   ],
   "source": [
    "s1[0]=\"h\" #but you can't change the strings in place"
   ]
  },
  {
   "cell_type": "code",
   "execution_count": null,
   "id": "959e4a13-62cd-4db8-80cb-049150871a25",
   "metadata": {},
   "outputs": [],
   "source": [
    "print(s1)\n",
    "print(s2)"
   ]
  },
  {
   "cell_type": "markdown",
   "id": "76ecd243",
   "metadata": {},
   "source": [
    "you can concatenate two strings "
   ]
  },
  {
   "cell_type": "code",
   "execution_count": 60,
   "id": "557f1ae1",
   "metadata": {},
   "outputs": [
    {
     "data": {
      "text/plain": [
       "'This is not a string'"
      ]
     },
     "execution_count": 60,
     "metadata": {},
     "output_type": "execute_result"
    }
   ],
   "source": [
    "s1"
   ]
  },
  {
   "cell_type": "code",
   "execution_count": 61,
   "id": "666471a0",
   "metadata": {},
   "outputs": [
    {
     "data": {
      "text/plain": [
       "'This is also a string'"
      ]
     },
     "execution_count": 61,
     "metadata": {},
     "output_type": "execute_result"
    }
   ],
   "source": [
    "s2"
   ]
  },
  {
   "cell_type": "code",
   "execution_count": 64,
   "id": "a3a58b9e",
   "metadata": {},
   "outputs": [
    {
     "data": {
      "text/plain": [
       "'This is not a string This is also a string'"
      ]
     },
     "execution_count": 64,
     "metadata": {},
     "output_type": "execute_result"
    }
   ],
   "source": [
    "s1+ ' ' + s2"
   ]
  },
  {
   "cell_type": "code",
   "execution_count": 66,
   "id": "69aaf436",
   "metadata": {},
   "outputs": [
    {
     "ename": "TypeError",
     "evalue": "unsupported operand type(s) for -: 'str' and 'str'",
     "output_type": "error",
     "traceback": [
      "\u001b[0;31m---------------------------------------------------------------------------\u001b[0m",
      "\u001b[0;31mTypeError\u001b[0m                                 Traceback (most recent call last)",
      "\u001b[0;32m/var/folders/qm/dbhwkv990ggf8k64763bvn1w0000gn/T/ipykernel_10488/1155266932.py\u001b[0m in \u001b[0;36m<module>\u001b[0;34m\u001b[0m\n\u001b[0;32m----> 1\u001b[0;31m \u001b[0ms1\u001b[0m \u001b[0;34m-\u001b[0m \u001b[0ms2\u001b[0m\u001b[0;34m\u001b[0m\u001b[0;34m\u001b[0m\u001b[0m\n\u001b[0m",
      "\u001b[0;31mTypeError\u001b[0m: unsupported operand type(s) for -: 'str' and 'str'"
     ]
    }
   ],
   "source": [
    "s1 - s2"
   ]
  },
  {
   "cell_type": "code",
   "execution_count": 68,
   "id": "14fc8374",
   "metadata": {},
   "outputs": [
    {
     "ename": "TypeError",
     "evalue": "can't multiply sequence by non-int of type 'str'",
     "output_type": "error",
     "traceback": [
      "\u001b[0;31m---------------------------------------------------------------------------\u001b[0m",
      "\u001b[0;31mTypeError\u001b[0m                                 Traceback (most recent call last)",
      "\u001b[0;32m/var/folders/qm/dbhwkv990ggf8k64763bvn1w0000gn/T/ipykernel_10488/972677545.py\u001b[0m in \u001b[0;36m<module>\u001b[0;34m\u001b[0m\n\u001b[0;32m----> 1\u001b[0;31m \u001b[0ms1\u001b[0m \u001b[0;34m*\u001b[0m \u001b[0ms2\u001b[0m\u001b[0;34m\u001b[0m\u001b[0;34m\u001b[0m\u001b[0m\n\u001b[0m",
      "\u001b[0;31mTypeError\u001b[0m: can't multiply sequence by non-int of type 'str'"
     ]
    }
   ],
   "source": [
    "s1 * s2"
   ]
  },
  {
   "cell_type": "code",
   "execution_count": 75,
   "id": "6eb35c89",
   "metadata": {},
   "outputs": [
    {
     "data": {
      "text/plain": [
       "'This is not a string This is not a string This is not a string This is not a string This is not a string This is not a string This is not a string This is not a string This is not a string This is not a string '"
      ]
     },
     "execution_count": 75,
     "metadata": {},
     "output_type": "execute_result"
    }
   ],
   "source": [
    "(s1 + ' ') * 10"
   ]
  },
  {
   "cell_type": "code",
   "execution_count": 73,
   "id": "5dd4bdf9",
   "metadata": {},
   "outputs": [
    {
     "ename": "TypeError",
     "evalue": "unsupported operand type(s) for /: 'str' and 'int'",
     "output_type": "error",
     "traceback": [
      "\u001b[0;31m---------------------------------------------------------------------------\u001b[0m",
      "\u001b[0;31mTypeError\u001b[0m                                 Traceback (most recent call last)",
      "\u001b[0;32m/var/folders/qm/dbhwkv990ggf8k64763bvn1w0000gn/T/ipykernel_10488/552494050.py\u001b[0m in \u001b[0;36m<module>\u001b[0;34m\u001b[0m\n\u001b[0;32m----> 1\u001b[0;31m \u001b[0ms1\u001b[0m \u001b[0;34m/\u001b[0m \u001b[0;36m2\u001b[0m\u001b[0;34m\u001b[0m\u001b[0;34m\u001b[0m\u001b[0m\n\u001b[0m",
      "\u001b[0;31mTypeError\u001b[0m: unsupported operand type(s) for /: 'str' and 'int'"
     ]
    }
   ],
   "source": [
    "s1 / 2"
   ]
  },
  {
   "cell_type": "code",
   "execution_count": 23,
   "id": "504e5941-95d4-4058-95a2-64bf186b4d1e",
   "metadata": {},
   "outputs": [
    {
     "name": "stdout",
     "output_type": "stream",
     "text": [
      "This is not a stringThis is also a string\n"
     ]
    }
   ],
   "source": [
    "print(s1+s2)"
   ]
  },
  {
   "cell_type": "code",
   "execution_count": 24,
   "id": "398d9520-e754-4c4b-9e82-d9a1357daa04",
   "metadata": {},
   "outputs": [
    {
     "name": "stdout",
     "output_type": "stream",
     "text": [
      "This is not a string This is also a string\n"
     ]
    }
   ],
   "source": [
    "print(s1+\" \"+s2)"
   ]
  },
  {
   "cell_type": "markdown",
   "id": "ec04ccca",
   "metadata": {},
   "source": [
    "## F String"
   ]
  },
  {
   "cell_type": "markdown",
   "id": "a1f84589",
   "metadata": {},
   "source": [
    "A way for us to dynamically create strings."
   ]
  },
  {
   "cell_type": "code",
   "execution_count": 94,
   "id": "318ab4e8",
   "metadata": {},
   "outputs": [
    {
     "data": {
      "text/plain": [
       "'The value of a is equal to 20'"
      ]
     },
     "execution_count": 94,
     "metadata": {},
     "output_type": "execute_result"
    }
   ],
   "source": [
    "a = 20\n",
    "# Standard template\n",
    "# '' this is normal\n",
    "# f'' this is f string\n",
    "f'The value of a is equal to {a}'"
   ]
  },
  {
   "cell_type": "markdown",
   "id": "a78a356b",
   "metadata": {},
   "source": [
    "# String methods"
   ]
  },
  {
   "cell_type": "code",
   "execution_count": 96,
   "id": "d231fb2b",
   "metadata": {},
   "outputs": [],
   "source": [
    "a = 'This is a STRING'"
   ]
  },
  {
   "cell_type": "code",
   "execution_count": 97,
   "id": "560165bb",
   "metadata": {},
   "outputs": [
    {
     "data": {
      "text/plain": [
       "'This is a STRING'"
      ]
     },
     "execution_count": 97,
     "metadata": {},
     "output_type": "execute_result"
    }
   ],
   "source": [
    "a"
   ]
  },
  {
   "cell_type": "code",
   "execution_count": 101,
   "id": "ab94bb45",
   "metadata": {},
   "outputs": [
    {
     "data": {
      "text/plain": [
       "str"
      ]
     },
     "execution_count": 101,
     "metadata": {},
     "output_type": "execute_result"
    }
   ],
   "source": [
    "type(a)"
   ]
  },
  {
   "cell_type": "code",
   "execution_count": 102,
   "id": "ae12a45c",
   "metadata": {},
   "outputs": [
    {
     "data": {
      "text/plain": [
       "'This is a STRING'"
      ]
     },
     "execution_count": 102,
     "metadata": {},
     "output_type": "execute_result"
    }
   ],
   "source": [
    "a"
   ]
  },
  {
   "cell_type": "code",
   "execution_count": 109,
   "id": "690203d7",
   "metadata": {},
   "outputs": [
    {
     "data": {
      "text/plain": [
       "'THIS IS A STRING'"
      ]
     },
     "execution_count": 109,
     "metadata": {},
     "output_type": "execute_result"
    }
   ],
   "source": [
    "a.upper()"
   ]
  },
  {
   "cell_type": "code",
   "execution_count": 104,
   "id": "c19cff55",
   "metadata": {},
   "outputs": [
    {
     "data": {
      "text/plain": [
       "'This is a STRING'"
      ]
     },
     "execution_count": 104,
     "metadata": {},
     "output_type": "execute_result"
    }
   ],
   "source": [
    "a"
   ]
  },
  {
   "cell_type": "code",
   "execution_count": 100,
   "id": "65e4bb4b",
   "metadata": {},
   "outputs": [
    {
     "data": {
      "text/plain": [
       "'this is a string'"
      ]
     },
     "execution_count": 100,
     "metadata": {},
     "output_type": "execute_result"
    }
   ],
   "source": [
    "a.lower()"
   ]
  },
  {
   "cell_type": "code",
   "execution_count": 105,
   "id": "d0c0ff3a",
   "metadata": {},
   "outputs": [
    {
     "data": {
      "text/plain": [
       "'This is a STRING'"
      ]
     },
     "execution_count": 105,
     "metadata": {},
     "output_type": "execute_result"
    }
   ],
   "source": [
    "a"
   ]
  },
  {
   "cell_type": "code",
   "execution_count": 107,
   "id": "d1e0d7ee",
   "metadata": {},
   "outputs": [
    {
     "data": {
      "text/plain": [
       "2"
      ]
     },
     "execution_count": 107,
     "metadata": {},
     "output_type": "execute_result"
    }
   ],
   "source": [
    "a.count('')"
   ]
  },
  {
   "cell_type": "code",
   "execution_count": null,
   "id": "f2335271",
   "metadata": {},
   "outputs": [],
   "source": [
    "a."
   ]
  },
  {
   "cell_type": "code",
   "execution_count": 111,
   "id": "857c23ce",
   "metadata": {},
   "outputs": [],
   "source": [
    "a = '4 + 4 is a string'"
   ]
  },
  {
   "cell_type": "code",
   "execution_count": 112,
   "id": "6616fda4",
   "metadata": {},
   "outputs": [
    {
     "data": {
      "text/plain": [
       "str"
      ]
     },
     "execution_count": 112,
     "metadata": {},
     "output_type": "execute_result"
    }
   ],
   "source": [
    "type(a)"
   ]
  },
  {
   "cell_type": "code",
   "execution_count": 116,
   "id": "5beb0f1c",
   "metadata": {},
   "outputs": [],
   "source": [
    "a = 'alsjdfhlasdhflkajsdhf(*&^%*&^%*&^%$&^%$^%$&%^)'"
   ]
  },
  {
   "cell_type": "code",
   "execution_count": 117,
   "id": "371a874a",
   "metadata": {},
   "outputs": [
    {
     "data": {
      "text/plain": [
       "str"
      ]
     },
     "execution_count": 117,
     "metadata": {},
     "output_type": "execute_result"
    }
   ],
   "source": [
    "type(a)"
   ]
  },
  {
   "cell_type": "code",
   "execution_count": 118,
   "id": "65324c4e",
   "metadata": {},
   "outputs": [
    {
     "data": {
      "text/plain": [
       "'alsjdfhlasdhflkajsdhf(*&^%*&^%*&^%$&^%$^%$&%^)'"
      ]
     },
     "execution_count": 118,
     "metadata": {},
     "output_type": "execute_result"
    }
   ],
   "source": [
    "a"
   ]
  },
  {
   "cell_type": "code",
   "execution_count": null,
   "id": "70de0bb1",
   "metadata": {},
   "outputs": [],
   "source": []
  },
  {
   "cell_type": "code",
   "execution_count": null,
   "id": "5fbd0777",
   "metadata": {},
   "outputs": [],
   "source": []
  },
  {
   "cell_type": "code",
   "execution_count": null,
   "id": "d8522e1d",
   "metadata": {},
   "outputs": [],
   "source": []
  },
  {
   "cell_type": "code",
   "execution_count": null,
   "id": "44440a9b",
   "metadata": {},
   "outputs": [],
   "source": []
  },
  {
   "cell_type": "code",
   "execution_count": null,
   "id": "3a8bf61b",
   "metadata": {},
   "outputs": [],
   "source": []
  },
  {
   "cell_type": "code",
   "execution_count": 25,
   "id": "64d491ae-1061-436d-a67a-cc864ea44a1b",
   "metadata": {},
   "outputs": [
    {
     "name": "stdout",
     "output_type": "stream",
     "text": [
      "This is not a string This is also a string\n"
     ]
    }
   ],
   "source": [
    "print(f'{s1} {s2}') #you can also use f-strings"
   ]
  },
  {
   "cell_type": "markdown",
   "id": "fbeda55e",
   "metadata": {},
   "source": [
    "## Quotes behaviour"
   ]
  },
  {
   "cell_type": "code",
   "execution_count": 26,
   "id": "9a092bdb-54e4-4a31-9b4e-299686e286e5",
   "metadata": {},
   "outputs": [
    {
     "data": {
      "text/plain": [
       "False"
      ]
     },
     "execution_count": 26,
     "metadata": {},
     "output_type": "execute_result"
    }
   ],
   "source": [
    "### Quotes behaviour\n",
    "s1 = '\"This has a quote\"'\n",
    "s2 = 'This has a quote'\n",
    "s1 == s2"
   ]
  },
  {
   "cell_type": "code",
   "execution_count": 27,
   "id": "63ec3c47-15a7-427a-865e-a5a405fc9646",
   "metadata": {},
   "outputs": [
    {
     "data": {
      "text/plain": [
       "'This has a quote'"
      ]
     },
     "execution_count": 27,
     "metadata": {},
     "output_type": "execute_result"
    }
   ],
   "source": [
    "s1.replace('\"',\"\")"
   ]
  },
  {
   "cell_type": "code",
   "execution_count": 28,
   "id": "14806896-8ae4-44ef-af52-3bb6226e55a5",
   "metadata": {},
   "outputs": [
    {
     "data": {
      "text/plain": [
       "True"
      ]
     },
     "execution_count": 28,
     "metadata": {},
     "output_type": "execute_result"
    }
   ],
   "source": [
    "s1.replace('\"',\"\") == s2"
   ]
  },
  {
   "cell_type": "markdown",
   "id": "f01de845-3cc3-4e48-9596-5e3c37271a4d",
   "metadata": {},
   "source": [
    "## How do we know what operations can be done on strings?\n",
    "\n",
    "Short Answer: Every thing in python is a [class](https://en.wikipedia.org/wiki/Class_(computer_programming)). And one can easily figure out what are the functions supported by objects of a class. We will discuss python classes in more detail in upcoming sessions."
   ]
  },
  {
   "cell_type": "code",
   "execution_count": 30,
   "id": "c27ecca6-57c6-45fb-b346-0e58bf563376",
   "metadata": {},
   "outputs": [
    {
     "data": {
      "text/plain": [
       "'\"this has a quote\"'"
      ]
     },
     "execution_count": 30,
     "metadata": {},
     "output_type": "execute_result"
    }
   ],
   "source": [
    "### How to use the methods, once we know what methods are supported by a particular class?\n",
    "s1.lower()"
   ]
  },
  {
   "cell_type": "code",
   "execution_count": 31,
   "id": "a51246ee-95f9-476a-a6ae-6ffea634ba99",
   "metadata": {},
   "outputs": [
    {
     "data": {
      "text/plain": [
       "'\"This has a quote\"'"
      ]
     },
     "execution_count": 31,
     "metadata": {},
     "output_type": "execute_result"
    }
   ],
   "source": [
    "s1"
   ]
  },
  {
   "cell_type": "code",
   "execution_count": 32,
   "id": "757d90d6-ee4c-4391-93fc-5a2fbc68c05d",
   "metadata": {},
   "outputs": [
    {
     "data": {
      "text/plain": [
       "'\"This Has A Quote\"'"
      ]
     },
     "execution_count": 32,
     "metadata": {},
     "output_type": "execute_result"
    }
   ],
   "source": [
    "### Try using title method\n",
    "s1.title()"
   ]
  },
  {
   "cell_type": "code",
   "execution_count": 33,
   "id": "26a768a2",
   "metadata": {
    "scrolled": true
   },
   "outputs": [
    {
     "data": {
      "text/plain": [
       "2"
      ]
     },
     "execution_count": 33,
     "metadata": {},
     "output_type": "execute_result"
    }
   ],
   "source": [
    "s1.count('a')"
   ]
  },
  {
   "cell_type": "markdown",
   "id": "ae8176a9",
   "metadata": {},
   "source": [
    "-----\n",
    "\n",
    "### Practice\n",
    "\n",
    "----\n",
    "\n",
    "Give the text \n",
    "\n",
    "\"Hurricane Sergio was a powerful and long-lived tropical cyclone that hit the Baja California Peninsula as a tropical storm and caused flooding throughout southern Texas in early October 2018.\"\n",
    "\n",
    "Try out the concepts taught above."
   ]
  },
  {
   "cell_type": "markdown",
   "id": "f4c8695e",
   "metadata": {},
   "source": [
    "## How do we find out what a method does?\n",
    "1. Google\n",
    "2. Use python documentation\n"
   ]
  },
  {
   "cell_type": "code",
   "execution_count": 32,
   "id": "8e90b2e3-6f04-48c5-afc3-9c733d9da94e",
   "metadata": {},
   "outputs": [],
   "source": [
    "?s1.title"
   ]
  },
  {
   "cell_type": "code",
   "execution_count": 1,
   "id": "7f87cd4c-e546-4640-85d6-07b6f0cc9ae1",
   "metadata": {},
   "outputs": [],
   "source": [
    "## What does the method split does?\n"
   ]
  },
  {
   "cell_type": "code",
   "execution_count": 2,
   "id": "28b4bf8b",
   "metadata": {},
   "outputs": [],
   "source": [
    "a = 'Messi'"
   ]
  },
  {
   "cell_type": "code",
   "execution_count": 3,
   "id": "22b39720",
   "metadata": {},
   "outputs": [
    {
     "data": {
      "text/plain": [
       "'M'"
      ]
     },
     "execution_count": 3,
     "metadata": {},
     "output_type": "execute_result"
    }
   ],
   "source": [
    "a[0]"
   ]
  },
  {
   "cell_type": "code",
   "execution_count": 4,
   "id": "3f840a78",
   "metadata": {},
   "outputs": [
    {
     "data": {
      "text/plain": [
       "'i'"
      ]
     },
     "execution_count": 4,
     "metadata": {},
     "output_type": "execute_result"
    }
   ],
   "source": [
    "a[-1]"
   ]
  },
  {
   "cell_type": "code",
   "execution_count": 6,
   "id": "51337ce2",
   "metadata": {},
   "outputs": [
    {
     "data": {
      "text/plain": [
       "'Mes'"
      ]
     },
     "execution_count": 6,
     "metadata": {},
     "output_type": "execute_result"
    }
   ],
   "source": [
    "a[0:3]"
   ]
  },
  {
   "cell_type": "code",
   "execution_count": 10,
   "id": "1a07ed28",
   "metadata": {},
   "outputs": [
    {
     "data": {
      "text/plain": [
       "'s'"
      ]
     },
     "execution_count": 10,
     "metadata": {},
     "output_type": "execute_result"
    }
   ],
   "source": [
    "a[2:3]"
   ]
  },
  {
   "cell_type": "markdown",
   "id": "5db0b494",
   "metadata": {},
   "source": [
    "# Booleans"
   ]
  },
  {
   "cell_type": "code",
   "execution_count": 11,
   "id": "0bb525bd",
   "metadata": {},
   "outputs": [
    {
     "data": {
      "text/plain": [
       "True"
      ]
     },
     "execution_count": 11,
     "metadata": {},
     "output_type": "execute_result"
    }
   ],
   "source": [
    "True"
   ]
  },
  {
   "cell_type": "code",
   "execution_count": 12,
   "id": "7067be47",
   "metadata": {},
   "outputs": [
    {
     "data": {
      "text/plain": [
       "False"
      ]
     },
     "execution_count": 12,
     "metadata": {},
     "output_type": "execute_result"
    }
   ],
   "source": [
    "False"
   ]
  },
  {
   "cell_type": "code",
   "execution_count": 13,
   "id": "e3b26314",
   "metadata": {},
   "outputs": [
    {
     "ename": "NameError",
     "evalue": "name 'false' is not defined",
     "output_type": "error",
     "traceback": [
      "\u001b[0;31m---------------------------------------------------------------------------\u001b[0m",
      "\u001b[0;31mNameError\u001b[0m                                 Traceback (most recent call last)",
      "\u001b[0;32m/var/folders/qm/dbhwkv990ggf8k64763bvn1w0000gn/T/ipykernel_9501/1273114308.py\u001b[0m in \u001b[0;36m<module>\u001b[0;34m\u001b[0m\n\u001b[0;32m----> 1\u001b[0;31m \u001b[0mfalse\u001b[0m\u001b[0;34m\u001b[0m\u001b[0;34m\u001b[0m\u001b[0m\n\u001b[0m",
      "\u001b[0;31mNameError\u001b[0m: name 'false' is not defined"
     ]
    }
   ],
   "source": [
    "false"
   ]
  },
  {
   "cell_type": "code",
   "execution_count": 14,
   "id": "c55cf656",
   "metadata": {},
   "outputs": [
    {
     "data": {
      "text/plain": [
       "'False'"
      ]
     },
     "execution_count": 14,
     "metadata": {},
     "output_type": "execute_result"
    }
   ],
   "source": [
    "'False'"
   ]
  },
  {
   "cell_type": "code",
   "execution_count": 15,
   "id": "ad9c5104",
   "metadata": {},
   "outputs": [],
   "source": [
    "a = False"
   ]
  },
  {
   "cell_type": "code",
   "execution_count": 16,
   "id": "df146bc7",
   "metadata": {},
   "outputs": [
    {
     "data": {
      "text/plain": [
       "False"
      ]
     },
     "execution_count": 16,
     "metadata": {},
     "output_type": "execute_result"
    }
   ],
   "source": [
    "a"
   ]
  },
  {
   "cell_type": "code",
   "execution_count": 17,
   "id": "ec2729b5",
   "metadata": {},
   "outputs": [
    {
     "data": {
      "text/plain": [
       "bool"
      ]
     },
     "execution_count": 17,
     "metadata": {},
     "output_type": "execute_result"
    }
   ],
   "source": [
    "type(a)"
   ]
  },
  {
   "cell_type": "code",
   "execution_count": 18,
   "id": "b2104b4d",
   "metadata": {},
   "outputs": [
    {
     "data": {
      "text/plain": [
       "False"
      ]
     },
     "execution_count": 18,
     "metadata": {},
     "output_type": "execute_result"
    }
   ],
   "source": [
    "a"
   ]
  },
  {
   "cell_type": "code",
   "execution_count": null,
   "id": "cf5d1c7c",
   "metadata": {},
   "outputs": [],
   "source": []
  },
  {
   "cell_type": "markdown",
   "id": "0eecae0c",
   "metadata": {},
   "source": [
    "# Heading 1\n",
    "## Heading 1\n",
    "### Heading 1\n",
    "#### Heading 1\n",
    "###### Heading 1"
   ]
  },
  {
   "cell_type": "markdown",
   "id": "9dcbb46a-7af8-42dd-9765-e25577d8db25",
   "metadata": {},
   "source": [
    "## Lists<a class=\"anchor\" id=\"lst\"></a>\n",
    "- Lists are general buckets\n",
    "- They can be used to store many types of data including lists themselves"
   ]
  },
  {
   "cell_type": "code",
   "execution_count": 28,
   "id": "575eafde",
   "metadata": {},
   "outputs": [],
   "source": [
    "x = [1,2,2.3,4.7,True, 'This is something', [10,20,30]]"
   ]
  },
  {
   "cell_type": "code",
   "execution_count": 20,
   "id": "a78b96c7",
   "metadata": {},
   "outputs": [
    {
     "data": {
      "text/plain": [
       "list"
      ]
     },
     "execution_count": 20,
     "metadata": {},
     "output_type": "execute_result"
    }
   ],
   "source": [
    "type(x)"
   ]
  },
  {
   "cell_type": "code",
   "execution_count": 24,
   "id": "667a4c8f",
   "metadata": {},
   "outputs": [
    {
     "data": {
      "text/plain": [
       "1"
      ]
     },
     "execution_count": 24,
     "metadata": {},
     "output_type": "execute_result"
    }
   ],
   "source": [
    "x[0]"
   ]
  },
  {
   "cell_type": "code",
   "execution_count": 25,
   "id": "8887a10f",
   "metadata": {},
   "outputs": [
    {
     "data": {
      "text/plain": [
       "int"
      ]
     },
     "execution_count": 25,
     "metadata": {},
     "output_type": "execute_result"
    }
   ],
   "source": [
    "type(x[0])"
   ]
  },
  {
   "cell_type": "code",
   "execution_count": 34,
   "id": "1d7a3453",
   "metadata": {},
   "outputs": [
    {
     "data": {
      "text/plain": [
       "2"
      ]
     },
     "execution_count": 34,
     "metadata": {},
     "output_type": "execute_result"
    }
   ],
   "source": [
    "x[1]"
   ]
  },
  {
   "cell_type": "code",
   "execution_count": 35,
   "id": "43408b8a",
   "metadata": {},
   "outputs": [
    {
     "data": {
      "text/plain": [
       "2"
      ]
     },
     "execution_count": 35,
     "metadata": {},
     "output_type": "execute_result"
    }
   ],
   "source": [
    "x[1]"
   ]
  },
  {
   "cell_type": "code",
   "execution_count": 38,
   "id": "8dc572b0",
   "metadata": {},
   "outputs": [
    {
     "data": {
      "text/plain": [
       "10"
      ]
     },
     "execution_count": 38,
     "metadata": {},
     "output_type": "execute_result"
    }
   ],
   "source": [
    "x[-1][0]"
   ]
  },
  {
   "cell_type": "code",
   "execution_count": 39,
   "id": "b5a896a0",
   "metadata": {},
   "outputs": [
    {
     "data": {
      "text/plain": [
       "[10, 20, 30]"
      ]
     },
     "execution_count": 39,
     "metadata": {},
     "output_type": "execute_result"
    }
   ],
   "source": [
    "# Step 1 \n",
    "x[-1]"
   ]
  },
  {
   "cell_type": "code",
   "execution_count": 40,
   "id": "9d9b0d40",
   "metadata": {},
   "outputs": [
    {
     "data": {
      "text/plain": [
       "10"
      ]
     },
     "execution_count": 40,
     "metadata": {},
     "output_type": "execute_result"
    }
   ],
   "source": [
    "# Step 2\n",
    "[10, 20, 30][0]"
   ]
  },
  {
   "cell_type": "code",
   "execution_count": 41,
   "id": "da0e5cfe",
   "metadata": {},
   "outputs": [
    {
     "data": {
      "text/plain": [
       "2"
      ]
     },
     "execution_count": 41,
     "metadata": {},
     "output_type": "execute_result"
    }
   ],
   "source": [
    "# Step 1 \n",
    "x[1]"
   ]
  },
  {
   "cell_type": "code",
   "execution_count": 42,
   "id": "f4deb9a8",
   "metadata": {},
   "outputs": [
    {
     "ename": "TypeError",
     "evalue": "'int' object is not subscriptable",
     "output_type": "error",
     "traceback": [
      "\u001b[0;31m---------------------------------------------------------------------------\u001b[0m",
      "\u001b[0;31mTypeError\u001b[0m                                 Traceback (most recent call last)",
      "\u001b[0;32m/var/folders/qm/dbhwkv990ggf8k64763bvn1w0000gn/T/ipykernel_9501/3197010235.py\u001b[0m in \u001b[0;36m<module>\u001b[0;34m\u001b[0m\n\u001b[1;32m      1\u001b[0m \u001b[0;31m# Step 2\u001b[0m\u001b[0;34m\u001b[0m\u001b[0;34m\u001b[0m\u001b[0;34m\u001b[0m\u001b[0m\n\u001b[0;32m----> 2\u001b[0;31m \u001b[0;36m2\u001b[0m\u001b[0;34m[\u001b[0m\u001b[0;36m0\u001b[0m\u001b[0;34m]\u001b[0m\u001b[0;34m\u001b[0m\u001b[0;34m\u001b[0m\u001b[0m\n\u001b[0m",
      "\u001b[0;31mTypeError\u001b[0m: 'int' object is not subscriptable"
     ]
    }
   ],
   "source": [
    "# Step 2 \n",
    "2[0]"
   ]
  },
  {
   "cell_type": "code",
   "execution_count": 30,
   "id": "f0cea3ad",
   "metadata": {},
   "outputs": [
    {
     "data": {
      "text/plain": [
       "list"
      ]
     },
     "execution_count": 30,
     "metadata": {},
     "output_type": "execute_result"
    }
   ],
   "source": [
    "type(x[-1])"
   ]
  },
  {
   "cell_type": "markdown",
   "id": "33e330f9",
   "metadata": {},
   "source": [
    "# Rabit hole"
   ]
  },
  {
   "cell_type": "code",
   "execution_count": 43,
   "id": "9133069c",
   "metadata": {},
   "outputs": [],
   "source": [
    "a = [1,[2,[3]]]"
   ]
  },
  {
   "cell_type": "code",
   "execution_count": 51,
   "id": "9906f455",
   "metadata": {},
   "outputs": [
    {
     "data": {
      "text/plain": [
       "1"
      ]
     },
     "execution_count": 51,
     "metadata": {},
     "output_type": "execute_result"
    }
   ],
   "source": [
    "a[0]"
   ]
  },
  {
   "cell_type": "code",
   "execution_count": 52,
   "id": "fd17c601",
   "metadata": {},
   "outputs": [
    {
     "data": {
      "text/plain": [
       "[2, [3]]"
      ]
     },
     "execution_count": 52,
     "metadata": {},
     "output_type": "execute_result"
    }
   ],
   "source": [
    "a[1]"
   ]
  },
  {
   "cell_type": "code",
   "execution_count": 53,
   "id": "e341d208",
   "metadata": {},
   "outputs": [
    {
     "ename": "IndexError",
     "evalue": "list index out of range",
     "output_type": "error",
     "traceback": [
      "\u001b[0;31m---------------------------------------------------------------------------\u001b[0m",
      "\u001b[0;31mIndexError\u001b[0m                                Traceback (most recent call last)",
      "\u001b[0;32m/var/folders/qm/dbhwkv990ggf8k64763bvn1w0000gn/T/ipykernel_9501/4164697690.py\u001b[0m in \u001b[0;36m<module>\u001b[0;34m\u001b[0m\n\u001b[0;32m----> 1\u001b[0;31m \u001b[0ma\u001b[0m\u001b[0;34m[\u001b[0m\u001b[0;36m2\u001b[0m\u001b[0;34m]\u001b[0m\u001b[0;34m\u001b[0m\u001b[0;34m\u001b[0m\u001b[0m\n\u001b[0m",
      "\u001b[0;31mIndexError\u001b[0m: list index out of range"
     ]
    }
   ],
   "source": [
    "a[2]"
   ]
  },
  {
   "cell_type": "code",
   "execution_count": 54,
   "id": "00994957",
   "metadata": {},
   "outputs": [
    {
     "data": {
      "text/plain": [
       "2"
      ]
     },
     "execution_count": 54,
     "metadata": {},
     "output_type": "execute_result"
    }
   ],
   "source": [
    "len(a[1])"
   ]
  },
  {
   "cell_type": "code",
   "execution_count": 55,
   "id": "e7f40d2b",
   "metadata": {},
   "outputs": [
    {
     "data": {
      "text/plain": [
       "[2, [3]]"
      ]
     },
     "execution_count": 55,
     "metadata": {},
     "output_type": "execute_result"
    }
   ],
   "source": [
    "a[1]"
   ]
  },
  {
   "cell_type": "code",
   "execution_count": 57,
   "id": "2a92eb99",
   "metadata": {},
   "outputs": [
    {
     "data": {
      "text/plain": [
       "2"
      ]
     },
     "execution_count": 57,
     "metadata": {},
     "output_type": "execute_result"
    }
   ],
   "source": [
    "len(a)"
   ]
  },
  {
   "cell_type": "code",
   "execution_count": 58,
   "id": "e383f6ae",
   "metadata": {},
   "outputs": [],
   "source": [
    "a = [1,[2,[3]]]"
   ]
  },
  {
   "cell_type": "code",
   "execution_count": 61,
   "id": "6adb48b8",
   "metadata": {},
   "outputs": [
    {
     "data": {
      "text/plain": [
       "list"
      ]
     },
     "execution_count": 61,
     "metadata": {},
     "output_type": "execute_result"
    }
   ],
   "source": [
    "type(a[1][1])"
   ]
  },
  {
   "cell_type": "code",
   "execution_count": 63,
   "id": "e923bea0",
   "metadata": {},
   "outputs": [
    {
     "data": {
      "text/plain": [
       "[3]"
      ]
     },
     "execution_count": 63,
     "metadata": {},
     "output_type": "execute_result"
    }
   ],
   "source": [
    "a[1][1]"
   ]
  },
  {
   "cell_type": "code",
   "execution_count": 64,
   "id": "4425eecf",
   "metadata": {},
   "outputs": [
    {
     "data": {
      "text/plain": [
       "3"
      ]
     },
     "execution_count": 64,
     "metadata": {},
     "output_type": "execute_result"
    }
   ],
   "source": [
    "a[1][1][0]"
   ]
  },
  {
   "cell_type": "code",
   "execution_count": 68,
   "id": "e0f19f4b",
   "metadata": {},
   "outputs": [],
   "source": [
    "b = [1,[[2,3,4],[10,11],[10,11],[10,11],[10,11]]]"
   ]
  },
  {
   "cell_type": "code",
   "execution_count": 69,
   "id": "1c608c4d",
   "metadata": {},
   "outputs": [
    {
     "data": {
      "text/plain": [
       "2"
      ]
     },
     "execution_count": 69,
     "metadata": {},
     "output_type": "execute_result"
    }
   ],
   "source": [
    "len(b)"
   ]
  },
  {
   "cell_type": "code",
   "execution_count": 67,
   "id": "239d67eb",
   "metadata": {},
   "outputs": [
    {
     "data": {
      "text/plain": [
       "[2, 3, 4]"
      ]
     },
     "execution_count": 67,
     "metadata": {},
     "output_type": "execute_result"
    }
   ],
   "source": [
    "b[0]"
   ]
  },
  {
   "cell_type": "code",
   "execution_count": 46,
   "id": "bb774434",
   "metadata": {},
   "outputs": [],
   "source": [
    "x = [1,2,3]"
   ]
  },
  {
   "cell_type": "code",
   "execution_count": 47,
   "id": "ef6fc811",
   "metadata": {},
   "outputs": [
    {
     "data": {
      "text/plain": [
       "3"
      ]
     },
     "execution_count": 47,
     "metadata": {},
     "output_type": "execute_result"
    }
   ],
   "source": [
    "len(x)"
   ]
  },
  {
   "cell_type": "code",
   "execution_count": null,
   "id": "d83d2aeb",
   "metadata": {},
   "outputs": [],
   "source": []
  },
  {
   "cell_type": "code",
   "execution_count": 71,
   "id": "e7a0e795-752d-4eb4-8eda-a3c4ba8160cc",
   "metadata": {},
   "outputs": [],
   "source": [
    "my_list = [1,2,3,4,'a','b']"
   ]
  },
  {
   "cell_type": "code",
   "execution_count": 72,
   "id": "3d10efc2-b7b4-43dd-87eb-47bfa668526c",
   "metadata": {},
   "outputs": [
    {
     "data": {
      "text/plain": [
       "1"
      ]
     },
     "execution_count": 72,
     "metadata": {},
     "output_type": "execute_result"
    }
   ],
   "source": [
    "my_list[0]"
   ]
  },
  {
   "cell_type": "code",
   "execution_count": 73,
   "id": "66bbba16",
   "metadata": {},
   "outputs": [
    {
     "name": "stdout",
     "output_type": "stream",
     "text": [
      "hi\n",
      "hi\n",
      "hi\n",
      "hi\n",
      "hi\n",
      "hi\n"
     ]
    }
   ],
   "source": [
    "for i in my_list:\n",
    "    print('hi')"
   ]
  },
  {
   "cell_type": "code",
   "execution_count": 74,
   "id": "0971a834",
   "metadata": {},
   "outputs": [
    {
     "name": "stdout",
     "output_type": "stream",
     "text": [
      "1\n",
      "2\n",
      "3\n",
      "4\n",
      "a\n",
      "b\n"
     ]
    }
   ],
   "source": [
    "for i in my_list:\n",
    "    print(i)"
   ]
  },
  {
   "cell_type": "code",
   "execution_count": 78,
   "id": "9df7991f-e070-48ad-ab6b-6deba168d179",
   "metadata": {},
   "outputs": [
    {
     "name": "stdout",
     "output_type": "stream",
     "text": [
      "<class 'int'>\n",
      "<class 'int'>\n",
      "<class 'int'>\n",
      "<class 'int'>\n",
      "<class 'str'>\n",
      "<class 'str'>\n"
     ]
    }
   ],
   "source": [
    "for i in my_list:\n",
    "    print(type(i))"
   ]
  },
  {
   "cell_type": "code",
   "execution_count": 79,
   "id": "ede2011c",
   "metadata": {},
   "outputs": [],
   "source": [
    "b = 'SIDD'"
   ]
  },
  {
   "cell_type": "code",
   "execution_count": 80,
   "id": "78f280a7",
   "metadata": {},
   "outputs": [
    {
     "data": {
      "text/plain": [
       "'sidd'"
      ]
     },
     "execution_count": 80,
     "metadata": {},
     "output_type": "execute_result"
    }
   ],
   "source": [
    "b.lower()"
   ]
  },
  {
   "cell_type": "code",
   "execution_count": 86,
   "id": "9b47e0e7",
   "metadata": {},
   "outputs": [],
   "source": [
    "a = ['SID', 'Ronaldo',10, 'Messi']"
   ]
  },
  {
   "cell_type": "code",
   "execution_count": 95,
   "id": "c4162deb",
   "metadata": {},
   "outputs": [
    {
     "name": "stdout",
     "output_type": "stream",
     "text": [
      "sid\n",
      "ronaldo\n"
     ]
    },
    {
     "ename": "AttributeError",
     "evalue": "'int' object has no attribute 'lower'",
     "output_type": "error",
     "traceback": [
      "\u001b[0;31m---------------------------------------------------------------------------\u001b[0m",
      "\u001b[0;31mAttributeError\u001b[0m                            Traceback (most recent call last)",
      "\u001b[0;32m/var/folders/qm/dbhwkv990ggf8k64763bvn1w0000gn/T/ipykernel_9501/1899261389.py\u001b[0m in \u001b[0;36m<module>\u001b[0;34m\u001b[0m\n\u001b[1;32m      1\u001b[0m \u001b[0;32mfor\u001b[0m \u001b[0mi\u001b[0m \u001b[0;32min\u001b[0m \u001b[0ma\u001b[0m\u001b[0;34m:\u001b[0m\u001b[0;34m\u001b[0m\u001b[0;34m\u001b[0m\u001b[0m\n\u001b[0;32m----> 2\u001b[0;31m     \u001b[0mprint\u001b[0m\u001b[0;34m(\u001b[0m\u001b[0mi\u001b[0m\u001b[0;34m.\u001b[0m\u001b[0mlower\u001b[0m\u001b[0;34m(\u001b[0m\u001b[0;34m)\u001b[0m\u001b[0;34m)\u001b[0m\u001b[0;34m\u001b[0m\u001b[0;34m\u001b[0m\u001b[0m\n\u001b[0m",
      "\u001b[0;31mAttributeError\u001b[0m: 'int' object has no attribute 'lower'"
     ]
    }
   ],
   "source": [
    "for i in a:\n",
    "    print(i.lower())"
   ]
  },
  {
   "cell_type": "markdown",
   "id": "6d377f04",
   "metadata": {},
   "source": [
    "# List methods"
   ]
  },
  {
   "cell_type": "code",
   "execution_count": 96,
   "id": "1745ff89",
   "metadata": {},
   "outputs": [],
   "source": [
    "a = [1,2,3]"
   ]
  },
  {
   "cell_type": "code",
   "execution_count": 97,
   "id": "8cdef786",
   "metadata": {},
   "outputs": [],
   "source": [
    "a.append(4)"
   ]
  },
  {
   "cell_type": "code",
   "execution_count": 98,
   "id": "3ff3070d",
   "metadata": {},
   "outputs": [
    {
     "data": {
      "text/plain": [
       "[1, 2, 3, 4]"
      ]
     },
     "execution_count": 98,
     "metadata": {},
     "output_type": "execute_result"
    }
   ],
   "source": [
    "a"
   ]
  },
  {
   "cell_type": "code",
   "execution_count": 99,
   "id": "60aa72d2",
   "metadata": {},
   "outputs": [],
   "source": [
    "a.append([5,6,7])"
   ]
  },
  {
   "cell_type": "code",
   "execution_count": 100,
   "id": "8076d168",
   "metadata": {},
   "outputs": [
    {
     "data": {
      "text/plain": [
       "[1, 2, 3, 4, [5, 6, 7]]"
      ]
     },
     "execution_count": 100,
     "metadata": {},
     "output_type": "execute_result"
    }
   ],
   "source": [
    "a"
   ]
  },
  {
   "cell_type": "code",
   "execution_count": 101,
   "id": "c21fa47a",
   "metadata": {},
   "outputs": [
    {
     "data": {
      "text/plain": [
       "1"
      ]
     },
     "execution_count": 101,
     "metadata": {},
     "output_type": "execute_result"
    }
   ],
   "source": [
    "a.count(4)"
   ]
  },
  {
   "cell_type": "code",
   "execution_count": 110,
   "id": "cd0c4ab6",
   "metadata": {},
   "outputs": [],
   "source": [
    "a.append(4)"
   ]
  },
  {
   "cell_type": "code",
   "execution_count": 112,
   "id": "c8f67e74",
   "metadata": {},
   "outputs": [
    {
     "data": {
      "text/plain": [
       "[1, 2, 3, 4, [5, 6, 7], 4, 4, 4, 4, 4, 4, 4, 4]"
      ]
     },
     "execution_count": 112,
     "metadata": {},
     "output_type": "execute_result"
    }
   ],
   "source": [
    "a"
   ]
  },
  {
   "cell_type": "code",
   "execution_count": 113,
   "id": "a5c5fe2f",
   "metadata": {},
   "outputs": [
    {
     "data": {
      "text/plain": [
       "9"
      ]
     },
     "execution_count": 113,
     "metadata": {},
     "output_type": "execute_result"
    }
   ],
   "source": [
    "a.count(4)"
   ]
  },
  {
   "cell_type": "code",
   "execution_count": 114,
   "id": "699b45ce",
   "metadata": {},
   "outputs": [],
   "source": [
    "a = [1,2,3]"
   ]
  },
  {
   "cell_type": "code",
   "execution_count": 115,
   "id": "c6579c58",
   "metadata": {},
   "outputs": [],
   "source": [
    "b = [4,5,6]"
   ]
  },
  {
   "cell_type": "code",
   "execution_count": 116,
   "id": "81372784",
   "metadata": {},
   "outputs": [
    {
     "data": {
      "text/plain": [
       "[1, 2, 3, 4, 5, 6]"
      ]
     },
     "execution_count": 116,
     "metadata": {},
     "output_type": "execute_result"
    }
   ],
   "source": [
    "a + b"
   ]
  },
  {
   "cell_type": "code",
   "execution_count": 117,
   "id": "f23235ec",
   "metadata": {},
   "outputs": [
    {
     "ename": "TypeError",
     "evalue": "unsupported operand type(s) for -: 'list' and 'list'",
     "output_type": "error",
     "traceback": [
      "\u001b[0;31m---------------------------------------------------------------------------\u001b[0m",
      "\u001b[0;31mTypeError\u001b[0m                                 Traceback (most recent call last)",
      "\u001b[0;32m/var/folders/qm/dbhwkv990ggf8k64763bvn1w0000gn/T/ipykernel_9501/596148524.py\u001b[0m in \u001b[0;36m<module>\u001b[0;34m\u001b[0m\n\u001b[0;32m----> 1\u001b[0;31m \u001b[0ma\u001b[0m \u001b[0;34m-\u001b[0m \u001b[0mb\u001b[0m\u001b[0;34m\u001b[0m\u001b[0;34m\u001b[0m\u001b[0m\n\u001b[0m",
      "\u001b[0;31mTypeError\u001b[0m: unsupported operand type(s) for -: 'list' and 'list'"
     ]
    }
   ],
   "source": [
    "a - b "
   ]
  },
  {
   "cell_type": "code",
   "execution_count": 118,
   "id": "0337782a",
   "metadata": {},
   "outputs": [
    {
     "data": {
      "text/plain": [
       "[1, 2, 3, 1, 2, 3]"
      ]
     },
     "execution_count": 118,
     "metadata": {},
     "output_type": "execute_result"
    }
   ],
   "source": [
    "a * 2"
   ]
  },
  {
   "cell_type": "code",
   "execution_count": 119,
   "id": "941fc872",
   "metadata": {},
   "outputs": [
    {
     "ename": "TypeError",
     "evalue": "can't multiply sequence by non-int of type 'list'",
     "output_type": "error",
     "traceback": [
      "\u001b[0;31m---------------------------------------------------------------------------\u001b[0m",
      "\u001b[0;31mTypeError\u001b[0m                                 Traceback (most recent call last)",
      "\u001b[0;32m/var/folders/qm/dbhwkv990ggf8k64763bvn1w0000gn/T/ipykernel_9501/937666681.py\u001b[0m in \u001b[0;36m<module>\u001b[0;34m\u001b[0m\n\u001b[0;32m----> 1\u001b[0;31m \u001b[0ma\u001b[0m \u001b[0;34m*\u001b[0m \u001b[0mb\u001b[0m\u001b[0;34m\u001b[0m\u001b[0;34m\u001b[0m\u001b[0m\n\u001b[0m",
      "\u001b[0;31mTypeError\u001b[0m: can't multiply sequence by non-int of type 'list'"
     ]
    }
   ],
   "source": [
    "a * b"
   ]
  },
  {
   "cell_type": "code",
   "execution_count": 120,
   "id": "9b26ea87",
   "metadata": {},
   "outputs": [
    {
     "ename": "TypeError",
     "evalue": "unsupported operand type(s) for /: 'list' and 'list'",
     "output_type": "error",
     "traceback": [
      "\u001b[0;31m---------------------------------------------------------------------------\u001b[0m",
      "\u001b[0;31mTypeError\u001b[0m                                 Traceback (most recent call last)",
      "\u001b[0;32m/var/folders/qm/dbhwkv990ggf8k64763bvn1w0000gn/T/ipykernel_9501/1286629031.py\u001b[0m in \u001b[0;36m<module>\u001b[0;34m\u001b[0m\n\u001b[0;32m----> 1\u001b[0;31m \u001b[0ma\u001b[0m \u001b[0;34m/\u001b[0m \u001b[0mb\u001b[0m\u001b[0;34m\u001b[0m\u001b[0;34m\u001b[0m\u001b[0m\n\u001b[0m",
      "\u001b[0;31mTypeError\u001b[0m: unsupported operand type(s) for /: 'list' and 'list'"
     ]
    }
   ],
   "source": [
    "a / b"
   ]
  },
  {
   "cell_type": "code",
   "execution_count": 121,
   "id": "c2b6090f",
   "metadata": {},
   "outputs": [
    {
     "data": {
      "text/plain": [
       "[1, 2, 3]"
      ]
     },
     "execution_count": 121,
     "metadata": {},
     "output_type": "execute_result"
    }
   ],
   "source": [
    "a"
   ]
  },
  {
   "cell_type": "code",
   "execution_count": 122,
   "id": "0940d07f",
   "metadata": {},
   "outputs": [
    {
     "data": {
      "text/plain": [
       "1"
      ]
     },
     "execution_count": 122,
     "metadata": {},
     "output_type": "execute_result"
    }
   ],
   "source": [
    "a.pop(0)"
   ]
  },
  {
   "cell_type": "code",
   "execution_count": 125,
   "id": "df11b023",
   "metadata": {},
   "outputs": [
    {
     "data": {
      "text/plain": [
       "[2, 3]"
      ]
     },
     "execution_count": 125,
     "metadata": {},
     "output_type": "execute_result"
    }
   ],
   "source": [
    "a"
   ]
  },
  {
   "cell_type": "markdown",
   "id": "75b08c88",
   "metadata": {},
   "source": [
    "# List support item assignment"
   ]
  },
  {
   "cell_type": "code",
   "execution_count": 126,
   "id": "1ca04269",
   "metadata": {},
   "outputs": [],
   "source": [
    "a = 'Siddharth'"
   ]
  },
  {
   "cell_type": "code",
   "execution_count": 127,
   "id": "a7915ee0",
   "metadata": {},
   "outputs": [
    {
     "data": {
      "text/plain": [
       "'S'"
      ]
     },
     "execution_count": 127,
     "metadata": {},
     "output_type": "execute_result"
    }
   ],
   "source": [
    "a[0]"
   ]
  },
  {
   "cell_type": "code",
   "execution_count": 128,
   "id": "a5324b41",
   "metadata": {},
   "outputs": [
    {
     "ename": "TypeError",
     "evalue": "'str' object does not support item assignment",
     "output_type": "error",
     "traceback": [
      "\u001b[0;31m---------------------------------------------------------------------------\u001b[0m",
      "\u001b[0;31mTypeError\u001b[0m                                 Traceback (most recent call last)",
      "\u001b[0;32m/var/folders/qm/dbhwkv990ggf8k64763bvn1w0000gn/T/ipykernel_9501/3238489067.py\u001b[0m in \u001b[0;36m<module>\u001b[0;34m\u001b[0m\n\u001b[0;32m----> 1\u001b[0;31m \u001b[0ma\u001b[0m\u001b[0;34m[\u001b[0m\u001b[0;36m0\u001b[0m\u001b[0;34m]\u001b[0m \u001b[0;34m=\u001b[0m \u001b[0;34m'H'\u001b[0m\u001b[0;34m\u001b[0m\u001b[0;34m\u001b[0m\u001b[0m\n\u001b[0m",
      "\u001b[0;31mTypeError\u001b[0m: 'str' object does not support item assignment"
     ]
    }
   ],
   "source": [
    "a[0] = 'H'"
   ]
  },
  {
   "cell_type": "code",
   "execution_count": 129,
   "id": "d173caab",
   "metadata": {},
   "outputs": [],
   "source": [
    "# LIST\n",
    "b = [1,2,3]"
   ]
  },
  {
   "cell_type": "code",
   "execution_count": 130,
   "id": "d407960a",
   "metadata": {},
   "outputs": [
    {
     "data": {
      "text/plain": [
       "1"
      ]
     },
     "execution_count": 130,
     "metadata": {},
     "output_type": "execute_result"
    }
   ],
   "source": [
    "b[0]"
   ]
  },
  {
   "cell_type": "code",
   "execution_count": 131,
   "id": "682eab78",
   "metadata": {},
   "outputs": [],
   "source": [
    "b[0] = 10"
   ]
  },
  {
   "cell_type": "code",
   "execution_count": 132,
   "id": "a07d45db",
   "metadata": {},
   "outputs": [
    {
     "data": {
      "text/plain": [
       "[10, 2, 3]"
      ]
     },
     "execution_count": 132,
     "metadata": {},
     "output_type": "execute_result"
    }
   ],
   "source": [
    "b"
   ]
  },
  {
   "cell_type": "markdown",
   "id": "c3ed6a44",
   "metadata": {},
   "source": [
    "# Tuples "
   ]
  },
  {
   "cell_type": "code",
   "execution_count": 133,
   "id": "fd4aa6d9",
   "metadata": {},
   "outputs": [],
   "source": [
    "a = (1,2,3)"
   ]
  },
  {
   "cell_type": "code",
   "execution_count": 134,
   "id": "cd645a0b",
   "metadata": {},
   "outputs": [
    {
     "data": {
      "text/plain": [
       "1"
      ]
     },
     "execution_count": 134,
     "metadata": {},
     "output_type": "execute_result"
    }
   ],
   "source": [
    "a[0]"
   ]
  },
  {
   "cell_type": "code",
   "execution_count": 135,
   "id": "c16764de",
   "metadata": {},
   "outputs": [
    {
     "data": {
      "text/plain": [
       "(1, 2)"
      ]
     },
     "execution_count": 135,
     "metadata": {},
     "output_type": "execute_result"
    }
   ],
   "source": [
    "a[0:2]"
   ]
  },
  {
   "cell_type": "code",
   "execution_count": 136,
   "id": "e0329568",
   "metadata": {},
   "outputs": [
    {
     "name": "stdout",
     "output_type": "stream",
     "text": [
      "1\n",
      "2\n",
      "3\n"
     ]
    }
   ],
   "source": [
    "for i in a:\n",
    "    print(i)"
   ]
  },
  {
   "cell_type": "code",
   "execution_count": 138,
   "id": "70856cea",
   "metadata": {},
   "outputs": [],
   "source": [
    "a = (1,2,3,[4,5],[3,3],(1,2,3))"
   ]
  },
  {
   "cell_type": "code",
   "execution_count": 139,
   "id": "6ded401a",
   "metadata": {},
   "outputs": [
    {
     "data": {
      "text/plain": [
       "6"
      ]
     },
     "execution_count": 139,
     "metadata": {},
     "output_type": "execute_result"
    }
   ],
   "source": [
    "len(a)"
   ]
  },
  {
   "cell_type": "code",
   "execution_count": 141,
   "id": "a71f982d",
   "metadata": {},
   "outputs": [
    {
     "data": {
      "text/plain": [
       "tuple"
      ]
     },
     "execution_count": 141,
     "metadata": {},
     "output_type": "execute_result"
    }
   ],
   "source": [
    "type(a[-1])"
   ]
  },
  {
   "cell_type": "code",
   "execution_count": 142,
   "id": "04803eaf",
   "metadata": {},
   "outputs": [
    {
     "data": {
      "text/plain": [
       "(1, 2, 3, [4, 5], [3, 3], (1, 2, 3))"
      ]
     },
     "execution_count": 142,
     "metadata": {},
     "output_type": "execute_result"
    }
   ],
   "source": [
    "a"
   ]
  },
  {
   "cell_type": "code",
   "execution_count": 143,
   "id": "40cdfb41",
   "metadata": {},
   "outputs": [
    {
     "data": {
      "text/plain": [
       "1"
      ]
     },
     "execution_count": 143,
     "metadata": {},
     "output_type": "execute_result"
    }
   ],
   "source": [
    "a[0]"
   ]
  },
  {
   "cell_type": "code",
   "execution_count": 144,
   "id": "43473ec0",
   "metadata": {},
   "outputs": [
    {
     "ename": "TypeError",
     "evalue": "'tuple' object does not support item assignment",
     "output_type": "error",
     "traceback": [
      "\u001b[0;31m---------------------------------------------------------------------------\u001b[0m",
      "\u001b[0;31mTypeError\u001b[0m                                 Traceback (most recent call last)",
      "\u001b[0;32m/var/folders/qm/dbhwkv990ggf8k64763bvn1w0000gn/T/ipykernel_9501/3481528092.py\u001b[0m in \u001b[0;36m<module>\u001b[0;34m\u001b[0m\n\u001b[0;32m----> 1\u001b[0;31m \u001b[0ma\u001b[0m\u001b[0;34m[\u001b[0m\u001b[0;36m0\u001b[0m\u001b[0;34m]\u001b[0m \u001b[0;34m=\u001b[0m \u001b[0;36m100\u001b[0m\u001b[0;34m\u001b[0m\u001b[0;34m\u001b[0m\u001b[0m\n\u001b[0m",
      "\u001b[0;31mTypeError\u001b[0m: 'tuple' object does not support item assignment"
     ]
    }
   ],
   "source": [
    "a[0] = 100"
   ]
  },
  {
   "cell_type": "markdown",
   "id": "3d4440b8",
   "metadata": {},
   "source": [
    "# Sets"
   ]
  },
  {
   "cell_type": "code",
   "execution_count": 155,
   "id": "1a4d9939",
   "metadata": {},
   "outputs": [],
   "source": [
    "a = {1,2,3,4,4,4,4,4,'4',(12,3)}"
   ]
  },
  {
   "cell_type": "code",
   "execution_count": 157,
   "id": "4ca0c319",
   "metadata": {},
   "outputs": [
    {
     "data": {
      "text/plain": [
       "{(12, 3), 1, 2, 3, 4, '4'}"
      ]
     },
     "execution_count": 157,
     "metadata": {},
     "output_type": "execute_result"
    }
   ],
   "source": [
    "a"
   ]
  },
  {
   "cell_type": "code",
   "execution_count": 158,
   "id": "6bf6e015",
   "metadata": {},
   "outputs": [],
   "source": [
    "a = {1,2,3}"
   ]
  },
  {
   "cell_type": "code",
   "execution_count": 159,
   "id": "4ded01f2",
   "metadata": {},
   "outputs": [],
   "source": [
    "b = {3,4,5}"
   ]
  },
  {
   "cell_type": "code",
   "execution_count": 160,
   "id": "bcdcfbd5",
   "metadata": {},
   "outputs": [
    {
     "data": {
      "text/plain": [
       "{3}"
      ]
     },
     "execution_count": 160,
     "metadata": {},
     "output_type": "execute_result"
    }
   ],
   "source": [
    "a.intersection(b)"
   ]
  },
  {
   "cell_type": "code",
   "execution_count": null,
   "id": "74c90f49",
   "metadata": {},
   "outputs": [],
   "source": []
  },
  {
   "cell_type": "code",
   "execution_count": null,
   "id": "367448e2",
   "metadata": {},
   "outputs": [],
   "source": []
  },
  {
   "cell_type": "code",
   "execution_count": null,
   "id": "e0aca3f2",
   "metadata": {},
   "outputs": [],
   "source": []
  },
  {
   "cell_type": "code",
   "execution_count": null,
   "id": "76ccf9cf",
   "metadata": {},
   "outputs": [],
   "source": []
  },
  {
   "cell_type": "code",
   "execution_count": null,
   "id": "b76b918a",
   "metadata": {},
   "outputs": [],
   "source": []
  },
  {
   "cell_type": "code",
   "execution_count": null,
   "id": "7e78188b",
   "metadata": {},
   "outputs": [],
   "source": []
  },
  {
   "cell_type": "code",
   "execution_count": null,
   "id": "2ac516e7",
   "metadata": {},
   "outputs": [],
   "source": []
  },
  {
   "cell_type": "code",
   "execution_count": null,
   "id": "f12aaef8",
   "metadata": {},
   "outputs": [],
   "source": []
  },
  {
   "cell_type": "code",
   "execution_count": null,
   "id": "9ff01c5b",
   "metadata": {},
   "outputs": [],
   "source": []
  },
  {
   "cell_type": "code",
   "execution_count": null,
   "id": "b2bfe8d4",
   "metadata": {},
   "outputs": [],
   "source": []
  },
  {
   "cell_type": "code",
   "execution_count": null,
   "id": "a264bcec",
   "metadata": {},
   "outputs": [],
   "source": []
  },
  {
   "cell_type": "code",
   "execution_count": 38,
   "id": "69424774-ddce-44e8-af78-51c7e7f86b7e",
   "metadata": {},
   "outputs": [],
   "source": [
    "my_list.append(169)"
   ]
  },
  {
   "cell_type": "code",
   "execution_count": 39,
   "id": "fa69eb6d-0ba9-452c-bb52-eac06157b2e7",
   "metadata": {},
   "outputs": [
    {
     "data": {
      "text/plain": [
       "[1, 2, 3, 4, 'a', 'b', 169]"
      ]
     },
     "execution_count": 39,
     "metadata": {},
     "output_type": "execute_result"
    }
   ],
   "source": [
    "my_list"
   ]
  },
  {
   "cell_type": "code",
   "execution_count": 40,
   "id": "7b3d9a55-a7f3-4af9-ba65-e32e9a889bfe",
   "metadata": {},
   "outputs": [],
   "source": [
    "my_list_2 = [80,90,100]"
   ]
  },
  {
   "cell_type": "code",
   "execution_count": 41,
   "id": "aaafc95d-e910-4bfe-aa68-fed80033716f",
   "metadata": {},
   "outputs": [
    {
     "data": {
      "text/plain": [
       "[1, 2, 3, 4, 'a', 'b', 169, 80, 90, 100]"
      ]
     },
     "execution_count": 41,
     "metadata": {},
     "output_type": "execute_result"
    }
   ],
   "source": [
    "my_list+my_list_2"
   ]
  },
  {
   "cell_type": "code",
   "execution_count": 42,
   "id": "e327117c-dfd0-47a0-ac97-c7e9d5bfaf83",
   "metadata": {},
   "outputs": [],
   "source": [
    "my_list.extend(my_list_2)"
   ]
  },
  {
   "cell_type": "code",
   "execution_count": 43,
   "id": "6f19148d-fdac-40a0-ab3f-72356706a0cb",
   "metadata": {},
   "outputs": [
    {
     "data": {
      "text/plain": [
       "[1, 2, 3, 4, 'a', 'b', 169, 80, 90, 100]"
      ]
     },
     "execution_count": 43,
     "metadata": {},
     "output_type": "execute_result"
    }
   ],
   "source": [
    "my_list"
   ]
  },
  {
   "cell_type": "code",
   "execution_count": 45,
   "id": "9b1a3a7a-bbb1-41e9-bd3d-19889f3bd2e9",
   "metadata": {},
   "outputs": [
    {
     "data": {
      "text/plain": [
       "10"
      ]
     },
     "execution_count": 45,
     "metadata": {},
     "output_type": "execute_result"
    }
   ],
   "source": [
    "len(my_list)"
   ]
  },
  {
   "cell_type": "code",
   "execution_count": 46,
   "id": "e7affee7",
   "metadata": {
    "scrolled": true
   },
   "outputs": [
    {
     "name": "stdout",
     "output_type": "stream",
     "text": [
      "[1, 2, 3, 4, 'a', 'b', 169, 80, 90, 100, 1, 2, 3, 4, 'a', 'b', 169, 80, 90, 100]\n"
     ]
    }
   ],
   "source": [
    "print(my_list * 2)"
   ]
  },
  {
   "cell_type": "markdown",
   "id": "4b04ae4c",
   "metadata": {},
   "source": [
    "--------\n",
    "\n",
    "### Practice\n",
    "\n",
    "--------\n",
    "\n",
    "Given the list \n",
    "\n",
    "[1, 2, 3, 4, 169, 80, 90, 100]\n",
    "\n",
    "Try out all the concepts taught above."
   ]
  },
  {
   "cell_type": "markdown",
   "id": "63a1cdc2-fd43-4cf3-8ca9-70cfdbd72a38",
   "metadata": {},
   "source": [
    "## Tuples<a class=\"anchor\" id=\"tup\"></a>\n",
    "- Work for the most part like lists\n",
    "- Their values can't be changed in-place."
   ]
  },
  {
   "cell_type": "code",
   "execution_count": 46,
   "id": "afce11e5-e23b-4739-9458-9a627453937e",
   "metadata": {},
   "outputs": [],
   "source": [
    "my_tuple = (1,2,3,4)\n",
    "my_list = [1,2,3,4]"
   ]
  },
  {
   "cell_type": "code",
   "execution_count": 47,
   "id": "7cc7e81d-fc6c-4c85-945d-e9e5f8cc44ea",
   "metadata": {},
   "outputs": [
    {
     "name": "stdout",
     "output_type": "stream",
     "text": [
      "1\n",
      "2\n",
      "3\n",
      "4\n"
     ]
    }
   ],
   "source": [
    "for i in my_tuple:\n",
    "    print(i)"
   ]
  },
  {
   "cell_type": "code",
   "execution_count": 48,
   "id": "c548663e-f852-44ca-909c-b20328d826f0",
   "metadata": {},
   "outputs": [
    {
     "data": {
      "text/plain": [
       "1"
      ]
     },
     "execution_count": 48,
     "metadata": {},
     "output_type": "execute_result"
    }
   ],
   "source": [
    "my_list[0]"
   ]
  },
  {
   "cell_type": "code",
   "execution_count": 49,
   "id": "111ec616-4b7d-468a-844f-636494518c64",
   "metadata": {},
   "outputs": [],
   "source": [
    "my_list[0]=100"
   ]
  },
  {
   "cell_type": "code",
   "execution_count": 50,
   "id": "f6f93692-4745-4c50-b99e-427bfbbd5a7c",
   "metadata": {},
   "outputs": [
    {
     "data": {
      "text/plain": [
       "[100, 2, 3, 4]"
      ]
     },
     "execution_count": 50,
     "metadata": {},
     "output_type": "execute_result"
    }
   ],
   "source": [
    "my_list"
   ]
  },
  {
   "cell_type": "code",
   "execution_count": 51,
   "id": "a7e0598c-ea35-4017-a8d3-4e7e6f3300ba",
   "metadata": {},
   "outputs": [
    {
     "data": {
      "text/plain": [
       "1"
      ]
     },
     "execution_count": 51,
     "metadata": {},
     "output_type": "execute_result"
    }
   ],
   "source": [
    "my_tuple[0]"
   ]
  },
  {
   "cell_type": "code",
   "execution_count": 52,
   "id": "0b73e931-919d-4fe2-b41d-c5d4a0a45b4a",
   "metadata": {
    "scrolled": true
   },
   "outputs": [
    {
     "ename": "TypeError",
     "evalue": "'tuple' object does not support item assignment",
     "output_type": "error",
     "traceback": [
      "\u001b[0;31m---------------------------------------------------------------------------\u001b[0m",
      "\u001b[0;31mTypeError\u001b[0m                                 Traceback (most recent call last)",
      "Input \u001b[0;32mIn [52]\u001b[0m, in \u001b[0;36m<cell line: 1>\u001b[0;34m()\u001b[0m\n\u001b[0;32m----> 1\u001b[0m my_tuple[\u001b[38;5;241m0\u001b[39m] \u001b[38;5;241m=\u001b[39m \u001b[38;5;241m100\u001b[39m\n",
      "\u001b[0;31mTypeError\u001b[0m: 'tuple' object does not support item assignment"
     ]
    }
   ],
   "source": [
    "my_tuple[0] = 100"
   ]
  },
  {
   "cell_type": "markdown",
   "id": "0e79cecb",
   "metadata": {},
   "source": [
    "--------\n",
    "\n",
    "### Practice\n",
    "\n",
    "--------\n",
    "\n",
    "Given the tuple \n",
    "\n",
    "(1, 2, 3, 4)\n",
    "\n",
    "Try out all the concepts taught above."
   ]
  },
  {
   "cell_type": "markdown",
   "id": "aaf91e52-aaba-4471-a270-5bacd347eab5",
   "metadata": {},
   "source": [
    "## Sets<a class=\"anchor\" id=\"set\"></a>\n",
    "\n",
    "- They behave like mathematical sets\n",
    "- Come in handy while doing set operations such as intersection (to find common items) etc"
   ]
  },
  {
   "cell_type": "code",
   "execution_count": 53,
   "id": "f0ad84b4",
   "metadata": {},
   "outputs": [
    {
     "data": {
      "text/plain": [
       "{'a', 'd', 'i', 'n'}"
      ]
     },
     "execution_count": 53,
     "metadata": {},
     "output_type": "execute_result"
    }
   ],
   "source": [
    "# finds the unique alphabets in a string\n",
    "set(\"india\")"
   ]
  },
  {
   "cell_type": "code",
   "execution_count": 54,
   "id": "95d71ea3-2393-4bc4-af10-6e443a2d447c",
   "metadata": {},
   "outputs": [],
   "source": [
    "set_a = set(['a','b','c','c'])\n",
    "set_b = {'b','c','d'}"
   ]
  },
  {
   "cell_type": "code",
   "execution_count": 55,
   "id": "c6b9d1fb",
   "metadata": {},
   "outputs": [
    {
     "data": {
      "text/plain": [
       "set"
      ]
     },
     "execution_count": 55,
     "metadata": {},
     "output_type": "execute_result"
    }
   ],
   "source": [
    "type(set_a)"
   ]
  },
  {
   "cell_type": "code",
   "execution_count": 56,
   "id": "0bd320f9",
   "metadata": {},
   "outputs": [
    {
     "data": {
      "text/plain": [
       "set"
      ]
     },
     "execution_count": 56,
     "metadata": {},
     "output_type": "execute_result"
    }
   ],
   "source": [
    "type(set_b)"
   ]
  },
  {
   "cell_type": "code",
   "execution_count": 58,
   "id": "6b62190d-4dfd-4f3a-96a3-0ed22a1dc8de",
   "metadata": {},
   "outputs": [
    {
     "name": "stdout",
     "output_type": "stream",
     "text": [
      "a\n",
      "b\n",
      "c\n"
     ]
    }
   ],
   "source": [
    "for i in set_a:\n",
    "    print(i)"
   ]
  },
  {
   "cell_type": "code",
   "execution_count": 59,
   "id": "5efe5b11-9fe1-4424-9637-3928ac825acf",
   "metadata": {},
   "outputs": [
    {
     "ename": "TypeError",
     "evalue": "'set' object is not subscriptable",
     "output_type": "error",
     "traceback": [
      "\u001b[0;31m---------------------------------------------------------------------------\u001b[0m",
      "\u001b[0;31mTypeError\u001b[0m                                 Traceback (most recent call last)",
      "Input \u001b[0;32mIn [59]\u001b[0m, in \u001b[0;36m<cell line: 1>\u001b[0;34m()\u001b[0m\n\u001b[0;32m----> 1\u001b[0m \u001b[43mset_a\u001b[49m\u001b[43m[\u001b[49m\u001b[38;5;241;43m0\u001b[39;49m\u001b[43m]\u001b[49m\n",
      "\u001b[0;31mTypeError\u001b[0m: 'set' object is not subscriptable"
     ]
    }
   ],
   "source": [
    "set_a[0]"
   ]
  },
  {
   "cell_type": "code",
   "execution_count": null,
   "id": "50ffdc40-7450-4f24-9a1b-3ab60690de92",
   "metadata": {},
   "outputs": [],
   "source": [
    "set_a.intersection(set_b)"
   ]
  },
  {
   "cell_type": "code",
   "execution_count": null,
   "id": "84184af7-3509-467c-bb8c-e705a13029e9",
   "metadata": {},
   "outputs": [],
   "source": [
    "set_a.difference(set_b)"
   ]
  },
  {
   "cell_type": "code",
   "execution_count": null,
   "id": "496d4de0-e41f-4e00-bec2-f22730ae4669",
   "metadata": {},
   "outputs": [],
   "source": [
    "set_a == set_b"
   ]
  },
  {
   "cell_type": "code",
   "execution_count": null,
   "id": "0a87ad63-5faa-4f98-9a8f-7502e2cd71f4",
   "metadata": {},
   "outputs": [],
   "source": [
    "set_c = {'a','b','c'}"
   ]
  },
  {
   "cell_type": "code",
   "execution_count": null,
   "id": "398d754b-d4cc-4636-a323-d4109aec2245",
   "metadata": {},
   "outputs": [],
   "source": [
    "set_a == set_c"
   ]
  },
  {
   "cell_type": "markdown",
   "id": "bd9996a5",
   "metadata": {},
   "source": [
    "--------\n",
    "\n",
    "### Practice\n",
    "\n",
    "--------\n",
    "\n",
    "Given the sets below\n",
    "\n",
    "{'b','c','d'}\n",
    "\n",
    "{'x','y','z'}\n",
    "\n",
    "Try out all the concepts taught above."
   ]
  },
  {
   "cell_type": "markdown",
   "id": "bdfe7855-a8fe-4b38-b0bd-01842df2d85e",
   "metadata": {},
   "source": [
    "## Dictionaries<a class=\"anchor\" id=\"dict\"></a>\n",
    "\n",
    "- Key-value pairs\n",
    "- Indices have no order"
   ]
  },
  {
   "cell_type": "code",
   "execution_count": 1,
   "id": "56c915f2-dc9c-4e1e-ac31-035aeecf6222",
   "metadata": {},
   "outputs": [],
   "source": [
    "d = {'name':'a','age':29,'prev_companies':['abc','def']}"
   ]
  },
  {
   "cell_type": "code",
   "execution_count": 2,
   "id": "ed791a41",
   "metadata": {},
   "outputs": [],
   "source": [
    "d = {'a' : 1, 'b' : 2}"
   ]
  },
  {
   "cell_type": "code",
   "execution_count": 3,
   "id": "241e5e7d",
   "metadata": {},
   "outputs": [
    {
     "data": {
      "text/plain": [
       "{'a': 1, 'b': 2}"
      ]
     },
     "execution_count": 3,
     "metadata": {},
     "output_type": "execute_result"
    }
   ],
   "source": [
    "d"
   ]
  },
  {
   "cell_type": "code",
   "execution_count": 24,
   "id": "2efdff89",
   "metadata": {},
   "outputs": [],
   "source": [
    "d = {'a' : 1, 10:'This', 10.5: 10, 'b': {'z': 10}}"
   ]
  },
  {
   "cell_type": "code",
   "execution_count": 26,
   "id": "64244c87",
   "metadata": {},
   "outputs": [
    {
     "data": {
      "text/plain": [
       "{'a': 1, 10: 'This', 10.5: 10, 'b': {'z': 10}}"
      ]
     },
     "execution_count": 26,
     "metadata": {},
     "output_type": "execute_result"
    }
   ],
   "source": [
    "d"
   ]
  },
  {
   "cell_type": "code",
   "execution_count": 33,
   "id": "affb685a",
   "metadata": {},
   "outputs": [
    {
     "data": {
      "text/plain": [
       "dict"
      ]
     },
     "execution_count": 33,
     "metadata": {},
     "output_type": "execute_result"
    }
   ],
   "source": [
    "type(d['b'])"
   ]
  },
  {
   "cell_type": "code",
   "execution_count": 35,
   "id": "d6ae6b3a",
   "metadata": {},
   "outputs": [
    {
     "ename": "KeyError",
     "evalue": "'c'",
     "output_type": "error",
     "traceback": [
      "\u001b[0;31m---------------------------------------------------------------------------\u001b[0m",
      "\u001b[0;31mKeyError\u001b[0m                                  Traceback (most recent call last)",
      "\u001b[0;32m/var/folders/qm/dbhwkv990ggf8k64763bvn1w0000gn/T/ipykernel_39409/1604721743.py\u001b[0m in \u001b[0;36m<module>\u001b[0;34m\u001b[0m\n\u001b[0;32m----> 1\u001b[0;31m \u001b[0md\u001b[0m\u001b[0;34m[\u001b[0m\u001b[0;34m'c'\u001b[0m\u001b[0;34m]\u001b[0m\u001b[0;34m\u001b[0m\u001b[0;34m\u001b[0m\u001b[0m\n\u001b[0m",
      "\u001b[0;31mKeyError\u001b[0m: 'c'"
     ]
    }
   ],
   "source": [
    "d['c']"
   ]
  },
  {
   "cell_type": "code",
   "execution_count": 32,
   "id": "15d8ff1a",
   "metadata": {},
   "outputs": [
    {
     "name": "stdout",
     "output_type": "stream",
     "text": [
      "a\n",
      "10\n",
      "10.5\n",
      "b\n"
     ]
    }
   ],
   "source": [
    "for i in d:\n",
    "    print(i)"
   ]
  },
  {
   "cell_type": "code",
   "execution_count": 37,
   "id": "a7014408",
   "metadata": {},
   "outputs": [],
   "source": [
    "d.get('c')"
   ]
  },
  {
   "cell_type": "code",
   "execution_count": 38,
   "id": "772815f2",
   "metadata": {},
   "outputs": [
    {
     "data": {
      "text/plain": [
       "dict_items([('a', 1), (10, 'This'), (10.5, 10), ('b', {'z': 10})])"
      ]
     },
     "execution_count": 38,
     "metadata": {},
     "output_type": "execute_result"
    }
   ],
   "source": [
    "d.items()"
   ]
  },
  {
   "cell_type": "code",
   "execution_count": 43,
   "id": "269604bd",
   "metadata": {},
   "outputs": [
    {
     "data": {
      "text/plain": [
       "('a', 1)"
      ]
     },
     "execution_count": 43,
     "metadata": {},
     "output_type": "execute_result"
    }
   ],
   "source": [
    "list(d.items())[0]"
   ]
  },
  {
   "cell_type": "code",
   "execution_count": 44,
   "id": "e8e59565",
   "metadata": {},
   "outputs": [
    {
     "data": {
      "text/plain": [
       "dict_keys(['a', 10, 10.5, 'b'])"
      ]
     },
     "execution_count": 44,
     "metadata": {},
     "output_type": "execute_result"
    }
   ],
   "source": [
    "d.keys()"
   ]
  },
  {
   "cell_type": "code",
   "execution_count": 45,
   "id": "b316476b",
   "metadata": {},
   "outputs": [
    {
     "data": {
      "text/plain": [
       "dict_values([1, 'This', 10, {'z': 10}])"
      ]
     },
     "execution_count": 45,
     "metadata": {},
     "output_type": "execute_result"
    }
   ],
   "source": [
    "d.values()"
   ]
  },
  {
   "cell_type": "code",
   "execution_count": null,
   "id": "378edc3c",
   "metadata": {},
   "outputs": [],
   "source": []
  },
  {
   "cell_type": "code",
   "execution_count": 46,
   "id": "4b23ff67",
   "metadata": {},
   "outputs": [
    {
     "name": "stdout",
     "output_type": "stream",
     "text": [
      "('a', 1)\n",
      "(10, 'This')\n",
      "(10.5, 10)\n",
      "('b', {'z': 10})\n"
     ]
    }
   ],
   "source": [
    "for i in d.items():\n",
    "    print(i)"
   ]
  },
  {
   "cell_type": "code",
   "execution_count": 47,
   "id": "237990b7",
   "metadata": {},
   "outputs": [
    {
     "name": "stdout",
     "output_type": "stream",
     "text": [
      "a\n",
      "10\n",
      "10.5\n",
      "b\n"
     ]
    }
   ],
   "source": [
    "for i in d.keys():\n",
    "    print(i)"
   ]
  },
  {
   "cell_type": "code",
   "execution_count": 48,
   "id": "7adbe61a",
   "metadata": {},
   "outputs": [
    {
     "name": "stdout",
     "output_type": "stream",
     "text": [
      "1\n",
      "This\n",
      "10\n",
      "{'z': 10}\n"
     ]
    }
   ],
   "source": [
    "for i in d.values():\n",
    "    print(i)"
   ]
  },
  {
   "cell_type": "code",
   "execution_count": 49,
   "id": "bf90b858",
   "metadata": {},
   "outputs": [
    {
     "data": {
      "text/plain": [
       "{'a': 1, 10: 'This', 10.5: 10, 'b': {'z': 10}}"
      ]
     },
     "execution_count": 49,
     "metadata": {},
     "output_type": "execute_result"
    }
   ],
   "source": [
    "d"
   ]
  },
  {
   "cell_type": "code",
   "execution_count": 51,
   "id": "36f5a9de",
   "metadata": {},
   "outputs": [],
   "source": [
    "d['z'] = 'Testing'"
   ]
  },
  {
   "cell_type": "code",
   "execution_count": 52,
   "id": "4015ef4d",
   "metadata": {},
   "outputs": [
    {
     "data": {
      "text/plain": [
       "{'a': 1, 10: 'This', 10.5: 10, 'b': {'z': 10}, 'z': 'Testing'}"
      ]
     },
     "execution_count": 52,
     "metadata": {},
     "output_type": "execute_result"
    }
   ],
   "source": [
    "d"
   ]
  },
  {
   "cell_type": "code",
   "execution_count": null,
   "id": "782cfe93",
   "metadata": {},
   "outputs": [],
   "source": []
  },
  {
   "cell_type": "code",
   "execution_count": null,
   "id": "cb417b8a",
   "metadata": {},
   "outputs": [],
   "source": []
  },
  {
   "cell_type": "code",
   "execution_count": null,
   "id": "531a7613",
   "metadata": {},
   "outputs": [],
   "source": []
  },
  {
   "cell_type": "code",
   "execution_count": null,
   "id": "2b371b42",
   "metadata": {},
   "outputs": [],
   "source": []
  },
  {
   "cell_type": "code",
   "execution_count": 61,
   "id": "a49238f3-8bf2-4c30-8331-590be7846e04",
   "metadata": {},
   "outputs": [
    {
     "ename": "KeyError",
     "evalue": "0",
     "output_type": "error",
     "traceback": [
      "\u001b[0;31m---------------------------------------------------------------------------\u001b[0m",
      "\u001b[0;31mKeyError\u001b[0m                                  Traceback (most recent call last)",
      "Input \u001b[0;32mIn [61]\u001b[0m, in \u001b[0;36m<cell line: 1>\u001b[0;34m()\u001b[0m\n\u001b[0;32m----> 1\u001b[0m \u001b[43md\u001b[49m\u001b[43m[\u001b[49m\u001b[38;5;241;43m0\u001b[39;49m\u001b[43m]\u001b[49m\n",
      "\u001b[0;31mKeyError\u001b[0m: 0"
     ]
    }
   ],
   "source": [
    "d[0]"
   ]
  },
  {
   "cell_type": "code",
   "execution_count": null,
   "id": "edcb54fe-745f-454e-8cfe-040c1a7d0f4e",
   "metadata": {},
   "outputs": [],
   "source": [
    "d['name']"
   ]
  },
  {
   "cell_type": "code",
   "execution_count": null,
   "id": "a92c33c8-6034-406c-abec-a74585d5a17d",
   "metadata": {},
   "outputs": [],
   "source": [
    "d['prev_companies']"
   ]
  },
  {
   "cell_type": "code",
   "execution_count": null,
   "id": "894c9c54-db19-4e22-a0bf-7f78dfcca435",
   "metadata": {},
   "outputs": [],
   "source": [
    "d['prev_companies'][-1]"
   ]
  },
  {
   "cell_type": "code",
   "execution_count": null,
   "id": "e8e0fe0b-c423-400a-98a9-fd4a70a0450f",
   "metadata": {},
   "outputs": [],
   "source": [
    "for i in d:\n",
    "    print(i)"
   ]
  },
  {
   "cell_type": "code",
   "execution_count": null,
   "id": "6fca445c-e072-4ac1-8aef-254549c69b67",
   "metadata": {},
   "outputs": [],
   "source": [
    "for i in d:\n",
    "    print(d[i])"
   ]
  },
  {
   "cell_type": "code",
   "execution_count": null,
   "id": "38a0d342-de81-4c43-9360-a8bab8a49b3d",
   "metadata": {},
   "outputs": [],
   "source": [
    "d['new_key'] = 'value'"
   ]
  },
  {
   "cell_type": "code",
   "execution_count": null,
   "id": "7c826641-0232-415e-a849-41f136c2922c",
   "metadata": {},
   "outputs": [],
   "source": [
    "d"
   ]
  },
  {
   "cell_type": "code",
   "execution_count": null,
   "id": "606f6d0f-0264-4215-a19c-21c3be70731b",
   "metadata": {},
   "outputs": [],
   "source": [
    "'value' in d"
   ]
  },
  {
   "cell_type": "code",
   "execution_count": null,
   "id": "dee8846f-4c3b-4747-8b29-ad6200d2bfbd",
   "metadata": {},
   "outputs": [],
   "source": [
    "'new_key' in d"
   ]
  },
  {
   "cell_type": "markdown",
   "id": "0ae41ded",
   "metadata": {},
   "source": [
    "--------\n",
    "\n",
    "### Practice\n",
    "\n",
    "--------\n",
    "\n",
    "Given the sets below\n",
    "\n",
    "{'b','c','d'}\n",
    "\n",
    "{'x','y','z'}\n",
    "\n",
    "Try out all the concepts taught above."
   ]
  },
  {
   "cell_type": "markdown",
   "id": "b227d403-f3e7-4dd8-b8f1-691d0968d008",
   "metadata": {},
   "source": []
  }
 ],
 "metadata": {
  "kernelspec": {
   "display_name": "Python 3 (ipykernel)",
   "language": "python",
   "name": "python3"
  },
  "language_info": {
   "codemirror_mode": {
    "name": "ipython",
    "version": 3
   },
   "file_extension": ".py",
   "mimetype": "text/x-python",
   "name": "python",
   "nbconvert_exporter": "python",
   "pygments_lexer": "ipython3",
   "version": "3.7.16"
  }
 },
 "nbformat": 4,
 "nbformat_minor": 5
}
