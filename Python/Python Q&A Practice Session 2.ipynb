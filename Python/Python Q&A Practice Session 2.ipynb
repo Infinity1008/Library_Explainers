{
 "cells": [
  {
   "cell_type": "markdown",
   "id": "807a2315",
   "metadata": {},
   "source": [
    "## Python Practice 2"
   ]
  },
  {
   "cell_type": "markdown",
   "id": "4f7baff0",
   "metadata": {},
   "source": [
    "## Numbers"
   ]
  },
  {
   "cell_type": "markdown",
   "id": "9c0088dc",
   "metadata": {},
   "source": [
    "### Question 1\n",
    "Insert the correct syntax to convert x into a floating point number."
   ]
  },
  {
   "cell_type": "code",
   "execution_count": 2,
   "id": "8ac265db",
   "metadata": {},
   "outputs": [],
   "source": [
    "x = 5"
   ]
  },
  {
   "cell_type": "code",
   "execution_count": 3,
   "id": "2642e7fd",
   "metadata": {},
   "outputs": [
    {
     "data": {
      "text/plain": [
       "5"
      ]
     },
     "execution_count": 3,
     "metadata": {},
     "output_type": "execute_result"
    }
   ],
   "source": [
    "x"
   ]
  },
  {
   "cell_type": "code",
   "execution_count": 5,
   "id": "0cb4c02c",
   "metadata": {
    "scrolled": true
   },
   "outputs": [
    {
     "data": {
      "text/plain": [
       "int"
      ]
     },
     "execution_count": 5,
     "metadata": {},
     "output_type": "execute_result"
    }
   ],
   "source": [
    "type(x)"
   ]
  },
  {
   "cell_type": "code",
   "execution_count": 12,
   "id": "b5d09c73",
   "metadata": {},
   "outputs": [],
   "source": [
    "# Write your code here"
   ]
  },
  {
   "cell_type": "markdown",
   "id": "dd1a4735",
   "metadata": {},
   "source": [
    "#### Answer"
   ]
  },
  {
   "cell_type": "code",
   "execution_count": 7,
   "id": "d49dab65",
   "metadata": {},
   "outputs": [
    {
     "data": {
      "text/plain": [
       "5.0"
      ]
     },
     "execution_count": 7,
     "metadata": {},
     "output_type": "execute_result"
    }
   ],
   "source": [
    "float(x)"
   ]
  },
  {
   "cell_type": "code",
   "execution_count": 8,
   "id": "de569fb5",
   "metadata": {},
   "outputs": [],
   "source": [
    "x = float(x)"
   ]
  },
  {
   "cell_type": "code",
   "execution_count": 9,
   "id": "bbcad80f",
   "metadata": {},
   "outputs": [
    {
     "data": {
      "text/plain": [
       "5.0"
      ]
     },
     "execution_count": 9,
     "metadata": {},
     "output_type": "execute_result"
    }
   ],
   "source": [
    "x"
   ]
  },
  {
   "cell_type": "code",
   "execution_count": 10,
   "id": "d11c14ab",
   "metadata": {},
   "outputs": [
    {
     "data": {
      "text/plain": [
       "float"
      ]
     },
     "execution_count": 10,
     "metadata": {},
     "output_type": "execute_result"
    }
   ],
   "source": [
    "type(x)"
   ]
  },
  {
   "cell_type": "markdown",
   "id": "c2bd90a9",
   "metadata": {},
   "source": [
    "## Lists"
   ]
  },
  {
   "cell_type": "markdown",
   "id": "9a0a5bf6",
   "metadata": {},
   "source": [
    "### Question 2\n",
    "Print the second item in the fruits list."
   ]
  },
  {
   "cell_type": "code",
   "execution_count": 11,
   "id": "c424de8d",
   "metadata": {},
   "outputs": [],
   "source": [
    "fruits = [\"apple\", \"banana\", \"cherry\"]"
   ]
  },
  {
   "cell_type": "code",
   "execution_count": 12,
   "id": "57b2d6aa",
   "metadata": {},
   "outputs": [
    {
     "data": {
      "text/plain": [
       "['apple', 'banana', 'cherry']"
      ]
     },
     "execution_count": 12,
     "metadata": {},
     "output_type": "execute_result"
    }
   ],
   "source": [
    "fruits"
   ]
  },
  {
   "cell_type": "code",
   "execution_count": 14,
   "id": "cd45f015",
   "metadata": {
    "scrolled": true
   },
   "outputs": [
    {
     "data": {
      "text/plain": [
       "list"
      ]
     },
     "execution_count": 14,
     "metadata": {},
     "output_type": "execute_result"
    }
   ],
   "source": [
    "type(fruits)"
   ]
  },
  {
   "cell_type": "code",
   "execution_count": 12,
   "id": "909f513a",
   "metadata": {},
   "outputs": [],
   "source": [
    "# Write your code here"
   ]
  },
  {
   "cell_type": "markdown",
   "id": "cbe3a3d5",
   "metadata": {},
   "source": [
    "#### Answer"
   ]
  },
  {
   "cell_type": "code",
   "execution_count": 29,
   "id": "f051e740",
   "metadata": {},
   "outputs": [
    {
     "data": {
      "text/plain": [
       "'banana'"
      ]
     },
     "execution_count": 29,
     "metadata": {},
     "output_type": "execute_result"
    }
   ],
   "source": [
    "fruits[1]"
   ]
  },
  {
   "cell_type": "markdown",
   "id": "590910f2",
   "metadata": {},
   "source": [
    "### Question 3\n",
    "Change the value from \"apple\" to \"kiwi\", in the fruits list."
   ]
  },
  {
   "cell_type": "code",
   "execution_count": 15,
   "id": "151ffe63",
   "metadata": {},
   "outputs": [],
   "source": [
    "fruits = [\"apple\", \"banana\", \"cherry\"]"
   ]
  },
  {
   "cell_type": "code",
   "execution_count": 16,
   "id": "c6dbdc50",
   "metadata": {},
   "outputs": [
    {
     "data": {
      "text/plain": [
       "['apple', 'banana', 'cherry']"
      ]
     },
     "execution_count": 16,
     "metadata": {},
     "output_type": "execute_result"
    }
   ],
   "source": [
    "fruits"
   ]
  },
  {
   "cell_type": "code",
   "execution_count": 12,
   "id": "070740a5",
   "metadata": {},
   "outputs": [],
   "source": [
    "# Write your code here"
   ]
  },
  {
   "cell_type": "markdown",
   "id": "01f74d4d",
   "metadata": {},
   "source": [
    "#### Answer"
   ]
  },
  {
   "cell_type": "code",
   "execution_count": 17,
   "id": "ca0c096a",
   "metadata": {},
   "outputs": [],
   "source": [
    "fruits[0] = 'kiwi'"
   ]
  },
  {
   "cell_type": "code",
   "execution_count": 18,
   "id": "4eaa3b70",
   "metadata": {},
   "outputs": [
    {
     "data": {
      "text/plain": [
       "['kiwi', 'banana', 'cherry']"
      ]
     },
     "execution_count": 18,
     "metadata": {},
     "output_type": "execute_result"
    }
   ],
   "source": [
    "fruits"
   ]
  },
  {
   "cell_type": "markdown",
   "id": "db6c1c86",
   "metadata": {},
   "source": [
    "#### This is a disclaimer, this works on lists, not on strings"
   ]
  },
  {
   "cell_type": "code",
   "execution_count": 19,
   "id": "d855c34f",
   "metadata": {},
   "outputs": [],
   "source": [
    "string_example = \"Apples\""
   ]
  },
  {
   "cell_type": "code",
   "execution_count": 20,
   "id": "8ae45615",
   "metadata": {},
   "outputs": [
    {
     "ename": "TypeError",
     "evalue": "'str' object does not support item assignment",
     "output_type": "error",
     "traceback": [
      "\u001b[0;31m---------------------------------------------------------------------------\u001b[0m",
      "\u001b[0;31mTypeError\u001b[0m                                 Traceback (most recent call last)",
      "\u001b[0;32m/var/folders/qm/dbhwkv990ggf8k64763bvn1w0000gn/T/ipykernel_6676/2749023359.py\u001b[0m in \u001b[0;36m<module>\u001b[0;34m\u001b[0m\n\u001b[0;32m----> 1\u001b[0;31m \u001b[0mstring_example\u001b[0m\u001b[0;34m[\u001b[0m\u001b[0;36m0\u001b[0m\u001b[0;34m]\u001b[0m \u001b[0;34m=\u001b[0m \u001b[0;34m'S'\u001b[0m\u001b[0;34m\u001b[0m\u001b[0;34m\u001b[0m\u001b[0m\n\u001b[0m",
      "\u001b[0;31mTypeError\u001b[0m: 'str' object does not support item assignment"
     ]
    }
   ],
   "source": [
    "string_example[0] = 'S'"
   ]
  },
  {
   "cell_type": "markdown",
   "id": "b4cdae36",
   "metadata": {},
   "source": [
    "### Question 4\n",
    "Use the append method to add \"orange\" to the fruits list."
   ]
  },
  {
   "cell_type": "code",
   "execution_count": 48,
   "id": "6b4997b3",
   "metadata": {},
   "outputs": [],
   "source": [
    "fruits = [\"apple\", \"banana\", \"cherry\"]"
   ]
  },
  {
   "cell_type": "code",
   "execution_count": 21,
   "id": "a9cfb8d5",
   "metadata": {},
   "outputs": [
    {
     "data": {
      "text/plain": [
       "['kiwi', 'banana', 'cherry']"
      ]
     },
     "execution_count": 21,
     "metadata": {},
     "output_type": "execute_result"
    }
   ],
   "source": [
    "fruits"
   ]
  },
  {
   "cell_type": "code",
   "execution_count": 12,
   "id": "c50abaff",
   "metadata": {},
   "outputs": [],
   "source": [
    "# Write your code here"
   ]
  },
  {
   "cell_type": "markdown",
   "id": "0c6562f2",
   "metadata": {},
   "source": [
    "#### Answer"
   ]
  },
  {
   "cell_type": "code",
   "execution_count": 22,
   "id": "3b0b20c7",
   "metadata": {},
   "outputs": [],
   "source": [
    "fruits.append(\"Oranges\")"
   ]
  },
  {
   "cell_type": "code",
   "execution_count": 26,
   "id": "79515795",
   "metadata": {},
   "outputs": [
    {
     "data": {
      "text/plain": [
       "['kiwi', 'banana', 'cherry', 'Oranges']"
      ]
     },
     "execution_count": 26,
     "metadata": {},
     "output_type": "execute_result"
    }
   ],
   "source": [
    "fruits"
   ]
  },
  {
   "cell_type": "markdown",
   "id": "c103fa04",
   "metadata": {},
   "source": [
    "### Sets"
   ]
  },
  {
   "cell_type": "markdown",
   "id": "76477f2a",
   "metadata": {},
   "source": [
    "### Question 5\n",
    "Add \"orange\" to the fruits set."
   ]
  },
  {
   "cell_type": "code",
   "execution_count": 27,
   "id": "d9257d03",
   "metadata": {},
   "outputs": [],
   "source": [
    "fruits = {\"apple\", \"banana\", \"cherry\"}"
   ]
  },
  {
   "cell_type": "code",
   "execution_count": 12,
   "id": "eaae50ff",
   "metadata": {},
   "outputs": [],
   "source": [
    "# Write your code here"
   ]
  },
  {
   "cell_type": "markdown",
   "id": "e6ce4fd3",
   "metadata": {},
   "source": [
    "#### Answer"
   ]
  },
  {
   "cell_type": "code",
   "execution_count": 169,
   "id": "21379a08",
   "metadata": {},
   "outputs": [],
   "source": [
    "# Use the add method to add \"orange\" to the fruits set.\n",
    "fruits.add('orange')"
   ]
  },
  {
   "cell_type": "code",
   "execution_count": 134,
   "id": "07157a82",
   "metadata": {},
   "outputs": [
    {
     "data": {
      "text/plain": [
       "{'apple', 'banana', 'cherry', 'orange'}"
      ]
     },
     "execution_count": 134,
     "metadata": {},
     "output_type": "execute_result"
    }
   ],
   "source": [
    "fruits"
   ]
  },
  {
   "cell_type": "markdown",
   "id": "d39d8cac",
   "metadata": {},
   "source": [
    "### Question 6\n",
    "Use the correct method to add multiple items (more_fruits) to the fruits set."
   ]
  },
  {
   "cell_type": "code",
   "execution_count": 29,
   "id": "185ebef3",
   "metadata": {},
   "outputs": [],
   "source": [
    "fruits = {\"apple\", \"banana\", \"cherry\"}\n",
    "more_fruits = [\"orange\", \"mango\", \"grapes\", \"apple\", \"apple\"]"
   ]
  },
  {
   "cell_type": "code",
   "execution_count": 12,
   "id": "18400aeb",
   "metadata": {},
   "outputs": [],
   "source": [
    "# Write your code here"
   ]
  },
  {
   "cell_type": "markdown",
   "id": "ea4e2f38",
   "metadata": {},
   "source": [
    "#### Answer"
   ]
  },
  {
   "cell_type": "code",
   "execution_count": 30,
   "id": "6bad2a03",
   "metadata": {},
   "outputs": [],
   "source": [
    "fruits.update(more_fruits)"
   ]
  },
  {
   "cell_type": "code",
   "execution_count": 31,
   "id": "b3ec7fc9",
   "metadata": {},
   "outputs": [
    {
     "data": {
      "text/plain": [
       "{'apple', 'banana', 'cherry', 'grapes', 'mango', 'orange'}"
      ]
     },
     "execution_count": 31,
     "metadata": {},
     "output_type": "execute_result"
    }
   ],
   "source": [
    "fruits"
   ]
  },
  {
   "cell_type": "markdown",
   "id": "b45d6cd5",
   "metadata": {},
   "source": [
    "### Dictionaries"
   ]
  },
  {
   "cell_type": "markdown",
   "id": "df96c421",
   "metadata": {},
   "source": [
    "### Question 7\n",
    "Use the get method to print the value of the \"model\" key of the car dictionary."
   ]
  },
  {
   "cell_type": "code",
   "execution_count": 33,
   "id": "12d96718",
   "metadata": {},
   "outputs": [],
   "source": [
    "car ={\n",
    "  \"brand\": \"Ford\",\n",
    "  \"model\": \"Mustang\",\n",
    "  \"year\": 1964\n",
    "}"
   ]
  },
  {
   "cell_type": "code",
   "execution_count": 35,
   "id": "8568a544",
   "metadata": {},
   "outputs": [
    {
     "data": {
      "text/plain": [
       "dict"
      ]
     },
     "execution_count": 35,
     "metadata": {},
     "output_type": "execute_result"
    }
   ],
   "source": [
    "type(car)"
   ]
  },
  {
   "cell_type": "code",
   "execution_count": 12,
   "id": "0c39e58c",
   "metadata": {},
   "outputs": [],
   "source": [
    "# Write your code here"
   ]
  },
  {
   "cell_type": "markdown",
   "id": "2c0d4e66",
   "metadata": {},
   "source": [
    "#### Answer"
   ]
  },
  {
   "cell_type": "code",
   "execution_count": 36,
   "id": "385e57f9",
   "metadata": {},
   "outputs": [
    {
     "data": {
      "text/plain": [
       "'Mustang'"
      ]
     },
     "execution_count": 36,
     "metadata": {},
     "output_type": "execute_result"
    }
   ],
   "source": [
    "car.get('model')"
   ]
  },
  {
   "cell_type": "markdown",
   "id": "9647510b",
   "metadata": {},
   "source": [
    "### Question 8\n",
    "Remove \"model\" from the car dictionary."
   ]
  },
  {
   "cell_type": "code",
   "execution_count": 38,
   "id": "d37b6074",
   "metadata": {},
   "outputs": [],
   "source": [
    "car = {\"brand\": \"Ford\", \"model\": \"Mustang\", \"year\": 1964}"
   ]
  },
  {
   "cell_type": "code",
   "execution_count": 39,
   "id": "8c5950af",
   "metadata": {},
   "outputs": [
    {
     "data": {
      "text/plain": [
       "'Mustang'"
      ]
     },
     "execution_count": 39,
     "metadata": {},
     "output_type": "execute_result"
    }
   ],
   "source": [
    "# Use the pop method to remove \"model\" from the car dictionary.\n",
    "car.pop(\"model\")"
   ]
  },
  {
   "cell_type": "code",
   "execution_count": 40,
   "id": "012c7323",
   "metadata": {},
   "outputs": [
    {
     "data": {
      "text/plain": [
       "{'brand': 'Ford', 'year': 1964}"
      ]
     },
     "execution_count": 40,
     "metadata": {},
     "output_type": "execute_result"
    }
   ],
   "source": [
    "car"
   ]
  },
  {
   "cell_type": "markdown",
   "id": "4a1030f2",
   "metadata": {},
   "source": [
    "### Conditions"
   ]
  },
  {
   "cell_type": "markdown",
   "id": "c272b56f",
   "metadata": {},
   "source": [
    "### Question 9\n",
    "Print \"Hello World\" if a is greater than b."
   ]
  },
  {
   "cell_type": "code",
   "execution_count": 43,
   "id": "f376578b",
   "metadata": {},
   "outputs": [],
   "source": [
    "a = 50\n",
    "b = 10"
   ]
  },
  {
   "cell_type": "code",
   "execution_count": 12,
   "id": "ce92176a",
   "metadata": {},
   "outputs": [],
   "source": [
    "# Write your code here"
   ]
  },
  {
   "cell_type": "markdown",
   "id": "028d98c4",
   "metadata": {},
   "source": [
    "#### Answer"
   ]
  },
  {
   "cell_type": "code",
   "execution_count": 44,
   "id": "c9bb4c46",
   "metadata": {},
   "outputs": [
    {
     "name": "stdout",
     "output_type": "stream",
     "text": [
      "Hello World\n"
     ]
    }
   ],
   "source": [
    "if a > b:\n",
    "    print(\"Hello World\")"
   ]
  },
  {
   "cell_type": "markdown",
   "id": "e60de7f0",
   "metadata": {},
   "source": [
    "### Question 10\n",
    "Print \"Yes\" if a is equal to b, otherwise print \"No\"."
   ]
  },
  {
   "cell_type": "code",
   "execution_count": 47,
   "id": "6944e756",
   "metadata": {},
   "outputs": [],
   "source": [
    "a = 50\n",
    "b = 10"
   ]
  },
  {
   "cell_type": "code",
   "execution_count": 12,
   "id": "4e6f2d88",
   "metadata": {},
   "outputs": [],
   "source": [
    "# Write your code here"
   ]
  },
  {
   "cell_type": "markdown",
   "id": "23abe892",
   "metadata": {},
   "source": [
    "#### Answer"
   ]
  },
  {
   "cell_type": "code",
   "execution_count": 48,
   "id": "42cb8fb6",
   "metadata": {},
   "outputs": [
    {
     "name": "stdout",
     "output_type": "stream",
     "text": [
      "No\n"
     ]
    }
   ],
   "source": [
    "if a == b:\n",
    "    print('Yes')\n",
    "else:\n",
    "    print('No')"
   ]
  },
  {
   "cell_type": "markdown",
   "id": "8b8b5167",
   "metadata": {},
   "source": [
    "### Question 11\n",
    "Print \"1\" if a is equal to b, print \"2\" if a is greater than b, otherwise print \"3\"."
   ]
  },
  {
   "cell_type": "code",
   "execution_count": 51,
   "id": "9d16139d",
   "metadata": {},
   "outputs": [],
   "source": [
    "a = 50\n",
    "b = 10"
   ]
  },
  {
   "cell_type": "code",
   "execution_count": 12,
   "id": "f2d2aff2",
   "metadata": {},
   "outputs": [],
   "source": [
    "# Write your code here"
   ]
  },
  {
   "cell_type": "markdown",
   "id": "ef73d91e",
   "metadata": {},
   "source": [
    "#### Answer"
   ]
  },
  {
   "cell_type": "code",
   "execution_count": 50,
   "id": "7e5c1dc5",
   "metadata": {},
   "outputs": [
    {
     "name": "stdout",
     "output_type": "stream",
     "text": [
      "2\n"
     ]
    }
   ],
   "source": [
    "if a == b:\n",
    "    print('1')\n",
    "elif a>b:\n",
    "    print('2')\n",
    "else:\n",
    "    print('3')"
   ]
  },
  {
   "cell_type": "markdown",
   "id": "473844de",
   "metadata": {},
   "source": [
    "### Question 12\n",
    "Print \"Hello\" if a is equal to b, or if c is equal to d."
   ]
  },
  {
   "cell_type": "code",
   "execution_count": 53,
   "id": "80fc11f9",
   "metadata": {},
   "outputs": [],
   "source": [
    "a = 50\n",
    "b = 10\n",
    "c = 20\n",
    "d = 20"
   ]
  },
  {
   "cell_type": "code",
   "execution_count": 12,
   "id": "2ad4c1dd",
   "metadata": {},
   "outputs": [],
   "source": [
    "# Write your code here"
   ]
  },
  {
   "cell_type": "markdown",
   "id": "d4e80840",
   "metadata": {},
   "source": [
    "#### Answer"
   ]
  },
  {
   "cell_type": "code",
   "execution_count": 249,
   "id": "23f47848",
   "metadata": {},
   "outputs": [
    {
     "name": "stdout",
     "output_type": "stream",
     "text": [
      "Hello\n"
     ]
    }
   ],
   "source": [
    "if a == b or c == d:\n",
    "    print('Hello')\n",
    "else:\n",
    "    print('Condition not met')"
   ]
  },
  {
   "cell_type": "markdown",
   "id": "f195a79a",
   "metadata": {},
   "source": [
    "## For Loops"
   ]
  },
  {
   "cell_type": "markdown",
   "id": "e6c003d2",
   "metadata": {},
   "source": [
    "### Question 13\n",
    "Loop through the items in the fruits list."
   ]
  },
  {
   "cell_type": "code",
   "execution_count": 55,
   "id": "ccb3cf87",
   "metadata": {},
   "outputs": [],
   "source": [
    "fruits = [\"apple\", \"banana\", \"cherry\"]"
   ]
  },
  {
   "cell_type": "code",
   "execution_count": 12,
   "id": "3f3f36ed",
   "metadata": {},
   "outputs": [],
   "source": [
    "# Write your code here"
   ]
  },
  {
   "cell_type": "markdown",
   "id": "8ecaea6e",
   "metadata": {},
   "source": [
    "#### Answer"
   ]
  },
  {
   "cell_type": "code",
   "execution_count": 57,
   "id": "5ea36062",
   "metadata": {},
   "outputs": [
    {
     "name": "stdout",
     "output_type": "stream",
     "text": [
      "apple something\n",
      "banana something\n",
      "cherry something\n"
     ]
    }
   ],
   "source": [
    "for i in fruits:\n",
    "    print(i + ' something')"
   ]
  },
  {
   "cell_type": "markdown",
   "id": "4afc1f8b",
   "metadata": {},
   "source": [
    "More Explanation"
   ]
  },
  {
   "cell_type": "code",
   "execution_count": 58,
   "id": "892cd3c5",
   "metadata": {},
   "outputs": [],
   "source": [
    "name = 'Siddharth'"
   ]
  },
  {
   "cell_type": "code",
   "execution_count": 59,
   "id": "f9c67223",
   "metadata": {},
   "outputs": [
    {
     "name": "stdout",
     "output_type": "stream",
     "text": [
      "S This is the value of i\n",
      "i This is the value of i\n",
      "d This is the value of i\n",
      "d This is the value of i\n",
      "h This is the value of i\n",
      "a This is the value of i\n",
      "r This is the value of i\n",
      "t This is the value of i\n",
      "h This is the value of i\n"
     ]
    }
   ],
   "source": [
    "for i in name:\n",
    "    print(i + ' This is the value of i')"
   ]
  },
  {
   "cell_type": "markdown",
   "id": "7b461b29",
   "metadata": {},
   "source": [
    "### Question 14\n",
    "Use the range function to loop through a code set 6 times."
   ]
  },
  {
   "cell_type": "code",
   "execution_count": 12,
   "id": "7a42db8a",
   "metadata": {},
   "outputs": [],
   "source": [
    "# Write your code here"
   ]
  },
  {
   "cell_type": "markdown",
   "id": "0eaa9880",
   "metadata": {},
   "source": [
    "#### Answer"
   ]
  },
  {
   "cell_type": "code",
   "execution_count": 60,
   "id": "6cdc54f3",
   "metadata": {},
   "outputs": [
    {
     "name": "stdout",
     "output_type": "stream",
     "text": [
      "0\n",
      "1\n",
      "2\n",
      "3\n",
      "4\n",
      "5\n"
     ]
    }
   ],
   "source": [
    "for i in range(6):\n",
    "    print(i)"
   ]
  },
  {
   "cell_type": "markdown",
   "id": "82c9d07c",
   "metadata": {},
   "source": [
    "### Question 15\n",
    "Exit the loop when x is \"banana\"."
   ]
  },
  {
   "cell_type": "code",
   "execution_count": 64,
   "id": "55a8dd2f",
   "metadata": {},
   "outputs": [],
   "source": [
    "fruits = [\"apple\", \"banana\", \"cherry\"]"
   ]
  },
  {
   "cell_type": "code",
   "execution_count": 12,
   "id": "ed36e698",
   "metadata": {},
   "outputs": [],
   "source": [
    "# Write your code here"
   ]
  },
  {
   "cell_type": "markdown",
   "id": "c482bbd2",
   "metadata": {},
   "source": [
    "#### Answer"
   ]
  },
  {
   "cell_type": "code",
   "execution_count": 65,
   "id": "f5b6701d",
   "metadata": {},
   "outputs": [
    {
     "name": "stdout",
     "output_type": "stream",
     "text": [
      "apple\n",
      "banana not found\n",
      "banana\n",
      "banana found\n"
     ]
    }
   ],
   "source": [
    "for x in fruits:\n",
    "    print(x)\n",
    "    if x == 'banana':\n",
    "        print('banana found')\n",
    "        break\n",
    "    else:\n",
    "        print('banana not found')"
   ]
  },
  {
   "cell_type": "markdown",
   "id": "faeaf921",
   "metadata": {},
   "source": [
    "### While Loops"
   ]
  },
  {
   "cell_type": "markdown",
   "id": "b695a3c7",
   "metadata": {},
   "source": [
    "### Question 17\n",
    "Stop the loop if i is 3."
   ]
  },
  {
   "cell_type": "code",
   "execution_count": 12,
   "id": "7dd045fb",
   "metadata": {},
   "outputs": [],
   "source": [
    "i = 1\n",
    "while i < 5:\n",
    "    print('I is not equal to 3')\n",
    "    # Write your code here\n",
    "    i += 1"
   ]
  },
  {
   "cell_type": "markdown",
   "id": "be35964d",
   "metadata": {},
   "source": [
    "#### Answer"
   ]
  },
  {
   "cell_type": "code",
   "execution_count": 67,
   "id": "72271912",
   "metadata": {},
   "outputs": [
    {
     "name": "stdout",
     "output_type": "stream",
     "text": [
      "I is not equal to 3\n",
      "I is not equal to 3\n",
      "I is not equal to 3\n"
     ]
    }
   ],
   "source": [
    "i = 1\n",
    "while i < 5:\n",
    "    print('I is not equal to 3')\n",
    "    if i == 3:\n",
    "        break\n",
    "    i += 1"
   ]
  },
  {
   "cell_type": "markdown",
   "id": "7c9fa2f8",
   "metadata": {},
   "source": [
    "Explanation"
   ]
  },
  {
   "cell_type": "code",
   "execution_count": 68,
   "id": "fc8ca19d",
   "metadata": {},
   "outputs": [
    {
     "name": "stdout",
     "output_type": "stream",
     "text": [
      "still looping\n",
      "still looping\n",
      "still looping\n",
      "still looping\n",
      "still looping\n",
      "still looping\n",
      "still looping\n",
      "still looping\n",
      "still looping\n",
      "still looping\n"
     ]
    }
   ],
   "source": [
    "# The logic\n",
    "i = 0\n",
    "while i < 10:\n",
    "    print('still looping')\n",
    "    i += 1"
   ]
  },
  {
   "cell_type": "code",
   "execution_count": 69,
   "id": "a5966005",
   "metadata": {
    "scrolled": true
   },
   "outputs": [
    {
     "name": "stdout",
     "output_type": "stream",
     "text": [
      "The loop number is 0\n",
      "The value of a now is 9\n",
      "The loop number is 1\n",
      "The value of a now is 8\n",
      "The loop number is 2\n",
      "The value of a now is 7\n",
      "The loop number is 3\n",
      "The value of a now is 6\n",
      "The loop number is 4\n",
      "The value of a now is 5\n",
      "The loop number is 5\n",
      "The value of a now is 4\n",
      "The loop number is 6\n",
      "The value of a now is 3\n",
      "The loop number is 7\n",
      "The value of a now is 2\n",
      "The loop number is 8\n",
      "The value of a now is 1\n",
      "The loop number is 9\n",
      "The value of a now is 0\n"
     ]
    }
   ],
   "source": [
    "a = 10\n",
    "for i in range(10):\n",
    "    print('The loop number is ' + str(i))\n",
    "    a -= 1\n",
    "    print('The value of a now is ' + str(a))\n"
   ]
  },
  {
   "cell_type": "code",
   "execution_count": 70,
   "id": "ca5590cd",
   "metadata": {},
   "outputs": [
    {
     "data": {
      "text/plain": [
       "0"
      ]
     },
     "execution_count": 70,
     "metadata": {},
     "output_type": "execute_result"
    }
   ],
   "source": [
    "a"
   ]
  },
  {
   "cell_type": "markdown",
   "id": "6b2aeced",
   "metadata": {},
   "source": [
    "## Functions\n",
    "Create a function that takes 2 string as input 'firstname' & 'lastname' and returns a single concatenated string back, add spaces between names"
   ]
  },
  {
   "cell_type": "code",
   "execution_count": 12,
   "id": "f212dfe6",
   "metadata": {},
   "outputs": [],
   "source": [
    "# Write your code here"
   ]
  },
  {
   "cell_type": "markdown",
   "id": "ec63bb75",
   "metadata": {},
   "source": [
    "#### Answer"
   ]
  },
  {
   "cell_type": "code",
   "execution_count": 71,
   "id": "219e9d86",
   "metadata": {},
   "outputs": [],
   "source": [
    "def adding_names(fname, lname):\n",
    "    full_name = fname + \" \" + lname\n",
    "    print(full_name)"
   ]
  },
  {
   "cell_type": "code",
   "execution_count": 72,
   "id": "ca6eaabb",
   "metadata": {},
   "outputs": [
    {
     "name": "stdout",
     "output_type": "stream",
     "text": [
      "Sid Kot\n"
     ]
    }
   ],
   "source": [
    "adding_names('Sid','Kot')"
   ]
  },
  {
   "cell_type": "code",
   "execution_count": 73,
   "id": "0cc371c0",
   "metadata": {},
   "outputs": [
    {
     "name": "stdout",
     "output_type": "stream",
     "text": [
      "Spoorti Sha\n"
     ]
    }
   ],
   "source": [
    "adding_names('Spoorti','Sha')"
   ]
  },
  {
   "cell_type": "code",
   "execution_count": 74,
   "id": "ba74cc4e",
   "metadata": {},
   "outputs": [
    {
     "name": "stdout",
     "output_type": "stream",
     "text": [
      "Sid Kot\n"
     ]
    }
   ],
   "source": [
    "a = adding_names('Sid','Kot')"
   ]
  },
  {
   "cell_type": "code",
   "execution_count": 75,
   "id": "cdff9095",
   "metadata": {},
   "outputs": [],
   "source": [
    "a"
   ]
  },
  {
   "cell_type": "code",
   "execution_count": 76,
   "id": "c41c0b3a",
   "metadata": {},
   "outputs": [
    {
     "data": {
      "text/plain": [
       "NoneType"
      ]
     },
     "execution_count": 76,
     "metadata": {},
     "output_type": "execute_result"
    }
   ],
   "source": [
    "type(a)"
   ]
  },
  {
   "cell_type": "markdown",
   "id": "1e53e352",
   "metadata": {},
   "source": [
    "#### What is the difference between printing and returning ? \n",
    "![Thinking](https://media3.giphy.com/media/lKXEBR8m1jWso/giphy.gif?cid=ecf05e478ayulrsqvnbc1lg5upups1iknrm0ncrnf5bgtq62&rid=giphy.gif&ct=g)\n"
   ]
  },
  {
   "cell_type": "code",
   "execution_count": 77,
   "id": "b84d2a51",
   "metadata": {},
   "outputs": [],
   "source": [
    "def adding_names(fname, lname):\n",
    "    full_name = fname + \" \" + lname\n",
    "    return full_name"
   ]
  },
  {
   "cell_type": "code",
   "execution_count": 78,
   "id": "acddbf7e",
   "metadata": {},
   "outputs": [],
   "source": [
    "a = adding_names('Sid','Kot')"
   ]
  },
  {
   "cell_type": "code",
   "execution_count": 79,
   "id": "188e687d",
   "metadata": {},
   "outputs": [
    {
     "data": {
      "text/plain": [
       "'Sid Kot'"
      ]
     },
     "execution_count": 79,
     "metadata": {},
     "output_type": "execute_result"
    }
   ],
   "source": [
    "a"
   ]
  },
  {
   "cell_type": "code",
   "execution_count": 81,
   "id": "8d727ce2",
   "metadata": {},
   "outputs": [
    {
     "data": {
      "text/plain": [
       "str"
      ]
     },
     "execution_count": 81,
     "metadata": {},
     "output_type": "execute_result"
    }
   ],
   "source": [
    "type(a)"
   ]
  }
 ],
 "metadata": {
  "kernelspec": {
   "display_name": "Python 3 (ipykernel)",
   "language": "python",
   "name": "python3"
  },
  "language_info": {
   "codemirror_mode": {
    "name": "ipython",
    "version": 3
   },
   "file_extension": ".py",
   "mimetype": "text/x-python",
   "name": "python",
   "nbconvert_exporter": "python",
   "pygments_lexer": "ipython3",
   "version": "3.7.15"
  }
 },
 "nbformat": 4,
 "nbformat_minor": 5
}
