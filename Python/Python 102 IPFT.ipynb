{
 "cells": [
  {
   "cell_type": "markdown",
   "id": "ef10156c",
   "metadata": {},
   "source": [
    "# Table of Contents\n",
    "\n",
    "* [Conditions](#cnds)\n",
    "* [Loops](#lps)\n",
    "* [Functions](#fncs)\n",
    "* [Built-in-Libraries](#bil) (optional !!)\n",
    "* [File Handling](#flhndl) (optional !!)"
   ]
  },
  {
   "cell_type": "markdown",
   "id": "8b398cdc",
   "metadata": {},
   "source": [
    "![image.png](https://www.python.org/static/img/python-logo@2x.png)\n",
    "\n",
    "Resuming where we left off. We have seen the basic building blocks/data structures of python till now.\n",
    "* Variables and Types\n",
    "    * Numbers\n",
    "    * Strings\n",
    "* Lists\n",
    "* Tuples\n",
    "* Sets\n",
    "* Dictionaries\n",
    "\n",
    "Now it is time, we start connect/assemble these blocks to build things. "
   ]
  },
  {
   "cell_type": "markdown",
   "id": "7e4a1192",
   "metadata": {},
   "source": [
    "## Conditions<a class=\"anchor\" id=\"cnds\"></a>\n",
    "Python uses boolean logic to evaluate conditions. The boolean values True and False are returned when an expression is compared or evaluated. For example:"
   ]
  },
  {
   "cell_type": "code",
   "execution_count": null,
   "id": "2495236e",
   "metadata": {},
   "outputs": [],
   "source": [
    "# Syntax wise\n",
    "\n",
    "if condition:\n",
    "#     'what' will happen'\n",
    "else: \n",
    "#     'what will happen'"
   ]
  },
  {
   "cell_type": "code",
   "execution_count": 1,
   "id": "87ba2f5e",
   "metadata": {},
   "outputs": [
    {
     "data": {
      "text/plain": [
       "True"
      ]
     },
     "execution_count": 1,
     "metadata": {},
     "output_type": "execute_result"
    }
   ],
   "source": [
    "10 > 5"
   ]
  },
  {
   "cell_type": "code",
   "execution_count": 2,
   "id": "55898401",
   "metadata": {},
   "outputs": [
    {
     "data": {
      "text/plain": [
       "False"
      ]
     },
     "execution_count": 2,
     "metadata": {},
     "output_type": "execute_result"
    }
   ],
   "source": [
    "5 > 10"
   ]
  },
  {
   "cell_type": "code",
   "execution_count": 3,
   "id": "9cca4182",
   "metadata": {},
   "outputs": [
    {
     "data": {
      "text/plain": [
       "True"
      ]
     },
     "execution_count": 3,
     "metadata": {},
     "output_type": "execute_result"
    }
   ],
   "source": [
    "'Sid' == 'Sid' "
   ]
  },
  {
   "cell_type": "code",
   "execution_count": 4,
   "id": "c87e3b95",
   "metadata": {},
   "outputs": [
    {
     "data": {
      "text/plain": [
       "False"
      ]
     },
     "execution_count": 4,
     "metadata": {},
     "output_type": "execute_result"
    }
   ],
   "source": [
    "'Sid' == 'sid' "
   ]
  },
  {
   "cell_type": "code",
   "execution_count": 5,
   "id": "d1332a0f",
   "metadata": {},
   "outputs": [],
   "source": [
    "a = \"Sid\"\n",
    "b = \"sid\""
   ]
  },
  {
   "cell_type": "code",
   "execution_count": 6,
   "id": "b0af2313",
   "metadata": {},
   "outputs": [
    {
     "data": {
      "text/plain": [
       "False"
      ]
     },
     "execution_count": 6,
     "metadata": {},
     "output_type": "execute_result"
    }
   ],
   "source": [
    "a == b"
   ]
  },
  {
   "cell_type": "code",
   "execution_count": 7,
   "id": "7a81d3b1",
   "metadata": {},
   "outputs": [
    {
     "name": "stdout",
     "output_type": "stream",
     "text": [
      "Hello world\n"
     ]
    }
   ],
   "source": [
    "# Syntax wise\n",
    "if 10 > 5:\n",
    "    print('Hello world')\n",
    "else: \n",
    "    print('Bye world')"
   ]
  },
  {
   "cell_type": "code",
   "execution_count": 10,
   "id": "1873e41c",
   "metadata": {},
   "outputs": [
    {
     "name": "stdout",
     "output_type": "stream",
     "text": [
      "Hello world\n",
      "Hello world\n",
      "Hello world\n"
     ]
    }
   ],
   "source": [
    "# Syntax wise\n",
    "if 10 > 5:\n",
    "    print('Hello world')\n",
    "    print('Hello world')\n",
    "    print('Hello world')\n",
    "else: \n",
    "    print('Bye world')"
   ]
  },
  {
   "cell_type": "markdown",
   "id": "0a3b8002",
   "metadata": {},
   "source": [
    "Indentation is what helps python figure out, which piece of code is part of which code."
   ]
  },
  {
   "cell_type": "markdown",
   "id": "3d036e65",
   "metadata": {},
   "source": [
    "### Multiple conditions"
   ]
  },
  {
   "cell_type": "code",
   "execution_count": 13,
   "id": "4c4c4b73",
   "metadata": {},
   "outputs": [
    {
     "data": {
      "text/plain": [
       "True"
      ]
     },
     "execution_count": 13,
     "metadata": {},
     "output_type": "execute_result"
    }
   ],
   "source": [
    "10 > 5"
   ]
  },
  {
   "cell_type": "code",
   "execution_count": 14,
   "id": "00b804da",
   "metadata": {},
   "outputs": [
    {
     "data": {
      "text/plain": [
       "False"
      ]
     },
     "execution_count": 14,
     "metadata": {},
     "output_type": "execute_result"
    }
   ],
   "source": [
    "10 < 5"
   ]
  },
  {
   "cell_type": "code",
   "execution_count": 15,
   "id": "40eca756",
   "metadata": {},
   "outputs": [
    {
     "data": {
      "text/plain": [
       "True"
      ]
     },
     "execution_count": 15,
     "metadata": {},
     "output_type": "execute_result"
    }
   ],
   "source": [
    "True"
   ]
  },
  {
   "cell_type": "code",
   "execution_count": 16,
   "id": "87ac3d41",
   "metadata": {},
   "outputs": [
    {
     "data": {
      "text/plain": [
       "False"
      ]
     },
     "execution_count": 16,
     "metadata": {},
     "output_type": "execute_result"
    }
   ],
   "source": [
    "False"
   ]
  },
  {
   "cell_type": "markdown",
   "id": "f260b952",
   "metadata": {},
   "source": [
    "### The ```and``` condition\n",
    "Whenever you are working with ```and``` conditions, they all better be ```True``` or it all becomes ```False```."
   ]
  },
  {
   "cell_type": "code",
   "execution_count": 18,
   "id": "3ad702ac",
   "metadata": {},
   "outputs": [
    {
     "data": {
      "text/plain": [
       "True"
      ]
     },
     "execution_count": 18,
     "metadata": {},
     "output_type": "execute_result"
    }
   ],
   "source": [
    "True and True"
   ]
  },
  {
   "cell_type": "code",
   "execution_count": 19,
   "id": "a006428f",
   "metadata": {},
   "outputs": [
    {
     "data": {
      "text/plain": [
       "False"
      ]
     },
     "execution_count": 19,
     "metadata": {},
     "output_type": "execute_result"
    }
   ],
   "source": [
    "True and False"
   ]
  },
  {
   "cell_type": "code",
   "execution_count": 20,
   "id": "c354e73e",
   "metadata": {},
   "outputs": [
    {
     "data": {
      "text/plain": [
       "False"
      ]
     },
     "execution_count": 20,
     "metadata": {},
     "output_type": "execute_result"
    }
   ],
   "source": [
    "False and True"
   ]
  },
  {
   "cell_type": "code",
   "execution_count": 26,
   "id": "4559da5f",
   "metadata": {},
   "outputs": [
    {
     "data": {
      "text/plain": [
       "False"
      ]
     },
     "execution_count": 26,
     "metadata": {},
     "output_type": "execute_result"
    }
   ],
   "source": [
    "False and False"
   ]
  },
  {
   "cell_type": "code",
   "execution_count": 27,
   "id": "d0fb328c",
   "metadata": {},
   "outputs": [
    {
     "data": {
      "text/plain": [
       "True"
      ]
     },
     "execution_count": 27,
     "metadata": {},
     "output_type": "execute_result"
    }
   ],
   "source": [
    "True and True and True"
   ]
  },
  {
   "cell_type": "code",
   "execution_count": 28,
   "id": "a7b15eb4",
   "metadata": {},
   "outputs": [
    {
     "data": {
      "text/plain": [
       "False"
      ]
     },
     "execution_count": 28,
     "metadata": {},
     "output_type": "execute_result"
    }
   ],
   "source": [
    "True and True and False"
   ]
  },
  {
   "cell_type": "code",
   "execution_count": 29,
   "id": "211839de",
   "metadata": {},
   "outputs": [
    {
     "data": {
      "text/plain": [
       "False"
      ]
     },
     "execution_count": 29,
     "metadata": {},
     "output_type": "execute_result"
    }
   ],
   "source": [
    "True and True and False and True and True and True and True and True and True and True and True"
   ]
  },
  {
   "cell_type": "markdown",
   "id": "a1260669",
   "metadata": {},
   "source": [
    "### The ```or``` condition\n",
    "Whenever you are working with ```or``` conditions, **just** one(single) needs to be ```True``` , if you can't find a single ```True```, then it all becomes ```False```."
   ]
  },
  {
   "cell_type": "code",
   "execution_count": 22,
   "id": "93ee982c",
   "metadata": {},
   "outputs": [
    {
     "data": {
      "text/plain": [
       "True"
      ]
     },
     "execution_count": 22,
     "metadata": {},
     "output_type": "execute_result"
    }
   ],
   "source": [
    "True or True"
   ]
  },
  {
   "cell_type": "code",
   "execution_count": 23,
   "id": "be904e15",
   "metadata": {},
   "outputs": [
    {
     "data": {
      "text/plain": [
       "True"
      ]
     },
     "execution_count": 23,
     "metadata": {},
     "output_type": "execute_result"
    }
   ],
   "source": [
    "True or False"
   ]
  },
  {
   "cell_type": "code",
   "execution_count": 24,
   "id": "468a0326",
   "metadata": {},
   "outputs": [
    {
     "data": {
      "text/plain": [
       "True"
      ]
     },
     "execution_count": 24,
     "metadata": {},
     "output_type": "execute_result"
    }
   ],
   "source": [
    "False or True"
   ]
  },
  {
   "cell_type": "code",
   "execution_count": 25,
   "id": "d33ee451",
   "metadata": {},
   "outputs": [
    {
     "data": {
      "text/plain": [
       "False"
      ]
     },
     "execution_count": 25,
     "metadata": {},
     "output_type": "execute_result"
    }
   ],
   "source": [
    "False or False"
   ]
  },
  {
   "cell_type": "code",
   "execution_count": 30,
   "id": "fbc861c9",
   "metadata": {},
   "outputs": [
    {
     "data": {
      "text/plain": [
       "True"
      ]
     },
     "execution_count": 30,
     "metadata": {},
     "output_type": "execute_result"
    }
   ],
   "source": [
    "True or True or False or False or False or False or False or False or False or False or False or False or False or False"
   ]
  },
  {
   "cell_type": "markdown",
   "id": "19dd6563",
   "metadata": {},
   "source": [
    "### Let's try to mix it up.\n",
    "```And``` takes precedence over ```or```"
   ]
  },
  {
   "cell_type": "code",
   "execution_count": 38,
   "id": "54171f84",
   "metadata": {},
   "outputs": [
    {
     "data": {
      "text/plain": [
       "True"
      ]
     },
     "execution_count": 38,
     "metadata": {},
     "output_type": "execute_result"
    }
   ],
   "source": [
    "# Step 1 \n",
    "True or True and False"
   ]
  },
  {
   "cell_type": "code",
   "execution_count": null,
   "id": "12791f7f",
   "metadata": {},
   "outputs": [],
   "source": [
    "# Step 2\n",
    "True or (True and False)"
   ]
  },
  {
   "cell_type": "code",
   "execution_count": 39,
   "id": "4cd22df6",
   "metadata": {},
   "outputs": [
    {
     "data": {
      "text/plain": [
       "True"
      ]
     },
     "execution_count": 39,
     "metadata": {},
     "output_type": "execute_result"
    }
   ],
   "source": [
    "# Step 3\n",
    "True or (False)"
   ]
  },
  {
   "cell_type": "code",
   "execution_count": 40,
   "id": "92728b70",
   "metadata": {},
   "outputs": [
    {
     "data": {
      "text/plain": [
       "True"
      ]
     },
     "execution_count": 40,
     "metadata": {},
     "output_type": "execute_result"
    }
   ],
   "source": [
    "# Step 4\n",
    "True or False"
   ]
  },
  {
   "cell_type": "code",
   "execution_count": 41,
   "id": "50fd32c3",
   "metadata": {},
   "outputs": [
    {
     "data": {
      "text/plain": [
       "True"
      ]
     },
     "execution_count": 41,
     "metadata": {},
     "output_type": "execute_result"
    }
   ],
   "source": [
    "# Step 5\n",
    "True"
   ]
  },
  {
   "cell_type": "markdown",
   "id": "0c7cfb78",
   "metadata": {},
   "source": [
    "#### Question 2"
   ]
  },
  {
   "cell_type": "code",
   "execution_count": 44,
   "id": "e7499c31",
   "metadata": {},
   "outputs": [
    {
     "data": {
      "text/plain": [
       "True"
      ]
     },
     "execution_count": 44,
     "metadata": {},
     "output_type": "execute_result"
    }
   ],
   "source": [
    "# Step 1\n",
    "True and True or False"
   ]
  },
  {
   "cell_type": "code",
   "execution_count": 45,
   "id": "593af296",
   "metadata": {},
   "outputs": [
    {
     "data": {
      "text/plain": [
       "True"
      ]
     },
     "execution_count": 45,
     "metadata": {},
     "output_type": "execute_result"
    }
   ],
   "source": [
    "# Step 2\n",
    "(True and True) or False"
   ]
  },
  {
   "cell_type": "code",
   "execution_count": 46,
   "id": "d4686ee5",
   "metadata": {},
   "outputs": [
    {
     "data": {
      "text/plain": [
       "True"
      ]
     },
     "execution_count": 46,
     "metadata": {},
     "output_type": "execute_result"
    }
   ],
   "source": [
    "# Step 3\n",
    "(True and True) or False"
   ]
  },
  {
   "cell_type": "code",
   "execution_count": 47,
   "id": "c1b451ec",
   "metadata": {},
   "outputs": [
    {
     "data": {
      "text/plain": [
       "True"
      ]
     },
     "execution_count": 47,
     "metadata": {},
     "output_type": "execute_result"
    }
   ],
   "source": [
    "# Step 4\n",
    "(True) or False"
   ]
  },
  {
   "cell_type": "code",
   "execution_count": 48,
   "id": "88807c8e",
   "metadata": {},
   "outputs": [
    {
     "data": {
      "text/plain": [
       "True"
      ]
     },
     "execution_count": 48,
     "metadata": {},
     "output_type": "execute_result"
    }
   ],
   "source": [
    "# Step 5\n",
    "True or False"
   ]
  },
  {
   "cell_type": "code",
   "execution_count": 43,
   "id": "d98a9c84",
   "metadata": {},
   "outputs": [
    {
     "data": {
      "text/plain": [
       "True"
      ]
     },
     "execution_count": 43,
     "metadata": {},
     "output_type": "execute_result"
    }
   ],
   "source": [
    "# Step 6\n",
    "True"
   ]
  },
  {
   "cell_type": "markdown",
   "id": "a576360d",
   "metadata": {},
   "source": [
    "#### Question 3"
   ]
  },
  {
   "cell_type": "code",
   "execution_count": 50,
   "id": "ab9043af",
   "metadata": {},
   "outputs": [
    {
     "data": {
      "text/plain": [
       "True"
      ]
     },
     "execution_count": 50,
     "metadata": {},
     "output_type": "execute_result"
    }
   ],
   "source": [
    "# Step 1 \n",
    "True and True or False or False or False or False or False or False"
   ]
  },
  {
   "cell_type": "code",
   "execution_count": 51,
   "id": "bd96ad09",
   "metadata": {},
   "outputs": [
    {
     "data": {
      "text/plain": [
       "True"
      ]
     },
     "execution_count": 51,
     "metadata": {},
     "output_type": "execute_result"
    }
   ],
   "source": [
    "# Step 2\n",
    "(True and True) or False or False or False or False or False or False"
   ]
  },
  {
   "cell_type": "code",
   "execution_count": 52,
   "id": "6c225126",
   "metadata": {},
   "outputs": [
    {
     "data": {
      "text/plain": [
       "True"
      ]
     },
     "execution_count": 52,
     "metadata": {},
     "output_type": "execute_result"
    }
   ],
   "source": [
    "# Step 3\n",
    "True or False or False or False or False or False or False"
   ]
  },
  {
   "cell_type": "code",
   "execution_count": 53,
   "id": "83d16da2",
   "metadata": {},
   "outputs": [
    {
     "data": {
      "text/plain": [
       "True"
      ]
     },
     "execution_count": 53,
     "metadata": {},
     "output_type": "execute_result"
    }
   ],
   "source": [
    "# Step 4\n",
    "True or False or False or False or False or False"
   ]
  },
  {
   "cell_type": "code",
   "execution_count": 54,
   "id": "46b66d8c",
   "metadata": {},
   "outputs": [
    {
     "data": {
      "text/plain": [
       "True"
      ]
     },
     "execution_count": 54,
     "metadata": {},
     "output_type": "execute_result"
    }
   ],
   "source": [
    "# Step 5\n",
    "True or False or False or False or False"
   ]
  },
  {
   "cell_type": "code",
   "execution_count": 55,
   "id": "3b0152ba",
   "metadata": {},
   "outputs": [
    {
     "data": {
      "text/plain": [
       "True"
      ]
     },
     "execution_count": 55,
     "metadata": {},
     "output_type": "execute_result"
    }
   ],
   "source": [
    "# Step 6\n",
    "True or False or False or False or False"
   ]
  },
  {
   "cell_type": "code",
   "execution_count": 56,
   "id": "79b995fd",
   "metadata": {},
   "outputs": [
    {
     "data": {
      "text/plain": [
       "True"
      ]
     },
     "execution_count": 56,
     "metadata": {},
     "output_type": "execute_result"
    }
   ],
   "source": [
    "# Step 7\n",
    "True or False or False or False"
   ]
  },
  {
   "cell_type": "code",
   "execution_count": 57,
   "id": "61e92182",
   "metadata": {},
   "outputs": [
    {
     "data": {
      "text/plain": [
       "True"
      ]
     },
     "execution_count": 57,
     "metadata": {},
     "output_type": "execute_result"
    }
   ],
   "source": [
    "# Step 8\n",
    "True or False or False"
   ]
  },
  {
   "cell_type": "code",
   "execution_count": 58,
   "id": "bbcc5710",
   "metadata": {},
   "outputs": [
    {
     "data": {
      "text/plain": [
       "True"
      ]
     },
     "execution_count": 58,
     "metadata": {},
     "output_type": "execute_result"
    }
   ],
   "source": [
    "# Step 9\n",
    "True or False"
   ]
  },
  {
   "cell_type": "code",
   "execution_count": 59,
   "id": "0fc5186f",
   "metadata": {},
   "outputs": [
    {
     "data": {
      "text/plain": [
       "True"
      ]
     },
     "execution_count": 59,
     "metadata": {},
     "output_type": "execute_result"
    }
   ],
   "source": [
    "# Step 10\n",
    "True"
   ]
  },
  {
   "cell_type": "markdown",
   "id": "ffa37451",
   "metadata": {},
   "source": [
    "# if - else"
   ]
  },
  {
   "cell_type": "code",
   "execution_count": 60,
   "id": "0cc38fae",
   "metadata": {},
   "outputs": [
    {
     "name": "stdout",
     "output_type": "stream",
     "text": [
      "Hello world\n"
     ]
    }
   ],
   "source": [
    "# Syntax wise\n",
    "if 10 > 5:\n",
    "    print('Hello world')\n",
    "else: \n",
    "    print('Bye world')"
   ]
  },
  {
   "cell_type": "markdown",
   "id": "c11fc9e6",
   "metadata": {},
   "source": [
    "# if - elif - else"
   ]
  },
  {
   "cell_type": "code",
   "execution_count": null,
   "id": "b72f59bd",
   "metadata": {},
   "outputs": [],
   "source": [
    "# Syntax wise\n",
    "if condition1:\n",
    "    print('Hello world')\n",
    "elif condition2:\n",
    "    print('Spaceman')\n",
    "else: \n",
    "    print('Bye world')"
   ]
  },
  {
   "cell_type": "code",
   "execution_count": null,
   "id": "ee01dcf4",
   "metadata": {},
   "outputs": [],
   "source": [
    "# Syntax wise\n",
    "if condition1:\n",
    "    print('Hello world')\n",
    "elif condition2:\n",
    "    print('Spaceman')\n",
    "elif condition3:\n",
    "    print('Spaceman')\n",
    "elif condition4:\n",
    "    print('Spaceman')\n",
    "elif condition5:\n",
    "    print('Spaceman')\n",
    "elif condition6:\n",
    "    print('Spaceman')\n",
    "else: \n",
    "    print('Bye world')"
   ]
  },
  {
   "cell_type": "markdown",
   "id": "2778ad17",
   "metadata": {},
   "source": [
    "### Example of if-elif-else "
   ]
  },
  {
   "cell_type": "code",
   "execution_count": 64,
   "id": "03a302a2",
   "metadata": {},
   "outputs": [
    {
     "name": "stdout",
     "output_type": "stream",
     "text": [
      "Bye world\n"
     ]
    }
   ],
   "source": [
    "# Syntax wise\n",
    "a = 'Messi'\n",
    "\n",
    "if a == 'Ronaldo':\n",
    "    print('Hello world')\n",
    "elif a == 'messi':\n",
    "    print('Spaceman')\n",
    "else: \n",
    "    print('Bye world')"
   ]
  },
  {
   "cell_type": "code",
   "execution_count": 68,
   "id": "e3859ab2",
   "metadata": {},
   "outputs": [
    {
     "name": "stdout",
     "output_type": "stream",
     "text": [
      "False\n"
     ]
    }
   ],
   "source": [
    "name = \"sid\"\n",
    "age = 27\n",
    "\n",
    "if name == \"sid\" and age == 26:\n",
    "    print(True)\n",
    "else:\n",
    "    print(False)"
   ]
  },
  {
   "cell_type": "markdown",
   "id": "08e3bf04",
   "metadata": {},
   "source": [
    "## If, elif, else"
   ]
  },
  {
   "cell_type": "code",
   "execution_count": 4,
   "id": "a01dc9f4",
   "metadata": {},
   "outputs": [],
   "source": [
    "# The base syntax\n",
    "statement = False\n",
    "another_statement = True\n",
    "# If condition\n",
    "if statement is True:\n",
    "    # do something\n",
    "    pass\n",
    "# else if\n",
    "elif another_statement is True: \n",
    "    # do something else\n",
    "    pass\n",
    "else:\n",
    "    # do another thing\n",
    "    pass"
   ]
  },
  {
   "cell_type": "markdown",
   "id": "e8ded9e9",
   "metadata": {},
   "source": [
    "--------\n",
    "\n",
    "### Practice\n",
    "\n",
    "--------\n",
    "\n",
    "Write a condition that checks if a number is between 100 and 95, both 100 & 95 are included "
   ]
  },
  {
   "cell_type": "code",
   "execution_count": 71,
   "id": "988ca4c8",
   "metadata": {},
   "outputs": [
    {
     "name": "stdout",
     "output_type": "stream",
     "text": [
      "The number is not between 95 and 100\n"
     ]
    }
   ],
   "source": [
    "number = 95\n",
    "\n",
    "if number < 100 and number > 95:\n",
    "    print('The number is between 95 and 100')\n",
    "else:\n",
    "    print('The number is not between 95 and 100')"
   ]
  },
  {
   "cell_type": "code",
   "execution_count": 74,
   "id": "428eb9ec",
   "metadata": {},
   "outputs": [
    {
     "name": "stdout",
     "output_type": "stream",
     "text": [
      "The number is between 95 and 100\n"
     ]
    }
   ],
   "source": [
    "# Step 1 \n",
    "number = 102\n",
    "\n",
    "if number <= 100 and number >= 95:\n",
    "    print('The number is between 95 and 100')\n",
    "else:\n",
    "    print('The number is not between 95 and 100')"
   ]
  },
  {
   "cell_type": "code",
   "execution_count": null,
   "id": "934040d3",
   "metadata": {},
   "outputs": [],
   "source": [
    "# Step 2\n",
    "number = 102\n",
    "\n",
    "if 102 <= 100 and 102 >= 95:\n",
    "    print('The number is between 95 and 100')\n",
    "else:\n",
    "    print('The number is not between 95 and 100')"
   ]
  },
  {
   "cell_type": "code",
   "execution_count": null,
   "id": "02f70584",
   "metadata": {},
   "outputs": [],
   "source": [
    "# Step 3\n",
    "number = 102\n",
    "\n",
    "if False and False:\n",
    "    print('The number is between 95 and 100')\n",
    "else:\n",
    "    print('The number is not between 95 and 100')"
   ]
  },
  {
   "cell_type": "code",
   "execution_count": null,
   "id": "07ce4c09",
   "metadata": {},
   "outputs": [],
   "source": [
    "# Step 4\n",
    "number = 102\n",
    "\n",
    "if False:\n",
    "    print('The number is between 95 and 100')\n",
    "else:\n",
    "    print('The number is not between 95 and 100')"
   ]
  },
  {
   "cell_type": "code",
   "execution_count": null,
   "id": "6a29e612",
   "metadata": {},
   "outputs": [],
   "source": [
    "# Step 5\n",
    "    print('The number is not between 95 and 100')"
   ]
  },
  {
   "cell_type": "markdown",
   "id": "37fe3da2",
   "metadata": {},
   "source": [
    "--------\n",
    "\n",
    "### Practice Questions\n",
    "\n",
    "--------\n",
    "\n",
    "1. Write a condition that checks if the number is negative.\n",
    "\n",
    "2. Write a condition that checks if a number is even."
   ]
  },
  {
   "cell_type": "code",
   "execution_count": 78,
   "id": "f1c2e2fb",
   "metadata": {},
   "outputs": [
    {
     "data": {
      "text/plain": [
       "0"
      ]
     },
     "execution_count": 78,
     "metadata": {},
     "output_type": "execute_result"
    }
   ],
   "source": [
    "# You can use % to get remainder\n",
    "10 % 2"
   ]
  },
  {
   "cell_type": "code",
   "execution_count": 79,
   "id": "2be51d42",
   "metadata": {},
   "outputs": [
    {
     "data": {
      "text/plain": [
       "1"
      ]
     },
     "execution_count": 79,
     "metadata": {},
     "output_type": "execute_result"
    }
   ],
   "source": [
    "# You can use % to get remainder\n",
    "10 % 3"
   ]
  },
  {
   "cell_type": "code",
   "execution_count": 87,
   "id": "90d780d8",
   "metadata": {},
   "outputs": [
    {
     "data": {
      "text/plain": [
       "2"
      ]
     },
     "execution_count": 87,
     "metadata": {},
     "output_type": "execute_result"
    }
   ],
   "source": [
    "# You can use % to get remainder\n",
    "10 % 4"
   ]
  },
  {
   "cell_type": "markdown",
   "id": "d8d4ab00",
   "metadata": {},
   "source": [
    "### Answer"
   ]
  },
  {
   "cell_type": "code",
   "execution_count": 83,
   "id": "a2b02759",
   "metadata": {},
   "outputs": [
    {
     "name": "stdout",
     "output_type": "stream",
     "text": [
      "The number is positive\n"
     ]
    }
   ],
   "source": [
    "number = 0\n",
    "\n",
    "if number < 0:\n",
    "    print(\"The number is negative\")\n",
    "else:\n",
    "    print(\"The number is positive\")"
   ]
  },
  {
   "cell_type": "code",
   "execution_count": 86,
   "id": "728d2391",
   "metadata": {},
   "outputs": [
    {
     "name": "stdout",
     "output_type": "stream",
     "text": [
      "The number is odd\n"
     ]
    }
   ],
   "source": [
    "number = 7\n",
    "\n",
    "if number % 2 == 0:\n",
    "    print(\"The number is even\")\n",
    "else:\n",
    "    print(\"The number is odd\")"
   ]
  },
  {
   "cell_type": "markdown",
   "id": "993dd4ee",
   "metadata": {},
   "source": [
    "## Nested If"
   ]
  },
  {
   "cell_type": "code",
   "execution_count": 122,
   "id": "4b60e616",
   "metadata": {},
   "outputs": [
    {
     "name": "stdout",
     "output_type": "stream",
     "text": [
      "I have no idea what is happening\n"
     ]
    }
   ],
   "source": [
    "x = 25\n",
    "\n",
    "if x > 10:\n",
    "    print('Greater than 10')\n",
    "    if x > 20:\n",
    "        print('Also less than 20')\n",
    "    else:\n",
    "        print('But note above 20')\n",
    "else:\n",
    "    print('I have no idea what is happening')"
   ]
  },
  {
   "cell_type": "markdown",
   "id": "a2d8200d",
   "metadata": {},
   "source": [
    "## \"in\" operator"
   ]
  },
  {
   "cell_type": "code",
   "execution_count": 123,
   "id": "fe504e61",
   "metadata": {},
   "outputs": [],
   "source": [
    "a = ['Sid', 'Lionel', 'Messi']"
   ]
  },
  {
   "cell_type": "code",
   "execution_count": 124,
   "id": "59c6963f",
   "metadata": {},
   "outputs": [
    {
     "data": {
      "text/plain": [
       "['Sid', 'Lionel', 'Messi']"
      ]
     },
     "execution_count": 124,
     "metadata": {},
     "output_type": "execute_result"
    }
   ],
   "source": [
    "a"
   ]
  },
  {
   "cell_type": "code",
   "execution_count": 125,
   "id": "839b46e2",
   "metadata": {},
   "outputs": [
    {
     "data": {
      "text/plain": [
       "list"
      ]
     },
     "execution_count": 125,
     "metadata": {},
     "output_type": "execute_result"
    }
   ],
   "source": [
    "type(a)"
   ]
  },
  {
   "cell_type": "code",
   "execution_count": 129,
   "id": "564c92f9",
   "metadata": {},
   "outputs": [
    {
     "data": {
      "text/plain": [
       "True"
      ]
     },
     "execution_count": 129,
     "metadata": {},
     "output_type": "execute_result"
    }
   ],
   "source": [
    "'Messi' in ['Sid', 'Lionel', 'Messi']"
   ]
  },
  {
   "cell_type": "code",
   "execution_count": 130,
   "id": "988cadf6",
   "metadata": {},
   "outputs": [
    {
     "data": {
      "text/plain": [
       "True"
      ]
     },
     "execution_count": 130,
     "metadata": {},
     "output_type": "execute_result"
    }
   ],
   "source": [
    "'M' in 'Messi'"
   ]
  },
  {
   "cell_type": "code",
   "execution_count": 131,
   "id": "12d3d6ef",
   "metadata": {},
   "outputs": [
    {
     "data": {
      "text/plain": [
       "True"
      ]
     },
     "execution_count": 131,
     "metadata": {},
     "output_type": "execute_result"
    }
   ],
   "source": [
    "'e' in 'Messi'"
   ]
  },
  {
   "cell_type": "code",
   "execution_count": 132,
   "id": "744639e1",
   "metadata": {},
   "outputs": [
    {
     "data": {
      "text/plain": [
       "False"
      ]
     },
     "execution_count": 132,
     "metadata": {},
     "output_type": "execute_result"
    }
   ],
   "source": [
    "'se' in 'Messi'"
   ]
  },
  {
   "cell_type": "code",
   "execution_count": 133,
   "id": "738967fd",
   "metadata": {},
   "outputs": [
    {
     "data": {
      "text/plain": [
       "True"
      ]
     },
     "execution_count": 133,
     "metadata": {},
     "output_type": "execute_result"
    }
   ],
   "source": [
    "'si' in 'Messi'"
   ]
  },
  {
   "cell_type": "code",
   "execution_count": 134,
   "id": "9c6ec11e",
   "metadata": {},
   "outputs": [
    {
     "data": {
      "text/plain": [
       "False"
      ]
     },
     "execution_count": 134,
     "metadata": {},
     "output_type": "execute_result"
    }
   ],
   "source": [
    "'Si' in 'Messi'"
   ]
  },
  {
   "cell_type": "markdown",
   "id": "4474dae4",
   "metadata": {},
   "source": [
    "### Practice\n",
    "Check if item a is there in a list or not."
   ]
  },
  {
   "cell_type": "code",
   "execution_count": 136,
   "id": "fb2d93ac",
   "metadata": {},
   "outputs": [],
   "source": [
    "fruit = 'apple'\n",
    "a = ['Apple', 'Banana', 'Orange', 'Grapes']"
   ]
  },
  {
   "cell_type": "code",
   "execution_count": 141,
   "id": "ae99435e",
   "metadata": {},
   "outputs": [
    {
     "data": {
      "text/plain": [
       "False"
      ]
     },
     "execution_count": 141,
     "metadata": {},
     "output_type": "execute_result"
    }
   ],
   "source": [
    "a[0] == fruit or a[1] == fruit or a[2] == fruit or a[3] == fruit "
   ]
  },
  {
   "cell_type": "code",
   "execution_count": 142,
   "id": "eb1980b7",
   "metadata": {},
   "outputs": [
    {
     "data": {
      "text/plain": [
       "False"
      ]
     },
     "execution_count": 142,
     "metadata": {},
     "output_type": "execute_result"
    }
   ],
   "source": [
    "fruit in a"
   ]
  },
  {
   "cell_type": "code",
   "execution_count": 144,
   "id": "503652f9",
   "metadata": {},
   "outputs": [
    {
     "data": {
      "text/plain": [
       "True"
      ]
     },
     "execution_count": 144,
     "metadata": {},
     "output_type": "execute_result"
    }
   ],
   "source": [
    "'u' in 'fruit'"
   ]
  },
  {
   "cell_type": "code",
   "execution_count": 145,
   "id": "d7d770d6",
   "metadata": {},
   "outputs": [
    {
     "data": {
      "text/plain": [
       "False"
      ]
     },
     "execution_count": 145,
     "metadata": {},
     "output_type": "execute_result"
    }
   ],
   "source": [
    "'fruit' in 'u'"
   ]
  },
  {
   "cell_type": "markdown",
   "id": "189ae8da",
   "metadata": {},
   "source": [
    "## \"not\" operator"
   ]
  },
  {
   "cell_type": "code",
   "execution_count": 146,
   "id": "8e19f879",
   "metadata": {},
   "outputs": [
    {
     "data": {
      "text/plain": [
       "True"
      ]
     },
     "execution_count": 146,
     "metadata": {},
     "output_type": "execute_result"
    }
   ],
   "source": [
    "True"
   ]
  },
  {
   "cell_type": "code",
   "execution_count": 147,
   "id": "8243c118",
   "metadata": {},
   "outputs": [
    {
     "data": {
      "text/plain": [
       "False"
      ]
     },
     "execution_count": 147,
     "metadata": {},
     "output_type": "execute_result"
    }
   ],
   "source": [
    "False"
   ]
  },
  {
   "cell_type": "code",
   "execution_count": 148,
   "id": "e3f44da6",
   "metadata": {},
   "outputs": [
    {
     "data": {
      "text/plain": [
       "False"
      ]
     },
     "execution_count": 148,
     "metadata": {},
     "output_type": "execute_result"
    }
   ],
   "source": [
    "not True"
   ]
  },
  {
   "cell_type": "code",
   "execution_count": 150,
   "id": "314112df",
   "metadata": {},
   "outputs": [
    {
     "data": {
      "text/plain": [
       "True"
      ]
     },
     "execution_count": 150,
     "metadata": {},
     "output_type": "execute_result"
    }
   ],
   "source": [
    "not False"
   ]
  },
  {
   "cell_type": "code",
   "execution_count": 154,
   "id": "01eb60bf",
   "metadata": {},
   "outputs": [
    {
     "data": {
      "text/plain": [
       "True"
      ]
     },
     "execution_count": 154,
     "metadata": {},
     "output_type": "execute_result"
    }
   ],
   "source": [
    "# Step 1 \n",
    "not not True"
   ]
  },
  {
   "cell_type": "code",
   "execution_count": 155,
   "id": "badf962a",
   "metadata": {},
   "outputs": [
    {
     "data": {
      "text/plain": [
       "True"
      ]
     },
     "execution_count": 155,
     "metadata": {},
     "output_type": "execute_result"
    }
   ],
   "source": [
    "# Step 2\n",
    "not False"
   ]
  },
  {
   "cell_type": "code",
   "execution_count": 157,
   "id": "e3902867",
   "metadata": {},
   "outputs": [
    {
     "data": {
      "text/plain": [
       "True"
      ]
     },
     "execution_count": 157,
     "metadata": {},
     "output_type": "execute_result"
    }
   ],
   "source": [
    "# Step 3\n",
    "True"
   ]
  },
  {
   "cell_type": "code",
   "execution_count": 158,
   "id": "9d166962",
   "metadata": {},
   "outputs": [
    {
     "data": {
      "text/plain": [
       "False"
      ]
     },
     "execution_count": 158,
     "metadata": {},
     "output_type": "execute_result"
    }
   ],
   "source": [
    "# Go for it\n",
    "not not not not not True"
   ]
  },
  {
   "cell_type": "code",
   "execution_count": 159,
   "id": "d6b50447",
   "metadata": {},
   "outputs": [
    {
     "name": "stdout",
     "output_type": "stream",
     "text": [
      "world\n"
     ]
    }
   ],
   "source": [
    "a = 10\n",
    "if not a > 5:\n",
    "    print(\"hello\")\n",
    "else: \n",
    "    print(\"world\")"
   ]
  },
  {
   "cell_type": "markdown",
   "id": "5a261325",
   "metadata": {},
   "source": [
    "# Loops<a class=\"anchor\" id=\"lps\"></a>\n",
    "There are two types of loops in Python, for and while.\n",
    "\n",
    "- \"for\" loop\n",
    "- \"while\" loops"
   ]
  },
  {
   "cell_type": "markdown",
   "id": "8635e41e",
   "metadata": {},
   "source": [
    "## \"for\" loop"
   ]
  },
  {
   "cell_type": "code",
   "execution_count": 163,
   "id": "a1ebb01d",
   "metadata": {},
   "outputs": [
    {
     "name": "stdout",
     "output_type": "stream",
     "text": [
      "Hello\n",
      "Hello\n",
      "Hello\n",
      "Hello\n",
      "Hello\n"
     ]
    }
   ],
   "source": [
    "number_list = [1,2,3,4,5]\n",
    "\n",
    "for i in number_list:\n",
    "    print(i)\n",
    "    print('--------')"
   ]
  },
  {
   "cell_type": "code",
   "execution_count": 174,
   "id": "ebb43f29",
   "metadata": {},
   "outputs": [
    {
     "name": "stdout",
     "output_type": "stream",
     "text": [
      "4\n",
      "5\n"
     ]
    }
   ],
   "source": [
    "number_list = [1,2,3,4,5]\n",
    "\n",
    "for i in number_list:\n",
    "    if i > 3:\n",
    "        print(i)"
   ]
  },
  {
   "cell_type": "code",
   "execution_count": 175,
   "id": "93af0d3a",
   "metadata": {},
   "outputs": [],
   "source": [
    "a = 'sid'"
   ]
  },
  {
   "cell_type": "code",
   "execution_count": 176,
   "id": "7c341936",
   "metadata": {},
   "outputs": [
    {
     "data": {
      "text/plain": [
       "str"
      ]
     },
     "execution_count": 176,
     "metadata": {},
     "output_type": "execute_result"
    }
   ],
   "source": [
    "type(a)"
   ]
  },
  {
   "cell_type": "code",
   "execution_count": 177,
   "id": "b6fa8936",
   "metadata": {},
   "outputs": [
    {
     "data": {
      "text/plain": [
       "'SID'"
      ]
     },
     "execution_count": 177,
     "metadata": {},
     "output_type": "execute_result"
    }
   ],
   "source": [
    "a.upper()"
   ]
  },
  {
   "cell_type": "code",
   "execution_count": 181,
   "id": "deef9384",
   "metadata": {},
   "outputs": [
    {
     "name": "stdout",
     "output_type": "stream",
     "text": [
      "l\n",
      "i\n",
      "o\n",
      "n\n",
      "e\n",
      "l\n",
      " \n",
      "m\n",
      "e\n",
      "s\n",
      "s\n",
      "i\n"
     ]
    }
   ],
   "source": [
    "for i in \"Lionel Messi\":\n",
    "    print(i.lower())"
   ]
  },
  {
   "cell_type": "code",
   "execution_count": 193,
   "id": "5f00edd5",
   "metadata": {},
   "outputs": [
    {
     "name": "stdout",
     "output_type": "stream",
     "text": [
      "APPLE\n",
      "BANANA\n",
      "ORANGE\n",
      "GRAPES\n",
      "10\n"
     ]
    }
   ],
   "source": [
    "a = ['Apple', 'Banana', 'Orange', 'Grapes', str(10)]\n",
    "\n",
    "for i in a:\n",
    "    print(i.upper())"
   ]
  },
  {
   "cell_type": "markdown",
   "id": "c6ad9f6a",
   "metadata": {},
   "source": [
    "## Range"
   ]
  },
  {
   "cell_type": "code",
   "execution_count": 190,
   "id": "dfce60e2",
   "metadata": {},
   "outputs": [
    {
     "name": "stdout",
     "output_type": "stream",
     "text": [
      "0\n",
      "1\n",
      "2\n",
      "3\n",
      "4\n"
     ]
    }
   ],
   "source": [
    "# Prints out the numbers 0,1,2,3,4\n",
    "for i in range(5):\n",
    "    print(i)"
   ]
  },
  {
   "cell_type": "markdown",
   "id": "c4a67807",
   "metadata": {},
   "source": [
    "Internally, it asks for ```start```, ```end``` and ```step```.\n",
    "- By default\n",
    "    - ```start``` is 0\n",
    "    - ```step``` is 1"
   ]
  },
  {
   "cell_type": "code",
   "execution_count": 195,
   "id": "8cc495c9",
   "metadata": {},
   "outputs": [
    {
     "name": "stdout",
     "output_type": "stream",
     "text": [
      "0\n",
      "1\n",
      "2\n",
      "3\n",
      "4\n"
     ]
    }
   ],
   "source": [
    "for i in range(5):\n",
    "    print(i)"
   ]
  },
  {
   "cell_type": "code",
   "execution_count": null,
   "id": "4dc1f57c",
   "metadata": {},
   "outputs": [],
   "source": [
    "for i in range(0,5,1):\n",
    "    print(i)"
   ]
  },
  {
   "cell_type": "code",
   "execution_count": 196,
   "id": "7e145251",
   "metadata": {},
   "outputs": [
    {
     "name": "stdout",
     "output_type": "stream",
     "text": [
      "2\n",
      "3\n",
      "4\n"
     ]
    }
   ],
   "source": [
    "for i in range(2,5,1):\n",
    "    print(i)"
   ]
  },
  {
   "cell_type": "code",
   "execution_count": 202,
   "id": "6a14b807",
   "metadata": {},
   "outputs": [
    {
     "name": "stdout",
     "output_type": "stream",
     "text": [
      "10\n",
      "11\n",
      "12\n",
      "13\n",
      "14\n"
     ]
    }
   ],
   "source": [
    "for i in range(10,15,1):\n",
    "    print(i)"
   ]
  },
  {
   "cell_type": "code",
   "execution_count": 205,
   "id": "28b8c7ef",
   "metadata": {},
   "outputs": [
    {
     "name": "stdout",
     "output_type": "stream",
     "text": [
      "0\n",
      "2\n",
      "4\n",
      "6\n",
      "8\n",
      "10\n",
      "12\n",
      "14\n"
     ]
    }
   ],
   "source": [
    "for i in range(0,15,2):\n",
    "    print(i)"
   ]
  },
  {
   "cell_type": "code",
   "execution_count": 207,
   "id": "61ad4e6b",
   "metadata": {},
   "outputs": [
    {
     "name": "stdout",
     "output_type": "stream",
     "text": [
      "0\n",
      "3\n",
      "6\n",
      "9\n",
      "12\n"
     ]
    }
   ],
   "source": [
    "for i in range(0,15,3):\n",
    "    print(i)"
   ]
  },
  {
   "cell_type": "code",
   "execution_count": 209,
   "id": "b0a3b616",
   "metadata": {},
   "outputs": [
    {
     "name": "stdout",
     "output_type": "stream",
     "text": [
      "0\n",
      "4\n",
      "8\n",
      "12\n"
     ]
    }
   ],
   "source": [
    "for i in range(0,15,4):\n",
    "    print(i)"
   ]
  },
  {
   "cell_type": "code",
   "execution_count": 210,
   "id": "85900371",
   "metadata": {},
   "outputs": [],
   "source": [
    "for i in range(5,1,1):\n",
    "    print(i)"
   ]
  },
  {
   "cell_type": "code",
   "execution_count": 212,
   "id": "709aa954",
   "metadata": {},
   "outputs": [
    {
     "name": "stdout",
     "output_type": "stream",
     "text": [
      "5\n",
      "4\n",
      "3\n",
      "2\n"
     ]
    }
   ],
   "source": [
    "for i in range(5,1,-1):\n",
    "    print(i)"
   ]
  },
  {
   "cell_type": "code",
   "execution_count": 213,
   "id": "ec5c5185",
   "metadata": {},
   "outputs": [
    {
     "name": "stdout",
     "output_type": "stream",
     "text": [
      "15\n",
      "13\n",
      "11\n",
      "9\n",
      "7\n",
      "5\n",
      "3\n",
      "1\n"
     ]
    }
   ],
   "source": [
    "for i in range(15,0,-2):\n",
    "    print(i)"
   ]
  },
  {
   "cell_type": "code",
   "execution_count": 214,
   "id": "2dcf347c",
   "metadata": {},
   "outputs": [],
   "source": [
    "for i in range(15,25,-2):\n",
    "    print(i)"
   ]
  },
  {
   "cell_type": "markdown",
   "id": "96846aec",
   "metadata": {},
   "source": [
    "## \"While\" Loop\n",
    "While loops repeat as long as a certain boolean condition is met."
   ]
  },
  {
   "cell_type": "code",
   "execution_count": null,
   "id": "e7e2096f",
   "metadata": {},
   "outputs": [],
   "source": [
    "# Basic Syntax\n",
    "while condition:\n",
    "    # Do this part \n",
    "    # As soon as the condition is no longer met. That's it, loop over"
   ]
  },
  {
   "cell_type": "code",
   "execution_count": 216,
   "id": "c09a8f70",
   "metadata": {},
   "outputs": [],
   "source": [
    "count = 0"
   ]
  },
  {
   "cell_type": "code",
   "execution_count": 217,
   "id": "01e3d337",
   "metadata": {},
   "outputs": [
    {
     "data": {
      "text/plain": [
       "int"
      ]
     },
     "execution_count": 217,
     "metadata": {},
     "output_type": "execute_result"
    }
   ],
   "source": [
    "type(count)"
   ]
  },
  {
   "cell_type": "code",
   "execution_count": 250,
   "id": "783771a9",
   "metadata": {},
   "outputs": [
    {
     "data": {
      "text/plain": [
       "24"
      ]
     },
     "execution_count": 250,
     "metadata": {},
     "output_type": "execute_result"
    }
   ],
   "source": [
    "# This \n",
    "count = count + 1\n",
    "count"
   ]
  },
  {
   "cell_type": "code",
   "execution_count": 261,
   "id": "27816995",
   "metadata": {},
   "outputs": [
    {
     "data": {
      "text/plain": [
       "35"
      ]
     },
     "execution_count": 261,
     "metadata": {},
     "output_type": "execute_result"
    }
   ],
   "source": [
    "# Is the same, as this\n",
    "count += 1\n",
    "count"
   ]
  },
  {
   "cell_type": "code",
   "execution_count": 271,
   "id": "3795a13b",
   "metadata": {},
   "outputs": [
    {
     "data": {
      "text/plain": [
       "25"
      ]
     },
     "execution_count": 271,
     "metadata": {},
     "output_type": "execute_result"
    }
   ],
   "source": [
    "# This \n",
    "count = count - 1\n",
    "count"
   ]
  },
  {
   "cell_type": "code",
   "execution_count": 282,
   "id": "691bbc1f",
   "metadata": {},
   "outputs": [
    {
     "data": {
      "text/plain": [
       "14"
      ]
     },
     "execution_count": 282,
     "metadata": {},
     "output_type": "execute_result"
    }
   ],
   "source": [
    "# Is the same, as this\n",
    "count -= 1\n",
    "count"
   ]
  },
  {
   "cell_type": "code",
   "execution_count": 283,
   "id": "4aaf950b",
   "metadata": {},
   "outputs": [
    {
     "name": "stdout",
     "output_type": "stream",
     "text": [
      "0\n",
      "1\n",
      "2\n",
      "3\n",
      "4\n"
     ]
    }
   ],
   "source": [
    "# Prints out 0,1,2,3,4\n",
    "count = 0\n",
    "while count < 5:\n",
    "    print(count)\n",
    "    \n",
    "    # If i don't do this, i have ended up with an infinite loop\n",
    "    count += 1  # This is the same as count = count + 1"
   ]
  },
  {
   "cell_type": "markdown",
   "id": "0b7c55a8",
   "metadata": {},
   "source": [
    "Much to elaborate here, but we will not cover this here. If the need ever arises, we will cover those topics."
   ]
  },
  {
   "cell_type": "markdown",
   "id": "ec6e881c",
   "metadata": {},
   "source": [
    "# Functions<a class=\"anchor\" id=\"fncs\"></a>\n",
    "Functions are a convenient way to divide your code into useful blocks, allowing us to order our code, make it more readable, reuse it and save some time. Also functions are a key way to define interfaces so programmers can share their code."
   ]
  },
  {
   "cell_type": "code",
   "execution_count": 290,
   "id": "7760aaf7",
   "metadata": {},
   "outputs": [],
   "source": [
    "# Basic syntax\n",
    "def my_function():\n",
    "    print('Hello world')\n",
    "    print('2')\n",
    "    print('3')\n",
    "    print('4')"
   ]
  },
  {
   "cell_type": "code",
   "execution_count": 288,
   "id": "4877744a",
   "metadata": {},
   "outputs": [
    {
     "name": "stdout",
     "output_type": "stream",
     "text": [
      "Hello world\n",
      "2\n",
      "3\n",
      "4\n"
     ]
    }
   ],
   "source": [
    "my_function()"
   ]
  },
  {
   "cell_type": "code",
   "execution_count": 296,
   "id": "ba483870",
   "metadata": {},
   "outputs": [],
   "source": [
    "def my_function2():\n",
    "    for i in range(10):\n",
    "        if i > 5:\n",
    "            pass\n",
    "        else:\n",
    "            print(i)"
   ]
  },
  {
   "cell_type": "code",
   "execution_count": 297,
   "id": "f9105ab7",
   "metadata": {},
   "outputs": [
    {
     "name": "stdout",
     "output_type": "stream",
     "text": [
      "0\n",
      "1\n",
      "2\n",
      "3\n",
      "4\n",
      "5\n"
     ]
    }
   ],
   "source": [
    "my_function2()"
   ]
  },
  {
   "cell_type": "markdown",
   "id": "8bd9303f",
   "metadata": {},
   "source": [
    "### Functions with arguments"
   ]
  },
  {
   "cell_type": "code",
   "execution_count": 301,
   "id": "7a6ce3ce",
   "metadata": {},
   "outputs": [],
   "source": [
    "def sum_of_two(a,b):\n",
    "    c = a + b\n",
    "    print(c)"
   ]
  },
  {
   "cell_type": "code",
   "execution_count": 302,
   "id": "b433e43d",
   "metadata": {},
   "outputs": [],
   "source": [
    "def sum_of_two(a,b):\n",
    "    print(a + b)"
   ]
  },
  {
   "cell_type": "code",
   "execution_count": null,
   "id": "2f9d2aca",
   "metadata": {},
   "outputs": [],
   "source": [
    "def sum_of_two(x,y):\n",
    "    print(x+y)"
   ]
  },
  {
   "cell_type": "code",
   "execution_count": 303,
   "id": "8a656fc9",
   "metadata": {},
   "outputs": [
    {
     "name": "stdout",
     "output_type": "stream",
     "text": [
      "25\n"
     ]
    }
   ],
   "source": [
    "sum_of_two(10,15)"
   ]
  },
  {
   "cell_type": "markdown",
   "id": "19ba1a04",
   "metadata": {},
   "source": [
    "# Print vs Return"
   ]
  },
  {
   "cell_type": "code",
   "execution_count": 344,
   "id": "b01ff537",
   "metadata": {},
   "outputs": [],
   "source": [
    "def sum_of_two_v1(a,b):\n",
    "    c = a + b\n",
    "    print(c)"
   ]
  },
  {
   "cell_type": "markdown",
   "id": "81c7cbad",
   "metadata": {},
   "source": [
    "This function prints the output but does not return the same."
   ]
  },
  {
   "cell_type": "code",
   "execution_count": 345,
   "id": "b17cafee",
   "metadata": {},
   "outputs": [
    {
     "name": "stdout",
     "output_type": "stream",
     "text": [
      "15\n"
     ]
    }
   ],
   "source": [
    "sum_of_two_v1(5,10)"
   ]
  },
  {
   "cell_type": "code",
   "execution_count": 346,
   "id": "9ee040c3",
   "metadata": {},
   "outputs": [
    {
     "name": "stdout",
     "output_type": "stream",
     "text": [
      "15\n"
     ]
    }
   ],
   "source": [
    "a = sum_of_two_v1(5,10)"
   ]
  },
  {
   "cell_type": "code",
   "execution_count": 347,
   "id": "a835e4e1",
   "metadata": {},
   "outputs": [],
   "source": [
    "a"
   ]
  },
  {
   "cell_type": "code",
   "execution_count": 348,
   "id": "27f6ec52",
   "metadata": {},
   "outputs": [
    {
     "data": {
      "text/plain": [
       "NoneType"
      ]
     },
     "execution_count": 348,
     "metadata": {},
     "output_type": "execute_result"
    }
   ],
   "source": [
    "type(a)"
   ]
  },
  {
   "cell_type": "markdown",
   "id": "1a15ad8d",
   "metadata": {},
   "source": [
    "### Let's try with return"
   ]
  },
  {
   "cell_type": "code",
   "execution_count": 386,
   "id": "f24105c8",
   "metadata": {},
   "outputs": [],
   "source": [
    "def sum_of_two_v2(a,b):\n",
    "    c = a + b\n",
    "    return c"
   ]
  },
  {
   "cell_type": "code",
   "execution_count": 383,
   "id": "9a803a3d",
   "metadata": {},
   "outputs": [
    {
     "data": {
      "text/plain": [
       "20"
      ]
     },
     "execution_count": 383,
     "metadata": {},
     "output_type": "execute_result"
    }
   ],
   "source": [
    "sum_of_two_v2(7,13)"
   ]
  },
  {
   "cell_type": "code",
   "execution_count": 384,
   "id": "d1a478e1",
   "metadata": {},
   "outputs": [],
   "source": [
    "j = sum_of_two_v2(7,13)"
   ]
  },
  {
   "cell_type": "code",
   "execution_count": 385,
   "id": "1bcb0d52",
   "metadata": {},
   "outputs": [
    {
     "data": {
      "text/plain": [
       "20"
      ]
     },
     "execution_count": 385,
     "metadata": {},
     "output_type": "execute_result"
    }
   ],
   "source": [
    "j"
   ]
  },
  {
   "cell_type": "markdown",
   "id": "c08d1760",
   "metadata": {},
   "source": [
    "When you ```return``` a value from a function, you can capture the ```output``` inside a ```variable```. If you print it, you won't be able to capture the ```output```."
   ]
  },
  {
   "cell_type": "markdown",
   "id": "a52450c9",
   "metadata": {},
   "source": [
    "### No one is stopping from using both"
   ]
  },
  {
   "cell_type": "code",
   "execution_count": 400,
   "id": "2f6f5d52",
   "metadata": {},
   "outputs": [],
   "source": [
    "def sum_of_two_v2(a,b):\n",
    "    c = a + b\n",
    "    print(c)\n",
    "    return c"
   ]
  },
  {
   "cell_type": "code",
   "execution_count": 401,
   "id": "2c88b17e",
   "metadata": {},
   "outputs": [
    {
     "name": "stdout",
     "output_type": "stream",
     "text": [
      "40\n"
     ]
    },
    {
     "data": {
      "text/plain": [
       "40"
      ]
     },
     "execution_count": 401,
     "metadata": {},
     "output_type": "execute_result"
    }
   ],
   "source": [
    "sum_of_two_v2(10,30)"
   ]
  },
  {
   "cell_type": "code",
   "execution_count": 402,
   "id": "3b0e241a",
   "metadata": {},
   "outputs": [
    {
     "name": "stdout",
     "output_type": "stream",
     "text": [
      "40\n"
     ]
    }
   ],
   "source": [
    "result = sum_of_two_v2(10,30)"
   ]
  },
  {
   "cell_type": "code",
   "execution_count": 403,
   "id": "96ca5aee",
   "metadata": {},
   "outputs": [
    {
     "data": {
      "text/plain": [
       "40"
      ]
     },
     "execution_count": 403,
     "metadata": {},
     "output_type": "execute_result"
    }
   ],
   "source": [
    "result"
   ]
  },
  {
   "cell_type": "markdown",
   "id": "4ec1956d",
   "metadata": {},
   "source": [
    "# Practice question\n",
    "0. Write a function, that takes, ```principal_amount```, ```interest_rate```, ```no_of_months``` as input, and returns the simple interest as output.\n",
    "1. Create a python function that takes a list as an input and returns the length of the list as an output.\n",
    "2. Create a python function that takes a list as an input and returns the maximum number as an output.\n",
    "3. Create a python function that takes a list as an input and returns the minimum number as an output.\n",
    "4. Write a program to accept a number from a user and calculate the sum of all numbers from 1 to a given number For example, if the user entered 10 the output should be 55 (1+2+3+4+5+6+7+8+9+10)\n",
    "5. Write a program to print multiplication table(till 10) of a given number For example, num = 2 so the output should be 2,4,6,8,10,12,14,16,18,20"
   ]
  },
  {
   "cell_type": "code",
   "execution_count": 417,
   "id": "53a870a1",
   "metadata": {},
   "outputs": [],
   "source": [
    "# Major Hint !!!!!!!!!!!!!!!!\n",
    "temp = []\n",
    "for i in range(5):\n",
    "    temp.append(i)"
   ]
  },
  {
   "cell_type": "code",
   "execution_count": 418,
   "id": "a87a7def",
   "metadata": {},
   "outputs": [
    {
     "data": {
      "text/plain": [
       "[0, 1, 2, 3, 4]"
      ]
     },
     "execution_count": 418,
     "metadata": {},
     "output_type": "execute_result"
    }
   ],
   "source": [
    "temp"
   ]
  },
  {
   "cell_type": "markdown",
   "id": "a6ac9fcf",
   "metadata": {},
   "source": [
    "![](https://media.tenor.com/g8oBE3pJPjYAAAAM/bye-adios.gif)"
   ]
  },
  {
   "cell_type": "code",
   "execution_count": null,
   "id": "7e1ecfbd",
   "metadata": {},
   "outputs": [],
   "source": []
  },
  {
   "cell_type": "code",
   "execution_count": null,
   "id": "7030d73b",
   "metadata": {},
   "outputs": [],
   "source": []
  },
  {
   "cell_type": "code",
   "execution_count": null,
   "id": "31625eaa",
   "metadata": {},
   "outputs": [],
   "source": []
  }
 ],
 "metadata": {
  "kernelspec": {
   "display_name": "Python 3 (ipykernel)",
   "language": "python",
   "name": "python3"
  },
  "language_info": {
   "codemirror_mode": {
    "name": "ipython",
    "version": 3
   },
   "file_extension": ".py",
   "mimetype": "text/x-python",
   "name": "python",
   "nbconvert_exporter": "python",
   "pygments_lexer": "ipython3",
   "version": "3.9.16"
  }
 },
 "nbformat": 4,
 "nbformat_minor": 5
}
