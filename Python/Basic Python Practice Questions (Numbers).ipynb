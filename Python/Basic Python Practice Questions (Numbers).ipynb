{
 "cells": [
  {
   "cell_type": "markdown",
   "id": "356fec7a",
   "metadata": {},
   "source": [
    "<h1><center>Python Practice Questions</center><h1>"
   ]
  },
  {
   "cell_type": "markdown",
   "id": "0a04eb71",
   "metadata": {},
   "source": [
    "# Numbers"
   ]
  },
  {
   "cell_type": "markdown",
   "id": "2018cb3a",
   "metadata": {},
   "source": [
    "### Question 1\n",
    "Write a program in Python to check given number is prime or not.\n",
    "\n",
    "### Question 2\n",
    "Write a program in Python to find greatest among three integers.\n",
    "\n",
    "### Question 3\n",
    "Write a program to reverse an integer in Python.\n",
    "\n",
    "### Question 4\n",
    "Python Program to check a given number is even or odd.\n",
    "\n",
    "### Question 5\n",
    "Python program to print first n prime numbers\n",
    "\n",
    "### Question 6\n",
    "Python Program to find Smallest number among three.\n",
    "\n",
    "### Question 7\n",
    "Python program to calculate Simple Interest\n",
    "\n",
    "### Question 8\n",
    "Python program to calculate Compound Interest"
   ]
  },
  {
   "cell_type": "markdown",
   "id": "0a007156",
   "metadata": {},
   "source": [
    "<h1><center>Answers</center></h1>"
   ]
  },
  {
   "cell_type": "markdown",
   "id": "9ab23102",
   "metadata": {},
   "source": [
    "### Answers 1"
   ]
  },
  {
   "cell_type": "code",
   "execution_count": 15,
   "id": "562b664f",
   "metadata": {},
   "outputs": [],
   "source": [
    "# Write a program in Python to check given number is prime or not.\n",
    "def check_prime(n):\n",
    "    i,temp=0,0\n",
    "    for i in range(2,n//2):\n",
    "        if n%i == 0:\n",
    "            temp=1\n",
    "            break\n",
    "    if temp == 1:\n",
    "        print(\"given number is not prime\")\n",
    "        return False\n",
    "    else:\n",
    "        print(\"given number is prime\") \n",
    "        return True"
   ]
  },
  {
   "cell_type": "code",
   "execution_count": 59,
   "id": "9ffcc8f4",
   "metadata": {},
   "outputs": [
    {
     "name": "stdout",
     "output_type": "stream",
     "text": [
      "given number is not prime\n"
     ]
    },
    {
     "data": {
      "text/plain": [
       "False"
      ]
     },
     "execution_count": 59,
     "metadata": {},
     "output_type": "execute_result"
    }
   ],
   "source": [
    "check_prime(10)"
   ]
  },
  {
   "cell_type": "markdown",
   "id": "9450f5fd",
   "metadata": {},
   "source": [
    "### Answers 2"
   ]
  },
  {
   "cell_type": "code",
   "execution_count": 17,
   "id": "c1d0ee48",
   "metadata": {},
   "outputs": [],
   "source": [
    "# Write a program in Python to find greatest among three integers.\n",
    "def greater_of_3(n1,n2,n3):\n",
    "    if n1>=n2 and n1>=n3: \n",
    "        print(\" n1 is greatest\");\n",
    "    if n2>=n1 and n2>=n3:\n",
    "        print(\" n2 is greatest\");\n",
    "    if n3>=n1 and n3>=n2:\n",
    "        print(\" n3 is greatest\"); "
   ]
  },
  {
   "cell_type": "code",
   "execution_count": 58,
   "id": "6ba0dbb7",
   "metadata": {},
   "outputs": [
    {
     "name": "stdout",
     "output_type": "stream",
     "text": [
      " n2 is greatest\n"
     ]
    }
   ],
   "source": [
    "greater_of_3(10,20,5)"
   ]
  },
  {
   "cell_type": "markdown",
   "id": "d8d18552",
   "metadata": {},
   "source": [
    "### Answers 3"
   ]
  },
  {
   "cell_type": "code",
   "execution_count": 42,
   "id": "724c1e8b",
   "metadata": {},
   "outputs": [],
   "source": [
    "# Write a program to reverse an integer in Python.\n",
    "def reverse_number(n):\n",
    "    print(\"before reverse your numeber is : %d\" %n)\n",
    "    reverse = 0\n",
    "    while n!=0:\n",
    "        reverse = reverse*10 + n%10       \n",
    "        n = (n//10)\n",
    "    print(\"After reverse : %d\" %reverse) "
   ]
  },
  {
   "cell_type": "code",
   "execution_count": 43,
   "id": "90737409",
   "metadata": {},
   "outputs": [
    {
     "name": "stdout",
     "output_type": "stream",
     "text": [
      "before reverse your numeber is : 543\n",
      "After reverse : 345\n"
     ]
    }
   ],
   "source": [
    "reverse_number(543)"
   ]
  },
  {
   "cell_type": "markdown",
   "id": "b9e78012",
   "metadata": {},
   "source": [
    "# An Explanation"
   ]
  },
  {
   "cell_type": "markdown",
   "id": "c53f5dc6",
   "metadata": {},
   "source": [
    "```n%10```, basically gives us the last digit "
   ]
  },
  {
   "cell_type": "code",
   "execution_count": 44,
   "id": "f811f5f6",
   "metadata": {},
   "outputs": [
    {
     "data": {
      "text/plain": [
       "4"
      ]
     },
     "execution_count": 44,
     "metadata": {},
     "output_type": "execute_result"
    }
   ],
   "source": [
    "54 % 10 "
   ]
  },
  {
   "cell_type": "code",
   "execution_count": 45,
   "id": "17dc66a7",
   "metadata": {},
   "outputs": [
    {
     "data": {
      "text/plain": [
       "3"
      ]
     },
     "execution_count": 45,
     "metadata": {},
     "output_type": "execute_result"
    }
   ],
   "source": [
    "103 % 10 "
   ]
  },
  {
   "cell_type": "code",
   "execution_count": 46,
   "id": "a8cfe389",
   "metadata": {},
   "outputs": [
    {
     "data": {
      "text/plain": [
       "8"
      ]
     },
     "execution_count": 46,
     "metadata": {},
     "output_type": "execute_result"
    }
   ],
   "source": [
    "598 % 10 "
   ]
  },
  {
   "cell_type": "code",
   "execution_count": 48,
   "id": "72600522",
   "metadata": {},
   "outputs": [
    {
     "data": {
      "text/plain": [
       "3"
      ]
     },
     "execution_count": 48,
     "metadata": {},
     "output_type": "execute_result"
    }
   ],
   "source": [
    "543 % 10"
   ]
  },
  {
   "cell_type": "markdown",
   "id": "20d01c51",
   "metadata": {},
   "source": [
    "```n//10```, basically gives us everything but the last number, so reverse of ```%``` in a way"
   ]
  },
  {
   "cell_type": "code",
   "execution_count": 52,
   "id": "88838f4b",
   "metadata": {},
   "outputs": [
    {
     "data": {
      "text/plain": [
       "54"
      ]
     },
     "execution_count": 52,
     "metadata": {},
     "output_type": "execute_result"
    }
   ],
   "source": [
    "543 // 10"
   ]
  },
  {
   "cell_type": "code",
   "execution_count": 53,
   "id": "26401c4f",
   "metadata": {},
   "outputs": [
    {
     "data": {
      "text/plain": [
       "9"
      ]
     },
     "execution_count": 53,
     "metadata": {},
     "output_type": "execute_result"
    }
   ],
   "source": [
    "98 // 10"
   ]
  },
  {
   "cell_type": "code",
   "execution_count": 54,
   "id": "2d69002a",
   "metadata": {},
   "outputs": [
    {
     "data": {
      "text/plain": [
       "1009"
      ]
     },
     "execution_count": 54,
     "metadata": {},
     "output_type": "execute_result"
    }
   ],
   "source": [
    "10094 // 10"
   ]
  },
  {
   "cell_type": "code",
   "execution_count": 55,
   "id": "611bb94d",
   "metadata": {},
   "outputs": [
    {
     "data": {
      "text/plain": [
       "4"
      ]
     },
     "execution_count": 55,
     "metadata": {},
     "output_type": "execute_result"
    }
   ],
   "source": [
    "45 // 10\n"
   ]
  },
  {
   "cell_type": "code",
   "execution_count": 57,
   "id": "4a3a0b8d",
   "metadata": {},
   "outputs": [
    {
     "data": {
      "text/plain": [
       "6"
      ]
     },
     "execution_count": 57,
     "metadata": {},
     "output_type": "execute_result"
    }
   ],
   "source": [
    "46 % 10"
   ]
  },
  {
   "cell_type": "markdown",
   "id": "ff9d9397",
   "metadata": {},
   "source": [
    "Now, go back and try to understand what the function is doing."
   ]
  },
  {
   "cell_type": "markdown",
   "id": "0a99a8f2",
   "metadata": {},
   "source": [
    "### Answers 4"
   ]
  },
  {
   "cell_type": "code",
   "execution_count": 60,
   "id": "2f571152",
   "metadata": {},
   "outputs": [],
   "source": [
    "# Python Program to check a given number is even or odd.\n",
    "def even_odd(num):\n",
    "    #if number is divisible by 2\n",
    "    if num%2 == 0:\n",
    "       print(num,\"is even number\")\n",
    "    else:\n",
    "       print(num,\"is odd number\")"
   ]
  },
  {
   "cell_type": "code",
   "execution_count": 61,
   "id": "bb47c46c",
   "metadata": {},
   "outputs": [
    {
     "name": "stdout",
     "output_type": "stream",
     "text": [
      "13 is odd number\n"
     ]
    }
   ],
   "source": [
    "even_odd(13)"
   ]
  },
  {
   "cell_type": "code",
   "execution_count": 62,
   "id": "57477a57",
   "metadata": {},
   "outputs": [
    {
     "name": "stdout",
     "output_type": "stream",
     "text": [
      "12 is even number\n"
     ]
    }
   ],
   "source": [
    "even_odd(12)"
   ]
  },
  {
   "cell_type": "markdown",
   "id": "9eaf43ea",
   "metadata": {},
   "source": [
    "### Answers 5"
   ]
  },
  {
   "cell_type": "code",
   "execution_count": 78,
   "id": "0eaeea43",
   "metadata": {},
   "outputs": [],
   "source": [
    "# Python program to print first n prime numbers\n",
    "def get_prime_till(num):\n",
    "    for n in range(1,num):\n",
    "        for i in range(2,n):\n",
    "            if(n%i==0):\n",
    "                break\n",
    "        else:\n",
    "            print(n)    "
   ]
  },
  {
   "cell_type": "code",
   "execution_count": 80,
   "id": "0d1d65d5",
   "metadata": {},
   "outputs": [
    {
     "name": "stdout",
     "output_type": "stream",
     "text": [
      "1\n",
      "2\n",
      "3\n",
      "5\n",
      "7\n"
     ]
    }
   ],
   "source": [
    "get_prime_till(10)"
   ]
  },
  {
   "cell_type": "code",
   "execution_count": 81,
   "id": "6e21f4f4",
   "metadata": {},
   "outputs": [
    {
     "name": "stdout",
     "output_type": "stream",
     "text": [
      "1\n",
      "2\n",
      "3\n",
      "5\n",
      "7\n",
      "11\n",
      "13\n",
      "17\n",
      "19\n",
      "23\n",
      "29\n",
      "31\n"
     ]
    }
   ],
   "source": [
    "get_prime_till(35)"
   ]
  },
  {
   "cell_type": "markdown",
   "id": "7dd63f0c",
   "metadata": {},
   "source": [
    "### Answers 6"
   ]
  },
  {
   "cell_type": "code",
   "execution_count": 82,
   "id": "89de4bd4",
   "metadata": {},
   "outputs": [],
   "source": [
    "# Python Program to find Smallest number among three.\n",
    "def smallest_in_three(a,b,c):\n",
    "    #comparing integer ‘a’ with other two integer\n",
    "    if a<=b and a<=c:\n",
    "        print(\"a is smallest\")\n",
    "    #comparing integer ‘b’ with other two integer\n",
    "    elif b<=a and b<=c:\n",
    "        print(\"b is smallest\")\n",
    "    #comparing integer ‘c’ with other two integer\n",
    "    elif c<=a and c<=b:\n",
    "        print(\"c is smallest\") "
   ]
  },
  {
   "cell_type": "code",
   "execution_count": 84,
   "id": "17fb9dbe",
   "metadata": {},
   "outputs": [
    {
     "name": "stdout",
     "output_type": "stream",
     "text": [
      "a is smallest\n"
     ]
    }
   ],
   "source": [
    "smallest_in_three(10,20,14)"
   ]
  },
  {
   "cell_type": "code",
   "execution_count": 85,
   "id": "ef0caef8",
   "metadata": {},
   "outputs": [
    {
     "name": "stdout",
     "output_type": "stream",
     "text": [
      "c is smallest\n"
     ]
    }
   ],
   "source": [
    "smallest_in_three(100,20,14)"
   ]
  },
  {
   "cell_type": "markdown",
   "id": "ad5bc1f0",
   "metadata": {},
   "source": [
    "### Answers 7"
   ]
  },
  {
   "cell_type": "code",
   "execution_count": 87,
   "id": "f12e6841",
   "metadata": {},
   "outputs": [],
   "source": [
    "# Python program to calculate Simple Interest\n",
    "def calculate_simple_interest(principal, rate, time):\n",
    "    #using the input values calculate simple interest\n",
    "    simpleInterest = (principal*rate*time)/100\n",
    "\n",
    "    print(\"Simple Interest = \",simpleInterest)"
   ]
  },
  {
   "cell_type": "code",
   "execution_count": 89,
   "id": "7bfd503d",
   "metadata": {},
   "outputs": [
    {
     "name": "stdout",
     "output_type": "stream",
     "text": [
      "Simple Interest =  4000.0\n"
     ]
    }
   ],
   "source": [
    "# Principal is 10 thousand, rate is 8% and the time span is 5 years\n",
    "calculate_simple_interest(10000,8,5)"
   ]
  },
  {
   "cell_type": "markdown",
   "id": "b3bda928",
   "metadata": {},
   "source": [
    "### Answers 8"
   ]
  },
  {
   "cell_type": "code",
   "execution_count": 93,
   "id": "5e0dcfe3",
   "metadata": {},
   "outputs": [],
   "source": [
    "# Python program to calculate Compound Interest\n",
    "def calculate_compound_interest(principal, rate, time):\n",
    "    #using the input values calculate compound interest\n",
    "\n",
    "    amount = principal * (pow((1 + rate / 100), time))\n",
    "    CI = amount - principal\n",
    "    print(\"Compound interest is\", CI)"
   ]
  },
  {
   "cell_type": "code",
   "execution_count": 94,
   "id": "c60e6277",
   "metadata": {},
   "outputs": [
    {
     "name": "stdout",
     "output_type": "stream",
     "text": [
      "Compound interest is 4693.280768000006\n"
     ]
    }
   ],
   "source": [
    "# Principal is 10 thousand, rate is 8% and the time span is 5 years\n",
    "calculate_compound_interest(10000,8,5)"
   ]
  }
 ],
 "metadata": {
  "kernelspec": {
   "display_name": "Python 3 (ipykernel)",
   "language": "python",
   "name": "python3"
  },
  "language_info": {
   "codemirror_mode": {
    "name": "ipython",
    "version": 3
   },
   "file_extension": ".py",
   "mimetype": "text/x-python",
   "name": "python",
   "nbconvert_exporter": "python",
   "pygments_lexer": "ipython3",
   "version": "3.7.15"
  }
 },
 "nbformat": 4,
 "nbformat_minor": 5
}
