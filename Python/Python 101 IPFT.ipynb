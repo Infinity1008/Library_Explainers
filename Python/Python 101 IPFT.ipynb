{
 "cells": [
  {
   "cell_type": "markdown",
   "id": "395e558f",
   "metadata": {},
   "source": [
    "<h1><center>Python</center><h1>\n",
    "    \n",
    "![](https://media1.giphy.com/media/v1.Y2lkPTc5MGI3NjExY2Q5NmQ2ZWI3OWQ3MzVmOWU0NzQ1ZGMxNDc2NGNjNzI5MWJkZTQ4MSZjdD1n/KAq5w47R9rmTuvWOWa/giphy.gif)"
   ]
  },
  {
   "cell_type": "markdown",
   "id": "1b5f9e96",
   "metadata": {},
   "source": [
    "# Python\n",
    "\n",
    "## Table on Contents\n",
    "\n",
    "* [Basic Python Data Structures](#bpds)\n",
    "    * [Variables and Types](#vat)\n",
    "        * [Numbers](#num)\n",
    "        * [Strings](#str)\n",
    "        * [Booleans](#bool)\n",
    "    * [Lists](#lst)\n",
    "    * [Tuples](#tup)\n",
    "    * [Sets](#set)\n",
    "    * [Dictionaries](#dict)"
   ]
  },
  {
   "cell_type": "markdown",
   "id": "796b568b",
   "metadata": {},
   "source": [
    "![image.png](https://www.python.org/static/img/python-logo@2x.png)\n",
    "\n",
    "Python is a high-level, general-purpose programming language. Its design philosophy emphasizes code readability with the use of significant indentation. Python is dynamically-typed and garbage-collected. It supports multiple programming paradigms, including structured, object-oriented and functional programming. \n",
    "\n",
    "The official Website can be found [here](https://www.python.org/). "
   ]
  },
  {
   "cell_type": "markdown",
   "id": "f88eb83c",
   "metadata": {
    "tags": []
   },
   "source": [
    "## Basic Python Data Structures<a class=\"anchor\" id=\"bpds\"></a>"
   ]
  },
  {
   "cell_type": "code",
   "execution_count": 1,
   "id": "aa796ef4",
   "metadata": {},
   "outputs": [
    {
     "data": {
      "text/plain": [
       "10"
      ]
     },
     "execution_count": 1,
     "metadata": {},
     "output_type": "execute_result"
    }
   ],
   "source": [
    "10"
   ]
  },
  {
   "cell_type": "code",
   "execution_count": 2,
   "id": "0c2c57fa",
   "metadata": {},
   "outputs": [
    {
     "data": {
      "text/plain": [
       "5.5"
      ]
     },
     "execution_count": 2,
     "metadata": {},
     "output_type": "execute_result"
    }
   ],
   "source": [
    "5.5"
   ]
  },
  {
   "cell_type": "code",
   "execution_count": 3,
   "id": "6f5a0925",
   "metadata": {},
   "outputs": [],
   "source": [
    "a = 10"
   ]
  },
  {
   "cell_type": "code",
   "execution_count": 4,
   "id": "c7667c14",
   "metadata": {},
   "outputs": [
    {
     "data": {
      "text/plain": [
       "10"
      ]
     },
     "execution_count": 4,
     "metadata": {},
     "output_type": "execute_result"
    }
   ],
   "source": [
    "a"
   ]
  },
  {
   "cell_type": "code",
   "execution_count": 5,
   "id": "3a99137f",
   "metadata": {},
   "outputs": [],
   "source": [
    "b = 5.5"
   ]
  },
  {
   "cell_type": "code",
   "execution_count": 6,
   "id": "86979859",
   "metadata": {},
   "outputs": [
    {
     "data": {
      "text/plain": [
       "5.5"
      ]
     },
     "execution_count": 6,
     "metadata": {},
     "output_type": "execute_result"
    }
   ],
   "source": [
    "b"
   ]
  },
  {
   "cell_type": "code",
   "execution_count": 7,
   "id": "94bbfa42",
   "metadata": {},
   "outputs": [
    {
     "data": {
      "text/plain": [
       "int"
      ]
     },
     "execution_count": 7,
     "metadata": {},
     "output_type": "execute_result"
    }
   ],
   "source": [
    "type(a)"
   ]
  },
  {
   "cell_type": "code",
   "execution_count": 8,
   "id": "46aafa0d",
   "metadata": {},
   "outputs": [
    {
     "data": {
      "text/plain": [
       "float"
      ]
     },
     "execution_count": 8,
     "metadata": {},
     "output_type": "execute_result"
    }
   ],
   "source": [
    "type(b)"
   ]
  },
  {
   "cell_type": "markdown",
   "id": "f1c231bd",
   "metadata": {},
   "source": [
    "## Basic math operations"
   ]
  },
  {
   "cell_type": "markdown",
   "id": "928a9809",
   "metadata": {},
   "source": [
    "What will happen if we divide the two."
   ]
  },
  {
   "cell_type": "code",
   "execution_count": 11,
   "id": "61105c07",
   "metadata": {},
   "outputs": [
    {
     "data": {
      "text/plain": [
       "2"
      ]
     },
     "execution_count": 11,
     "metadata": {},
     "output_type": "execute_result"
    }
   ],
   "source": [
    "1 + 1"
   ]
  },
  {
   "cell_type": "code",
   "execution_count": 12,
   "id": "0c0fb673",
   "metadata": {},
   "outputs": [],
   "source": [
    "a = 1\n",
    "b = 5"
   ]
  },
  {
   "cell_type": "code",
   "execution_count": 13,
   "id": "68d5df18",
   "metadata": {},
   "outputs": [
    {
     "data": {
      "text/plain": [
       "6"
      ]
     },
     "execution_count": 13,
     "metadata": {},
     "output_type": "execute_result"
    }
   ],
   "source": [
    "a + b"
   ]
  },
  {
   "cell_type": "code",
   "execution_count": 10,
   "id": "18d99ef5",
   "metadata": {},
   "outputs": [
    {
     "data": {
      "text/plain": [
       "2"
      ]
     },
     "execution_count": 10,
     "metadata": {},
     "output_type": "execute_result"
    }
   ],
   "source": [
    "10 - 8"
   ]
  },
  {
   "cell_type": "code",
   "execution_count": 14,
   "id": "f5d6cd58",
   "metadata": {},
   "outputs": [
    {
     "data": {
      "text/plain": [
       "-4"
      ]
     },
     "execution_count": 14,
     "metadata": {},
     "output_type": "execute_result"
    }
   ],
   "source": [
    "a - b"
   ]
  },
  {
   "cell_type": "code",
   "execution_count": 15,
   "id": "98ddd34c",
   "metadata": {},
   "outputs": [
    {
     "data": {
      "text/plain": [
       "5"
      ]
     },
     "execution_count": 15,
     "metadata": {},
     "output_type": "execute_result"
    }
   ],
   "source": [
    "a * b"
   ]
  },
  {
   "cell_type": "code",
   "execution_count": 16,
   "id": "d91ac043",
   "metadata": {},
   "outputs": [
    {
     "data": {
      "text/plain": [
       "0.2"
      ]
     },
     "execution_count": 16,
     "metadata": {},
     "output_type": "execute_result"
    }
   ],
   "source": [
    "a / b"
   ]
  },
  {
   "cell_type": "code",
   "execution_count": 17,
   "id": "9f7924a8",
   "metadata": {},
   "outputs": [
    {
     "data": {
      "text/plain": [
       "float"
      ]
     },
     "execution_count": 17,
     "metadata": {},
     "output_type": "execute_result"
    }
   ],
   "source": [
    "type(a / b)"
   ]
  },
  {
   "cell_type": "code",
   "execution_count": 20,
   "id": "8a9a139c",
   "metadata": {},
   "outputs": [
    {
     "data": {
      "text/plain": [
       "int"
      ]
     },
     "execution_count": 20,
     "metadata": {},
     "output_type": "execute_result"
    }
   ],
   "source": [
    "type(a * b)"
   ]
  },
  {
   "cell_type": "markdown",
   "id": "b59fb63f",
   "metadata": {},
   "source": [
    "Remainder"
   ]
  },
  {
   "cell_type": "code",
   "execution_count": 27,
   "id": "49ddd777",
   "metadata": {},
   "outputs": [
    {
     "name": "stdout",
     "output_type": "stream",
     "text": [
      "0\n"
     ]
    }
   ],
   "source": [
    "print(10%2)"
   ]
  },
  {
   "cell_type": "markdown",
   "id": "f893287a",
   "metadata": {},
   "source": [
    "Squared"
   ]
  },
  {
   "cell_type": "code",
   "execution_count": 35,
   "id": "8f366e9d",
   "metadata": {},
   "outputs": [
    {
     "data": {
      "text/plain": [
       "46656"
      ]
     },
     "execution_count": 35,
     "metadata": {},
     "output_type": "execute_result"
    }
   ],
   "source": [
    "6**6"
   ]
  },
  {
   "cell_type": "code",
   "execution_count": 37,
   "id": "9e0705f1",
   "metadata": {},
   "outputs": [
    {
     "data": {
      "text/plain": [
       "5"
      ]
     },
     "execution_count": 37,
     "metadata": {},
     "output_type": "execute_result"
    }
   ],
   "source": [
    "b ** a"
   ]
  },
  {
   "cell_type": "code",
   "execution_count": null,
   "id": "4994e40e",
   "metadata": {},
   "outputs": [],
   "source": []
  },
  {
   "cell_type": "markdown",
   "id": "1cdc7f21-12fb-4c65-8e4f-3ab18ce28a2c",
   "metadata": {},
   "source": [
    "## Strings<a class=\"anchor\" id=\"str\"></a>"
   ]
  },
  {
   "cell_type": "code",
   "execution_count": 160,
   "id": "9470ad7b",
   "metadata": {},
   "outputs": [],
   "source": [
    "c = 'Hello world'"
   ]
  },
  {
   "cell_type": "code",
   "execution_count": 39,
   "id": "0fd93120",
   "metadata": {},
   "outputs": [
    {
     "data": {
      "text/plain": [
       "'Hello world'"
      ]
     },
     "execution_count": 39,
     "metadata": {},
     "output_type": "execute_result"
    }
   ],
   "source": [
    "c"
   ]
  },
  {
   "cell_type": "code",
   "execution_count": 40,
   "id": "ecff3e99",
   "metadata": {},
   "outputs": [
    {
     "data": {
      "text/plain": [
       "str"
      ]
     },
     "execution_count": 40,
     "metadata": {},
     "output_type": "execute_result"
    }
   ],
   "source": [
    "type(c)"
   ]
  },
  {
   "cell_type": "code",
   "execution_count": 41,
   "id": "3681cf2f",
   "metadata": {},
   "outputs": [
    {
     "data": {
      "text/plain": [
       "'H'"
      ]
     },
     "execution_count": 41,
     "metadata": {},
     "output_type": "execute_result"
    }
   ],
   "source": [
    "c[0]"
   ]
  },
  {
   "cell_type": "code",
   "execution_count": 42,
   "id": "84a29ccd",
   "metadata": {},
   "outputs": [
    {
     "data": {
      "text/plain": [
       "'e'"
      ]
     },
     "execution_count": 42,
     "metadata": {},
     "output_type": "execute_result"
    }
   ],
   "source": [
    "c[1]"
   ]
  },
  {
   "cell_type": "code",
   "execution_count": 43,
   "id": "974eedac",
   "metadata": {},
   "outputs": [
    {
     "data": {
      "text/plain": [
       "'l'"
      ]
     },
     "execution_count": 43,
     "metadata": {},
     "output_type": "execute_result"
    }
   ],
   "source": [
    "c[2]"
   ]
  },
  {
   "cell_type": "code",
   "execution_count": 45,
   "id": "86d28b3e",
   "metadata": {},
   "outputs": [
    {
     "data": {
      "text/plain": [
       "'l'"
      ]
     },
     "execution_count": 45,
     "metadata": {},
     "output_type": "execute_result"
    }
   ],
   "source": [
    "c[3]"
   ]
  },
  {
   "cell_type": "code",
   "execution_count": 48,
   "id": "41ee2621",
   "metadata": {},
   "outputs": [
    {
     "data": {
      "text/plain": [
       "'o'"
      ]
     },
     "execution_count": 48,
     "metadata": {},
     "output_type": "execute_result"
    }
   ],
   "source": [
    "c[4]"
   ]
  },
  {
   "cell_type": "code",
   "execution_count": 49,
   "id": "0a546c97",
   "metadata": {},
   "outputs": [
    {
     "data": {
      "text/plain": [
       "'Hello world'"
      ]
     },
     "execution_count": 49,
     "metadata": {},
     "output_type": "execute_result"
    }
   ],
   "source": [
    "c"
   ]
  },
  {
   "cell_type": "code",
   "execution_count": 50,
   "id": "4c21832d",
   "metadata": {},
   "outputs": [
    {
     "data": {
      "text/plain": [
       "'d'"
      ]
     },
     "execution_count": 50,
     "metadata": {},
     "output_type": "execute_result"
    }
   ],
   "source": [
    "c[-1]"
   ]
  },
  {
   "cell_type": "code",
   "execution_count": 51,
   "id": "994cef0f",
   "metadata": {},
   "outputs": [
    {
     "data": {
      "text/plain": [
       "'l'"
      ]
     },
     "execution_count": 51,
     "metadata": {},
     "output_type": "execute_result"
    }
   ],
   "source": [
    "c[-2]"
   ]
  },
  {
   "cell_type": "code",
   "execution_count": 53,
   "id": "538efca5",
   "metadata": {},
   "outputs": [
    {
     "data": {
      "text/plain": [
       "'r'"
      ]
     },
     "execution_count": 53,
     "metadata": {},
     "output_type": "execute_result"
    }
   ],
   "source": [
    "c[-3]"
   ]
  },
  {
   "cell_type": "code",
   "execution_count": 54,
   "id": "b9d803e1",
   "metadata": {},
   "outputs": [
    {
     "data": {
      "text/plain": [
       "'o'"
      ]
     },
     "execution_count": 54,
     "metadata": {},
     "output_type": "execute_result"
    }
   ],
   "source": [
    "c[-4]"
   ]
  },
  {
   "cell_type": "code",
   "execution_count": 55,
   "id": "f757306b",
   "metadata": {},
   "outputs": [
    {
     "data": {
      "text/plain": [
       "' '"
      ]
     },
     "execution_count": 55,
     "metadata": {},
     "output_type": "execute_result"
    }
   ],
   "source": [
    "c[5]"
   ]
  },
  {
   "cell_type": "markdown",
   "id": "f61ce5d0",
   "metadata": {},
   "source": [
    "[] # When we want to get stuff from stuff, we use square brackets\n",
    "\n",
    "\n",
    "() # When we want to call a function, we use curved brackets"
   ]
  },
  {
   "cell_type": "code",
   "execution_count": 56,
   "id": "b2587a17",
   "metadata": {},
   "outputs": [],
   "source": [
    "c = 'Hello world'"
   ]
  },
  {
   "cell_type": "code",
   "execution_count": 57,
   "id": "4a0fcefb",
   "metadata": {},
   "outputs": [
    {
     "data": {
      "text/plain": [
       "'Hello w'"
      ]
     },
     "execution_count": 57,
     "metadata": {},
     "output_type": "execute_result"
    }
   ],
   "source": [
    "c[0:7] # The last item not included"
   ]
  },
  {
   "cell_type": "code",
   "execution_count": 58,
   "id": "e739e6bd",
   "metadata": {},
   "outputs": [
    {
     "data": {
      "text/plain": [
       "'lo w'"
      ]
     },
     "execution_count": 58,
     "metadata": {},
     "output_type": "execute_result"
    }
   ],
   "source": [
    "c[3:7]"
   ]
  },
  {
   "cell_type": "code",
   "execution_count": 59,
   "id": "e437578a",
   "metadata": {},
   "outputs": [
    {
     "data": {
      "text/plain": [
       "'Hello '"
      ]
     },
     "execution_count": 59,
     "metadata": {},
     "output_type": "execute_result"
    }
   ],
   "source": [
    "c[0:-5]"
   ]
  },
  {
   "cell_type": "code",
   "execution_count": null,
   "id": "049eab75",
   "metadata": {},
   "outputs": [],
   "source": [
    "#c[where_to_start:where_to_end]"
   ]
  },
  {
   "cell_type": "code",
   "execution_count": 161,
   "id": "461a186f",
   "metadata": {},
   "outputs": [
    {
     "data": {
      "text/plain": [
       "'wor'"
      ]
     },
     "execution_count": 161,
     "metadata": {},
     "output_type": "execute_result"
    }
   ],
   "source": [
    "c[-5:9]"
   ]
  },
  {
   "cell_type": "markdown",
   "id": "7edaed7e",
   "metadata": {},
   "source": [
    "### Let's Practice"
   ]
  },
  {
   "cell_type": "code",
   "execution_count": 184,
   "id": "a4ed3c48",
   "metadata": {},
   "outputs": [],
   "source": [
    "c = \"Lionel Messi\""
   ]
  },
  {
   "cell_type": "code",
   "execution_count": 167,
   "id": "83844dd1",
   "metadata": {},
   "outputs": [
    {
     "data": {
      "text/plain": [
       "'Lionel Messi'"
      ]
     },
     "execution_count": 167,
     "metadata": {},
     "output_type": "execute_result"
    }
   ],
   "source": [
    "c"
   ]
  },
  {
   "cell_type": "code",
   "execution_count": 168,
   "id": "87374e49",
   "metadata": {},
   "outputs": [
    {
     "data": {
      "text/plain": [
       "'e'"
      ]
     },
     "execution_count": 168,
     "metadata": {},
     "output_type": "execute_result"
    }
   ],
   "source": [
    "c[4] # Answer - e"
   ]
  },
  {
   "cell_type": "code",
   "execution_count": 169,
   "id": "e6b4ce9b",
   "metadata": {},
   "outputs": [
    {
     "data": {
      "text/plain": [
       "'L'"
      ]
     },
     "execution_count": 169,
     "metadata": {},
     "output_type": "execute_result"
    }
   ],
   "source": [
    "c[0:1] # Answer -L"
   ]
  },
  {
   "cell_type": "code",
   "execution_count": 185,
   "id": "259e6c5e",
   "metadata": {},
   "outputs": [
    {
     "data": {
      "text/plain": [
       "' M'"
      ]
     },
     "execution_count": 185,
     "metadata": {},
     "output_type": "execute_result"
    }
   ],
   "source": [
    "c[-6:8] # Answer - 'essi', ' ', 'Me' # You all got till step 3"
   ]
  },
  {
   "cell_type": "code",
   "execution_count": 190,
   "id": "d1485458",
   "metadata": {},
   "outputs": [
    {
     "data": {
      "text/plain": [
       "' '"
      ]
     },
     "execution_count": 190,
     "metadata": {},
     "output_type": "execute_result"
    }
   ],
   "source": [
    "c[-6:7] # Answer - 'l ', 'l'. "
   ]
  },
  {
   "cell_type": "code",
   "execution_count": 191,
   "id": "453d5aee",
   "metadata": {},
   "outputs": [],
   "source": [
    "c = \"Lionel Messi\""
   ]
  },
  {
   "cell_type": "code",
   "execution_count": 195,
   "id": "19b608af",
   "metadata": {},
   "outputs": [
    {
     "data": {
      "text/plain": [
       "'Mess'"
      ]
     },
     "execution_count": 195,
     "metadata": {},
     "output_type": "execute_result"
    }
   ],
   "source": [
    "c[-5:-1] # Answer - Nothing, 's'"
   ]
  },
  {
   "cell_type": "code",
   "execution_count": 196,
   "id": "56ecf090",
   "metadata": {},
   "outputs": [
    {
     "data": {
      "text/plain": [
       "''"
      ]
     },
     "execution_count": 196,
     "metadata": {},
     "output_type": "execute_result"
    }
   ],
   "source": [
    "c[8:-4] # Answer - Nothing X2, 'l', 'e' "
   ]
  },
  {
   "cell_type": "markdown",
   "id": "a1d294af",
   "metadata": {},
   "source": [
    "start from e: go till e, so it should return e, But remember the rule, the last item is not included"
   ]
  },
  {
   "cell_type": "code",
   "execution_count": 209,
   "id": "f085001a",
   "metadata": {},
   "outputs": [],
   "source": [
    "#string[where_to_start:where_to_end]"
   ]
  },
  {
   "cell_type": "code",
   "execution_count": 212,
   "id": "0df51791",
   "metadata": {},
   "outputs": [
    {
     "data": {
      "text/plain": [
       "'Lionel Messi'"
      ]
     },
     "execution_count": 212,
     "metadata": {},
     "output_type": "execute_result"
    }
   ],
   "source": [
    "c[0:]"
   ]
  },
  {
   "cell_type": "code",
   "execution_count": 213,
   "id": "51d847c7",
   "metadata": {},
   "outputs": [
    {
     "data": {
      "text/plain": [
       "'l Messi'"
      ]
     },
     "execution_count": 213,
     "metadata": {},
     "output_type": "execute_result"
    }
   ],
   "source": [
    "c[5:]"
   ]
  },
  {
   "cell_type": "code",
   "execution_count": 214,
   "id": "e630a164",
   "metadata": {},
   "outputs": [
    {
     "data": {
      "text/plain": [
       "'Lio'"
      ]
     },
     "execution_count": 214,
     "metadata": {},
     "output_type": "execute_result"
    }
   ],
   "source": [
    "c[:3]"
   ]
  },
  {
   "cell_type": "code",
   "execution_count": 215,
   "id": "7d376615",
   "metadata": {},
   "outputs": [
    {
     "data": {
      "text/plain": [
       "'Lione'"
      ]
     },
     "execution_count": 215,
     "metadata": {},
     "output_type": "execute_result"
    }
   ],
   "source": [
    "c[:5]"
   ]
  },
  {
   "cell_type": "markdown",
   "id": "8744397f",
   "metadata": {},
   "source": []
  },
  {
   "cell_type": "code",
   "execution_count": null,
   "id": "49f1371f",
   "metadata": {},
   "outputs": [],
   "source": [
    "c = \"Lionel Messi\""
   ]
  },
  {
   "cell_type": "code",
   "execution_count": 221,
   "id": "97175533",
   "metadata": {},
   "outputs": [
    {
     "data": {
      "text/plain": [
       "'Lio'"
      ]
     },
     "execution_count": 221,
     "metadata": {},
     "output_type": "execute_result"
    }
   ],
   "source": [
    "c[:3] # Answer - 'lio'"
   ]
  },
  {
   "cell_type": "code",
   "execution_count": 222,
   "id": "6deaf418",
   "metadata": {},
   "outputs": [
    {
     "data": {
      "text/plain": [
       "'L'"
      ]
     },
     "execution_count": 222,
     "metadata": {},
     "output_type": "execute_result"
    }
   ],
   "source": [
    "c[:1] # Answer - 'l'"
   ]
  },
  {
   "cell_type": "code",
   "execution_count": 219,
   "id": "c6c5ffde",
   "metadata": {},
   "outputs": [
    {
     "data": {
      "text/plain": [
       "''"
      ]
     },
     "execution_count": 219,
     "metadata": {},
     "output_type": "execute_result"
    }
   ],
   "source": [
    "c[:0]"
   ]
  },
  {
   "cell_type": "code",
   "execution_count": 223,
   "id": "916fa535",
   "metadata": {},
   "outputs": [
    {
     "data": {
      "text/plain": [
       "''"
      ]
     },
     "execution_count": 223,
     "metadata": {},
     "output_type": "execute_result"
    }
   ],
   "source": [
    "c[:-12] # Answer - 'l'"
   ]
  },
  {
   "cell_type": "code",
   "execution_count": 224,
   "id": "b4dd2484",
   "metadata": {},
   "outputs": [
    {
     "data": {
      "text/plain": [
       "''"
      ]
     },
     "execution_count": 224,
     "metadata": {},
     "output_type": "execute_result"
    }
   ],
   "source": [
    "c[0:-12] # Answer - 'l'"
   ]
  },
  {
   "cell_type": "markdown",
   "id": "0ca1b856",
   "metadata": {},
   "source": [
    "### One last thing\n",
    "\n",
    "![](https://media3.giphy.com/media/7tKEfRjktJ2MM/giphy.gif?cid=ecf05e47c74t1otfypwmfizje8r2zti0xncg51e07210tp3r&rid=giphy.gif&ct=g)"
   ]
  },
  {
   "cell_type": "code",
   "execution_count": null,
   "id": "21a9a85b",
   "metadata": {},
   "outputs": [],
   "source": [
    "c = \"Lionel Messi\""
   ]
  },
  {
   "cell_type": "code",
   "execution_count": 225,
   "id": "658cd3b4",
   "metadata": {},
   "outputs": [
    {
     "data": {
      "text/plain": [
       "'Lio'"
      ]
     },
     "execution_count": 225,
     "metadata": {},
     "output_type": "execute_result"
    }
   ],
   "source": [
    "c[0:3]"
   ]
  },
  {
   "cell_type": "code",
   "execution_count": 228,
   "id": "8bd58d87",
   "metadata": {},
   "outputs": [
    {
     "data": {
      "text/plain": [
       "''"
      ]
     },
     "execution_count": 228,
     "metadata": {},
     "output_type": "execute_result"
    }
   ],
   "source": [
    "c[3:0]"
   ]
  },
  {
   "cell_type": "markdown",
   "id": "cfae83cf",
   "metadata": {},
   "source": [
    "### We can read in reverse"
   ]
  },
  {
   "cell_type": "code",
   "execution_count": 235,
   "id": "5784f8da",
   "metadata": {},
   "outputs": [],
   "source": [
    "c = \"Lionel Messi\""
   ]
  },
  {
   "cell_type": "code",
   "execution_count": 237,
   "id": "e9f26b42",
   "metadata": {},
   "outputs": [
    {
     "data": {
      "text/plain": [
       "'Lio'"
      ]
     },
     "execution_count": 237,
     "metadata": {},
     "output_type": "execute_result"
    }
   ],
   "source": [
    "c[0:3]"
   ]
  },
  {
   "cell_type": "code",
   "execution_count": null,
   "id": "8f1d6579",
   "metadata": {},
   "outputs": [],
   "source": [
    "c[0:3:1]"
   ]
  },
  {
   "cell_type": "code",
   "execution_count": 229,
   "id": "0c863ada",
   "metadata": {},
   "outputs": [
    {
     "data": {
      "text/plain": [
       "''"
      ]
     },
     "execution_count": 229,
     "metadata": {},
     "output_type": "execute_result"
    }
   ],
   "source": [
    "c[3:0:1] # By default is 1"
   ]
  },
  {
   "cell_type": "code",
   "execution_count": 230,
   "id": "b2994126",
   "metadata": {},
   "outputs": [
    {
     "data": {
      "text/plain": [
       "'Lio'"
      ]
     },
     "execution_count": 230,
     "metadata": {},
     "output_type": "execute_result"
    }
   ],
   "source": [
    "c[0:3:1] # By default is 1"
   ]
  },
  {
   "cell_type": "code",
   "execution_count": 231,
   "id": "4b688fde",
   "metadata": {},
   "outputs": [
    {
     "data": {
      "text/plain": [
       "'noi'"
      ]
     },
     "execution_count": 231,
     "metadata": {},
     "output_type": "execute_result"
    }
   ],
   "source": [
    "c[3:0:-1] # If you were to change the default to -1"
   ]
  },
  {
   "cell_type": "code",
   "execution_count": 232,
   "id": "b1a40116",
   "metadata": {},
   "outputs": [
    {
     "data": {
      "text/plain": [
       "''"
      ]
     },
     "execution_count": 232,
     "metadata": {},
     "output_type": "execute_result"
    }
   ],
   "source": [
    "c[0:3:-1] # If you were to change the default to -1, now this won't work"
   ]
  },
  {
   "cell_type": "markdown",
   "id": "f11b01a9",
   "metadata": {},
   "source": [
    "### Let's get started. Time for mental gymnastics"
   ]
  },
  {
   "cell_type": "code",
   "execution_count": 233,
   "id": "2c07ee3b",
   "metadata": {},
   "outputs": [],
   "source": [
    "c = \"Lionel Messi\""
   ]
  },
  {
   "cell_type": "code",
   "execution_count": 238,
   "id": "d47aefe5",
   "metadata": {},
   "outputs": [
    {
     "data": {
      "text/plain": [
       "'es'"
      ]
     },
     "execution_count": 238,
     "metadata": {},
     "output_type": "execute_result"
    }
   ],
   "source": [
    "c[-4:-2:1] # Answer - 'es'x3"
   ]
  },
  {
   "cell_type": "code",
   "execution_count": 239,
   "id": "101f48e7",
   "metadata": {},
   "outputs": [
    {
     "data": {
      "text/plain": [
       "''"
      ]
     },
     "execution_count": 239,
     "metadata": {},
     "output_type": "execute_result"
    }
   ],
   "source": [
    "c[-4:-2:-1] # Answer - Nothing"
   ]
  },
  {
   "cell_type": "code",
   "execution_count": null,
   "id": "3804a004",
   "metadata": {},
   "outputs": [],
   "source": [
    "c[-4:-2] # This is the same thing"
   ]
  },
  {
   "cell_type": "code",
   "execution_count": 240,
   "id": "1e03190b",
   "metadata": {},
   "outputs": [
    {
     "data": {
      "text/plain": [
       "' '"
      ]
     },
     "execution_count": 240,
     "metadata": {},
     "output_type": "execute_result"
    }
   ],
   "source": [
    "c[-6:7:1] # Answer - space"
   ]
  },
  {
   "cell_type": "code",
   "execution_count": 241,
   "id": "73eb422b",
   "metadata": {},
   "outputs": [
    {
     "data": {
      "text/plain": [
       "''"
      ]
     },
     "execution_count": 241,
     "metadata": {},
     "output_type": "execute_result"
    }
   ],
   "source": [
    "c[-9:3:-1] # Answer - Nothing"
   ]
  },
  {
   "cell_type": "code",
   "execution_count": 243,
   "id": "140ebf03",
   "metadata": {},
   "outputs": [
    {
     "data": {
      "text/plain": [
       "'l'"
      ]
     },
     "execution_count": 243,
     "metadata": {},
     "output_type": "execute_result"
    }
   ],
   "source": [
    "c[5:-8:-1] # Answer - 'l'"
   ]
  },
  {
   "cell_type": "code",
   "execution_count": 244,
   "id": "9e396e72",
   "metadata": {},
   "outputs": [],
   "source": [
    "c = \"Lionel Messi\""
   ]
  },
  {
   "cell_type": "code",
   "execution_count": 246,
   "id": "55b84a71",
   "metadata": {},
   "outputs": [
    {
     "data": {
      "text/plain": [
       "'Lionel Messi'"
      ]
     },
     "execution_count": 246,
     "metadata": {},
     "output_type": "execute_result"
    }
   ],
   "source": [
    "c[:]"
   ]
  },
  {
   "cell_type": "code",
   "execution_count": 249,
   "id": "0574eabf",
   "metadata": {},
   "outputs": [
    {
     "data": {
      "text/plain": [
       "'Lionel Messi'"
      ]
     },
     "execution_count": 249,
     "metadata": {},
     "output_type": "execute_result"
    }
   ],
   "source": [
    "c[0:12]"
   ]
  },
  {
   "cell_type": "code",
   "execution_count": 253,
   "id": "32088a51",
   "metadata": {},
   "outputs": [
    {
     "data": {
      "text/plain": [
       "'Lionel Messi'"
      ]
     },
     "execution_count": 253,
     "metadata": {},
     "output_type": "execute_result"
    }
   ],
   "source": [
    "c[0:12:1]"
   ]
  },
  {
   "cell_type": "code",
   "execution_count": 251,
   "id": "a32fc751",
   "metadata": {},
   "outputs": [
    {
     "data": {
      "text/plain": [
       "'Lionel Messi'"
      ]
     },
     "execution_count": 251,
     "metadata": {},
     "output_type": "execute_result"
    }
   ],
   "source": [
    "c[::1]"
   ]
  },
  {
   "cell_type": "code",
   "execution_count": 254,
   "id": "ecdaa61f",
   "metadata": {},
   "outputs": [
    {
     "data": {
      "text/plain": [
       "'isseM lenoiL'"
      ]
     },
     "execution_count": 254,
     "metadata": {},
     "output_type": "execute_result"
    }
   ],
   "source": [
    "c[::-1]"
   ]
  },
  {
   "cell_type": "markdown",
   "id": "49a25a08",
   "metadata": {},
   "source": [
    "# Last thing, i promise"
   ]
  },
  {
   "cell_type": "code",
   "execution_count": 258,
   "id": "10598273",
   "metadata": {},
   "outputs": [],
   "source": [
    "c = \"Lionel Messi\""
   ]
  },
  {
   "cell_type": "code",
   "execution_count": 259,
   "id": "3276f1c7",
   "metadata": {},
   "outputs": [
    {
     "data": {
      "text/plain": [
       "'Lionel Messi'"
      ]
     },
     "execution_count": 259,
     "metadata": {},
     "output_type": "execute_result"
    }
   ],
   "source": [
    "c[::1]"
   ]
  },
  {
   "cell_type": "code",
   "execution_count": 257,
   "id": "760311d2",
   "metadata": {},
   "outputs": [
    {
     "data": {
      "text/plain": [
       "'Loe es'"
      ]
     },
     "execution_count": 257,
     "metadata": {},
     "output_type": "execute_result"
    }
   ],
   "source": [
    "c[::2]"
   ]
  },
  {
   "cell_type": "code",
   "execution_count": 260,
   "id": "e46b9278",
   "metadata": {},
   "outputs": [
    {
     "data": {
      "text/plain": [
       "'Ln s'"
      ]
     },
     "execution_count": 260,
     "metadata": {},
     "output_type": "execute_result"
    }
   ],
   "source": [
    "c[::3]"
   ]
  },
  {
   "cell_type": "code",
   "execution_count": 262,
   "id": "3398fa23",
   "metadata": {},
   "outputs": [
    {
     "data": {
      "text/plain": [
       "'Lee'"
      ]
     },
     "execution_count": 262,
     "metadata": {},
     "output_type": "execute_result"
    }
   ],
   "source": [
    "c[::4]"
   ]
  },
  {
   "cell_type": "code",
   "execution_count": 264,
   "id": "97586005",
   "metadata": {},
   "outputs": [
    {
     "data": {
      "text/plain": [
       "'isseM lenoiL'"
      ]
     },
     "execution_count": 264,
     "metadata": {},
     "output_type": "execute_result"
    }
   ],
   "source": [
    "c[::-1]"
   ]
  },
  {
   "cell_type": "code",
   "execution_count": 266,
   "id": "0c7c54d2",
   "metadata": {},
   "outputs": [
    {
     "data": {
      "text/plain": [
       "'isMlni'"
      ]
     },
     "execution_count": 266,
     "metadata": {},
     "output_type": "execute_result"
    }
   ],
   "source": [
    "c[::-2]"
   ]
  },
  {
   "cell_type": "code",
   "execution_count": 268,
   "id": "5fbb1614",
   "metadata": {},
   "outputs": [
    {
     "data": {
      "text/plain": [
       "'ielo'"
      ]
     },
     "execution_count": 268,
     "metadata": {},
     "output_type": "execute_result"
    }
   ],
   "source": [
    "c[::-3]"
   ]
  },
  {
   "cell_type": "markdown",
   "id": "57e4e427",
   "metadata": {},
   "source": [
    "# Let's test our knowledge\n",
    "![](https://media2.giphy.com/media/l3BwSPbqx3QGKEgpp2/giphy.gif?cid=ecf05e47o03v364q7dge0edxpyt5tyiw7i8cfhsj75easypq&rid=giphy.gif&ct=g)"
   ]
  },
  {
   "cell_type": "code",
   "execution_count": 276,
   "id": "3f7f1c77",
   "metadata": {},
   "outputs": [],
   "source": [
    "c = \"Lionel Messi\""
   ]
  },
  {
   "cell_type": "code",
   "execution_count": 275,
   "id": "e8ac9dc7",
   "metadata": {},
   "outputs": [
    {
     "data": {
      "text/plain": [
       "' e'"
      ]
     },
     "execution_count": 275,
     "metadata": {},
     "output_type": "execute_result"
    }
   ],
   "source": [
    "c[-6:10:2] # Answer - ' e'x2, "
   ]
  },
  {
   "cell_type": "code",
   "execution_count": null,
   "id": "368c860e",
   "metadata": {},
   "outputs": [],
   "source": []
  },
  {
   "cell_type": "code",
   "execution_count": 273,
   "id": "e1cab3c6",
   "metadata": {},
   "outputs": [
    {
     "data": {
      "text/plain": [
       "'lo'"
      ]
     },
     "execution_count": 273,
     "metadata": {},
     "output_type": "execute_result"
    }
   ],
   "source": [
    "c[5:0:-3] # Answer - 'lo'"
   ]
  },
  {
   "cell_type": "code",
   "execution_count": 274,
   "id": "e7f13734",
   "metadata": {},
   "outputs": [
    {
     "data": {
      "text/plain": [
       "'el Mes'"
      ]
     },
     "execution_count": 274,
     "metadata": {},
     "output_type": "execute_result"
    }
   ],
   "source": [
    "'el Mes'"
   ]
  },
  {
   "cell_type": "code",
   "execution_count": 272,
   "id": "e18dfbf5",
   "metadata": {},
   "outputs": [
    {
     "data": {
      "text/plain": [
       "'s '"
      ]
     },
     "execution_count": 272,
     "metadata": {},
     "output_type": "execute_result"
    }
   ],
   "source": [
    "c[10:-8:-4] # Answer - ' ', "
   ]
  },
  {
   "cell_type": "markdown",
   "id": "4431d878-cfb3-49e3-ac55-db6f38fabf8c",
   "metadata": {},
   "source": [
    "## Some peculiarities of strings"
   ]
  },
  {
   "cell_type": "code",
   "execution_count": 61,
   "id": "e91b3047",
   "metadata": {},
   "outputs": [],
   "source": [
    "c = 'Hello'\n",
    "d = 'World'"
   ]
  },
  {
   "cell_type": "code",
   "execution_count": 62,
   "id": "52feb954",
   "metadata": {},
   "outputs": [
    {
     "data": {
      "text/plain": [
       "'Hello'"
      ]
     },
     "execution_count": 62,
     "metadata": {},
     "output_type": "execute_result"
    }
   ],
   "source": [
    "c"
   ]
  },
  {
   "cell_type": "code",
   "execution_count": 63,
   "id": "e2ec48b5",
   "metadata": {},
   "outputs": [
    {
     "data": {
      "text/plain": [
       "'World'"
      ]
     },
     "execution_count": 63,
     "metadata": {},
     "output_type": "execute_result"
    }
   ],
   "source": [
    "d"
   ]
  },
  {
   "cell_type": "code",
   "execution_count": 66,
   "id": "f03150cf",
   "metadata": {},
   "outputs": [
    {
     "data": {
      "text/plain": [
       "str"
      ]
     },
     "execution_count": 66,
     "metadata": {},
     "output_type": "execute_result"
    }
   ],
   "source": [
    "type(d)"
   ]
  },
  {
   "cell_type": "code",
   "execution_count": 67,
   "id": "52e656b2",
   "metadata": {},
   "outputs": [
    {
     "data": {
      "text/plain": [
       "'HelloWorld'"
      ]
     },
     "execution_count": 67,
     "metadata": {},
     "output_type": "execute_result"
    }
   ],
   "source": [
    "c + d"
   ]
  },
  {
   "cell_type": "code",
   "execution_count": 68,
   "id": "5b8f592a",
   "metadata": {},
   "outputs": [
    {
     "data": {
      "text/plain": [
       "'HelloWorld'"
      ]
     },
     "execution_count": 68,
     "metadata": {},
     "output_type": "execute_result"
    }
   ],
   "source": [
    "'Hello' + 'World'"
   ]
  },
  {
   "cell_type": "code",
   "execution_count": 70,
   "id": "5ba66845",
   "metadata": {},
   "outputs": [
    {
     "data": {
      "text/plain": [
       "'Hello World'"
      ]
     },
     "execution_count": 70,
     "metadata": {},
     "output_type": "execute_result"
    }
   ],
   "source": [
    "'Hello' + ' ' + 'World'"
   ]
  },
  {
   "cell_type": "code",
   "execution_count": 71,
   "id": "cdeead01",
   "metadata": {},
   "outputs": [
    {
     "data": {
      "text/plain": [
       "'Hello'"
      ]
     },
     "execution_count": 71,
     "metadata": {},
     "output_type": "execute_result"
    }
   ],
   "source": [
    "c"
   ]
  },
  {
   "cell_type": "code",
   "execution_count": 72,
   "id": "abda73d0",
   "metadata": {},
   "outputs": [
    {
     "data": {
      "text/plain": [
       "'HelloHello'"
      ]
     },
     "execution_count": 72,
     "metadata": {},
     "output_type": "execute_result"
    }
   ],
   "source": [
    "c * 2"
   ]
  },
  {
   "cell_type": "code",
   "execution_count": 80,
   "id": "140516de",
   "metadata": {},
   "outputs": [
    {
     "data": {
      "text/plain": [
       "'HelloHelloHello'"
      ]
     },
     "execution_count": 80,
     "metadata": {},
     "output_type": "execute_result"
    }
   ],
   "source": [
    "c * 3"
   ]
  },
  {
   "cell_type": "code",
   "execution_count": 79,
   "id": "b067ba57",
   "metadata": {},
   "outputs": [
    {
     "ename": "TypeError",
     "evalue": "can't multiply sequence by non-int of type 'float'",
     "output_type": "error",
     "traceback": [
      "\u001b[0;31m---------------------------------------------------------------------------\u001b[0m",
      "\u001b[0;31mTypeError\u001b[0m                                 Traceback (most recent call last)",
      "Cell \u001b[0;32mIn[79], line 1\u001b[0m\n\u001b[0;32m----> 1\u001b[0m \u001b[43mc\u001b[49m\u001b[43m \u001b[49m\u001b[38;5;241;43m*\u001b[39;49m\u001b[43m \u001b[49m\u001b[38;5;241;43m1.5\u001b[39;49m\n",
      "\u001b[0;31mTypeError\u001b[0m: can't multiply sequence by non-int of type 'float'"
     ]
    }
   ],
   "source": [
    "c * 1.5"
   ]
  },
  {
   "cell_type": "code",
   "execution_count": 74,
   "id": "664c2144",
   "metadata": {},
   "outputs": [
    {
     "ename": "TypeError",
     "evalue": "can't multiply sequence by non-int of type 'str'",
     "output_type": "error",
     "traceback": [
      "\u001b[0;31m---------------------------------------------------------------------------\u001b[0m",
      "\u001b[0;31mTypeError\u001b[0m                                 Traceback (most recent call last)",
      "Cell \u001b[0;32mIn[74], line 1\u001b[0m\n\u001b[0;32m----> 1\u001b[0m \u001b[43mc\u001b[49m\u001b[43m \u001b[49m\u001b[38;5;241;43m*\u001b[39;49m\u001b[43m \u001b[49m\u001b[43md\u001b[49m\n",
      "\u001b[0;31mTypeError\u001b[0m: can't multiply sequence by non-int of type 'str'"
     ]
    }
   ],
   "source": [
    "c * d"
   ]
  },
  {
   "cell_type": "code",
   "execution_count": 75,
   "id": "4d802e81",
   "metadata": {},
   "outputs": [
    {
     "ename": "TypeError",
     "evalue": "unsupported operand type(s) for /: 'str' and 'str'",
     "output_type": "error",
     "traceback": [
      "\u001b[0;31m---------------------------------------------------------------------------\u001b[0m",
      "\u001b[0;31mTypeError\u001b[0m                                 Traceback (most recent call last)",
      "Cell \u001b[0;32mIn[75], line 1\u001b[0m\n\u001b[0;32m----> 1\u001b[0m \u001b[43mc\u001b[49m\u001b[43m \u001b[49m\u001b[38;5;241;43m/\u001b[39;49m\u001b[43m \u001b[49m\u001b[43md\u001b[49m\n",
      "\u001b[0;31mTypeError\u001b[0m: unsupported operand type(s) for /: 'str' and 'str'"
     ]
    }
   ],
   "source": [
    "c / d"
   ]
  },
  {
   "cell_type": "code",
   "execution_count": 76,
   "id": "fff1713d",
   "metadata": {},
   "outputs": [
    {
     "ename": "TypeError",
     "evalue": "not all arguments converted during string formatting",
     "output_type": "error",
     "traceback": [
      "\u001b[0;31m---------------------------------------------------------------------------\u001b[0m",
      "\u001b[0;31mTypeError\u001b[0m                                 Traceback (most recent call last)",
      "Cell \u001b[0;32mIn[76], line 1\u001b[0m\n\u001b[0;32m----> 1\u001b[0m \u001b[43mc\u001b[49m\u001b[43m \u001b[49m\u001b[38;5;241;43m%\u001b[39;49m\u001b[43m \u001b[49m\u001b[43md\u001b[49m\n",
      "\u001b[0;31mTypeError\u001b[0m: not all arguments converted during string formatting"
     ]
    }
   ],
   "source": [
    "c % d"
   ]
  },
  {
   "cell_type": "code",
   "execution_count": 77,
   "id": "f090b397",
   "metadata": {},
   "outputs": [
    {
     "ename": "TypeError",
     "evalue": "unsupported operand type(s) for ** or pow(): 'str' and 'str'",
     "output_type": "error",
     "traceback": [
      "\u001b[0;31m---------------------------------------------------------------------------\u001b[0m",
      "\u001b[0;31mTypeError\u001b[0m                                 Traceback (most recent call last)",
      "Cell \u001b[0;32mIn[77], line 1\u001b[0m\n\u001b[0;32m----> 1\u001b[0m \u001b[43mc\u001b[49m\u001b[43m \u001b[49m\u001b[38;5;241;43m*\u001b[39;49m\u001b[38;5;241;43m*\u001b[39;49m\u001b[43m \u001b[49m\u001b[43md\u001b[49m\n",
      "\u001b[0;31mTypeError\u001b[0m: unsupported operand type(s) for ** or pow(): 'str' and 'str'"
     ]
    }
   ],
   "source": [
    "c ** d"
   ]
  },
  {
   "cell_type": "code",
   "execution_count": 82,
   "id": "d9b32de6",
   "metadata": {},
   "outputs": [
    {
     "ename": "TypeError",
     "evalue": "unsupported operand type(s) for -: 'str' and 'str'",
     "output_type": "error",
     "traceback": [
      "\u001b[0;31m---------------------------------------------------------------------------\u001b[0m",
      "\u001b[0;31mTypeError\u001b[0m                                 Traceback (most recent call last)",
      "Cell \u001b[0;32mIn[82], line 1\u001b[0m\n\u001b[0;32m----> 1\u001b[0m \u001b[43mc\u001b[49m\u001b[43m \u001b[49m\u001b[38;5;241;43m-\u001b[39;49m\u001b[43m \u001b[49m\u001b[43md\u001b[49m\n",
      "\u001b[0;31mTypeError\u001b[0m: unsupported operand type(s) for -: 'str' and 'str'"
     ]
    }
   ],
   "source": [
    "c - d "
   ]
  },
  {
   "cell_type": "markdown",
   "id": "7081b904",
   "metadata": {},
   "source": [
    "# Python methods\n",
    "1. String methods\n",
    "2. Integer methods\n",
    "3. Float methods\n",
    "\n",
    "Methods are just python ```functions``` that work on a particular data type and that data type only."
   ]
  },
  {
   "cell_type": "markdown",
   "id": "70f8ab9f",
   "metadata": {},
   "source": [
    "# String methods"
   ]
  },
  {
   "cell_type": "code",
   "execution_count": 90,
   "id": "789b4b2e",
   "metadata": {},
   "outputs": [],
   "source": [
    "c = 'lionel messi is the best'"
   ]
  },
  {
   "cell_type": "code",
   "execution_count": 84,
   "id": "163c7b9e",
   "metadata": {},
   "outputs": [
    {
     "data": {
      "text/plain": [
       "'Lionel Messi is the best'"
      ]
     },
     "execution_count": 84,
     "metadata": {},
     "output_type": "execute_result"
    }
   ],
   "source": [
    "c"
   ]
  },
  {
   "cell_type": "code",
   "execution_count": 85,
   "id": "28bd41ab",
   "metadata": {},
   "outputs": [
    {
     "data": {
      "text/plain": [
       "str"
      ]
     },
     "execution_count": 85,
     "metadata": {},
     "output_type": "execute_result"
    }
   ],
   "source": [
    "type(c)"
   ]
  },
  {
   "cell_type": "code",
   "execution_count": 86,
   "id": "2e3f0b27",
   "metadata": {},
   "outputs": [
    {
     "data": {
      "text/plain": [
       "'LIONEL MESSI IS THE BEST'"
      ]
     },
     "execution_count": 86,
     "metadata": {},
     "output_type": "execute_result"
    }
   ],
   "source": [
    "c.upper()"
   ]
  },
  {
   "cell_type": "code",
   "execution_count": 87,
   "id": "2d5c2f1e",
   "metadata": {},
   "outputs": [
    {
     "data": {
      "text/plain": [
       "'lionel messi is the best'"
      ]
     },
     "execution_count": 87,
     "metadata": {},
     "output_type": "execute_result"
    }
   ],
   "source": [
    "c.lower()"
   ]
  },
  {
   "cell_type": "code",
   "execution_count": 91,
   "id": "df57a270",
   "metadata": {},
   "outputs": [
    {
     "data": {
      "text/plain": [
       "'Lionel messi is the best'"
      ]
     },
     "execution_count": 91,
     "metadata": {},
     "output_type": "execute_result"
    }
   ],
   "source": [
    "c.capitalize()"
   ]
  },
  {
   "cell_type": "code",
   "execution_count": 98,
   "id": "13538423",
   "metadata": {},
   "outputs": [
    {
     "data": {
      "text/plain": [
       "1"
      ]
     },
     "execution_count": 98,
     "metadata": {},
     "output_type": "execute_result"
    }
   ],
   "source": [
    "c.count('m')"
   ]
  },
  {
   "cell_type": "markdown",
   "id": "37fb060b",
   "metadata": {},
   "source": [
    "### This is how you ask for help"
   ]
  },
  {
   "cell_type": "code",
   "execution_count": 99,
   "id": "1fcc78cb",
   "metadata": {},
   "outputs": [],
   "source": [
    "?c.isalpha"
   ]
  },
  {
   "cell_type": "code",
   "execution_count": 100,
   "id": "733cd644",
   "metadata": {},
   "outputs": [
    {
     "data": {
      "text/plain": [
       "False"
      ]
     },
     "execution_count": 100,
     "metadata": {},
     "output_type": "execute_result"
    }
   ],
   "source": [
    "c.isalpha()"
   ]
  },
  {
   "cell_type": "code",
   "execution_count": 101,
   "id": "8d74608c",
   "metadata": {},
   "outputs": [
    {
     "data": {
      "text/plain": [
       "'lionel messi is the best'"
      ]
     },
     "execution_count": 101,
     "metadata": {},
     "output_type": "execute_result"
    }
   ],
   "source": [
    "c"
   ]
  },
  {
   "cell_type": "code",
   "execution_count": 102,
   "id": "c9132dba",
   "metadata": {},
   "outputs": [
    {
     "data": {
      "text/plain": [
       "True"
      ]
     },
     "execution_count": 102,
     "metadata": {},
     "output_type": "execute_result"
    }
   ],
   "source": [
    "'lionel'.isalpha()"
   ]
  },
  {
   "cell_type": "markdown",
   "id": "abf70bf3",
   "metadata": {},
   "source": [
    "### Let's get started with integer methods"
   ]
  },
  {
   "cell_type": "code",
   "execution_count": 108,
   "id": "8e496119",
   "metadata": {},
   "outputs": [],
   "source": [
    "a = 43"
   ]
  },
  {
   "cell_type": "code",
   "execution_count": null,
   "id": "aec4adc5",
   "metadata": {},
   "outputs": [],
   "source": [
    "a."
   ]
  },
  {
   "cell_type": "code",
   "execution_count": 104,
   "id": "17ddbc58",
   "metadata": {},
   "outputs": [
    {
     "data": {
      "text/plain": [
       "1"
      ]
     },
     "execution_count": 104,
     "metadata": {},
     "output_type": "execute_result"
    }
   ],
   "source": [
    "a.denominator"
   ]
  },
  {
   "cell_type": "code",
   "execution_count": 105,
   "id": "a2951cdf",
   "metadata": {},
   "outputs": [
    {
     "data": {
      "text/plain": [
       "43"
      ]
     },
     "execution_count": 105,
     "metadata": {},
     "output_type": "execute_result"
    }
   ],
   "source": [
    "a.numerator"
   ]
  },
  {
   "cell_type": "markdown",
   "id": "965e625b",
   "metadata": {},
   "source": [
    "### Let's get started with float methods"
   ]
  },
  {
   "cell_type": "code",
   "execution_count": 107,
   "id": "8ff0aa97",
   "metadata": {},
   "outputs": [],
   "source": [
    "b = 43.3"
   ]
  },
  {
   "cell_type": "code",
   "execution_count": 110,
   "id": "8581545e",
   "metadata": {},
   "outputs": [
    {
     "data": {
      "text/plain": [
       "False"
      ]
     },
     "execution_count": 110,
     "metadata": {},
     "output_type": "execute_result"
    }
   ],
   "source": [
    "b.is_integer()"
   ]
  },
  {
   "cell_type": "code",
   "execution_count": 116,
   "id": "48b8125e",
   "metadata": {},
   "outputs": [],
   "source": [
    "# This will give you help\n",
    "?b.is_integer"
   ]
  },
  {
   "cell_type": "code",
   "execution_count": 117,
   "id": "6c9922d6",
   "metadata": {},
   "outputs": [],
   "source": [
    "b = 43.0"
   ]
  },
  {
   "cell_type": "code",
   "execution_count": null,
   "id": "94e0028a",
   "metadata": {},
   "outputs": [],
   "source": [
    "b.is_integer()"
   ]
  },
  {
   "cell_type": "code",
   "execution_count": 124,
   "id": "22394bb1",
   "metadata": {},
   "outputs": [
    {
     "data": {
      "text/plain": [
       "True"
      ]
     },
     "execution_count": 124,
     "metadata": {},
     "output_type": "execute_result"
    }
   ],
   "source": [
    "52.0.is_integer()"
   ]
  },
  {
   "cell_type": "code",
   "execution_count": 113,
   "id": "ad95633f",
   "metadata": {},
   "outputs": [
    {
     "data": {
      "text/plain": [
       "False"
      ]
     },
     "execution_count": 113,
     "metadata": {},
     "output_type": "execute_result"
    }
   ],
   "source": [
    "43.4.is_integer()"
   ]
  },
  {
   "cell_type": "markdown",
   "id": "fbeda55e",
   "metadata": {},
   "source": [
    "## Quotes behaviour\n",
    "When declaring a string, which quotes to use."
   ]
  },
  {
   "cell_type": "code",
   "execution_count": 118,
   "id": "8f8d2e81",
   "metadata": {},
   "outputs": [],
   "source": [
    "c = 'Messi'"
   ]
  },
  {
   "cell_type": "code",
   "execution_count": 125,
   "id": "2fdfde78",
   "metadata": {},
   "outputs": [
    {
     "data": {
      "text/plain": [
       "'Messi'"
      ]
     },
     "execution_count": 125,
     "metadata": {},
     "output_type": "execute_result"
    }
   ],
   "source": [
    "c"
   ]
  },
  {
   "cell_type": "code",
   "execution_count": 126,
   "id": "2885b815",
   "metadata": {},
   "outputs": [
    {
     "data": {
      "text/plain": [
       "str"
      ]
     },
     "execution_count": 126,
     "metadata": {},
     "output_type": "execute_result"
    }
   ],
   "source": [
    "type(c)"
   ]
  },
  {
   "cell_type": "code",
   "execution_count": 127,
   "id": "69c6c1bd",
   "metadata": {},
   "outputs": [],
   "source": [
    "c = \"Messi\""
   ]
  },
  {
   "cell_type": "code",
   "execution_count": 128,
   "id": "c25e86b3",
   "metadata": {},
   "outputs": [
    {
     "data": {
      "text/plain": [
       "'Messi'"
      ]
     },
     "execution_count": 128,
     "metadata": {},
     "output_type": "execute_result"
    }
   ],
   "source": [
    "c"
   ]
  },
  {
   "cell_type": "code",
   "execution_count": 129,
   "id": "413d6b0e",
   "metadata": {},
   "outputs": [
    {
     "data": {
      "text/plain": [
       "str"
      ]
     },
     "execution_count": 129,
     "metadata": {},
     "output_type": "execute_result"
    }
   ],
   "source": [
    "type(c)"
   ]
  },
  {
   "cell_type": "code",
   "execution_count": 130,
   "id": "890dd320",
   "metadata": {},
   "outputs": [],
   "source": [
    "c = '''Messi'''"
   ]
  },
  {
   "cell_type": "code",
   "execution_count": 131,
   "id": "5b7bf7ec",
   "metadata": {},
   "outputs": [
    {
     "data": {
      "text/plain": [
       "'Messi'"
      ]
     },
     "execution_count": 131,
     "metadata": {},
     "output_type": "execute_result"
    }
   ],
   "source": [
    "c"
   ]
  },
  {
   "cell_type": "code",
   "execution_count": 132,
   "id": "b107f868",
   "metadata": {},
   "outputs": [
    {
     "data": {
      "text/plain": [
       "str"
      ]
     },
     "execution_count": 132,
     "metadata": {},
     "output_type": "execute_result"
    }
   ],
   "source": [
    "type(c)"
   ]
  },
  {
   "cell_type": "code",
   "execution_count": 135,
   "id": "b94f418b",
   "metadata": {},
   "outputs": [
    {
     "ename": "SyntaxError",
     "evalue": "EOL while scanning string literal (1797325983.py, line 1)",
     "output_type": "error",
     "traceback": [
      "\u001b[0;36m  Cell \u001b[0;32mIn[135], line 1\u001b[0;36m\u001b[0m\n\u001b[0;31m    c = \"Messi'\u001b[0m\n\u001b[0m               ^\u001b[0m\n\u001b[0;31mSyntaxError\u001b[0m\u001b[0;31m:\u001b[0m EOL while scanning string literal\n"
     ]
    }
   ],
   "source": [
    "c = \"Messi'"
   ]
  },
  {
   "cell_type": "markdown",
   "id": "596399b5",
   "metadata": {},
   "source": [
    "# Booleans"
   ]
  },
  {
   "cell_type": "code",
   "execution_count": 140,
   "id": "07151345",
   "metadata": {},
   "outputs": [
    {
     "data": {
      "text/plain": [
       "True"
      ]
     },
     "execution_count": 140,
     "metadata": {},
     "output_type": "execute_result"
    }
   ],
   "source": [
    "True"
   ]
  },
  {
   "cell_type": "code",
   "execution_count": 141,
   "id": "9809cc99",
   "metadata": {},
   "outputs": [
    {
     "data": {
      "text/plain": [
       "bool"
      ]
     },
     "execution_count": 141,
     "metadata": {},
     "output_type": "execute_result"
    }
   ],
   "source": [
    "type(True)"
   ]
  },
  {
   "cell_type": "code",
   "execution_count": null,
   "id": "a761599a",
   "metadata": {},
   "outputs": [],
   "source": [
    "False"
   ]
  },
  {
   "cell_type": "code",
   "execution_count": 142,
   "id": "e978a758",
   "metadata": {},
   "outputs": [
    {
     "data": {
      "text/plain": [
       "bool"
      ]
     },
     "execution_count": 142,
     "metadata": {},
     "output_type": "execute_result"
    }
   ],
   "source": [
    "type(False)"
   ]
  },
  {
   "cell_type": "code",
   "execution_count": 155,
   "id": "f5ed68cf",
   "metadata": {},
   "outputs": [],
   "source": [
    "e = False"
   ]
  },
  {
   "cell_type": "code",
   "execution_count": 156,
   "id": "60fa78e0",
   "metadata": {},
   "outputs": [
    {
     "data": {
      "text/plain": [
       "False"
      ]
     },
     "execution_count": 156,
     "metadata": {},
     "output_type": "execute_result"
    }
   ],
   "source": [
    "e"
   ]
  },
  {
   "cell_type": "code",
   "execution_count": 157,
   "id": "01913789",
   "metadata": {},
   "outputs": [
    {
     "data": {
      "text/plain": [
       "bool"
      ]
     },
     "execution_count": 157,
     "metadata": {},
     "output_type": "execute_result"
    }
   ],
   "source": [
    "type(e)"
   ]
  },
  {
   "cell_type": "code",
   "execution_count": 159,
   "id": "aebcf55b",
   "metadata": {},
   "outputs": [
    {
     "data": {
      "text/plain": [
       "0"
      ]
     },
     "execution_count": 159,
     "metadata": {},
     "output_type": "execute_result"
    }
   ],
   "source": [
    "e.numerator"
   ]
  },
  {
   "cell_type": "markdown",
   "id": "e9f547a6",
   "metadata": {},
   "source": [
    "### We have covered the core building blocks of python - Layer 0 Complete"
   ]
  },
  {
   "cell_type": "markdown",
   "id": "17a27a63",
   "metadata": {},
   "source": [
    "# List\n",
    "Lists are a collection of python objects. Similar to strings"
   ]
  },
  {
   "cell_type": "code",
   "execution_count": null,
   "id": "c0160da0",
   "metadata": {},
   "outputs": [],
   "source": [
    "a = 'This is a string'\n",
    "a = 10\n",
    "a = 10.5\n",
    "a = True"
   ]
  },
  {
   "cell_type": "code",
   "execution_count": 277,
   "id": "1580b0b9",
   "metadata": {},
   "outputs": [],
   "source": [
    "a = [1,2,3,5.5,6.7,True,True,False, 'Lionel', 'CR7']"
   ]
  },
  {
   "cell_type": "code",
   "execution_count": 278,
   "id": "b57b6531",
   "metadata": {},
   "outputs": [
    {
     "data": {
      "text/plain": [
       "[1, 2, 3, 5.5, 6.7, True, True, False, 'Lionel', 'CR7']"
      ]
     },
     "execution_count": 278,
     "metadata": {},
     "output_type": "execute_result"
    }
   ],
   "source": [
    "a"
   ]
  },
  {
   "cell_type": "code",
   "execution_count": 279,
   "id": "a7a71d8c",
   "metadata": {},
   "outputs": [
    {
     "data": {
      "text/plain": [
       "list"
      ]
     },
     "execution_count": 279,
     "metadata": {},
     "output_type": "execute_result"
    }
   ],
   "source": [
    "type(a)"
   ]
  },
  {
   "cell_type": "code",
   "execution_count": 280,
   "id": "8af2afed",
   "metadata": {},
   "outputs": [
    {
     "data": {
      "text/plain": [
       "1"
      ]
     },
     "execution_count": 280,
     "metadata": {},
     "output_type": "execute_result"
    }
   ],
   "source": [
    "a[0]"
   ]
  },
  {
   "cell_type": "code",
   "execution_count": 281,
   "id": "f89927c2",
   "metadata": {},
   "outputs": [
    {
     "data": {
      "text/plain": [
       "'CR7'"
      ]
     },
     "execution_count": 281,
     "metadata": {},
     "output_type": "execute_result"
    }
   ],
   "source": [
    "a[-1]"
   ]
  },
  {
   "cell_type": "code",
   "execution_count": 282,
   "id": "e8ea8715",
   "metadata": {},
   "outputs": [
    {
     "data": {
      "text/plain": [
       "[1, 2, 3]"
      ]
     },
     "execution_count": 282,
     "metadata": {},
     "output_type": "execute_result"
    }
   ],
   "source": [
    "a[0:3]"
   ]
  },
  {
   "cell_type": "code",
   "execution_count": 283,
   "id": "f022ecaf",
   "metadata": {},
   "outputs": [
    {
     "data": {
      "text/plain": [
       "[2, 3]"
      ]
     },
     "execution_count": 283,
     "metadata": {},
     "output_type": "execute_result"
    }
   ],
   "source": [
    "a[-9:-7]"
   ]
  },
  {
   "cell_type": "code",
   "execution_count": 284,
   "id": "dddca715",
   "metadata": {},
   "outputs": [
    {
     "data": {
      "text/plain": [
       "[1, 2, 3, 5.5, 6.7, True, True, False, 'Lionel', 'CR7']"
      ]
     },
     "execution_count": 284,
     "metadata": {},
     "output_type": "execute_result"
    }
   ],
   "source": [
    "a[:]"
   ]
  },
  {
   "cell_type": "code",
   "execution_count": 286,
   "id": "5f29b000",
   "metadata": {},
   "outputs": [
    {
     "data": {
      "text/plain": [
       "['CR7', 'Lionel', False, True, True, 6.7, 5.5, 3, 2, 1]"
      ]
     },
     "execution_count": 286,
     "metadata": {},
     "output_type": "execute_result"
    }
   ],
   "source": [
    "a[::-1]"
   ]
  },
  {
   "cell_type": "code",
   "execution_count": 287,
   "id": "3131fc36",
   "metadata": {},
   "outputs": [
    {
     "data": {
      "text/plain": [
       "['CR7', False, True, 5.5, 2]"
      ]
     },
     "execution_count": 287,
     "metadata": {},
     "output_type": "execute_result"
    }
   ],
   "source": [
    "a[::-2]"
   ]
  },
  {
   "cell_type": "code",
   "execution_count": null,
   "id": "e34a4439",
   "metadata": {},
   "outputs": [],
   "source": [
    "a = [1,2,3,5.5,6.7,True,True,False, 'Lionel', 'CR7']"
   ]
  },
  {
   "cell_type": "code",
   "execution_count": 288,
   "id": "fdaec571",
   "metadata": {},
   "outputs": [
    {
     "data": {
      "text/plain": [
       "1"
      ]
     },
     "execution_count": 288,
     "metadata": {},
     "output_type": "execute_result"
    }
   ],
   "source": [
    "a[0]"
   ]
  },
  {
   "cell_type": "code",
   "execution_count": 289,
   "id": "d5cca730",
   "metadata": {},
   "outputs": [
    {
     "data": {
      "text/plain": [
       "int"
      ]
     },
     "execution_count": 289,
     "metadata": {},
     "output_type": "execute_result"
    }
   ],
   "source": [
    "type(a[0])"
   ]
  },
  {
   "cell_type": "code",
   "execution_count": 290,
   "id": "b93c2f2d",
   "metadata": {},
   "outputs": [
    {
     "data": {
      "text/plain": [
       "float"
      ]
     },
     "execution_count": 290,
     "metadata": {},
     "output_type": "execute_result"
    }
   ],
   "source": [
    "type(a[4])"
   ]
  },
  {
   "cell_type": "code",
   "execution_count": 291,
   "id": "afce827c",
   "metadata": {},
   "outputs": [
    {
     "data": {
      "text/plain": [
       "bool"
      ]
     },
     "execution_count": 291,
     "metadata": {},
     "output_type": "execute_result"
    }
   ],
   "source": [
    "type(a[6])"
   ]
  },
  {
   "cell_type": "code",
   "execution_count": 292,
   "id": "030dfa60",
   "metadata": {},
   "outputs": [
    {
     "data": {
      "text/plain": [
       "str"
      ]
     },
     "execution_count": 292,
     "metadata": {},
     "output_type": "execute_result"
    }
   ],
   "source": [
    "type(a[8])"
   ]
  },
  {
   "cell_type": "markdown",
   "id": "a34338b2",
   "metadata": {},
   "source": [
    "# Chaining stuff, understanding input and output of python code."
   ]
  },
  {
   "cell_type": "code",
   "execution_count": 293,
   "id": "529841e6",
   "metadata": {},
   "outputs": [],
   "source": [
    "a = [1,2,3,5.5,6.7,True,True,False, 'Lionel', 'CR7']"
   ]
  },
  {
   "cell_type": "code",
   "execution_count": 296,
   "id": "dfbb46c7",
   "metadata": {},
   "outputs": [
    {
     "data": {
      "text/plain": [
       "'CR7'"
      ]
     },
     "execution_count": 296,
     "metadata": {},
     "output_type": "execute_result"
    }
   ],
   "source": [
    "a[-1]"
   ]
  },
  {
   "cell_type": "code",
   "execution_count": 297,
   "id": "0cfa7305",
   "metadata": {},
   "outputs": [
    {
     "data": {
      "text/plain": [
       "str"
      ]
     },
     "execution_count": 297,
     "metadata": {},
     "output_type": "execute_result"
    }
   ],
   "source": [
    "type(a[-1])"
   ]
  },
  {
   "cell_type": "code",
   "execution_count": 300,
   "id": "df6af5a2",
   "metadata": {},
   "outputs": [
    {
     "data": {
      "text/plain": [
       "'cr7'"
      ]
     },
     "execution_count": 300,
     "metadata": {},
     "output_type": "execute_result"
    }
   ],
   "source": [
    "a[-1].lower()"
   ]
  },
  {
   "cell_type": "code",
   "execution_count": 298,
   "id": "9133d263",
   "metadata": {},
   "outputs": [
    {
     "data": {
      "text/plain": [
       "'cr7'"
      ]
     },
     "execution_count": 298,
     "metadata": {},
     "output_type": "execute_result"
    }
   ],
   "source": [
    "'CR7'.lower()"
   ]
  },
  {
   "cell_type": "code",
   "execution_count": 303,
   "id": "577da75d",
   "metadata": {},
   "outputs": [
    {
     "data": {
      "text/plain": [
       "'LIONEL'"
      ]
     },
     "execution_count": 303,
     "metadata": {},
     "output_type": "execute_result"
    }
   ],
   "source": [
    "a[-2].upper()"
   ]
  },
  {
   "cell_type": "code",
   "execution_count": 305,
   "id": "3fc7b801",
   "metadata": {},
   "outputs": [
    {
     "data": {
      "text/plain": [
       "'LIONEL'"
      ]
     },
     "execution_count": 305,
     "metadata": {},
     "output_type": "execute_result"
    }
   ],
   "source": [
    "'Lionel'.upper()"
   ]
  },
  {
   "cell_type": "code",
   "execution_count": 306,
   "id": "a48658b0",
   "metadata": {},
   "outputs": [],
   "source": [
    "b = a[-2].upper()"
   ]
  },
  {
   "cell_type": "code",
   "execution_count": 307,
   "id": "0e7463e1",
   "metadata": {},
   "outputs": [
    {
     "data": {
      "text/plain": [
       "'LIONEL'"
      ]
     },
     "execution_count": 307,
     "metadata": {},
     "output_type": "execute_result"
    }
   ],
   "source": [
    "b"
   ]
  },
  {
   "cell_type": "code",
   "execution_count": 309,
   "id": "a2b5f519",
   "metadata": {},
   "outputs": [
    {
     "data": {
      "text/plain": [
       "'Lionel'"
      ]
     },
     "execution_count": 309,
     "metadata": {},
     "output_type": "execute_result"
    }
   ],
   "source": [
    "a[-2].upper().capitalize()"
   ]
  },
  {
   "cell_type": "code",
   "execution_count": 314,
   "id": "b6fc93b1",
   "metadata": {},
   "outputs": [
    {
     "data": {
      "text/plain": [
       "'lionel'"
      ]
     },
     "execution_count": 314,
     "metadata": {},
     "output_type": "execute_result"
    }
   ],
   "source": [
    "a[-2].upper().capitalize().upper().upper().upper().lower()"
   ]
  },
  {
   "cell_type": "markdown",
   "id": "337cb89a",
   "metadata": {},
   "source": [
    "# Lists of list"
   ]
  },
  {
   "cell_type": "code",
   "execution_count": 316,
   "id": "9f0303f2",
   "metadata": {},
   "outputs": [],
   "source": [
    "a = [1,2,3,[4,5,6],[10,20,30]]"
   ]
  },
  {
   "cell_type": "code",
   "execution_count": 317,
   "id": "6dafd1f0",
   "metadata": {},
   "outputs": [
    {
     "data": {
      "text/plain": [
       "5"
      ]
     },
     "execution_count": 317,
     "metadata": {},
     "output_type": "execute_result"
    }
   ],
   "source": [
    "len(a)"
   ]
  },
  {
   "cell_type": "code",
   "execution_count": 318,
   "id": "f741757c",
   "metadata": {},
   "outputs": [
    {
     "data": {
      "text/plain": [
       "6"
      ]
     },
     "execution_count": 318,
     "metadata": {},
     "output_type": "execute_result"
    }
   ],
   "source": [
    "len('Lionel')"
   ]
  },
  {
   "cell_type": "code",
   "execution_count": 321,
   "id": "bea22e12",
   "metadata": {},
   "outputs": [
    {
     "data": {
      "text/plain": [
       "[10, 20]"
      ]
     },
     "execution_count": 321,
     "metadata": {},
     "output_type": "execute_result"
    }
   ],
   "source": [
    "a[-1][0:2]"
   ]
  },
  {
   "cell_type": "code",
   "execution_count": 322,
   "id": "92c30631",
   "metadata": {},
   "outputs": [],
   "source": [
    "a = [1,[2,3,[4,5,6,[7,[10]]]]]"
   ]
  },
  {
   "cell_type": "code",
   "execution_count": 323,
   "id": "61361f4c",
   "metadata": {},
   "outputs": [
    {
     "data": {
      "text/plain": [
       "[1, [2, 3, [4, 5, 6, [7, [10]]]]]"
      ]
     },
     "execution_count": 323,
     "metadata": {},
     "output_type": "execute_result"
    }
   ],
   "source": [
    "a"
   ]
  },
  {
   "cell_type": "code",
   "execution_count": 324,
   "id": "11e949c9",
   "metadata": {},
   "outputs": [
    {
     "data": {
      "text/plain": [
       "2"
      ]
     },
     "execution_count": 324,
     "metadata": {},
     "output_type": "execute_result"
    }
   ],
   "source": [
    "len(a)"
   ]
  },
  {
   "cell_type": "code",
   "execution_count": 335,
   "id": "edd00cd9",
   "metadata": {},
   "outputs": [
    {
     "data": {
      "text/plain": [
       "1"
      ]
     },
     "execution_count": 335,
     "metadata": {},
     "output_type": "execute_result"
    }
   ],
   "source": [
    "a[0]"
   ]
  },
  {
   "cell_type": "code",
   "execution_count": 338,
   "id": "b8cd0c4e",
   "metadata": {},
   "outputs": [
    {
     "data": {
      "text/plain": [
       "[2, 3, [4, 5, 6, [7, [10]]]]"
      ]
     },
     "execution_count": 338,
     "metadata": {},
     "output_type": "execute_result"
    }
   ],
   "source": [
    "a[1]"
   ]
  },
  {
   "cell_type": "code",
   "execution_count": null,
   "id": "f4bb4b96",
   "metadata": {},
   "outputs": [],
   "source": [
    "a"
   ]
  },
  {
   "cell_type": "code",
   "execution_count": 326,
   "id": "7739a8df",
   "metadata": {},
   "outputs": [
    {
     "data": {
      "text/plain": [
       "[2, 3, [4, 5, 6, [7, [10]]]]"
      ]
     },
     "execution_count": 326,
     "metadata": {},
     "output_type": "execute_result"
    }
   ],
   "source": [
    "a[1]"
   ]
  },
  {
   "cell_type": "code",
   "execution_count": 334,
   "id": "e08087d6",
   "metadata": {},
   "outputs": [
    {
     "data": {
      "text/plain": [
       "10"
      ]
     },
     "execution_count": 334,
     "metadata": {},
     "output_type": "execute_result"
    }
   ],
   "source": [
    "a[1][2][3][1][0]"
   ]
  },
  {
   "cell_type": "code",
   "execution_count": null,
   "id": "82cf6eeb",
   "metadata": {},
   "outputs": [],
   "source": [
    "a[1][2][3][1][0].denominator"
   ]
  },
  {
   "cell_type": "markdown",
   "id": "0e5b15f8",
   "metadata": {},
   "source": [
    "# Interchangability of data types in python"
   ]
  },
  {
   "cell_type": "code",
   "execution_count": 341,
   "id": "6bf58347",
   "metadata": {},
   "outputs": [],
   "source": [
    "a = 10"
   ]
  },
  {
   "cell_type": "code",
   "execution_count": 342,
   "id": "05804750",
   "metadata": {},
   "outputs": [
    {
     "data": {
      "text/plain": [
       "int"
      ]
     },
     "execution_count": 342,
     "metadata": {},
     "output_type": "execute_result"
    }
   ],
   "source": [
    "type(a)"
   ]
  },
  {
   "cell_type": "code",
   "execution_count": 343,
   "id": "df5bbd7d",
   "metadata": {},
   "outputs": [],
   "source": [
    "# int()\n",
    "# float()"
   ]
  },
  {
   "cell_type": "code",
   "execution_count": 344,
   "id": "0970591a",
   "metadata": {},
   "outputs": [
    {
     "data": {
      "text/plain": [
       "10.0"
      ]
     },
     "execution_count": 344,
     "metadata": {},
     "output_type": "execute_result"
    }
   ],
   "source": [
    "float(a)"
   ]
  },
  {
   "cell_type": "code",
   "execution_count": 349,
   "id": "e9774236",
   "metadata": {},
   "outputs": [],
   "source": [
    "a = 10.9"
   ]
  },
  {
   "cell_type": "code",
   "execution_count": 350,
   "id": "3ab38948",
   "metadata": {},
   "outputs": [
    {
     "data": {
      "text/plain": [
       "10"
      ]
     },
     "execution_count": 350,
     "metadata": {},
     "output_type": "execute_result"
    }
   ],
   "source": [
    "int(a)"
   ]
  },
  {
   "cell_type": "markdown",
   "id": "ccba3401",
   "metadata": {},
   "source": [
    "```int``` function, ignores the decimal part. Does not care !!"
   ]
  },
  {
   "cell_type": "code",
   "execution_count": 368,
   "id": "6b3ed23b",
   "metadata": {},
   "outputs": [],
   "source": [
    "a = 10.399999999999999999999999"
   ]
  },
  {
   "cell_type": "code",
   "execution_count": 369,
   "id": "83d771ac",
   "metadata": {},
   "outputs": [
    {
     "data": {
      "text/plain": [
       "10.4"
      ]
     },
     "execution_count": 369,
     "metadata": {},
     "output_type": "execute_result"
    }
   ],
   "source": [
    "a"
   ]
  },
  {
   "cell_type": "code",
   "execution_count": 365,
   "id": "69b8b358",
   "metadata": {},
   "outputs": [
    {
     "data": {
      "text/plain": [
       "10"
      ]
     },
     "execution_count": 365,
     "metadata": {},
     "output_type": "execute_result"
    }
   ],
   "source": [
    "int(a)"
   ]
  },
  {
   "cell_type": "code",
   "execution_count": 359,
   "id": "232a6399",
   "metadata": {},
   "outputs": [
    {
     "data": {
      "text/plain": [
       "21"
      ]
     },
     "execution_count": 359,
     "metadata": {},
     "output_type": "execute_result"
    }
   ],
   "source": [
    "len('999999999999999999999')"
   ]
  },
  {
   "cell_type": "markdown",
   "id": "6d377f04",
   "metadata": {},
   "source": [
    "# List methods"
   ]
  },
  {
   "cell_type": "code",
   "execution_count": 393,
   "id": "7d04fd14",
   "metadata": {},
   "outputs": [],
   "source": [
    "a = [1,2,3,5,2]"
   ]
  },
  {
   "cell_type": "code",
   "execution_count": 395,
   "id": "cf1d55d5",
   "metadata": {},
   "outputs": [],
   "source": [
    "a.append(10)"
   ]
  },
  {
   "cell_type": "code",
   "execution_count": 396,
   "id": "7a50f2ce",
   "metadata": {},
   "outputs": [
    {
     "data": {
      "text/plain": [
       "[1, 2, 3, 5, 2, 10, 10]"
      ]
     },
     "execution_count": 396,
     "metadata": {},
     "output_type": "execute_result"
    }
   ],
   "source": [
    "a"
   ]
  },
  {
   "cell_type": "code",
   "execution_count": 373,
   "id": "9e711721",
   "metadata": {},
   "outputs": [],
   "source": [
    "a.reverse()"
   ]
  },
  {
   "cell_type": "code",
   "execution_count": 391,
   "id": "0aec814d",
   "metadata": {},
   "outputs": [
    {
     "data": {
      "text/plain": [
       "[1, 2, 3, 10]"
      ]
     },
     "execution_count": 391,
     "metadata": {},
     "output_type": "execute_result"
    }
   ],
   "source": [
    "a"
   ]
  },
  {
   "cell_type": "markdown",
   "id": "e2fc5533",
   "metadata": {},
   "source": [
    "### Let's get sorting"
   ]
  },
  {
   "cell_type": "code",
   "execution_count": 397,
   "id": "0c9c05cc",
   "metadata": {},
   "outputs": [
    {
     "data": {
      "text/plain": [
       "[1, 2, 3, 5, 2, 10, 10]"
      ]
     },
     "execution_count": 397,
     "metadata": {},
     "output_type": "execute_result"
    }
   ],
   "source": [
    "a"
   ]
  },
  {
   "cell_type": "code",
   "execution_count": 398,
   "id": "b2fcb5c8",
   "metadata": {},
   "outputs": [],
   "source": [
    "a.sort()"
   ]
  },
  {
   "cell_type": "code",
   "execution_count": 399,
   "id": "f46e23d7",
   "metadata": {},
   "outputs": [
    {
     "data": {
      "text/plain": [
       "[1, 2, 2, 3, 5, 10, 10]"
      ]
     },
     "execution_count": 399,
     "metadata": {},
     "output_type": "execute_result"
    }
   ],
   "source": [
    "a"
   ]
  },
  {
   "cell_type": "code",
   "execution_count": 400,
   "id": "74f03985",
   "metadata": {},
   "outputs": [],
   "source": [
    "a.sort(reverse=True)"
   ]
  },
  {
   "cell_type": "code",
   "execution_count": 408,
   "id": "5f47b5fd",
   "metadata": {},
   "outputs": [
    {
     "data": {
      "text/plain": [
       "[1, 2, 3]"
      ]
     },
     "execution_count": 408,
     "metadata": {},
     "output_type": "execute_result"
    }
   ],
   "source": [
    "a"
   ]
  },
  {
   "cell_type": "markdown",
   "id": "87713c82",
   "metadata": {},
   "source": [
    "# List assignment, string assignment"
   ]
  },
  {
   "cell_type": "code",
   "execution_count": 409,
   "id": "8675b0ea",
   "metadata": {},
   "outputs": [],
   "source": [
    "a = [1,2,3]"
   ]
  },
  {
   "cell_type": "code",
   "execution_count": 410,
   "id": "91bee80d",
   "metadata": {},
   "outputs": [
    {
     "data": {
      "text/plain": [
       "1"
      ]
     },
     "execution_count": 410,
     "metadata": {},
     "output_type": "execute_result"
    }
   ],
   "source": [
    "a[0]"
   ]
  },
  {
   "cell_type": "code",
   "execution_count": 411,
   "id": "b7cf56e0",
   "metadata": {},
   "outputs": [],
   "source": [
    "a[0] = 10"
   ]
  },
  {
   "cell_type": "code",
   "execution_count": 412,
   "id": "eefc90cf",
   "metadata": {},
   "outputs": [
    {
     "data": {
      "text/plain": [
       "[10, 2, 3]"
      ]
     },
     "execution_count": 412,
     "metadata": {},
     "output_type": "execute_result"
    }
   ],
   "source": [
    "a"
   ]
  },
  {
   "cell_type": "markdown",
   "id": "b2007c5b",
   "metadata": {},
   "source": [
    "List support item assignment. You can change the values of the items inside of the list. "
   ]
  },
  {
   "cell_type": "code",
   "execution_count": 413,
   "id": "db4cfed6",
   "metadata": {},
   "outputs": [],
   "source": [
    "a = 'Lionel Messi'"
   ]
  },
  {
   "cell_type": "code",
   "execution_count": 414,
   "id": "01ded397",
   "metadata": {},
   "outputs": [
    {
     "data": {
      "text/plain": [
       "'L'"
      ]
     },
     "execution_count": 414,
     "metadata": {},
     "output_type": "execute_result"
    }
   ],
   "source": [
    "a[0]"
   ]
  },
  {
   "cell_type": "code",
   "execution_count": 415,
   "id": "6e477cd3",
   "metadata": {},
   "outputs": [
    {
     "ename": "TypeError",
     "evalue": "'str' object does not support item assignment",
     "output_type": "error",
     "traceback": [
      "\u001b[0;31m---------------------------------------------------------------------------\u001b[0m",
      "\u001b[0;31mTypeError\u001b[0m                                 Traceback (most recent call last)",
      "Cell \u001b[0;32mIn[415], line 1\u001b[0m\n\u001b[0;32m----> 1\u001b[0m a[\u001b[38;5;241m0\u001b[39m] \u001b[38;5;241m=\u001b[39m \u001b[38;5;124m'\u001b[39m\u001b[38;5;124ml\u001b[39m\u001b[38;5;124m'\u001b[39m\n",
      "\u001b[0;31mTypeError\u001b[0m: 'str' object does not support item assignment"
     ]
    }
   ],
   "source": [
    "a[0] = 'l'"
   ]
  },
  {
   "cell_type": "markdown",
   "id": "0ff39667",
   "metadata": {},
   "source": [
    "Strings, although a collection of letters, does not support item assignment. "
   ]
  },
  {
   "cell_type": "markdown",
   "id": "f6f56a20",
   "metadata": {},
   "source": [
    "# List copying"
   ]
  },
  {
   "cell_type": "code",
   "execution_count": 416,
   "id": "a8f685aa",
   "metadata": {},
   "outputs": [],
   "source": [
    "a = [1,2,3]"
   ]
  },
  {
   "cell_type": "code",
   "execution_count": 417,
   "id": "dbd8312b",
   "metadata": {},
   "outputs": [
    {
     "data": {
      "text/plain": [
       "[1, 2, 3]"
      ]
     },
     "execution_count": 417,
     "metadata": {},
     "output_type": "execute_result"
    }
   ],
   "source": [
    "a"
   ]
  },
  {
   "cell_type": "code",
   "execution_count": 418,
   "id": "734a0594",
   "metadata": {},
   "outputs": [
    {
     "data": {
      "text/plain": [
       "list"
      ]
     },
     "execution_count": 418,
     "metadata": {},
     "output_type": "execute_result"
    }
   ],
   "source": [
    "type(a)"
   ]
  },
  {
   "cell_type": "code",
   "execution_count": 419,
   "id": "c464cee8",
   "metadata": {},
   "outputs": [],
   "source": [
    "b = a"
   ]
  },
  {
   "cell_type": "code",
   "execution_count": 420,
   "id": "bd40afaa",
   "metadata": {},
   "outputs": [
    {
     "data": {
      "text/plain": [
       "[1, 2, 3]"
      ]
     },
     "execution_count": 420,
     "metadata": {},
     "output_type": "execute_result"
    }
   ],
   "source": [
    "b"
   ]
  },
  {
   "cell_type": "code",
   "execution_count": 421,
   "id": "1bdd7c14",
   "metadata": {},
   "outputs": [
    {
     "data": {
      "text/plain": [
       "list"
      ]
     },
     "execution_count": 421,
     "metadata": {},
     "output_type": "execute_result"
    }
   ],
   "source": [
    "type(b)"
   ]
  },
  {
   "cell_type": "code",
   "execution_count": 422,
   "id": "35b6aaa6",
   "metadata": {},
   "outputs": [
    {
     "data": {
      "text/plain": [
       "1"
      ]
     },
     "execution_count": 422,
     "metadata": {},
     "output_type": "execute_result"
    }
   ],
   "source": [
    "b[0]"
   ]
  },
  {
   "cell_type": "code",
   "execution_count": 423,
   "id": "4cf05059",
   "metadata": {},
   "outputs": [],
   "source": [
    "b[0] = 100"
   ]
  },
  {
   "cell_type": "code",
   "execution_count": 424,
   "id": "bafb4bc1",
   "metadata": {},
   "outputs": [
    {
     "data": {
      "text/plain": [
       "[100, 2, 3]"
      ]
     },
     "execution_count": 424,
     "metadata": {},
     "output_type": "execute_result"
    }
   ],
   "source": [
    "b"
   ]
  },
  {
   "cell_type": "markdown",
   "id": "be935f4e",
   "metadata": {},
   "source": [
    "Now, the question is, what happens to ```a```"
   ]
  },
  {
   "cell_type": "code",
   "execution_count": 425,
   "id": "f3cfd9cb",
   "metadata": {},
   "outputs": [
    {
     "data": {
      "text/plain": [
       "[100, 2, 3]"
      ]
     },
     "execution_count": 425,
     "metadata": {},
     "output_type": "execute_result"
    }
   ],
   "source": [
    "a"
   ]
  },
  {
   "cell_type": "markdown",
   "id": "09a39f71",
   "metadata": {},
   "source": [
    "### What is going on !!!!!\n",
    "\n",
    "![](https://media2.giphy.com/media/ASAcbA1TTEwWbbImTG/giphy.gif?cid=ecf05e47ebwirl8jbj87o1vafv2whdgmfkouahwhmofjucib&rid=giphy.gif&ct=g)"
   ]
  },
  {
   "cell_type": "code",
   "execution_count": 426,
   "id": "2ab501c1",
   "metadata": {},
   "outputs": [],
   "source": [
    "a = [1,2,3]\n",
    "b = a"
   ]
  },
  {
   "cell_type": "code",
   "execution_count": 427,
   "id": "f14a6de0",
   "metadata": {},
   "outputs": [
    {
     "data": {
      "text/plain": [
       "[1, 2, 3]"
      ]
     },
     "execution_count": 427,
     "metadata": {},
     "output_type": "execute_result"
    }
   ],
   "source": [
    "a"
   ]
  },
  {
   "cell_type": "code",
   "execution_count": 428,
   "id": "46d1aa5c",
   "metadata": {},
   "outputs": [
    {
     "data": {
      "text/plain": [
       "[1, 2, 3]"
      ]
     },
     "execution_count": 428,
     "metadata": {},
     "output_type": "execute_result"
    }
   ],
   "source": [
    "b"
   ]
  },
  {
   "cell_type": "code",
   "execution_count": 429,
   "id": "42735128",
   "metadata": {},
   "outputs": [],
   "source": [
    "a[0] = 100"
   ]
  },
  {
   "cell_type": "code",
   "execution_count": 430,
   "id": "a841ac44",
   "metadata": {},
   "outputs": [
    {
     "data": {
      "text/plain": [
       "[100, 2, 3]"
      ]
     },
     "execution_count": 430,
     "metadata": {},
     "output_type": "execute_result"
    }
   ],
   "source": [
    "a"
   ]
  },
  {
   "cell_type": "code",
   "execution_count": 431,
   "id": "9907051a",
   "metadata": {},
   "outputs": [
    {
     "data": {
      "text/plain": [
       "[100, 2, 3]"
      ]
     },
     "execution_count": 431,
     "metadata": {},
     "output_type": "execute_result"
    }
   ],
   "source": [
    "b"
   ]
  },
  {
   "cell_type": "markdown",
   "id": "48b94124",
   "metadata": {},
   "source": [
    "# Explanation"
   ]
  },
  {
   "cell_type": "code",
   "execution_count": 433,
   "id": "c2c17dcc",
   "metadata": {},
   "outputs": [],
   "source": [
    "a = [1,2,3]"
   ]
  },
  {
   "cell_type": "code",
   "execution_count": 434,
   "id": "dd5d45a3",
   "metadata": {},
   "outputs": [
    {
     "data": {
      "text/plain": [
       "[1, 2, 3]"
      ]
     },
     "execution_count": 434,
     "metadata": {},
     "output_type": "execute_result"
    }
   ],
   "source": [
    "a"
   ]
  },
  {
   "cell_type": "code",
   "execution_count": null,
   "id": "a2e97d4c",
   "metadata": {},
   "outputs": [],
   "source": [
    "b = a"
   ]
  },
  {
   "cell_type": "markdown",
   "id": "2836ce39",
   "metadata": {},
   "source": [
    "What ends up happening"
   ]
  },
  {
   "cell_type": "code",
   "execution_count": 435,
   "id": "d097a02b",
   "metadata": {},
   "outputs": [],
   "source": [
    "a = [1,2,3]\n",
    "b = a\n",
    "c = a\n",
    "d = a\n",
    "e = a"
   ]
  },
  {
   "cell_type": "code",
   "execution_count": 452,
   "id": "e5464d0a",
   "metadata": {},
   "outputs": [],
   "source": [
    "a = [1,2,3]\n",
    "b = a\n",
    "c = b\n",
    "d = c\n",
    "e = d"
   ]
  },
  {
   "cell_type": "code",
   "execution_count": 460,
   "id": "1c5be4b8",
   "metadata": {},
   "outputs": [
    {
     "data": {
      "text/plain": [
       "[1, 200, 3]"
      ]
     },
     "execution_count": 460,
     "metadata": {},
     "output_type": "execute_result"
    }
   ],
   "source": [
    "a"
   ]
  },
  {
   "cell_type": "code",
   "execution_count": 461,
   "id": "614037d4",
   "metadata": {},
   "outputs": [
    {
     "data": {
      "text/plain": [
       "[1, 200, 3]"
      ]
     },
     "execution_count": 461,
     "metadata": {},
     "output_type": "execute_result"
    }
   ],
   "source": [
    "b"
   ]
  },
  {
   "cell_type": "code",
   "execution_count": 462,
   "id": "67570a6a",
   "metadata": {},
   "outputs": [
    {
     "data": {
      "text/plain": [
       "[1, 200, 3]"
      ]
     },
     "execution_count": 462,
     "metadata": {},
     "output_type": "execute_result"
    }
   ],
   "source": [
    "c"
   ]
  },
  {
   "cell_type": "code",
   "execution_count": 463,
   "id": "68a64713",
   "metadata": {
    "scrolled": true
   },
   "outputs": [
    {
     "data": {
      "text/plain": [
       "[1, 200, 3]"
      ]
     },
     "execution_count": 463,
     "metadata": {},
     "output_type": "execute_result"
    }
   ],
   "source": [
    "d"
   ]
  },
  {
   "cell_type": "code",
   "execution_count": 464,
   "id": "47e77857",
   "metadata": {},
   "outputs": [
    {
     "data": {
      "text/plain": [
       "[1, 200, 3]"
      ]
     },
     "execution_count": 464,
     "metadata": {},
     "output_type": "execute_result"
    }
   ],
   "source": [
    "e"
   ]
  },
  {
   "cell_type": "code",
   "execution_count": 458,
   "id": "f8e37be0",
   "metadata": {},
   "outputs": [],
   "source": [
    "e[1] = 200"
   ]
  },
  {
   "cell_type": "code",
   "execution_count": 459,
   "id": "f841382c",
   "metadata": {},
   "outputs": [
    {
     "data": {
      "text/plain": [
       "[1, 200, 3]"
      ]
     },
     "execution_count": 459,
     "metadata": {},
     "output_type": "execute_result"
    }
   ],
   "source": [
    "e"
   ]
  },
  {
   "cell_type": "markdown",
   "id": "a8ea3fd1",
   "metadata": {},
   "source": [
    "# This is a phenomenon of python \n",
    "Now, the question becomes, how to avoid this."
   ]
  },
  {
   "cell_type": "code",
   "execution_count": 465,
   "id": "9556cc1d",
   "metadata": {},
   "outputs": [],
   "source": [
    "a = [1,2,3]"
   ]
  },
  {
   "cell_type": "code",
   "execution_count": 467,
   "id": "bff26b43",
   "metadata": {},
   "outputs": [],
   "source": [
    "b = a.copy()"
   ]
  },
  {
   "cell_type": "code",
   "execution_count": 469,
   "id": "f69e6260",
   "metadata": {},
   "outputs": [
    {
     "data": {
      "text/plain": [
       "[1, 2, 3]"
      ]
     },
     "execution_count": 469,
     "metadata": {},
     "output_type": "execute_result"
    }
   ],
   "source": [
    "a"
   ]
  },
  {
   "cell_type": "code",
   "execution_count": 470,
   "id": "fb74e713",
   "metadata": {},
   "outputs": [
    {
     "data": {
      "text/plain": [
       "[1, 2, 3]"
      ]
     },
     "execution_count": 470,
     "metadata": {},
     "output_type": "execute_result"
    }
   ],
   "source": [
    "b"
   ]
  },
  {
   "cell_type": "code",
   "execution_count": 473,
   "id": "ebcc94c9",
   "metadata": {},
   "outputs": [],
   "source": [
    "b[0] = 100"
   ]
  },
  {
   "cell_type": "code",
   "execution_count": 474,
   "id": "3153af2c",
   "metadata": {},
   "outputs": [
    {
     "data": {
      "text/plain": [
       "[100, 2, 3]"
      ]
     },
     "execution_count": 474,
     "metadata": {},
     "output_type": "execute_result"
    }
   ],
   "source": [
    "b"
   ]
  },
  {
   "cell_type": "code",
   "execution_count": 472,
   "id": "9bc3213a",
   "metadata": {},
   "outputs": [
    {
     "data": {
      "text/plain": [
       "[1, 2, 3]"
      ]
     },
     "execution_count": 472,
     "metadata": {},
     "output_type": "execute_result"
    }
   ],
   "source": [
    "a"
   ]
  },
  {
   "cell_type": "markdown",
   "id": "5a5c19e0",
   "metadata": {},
   "source": [
    "# Some methods update, some methods return"
   ]
  },
  {
   "cell_type": "code",
   "execution_count": null,
   "id": "7ed4bafa",
   "metadata": {},
   "outputs": [],
   "source": []
  }
 ],
 "metadata": {
  "kernelspec": {
   "display_name": "Python 3 (ipykernel)",
   "language": "python",
   "name": "python3"
  },
  "language_info": {
   "codemirror_mode": {
    "name": "ipython",
    "version": 3
   },
   "file_extension": ".py",
   "mimetype": "text/x-python",
   "name": "python",
   "nbconvert_exporter": "python",
   "pygments_lexer": "ipython3",
   "version": "3.9.16"
  }
 },
 "nbformat": 4,
 "nbformat_minor": 5
}
