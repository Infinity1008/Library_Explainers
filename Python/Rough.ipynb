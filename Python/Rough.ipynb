{
 "cells": [
  {
   "cell_type": "markdown",
   "id": "c79738d8",
   "metadata": {},
   "source": [
    "<h1><Center>Miscellaneous</Center></h1>"
   ]
  },
  {
   "cell_type": "markdown",
   "id": "207fda61",
   "metadata": {},
   "source": [
    "### Python data copying"
   ]
  },
  {
   "cell_type": "code",
   "execution_count": 71,
   "id": "4426cded",
   "metadata": {},
   "outputs": [],
   "source": [
    "a = [1,2,3]"
   ]
  },
  {
   "cell_type": "code",
   "execution_count": 72,
   "id": "3c5def62",
   "metadata": {},
   "outputs": [
    {
     "data": {
      "text/plain": [
       "[1, 2, 3]"
      ]
     },
     "execution_count": 72,
     "metadata": {},
     "output_type": "execute_result"
    }
   ],
   "source": [
    "a"
   ]
  },
  {
   "cell_type": "code",
   "execution_count": 73,
   "id": "3c5d6da8",
   "metadata": {},
   "outputs": [],
   "source": [
    "b = a"
   ]
  },
  {
   "cell_type": "code",
   "execution_count": 74,
   "id": "fc5be2b5",
   "metadata": {},
   "outputs": [
    {
     "data": {
      "text/plain": [
       "[1, 2, 3]"
      ]
     },
     "execution_count": 74,
     "metadata": {},
     "output_type": "execute_result"
    }
   ],
   "source": [
    "a"
   ]
  },
  {
   "cell_type": "code",
   "execution_count": 75,
   "id": "c86c7950",
   "metadata": {},
   "outputs": [
    {
     "data": {
      "text/plain": [
       "[1, 2, 3]"
      ]
     },
     "execution_count": 75,
     "metadata": {},
     "output_type": "execute_result"
    }
   ],
   "source": [
    "b"
   ]
  },
  {
   "cell_type": "code",
   "execution_count": 76,
   "id": "303d3564",
   "metadata": {},
   "outputs": [],
   "source": [
    "b[0] = 10"
   ]
  },
  {
   "cell_type": "code",
   "execution_count": 78,
   "id": "64756e69",
   "metadata": {},
   "outputs": [
    {
     "data": {
      "text/plain": [
       "[10, 2, 3]"
      ]
     },
     "execution_count": 78,
     "metadata": {},
     "output_type": "execute_result"
    }
   ],
   "source": [
    "b"
   ]
  },
  {
   "cell_type": "markdown",
   "id": "bef0cd0e",
   "metadata": {},
   "source": [
    "#### Now, what does a look like."
   ]
  },
  {
   "cell_type": "code",
   "execution_count": 79,
   "id": "f6ce7afa",
   "metadata": {},
   "outputs": [
    {
     "data": {
      "text/plain": [
       "[10, 2, 3]"
      ]
     },
     "execution_count": 79,
     "metadata": {},
     "output_type": "execute_result"
    }
   ],
   "source": [
    "a"
   ]
  },
  {
   "cell_type": "code",
   "execution_count": 87,
   "id": "7295ca0f",
   "metadata": {},
   "outputs": [],
   "source": [
    "a = [1,2,3]"
   ]
  },
  {
   "cell_type": "markdown",
   "id": "3b83a7fc",
   "metadata": {},
   "source": [
    "#### If you do not want that"
   ]
  },
  {
   "cell_type": "code",
   "execution_count": 88,
   "id": "28da86cc",
   "metadata": {},
   "outputs": [],
   "source": [
    "b = a.copy()"
   ]
  },
  {
   "cell_type": "code",
   "execution_count": 89,
   "id": "907fd635",
   "metadata": {},
   "outputs": [
    {
     "data": {
      "text/plain": [
       "[1, 2, 3]"
      ]
     },
     "execution_count": 89,
     "metadata": {},
     "output_type": "execute_result"
    }
   ],
   "source": [
    "a"
   ]
  },
  {
   "cell_type": "code",
   "execution_count": 90,
   "id": "19efd31c",
   "metadata": {},
   "outputs": [
    {
     "data": {
      "text/plain": [
       "[1, 2, 3]"
      ]
     },
     "execution_count": 90,
     "metadata": {},
     "output_type": "execute_result"
    }
   ],
   "source": [
    "b"
   ]
  },
  {
   "cell_type": "code",
   "execution_count": 91,
   "id": "e9b7c988",
   "metadata": {},
   "outputs": [
    {
     "data": {
      "text/plain": [
       "1"
      ]
     },
     "execution_count": 91,
     "metadata": {},
     "output_type": "execute_result"
    }
   ],
   "source": [
    "a[0]"
   ]
  },
  {
   "cell_type": "code",
   "execution_count": 92,
   "id": "9f814c92",
   "metadata": {},
   "outputs": [],
   "source": [
    "a[0] = 10"
   ]
  },
  {
   "cell_type": "code",
   "execution_count": 93,
   "id": "f6f1ec14",
   "metadata": {},
   "outputs": [
    {
     "data": {
      "text/plain": [
       "[10, 2, 3]"
      ]
     },
     "execution_count": 93,
     "metadata": {},
     "output_type": "execute_result"
    }
   ],
   "source": [
    "a"
   ]
  },
  {
   "cell_type": "code",
   "execution_count": 94,
   "id": "698caf49",
   "metadata": {},
   "outputs": [
    {
     "data": {
      "text/plain": [
       "[1, 2, 3]"
      ]
     },
     "execution_count": 94,
     "metadata": {},
     "output_type": "execute_result"
    }
   ],
   "source": [
    "b"
   ]
  },
  {
   "cell_type": "markdown",
   "id": "7fc5faef",
   "metadata": {},
   "source": [
    "----"
   ]
  },
  {
   "cell_type": "code",
   "execution_count": 100,
   "id": "57000c7d",
   "metadata": {},
   "outputs": [],
   "source": [
    "a = [1,2,3]"
   ]
  },
  {
   "cell_type": "code",
   "execution_count": 101,
   "id": "46d8c4d5",
   "metadata": {},
   "outputs": [
    {
     "data": {
      "text/plain": [
       "[1, 2, 3]"
      ]
     },
     "execution_count": 101,
     "metadata": {},
     "output_type": "execute_result"
    }
   ],
   "source": [
    "a"
   ]
  },
  {
   "cell_type": "code",
   "execution_count": 102,
   "id": "03f37ede",
   "metadata": {},
   "outputs": [],
   "source": [
    "a.reverse()"
   ]
  },
  {
   "cell_type": "code",
   "execution_count": 103,
   "id": "6d1f626b",
   "metadata": {},
   "outputs": [
    {
     "data": {
      "text/plain": [
       "[3, 2, 1]"
      ]
     },
     "execution_count": 103,
     "metadata": {},
     "output_type": "execute_result"
    }
   ],
   "source": [
    "a"
   ]
  },
  {
   "cell_type": "code",
   "execution_count": 104,
   "id": "70106b02",
   "metadata": {},
   "outputs": [],
   "source": [
    "a = [2,10,5]"
   ]
  },
  {
   "cell_type": "code",
   "execution_count": 108,
   "id": "3fe537c6",
   "metadata": {},
   "outputs": [],
   "source": [
    "a.sort(reverse=True)"
   ]
  },
  {
   "cell_type": "code",
   "execution_count": 109,
   "id": "f638f622",
   "metadata": {},
   "outputs": [
    {
     "data": {
      "text/plain": [
       "[10, 5, 2]"
      ]
     },
     "execution_count": 109,
     "metadata": {},
     "output_type": "execute_result"
    }
   ],
   "source": [
    "a"
   ]
  },
  {
   "cell_type": "markdown",
   "id": "1f9201bd",
   "metadata": {},
   "source": [
    "### Tuples"
   ]
  },
  {
   "cell_type": "code",
   "execution_count": 110,
   "id": "950e9b8a",
   "metadata": {},
   "outputs": [],
   "source": [
    "fruits = [\"apple\", \"banana\", \"cherry\"]\n",
    "tup_fruits = (\"apple\", \"banana\", \"cherry\")"
   ]
  },
  {
   "cell_type": "code",
   "execution_count": 118,
   "id": "250bf99d",
   "metadata": {},
   "outputs": [],
   "source": [
    "fruits[0] = 'kiwi'"
   ]
  },
  {
   "cell_type": "code",
   "execution_count": 120,
   "id": "989bc12c",
   "metadata": {},
   "outputs": [
    {
     "ename": "TypeError",
     "evalue": "'tuple' object does not support item assignment",
     "output_type": "error",
     "traceback": [
      "\u001b[0;31m---------------------------------------------------------------------------\u001b[0m",
      "\u001b[0;31mTypeError\u001b[0m                                 Traceback (most recent call last)",
      "Input \u001b[0;32mIn [120]\u001b[0m, in \u001b[0;36m<cell line: 1>\u001b[0;34m()\u001b[0m\n\u001b[0;32m----> 1\u001b[0m tup_fruits[\u001b[38;5;241m0\u001b[39m] \u001b[38;5;241m=\u001b[39m \u001b[38;5;124m'\u001b[39m\u001b[38;5;124mkiwi\u001b[39m\u001b[38;5;124m'\u001b[39m\n",
      "\u001b[0;31mTypeError\u001b[0m: 'tuple' object does not support item assignment"
     ]
    }
   ],
   "source": [
    "tup_fruits[0] = 'kiwi'"
   ]
  },
  {
   "cell_type": "code",
   "execution_count": 125,
   "id": "31ad23c5",
   "metadata": {},
   "outputs": [
    {
     "data": {
      "text/plain": [
       "'cherry'"
      ]
     },
     "execution_count": 125,
     "metadata": {},
     "output_type": "execute_result"
    }
   ],
   "source": [
    "fruits[2]"
   ]
  },
  {
   "cell_type": "code",
   "execution_count": 41,
   "id": "5c4a1d37",
   "metadata": {},
   "outputs": [
    {
     "ename": "SyntaxError",
     "evalue": "invalid syntax (2118831276.py, line 39)",
     "output_type": "error",
     "traceback": [
      "\u001b[0;36m  File \u001b[0;32m\"/var/folders/qm/dbhwkv990ggf8k64763bvn1w0000gn/T/ipykernel_6676/2118831276.py\"\u001b[0;36m, line \u001b[0;32m39\u001b[0m\n\u001b[0;31m    ----\u001b[0m\n\u001b[0m        ^\u001b[0m\n\u001b[0;31mSyntaxError\u001b[0m\u001b[0;31m:\u001b[0m invalid syntax\n"
     ]
    }
   ],
   "source": [
    "### Python data copying\n",
    "\n",
    "a = [1,2,3]\n",
    "\n",
    "a\n",
    "\n",
    "b = a\n",
    "\n",
    "a\n",
    "\n",
    "b\n",
    "\n",
    "b[0] = 10\n",
    "\n",
    "b\n",
    "\n",
    "#### Now, what does a look like.\n",
    "\n",
    "a\n",
    "\n",
    "a = [1,2,3]\n",
    "\n",
    "#### If you do not want that\n",
    "\n",
    "b = a.copy()\n",
    "\n",
    "a\n",
    "\n",
    "b\n",
    "\n",
    "a[0]\n",
    "\n",
    "a[0] = 10\n",
    "\n",
    "a\n",
    "\n",
    "b\n",
    "\n",
    "----\n",
    "\n",
    "a = [1,2,3]\n",
    "\n",
    "a\n",
    "\n",
    "a.reverse()\n",
    "\n",
    "a\n",
    "\n",
    "a = [2,10,5]\n",
    "\n",
    "a.sort(reverse=True)\n",
    "\n",
    "a\n",
    "\n",
    "### Tuples\n",
    "\n",
    "fruits = [\"apple\", \"banana\", \"cherry\"]\n",
    "tup_fruits = (\"apple\", \"banana\", \"cherry\")\n",
    "\n",
    "fruits[0] = 'kiwi'\n",
    "\n",
    "tup_fruits[0] = 'kiwi'\n",
    "\n",
    "fruits[2]"
   ]
  },
  {
   "cell_type": "markdown",
   "id": "6f4d73bd",
   "metadata": {},
   "source": [
    "--------"
   ]
  },
  {
   "cell_type": "markdown",
   "id": "97d5008e",
   "metadata": {},
   "source": [
    "--------"
   ]
  },
  {
   "cell_type": "markdown",
   "id": "1f7abe47",
   "metadata": {},
   "source": [
    "--------"
   ]
  },
  {
   "cell_type": "markdown",
   "id": "03f93b01",
   "metadata": {},
   "source": [
    "--------"
   ]
  },
  {
   "cell_type": "markdown",
   "id": "0e545f5a",
   "metadata": {},
   "source": [
    "#### How to add item:value pairs to a dictionary"
   ]
  },
  {
   "cell_type": "code",
   "execution_count": 209,
   "id": "03786284",
   "metadata": {},
   "outputs": [],
   "source": [
    "car['year'] = 1990"
   ]
  },
  {
   "cell_type": "code",
   "execution_count": 211,
   "id": "c85ce74e",
   "metadata": {},
   "outputs": [
    {
     "data": {
      "text/plain": [
       "{'brand': 'Ford', 'year': 1990}"
      ]
     },
     "execution_count": 211,
     "metadata": {},
     "output_type": "execute_result"
    }
   ],
   "source": [
    "car"
   ]
  },
  {
   "cell_type": "markdown",
   "id": "96ed8ab2",
   "metadata": {},
   "source": [
    "#### Value assignment is possible in dictionaries"
   ]
  },
  {
   "cell_type": "code",
   "execution_count": 215,
   "id": "cddfe938",
   "metadata": {},
   "outputs": [
    {
     "ename": "KeyError",
     "evalue": "'month'",
     "output_type": "error",
     "traceback": [
      "\u001b[0;31m---------------------------------------------------------------------------\u001b[0m",
      "\u001b[0;31mKeyError\u001b[0m                                  Traceback (most recent call last)",
      "Input \u001b[0;32mIn [215]\u001b[0m, in \u001b[0;36m<cell line: 1>\u001b[0;34m()\u001b[0m\n\u001b[0;32m----> 1\u001b[0m \u001b[43mcar\u001b[49m\u001b[43m[\u001b[49m\u001b[38;5;124;43m'\u001b[39;49m\u001b[38;5;124;43mmonth\u001b[39;49m\u001b[38;5;124;43m'\u001b[39;49m\u001b[43m]\u001b[49m\n",
      "\u001b[0;31mKeyError\u001b[0m: 'month'"
     ]
    }
   ],
   "source": [
    "car['month']"
   ]
  },
  {
   "cell_type": "code",
   "execution_count": 213,
   "id": "b5629333",
   "metadata": {},
   "outputs": [],
   "source": [
    "car['color'] = 'blue'"
   ]
  },
  {
   "cell_type": "code",
   "execution_count": 231,
   "id": "d5552d5d",
   "metadata": {},
   "outputs": [
    {
     "data": {
      "text/plain": [
       "{'brand': 'Ford', 'year': 1990, 'color': 'blue', 'name': 'hero'}"
      ]
     },
     "execution_count": 231,
     "metadata": {},
     "output_type": "execute_result"
    }
   ],
   "source": [
    "car"
   ]
  },
  {
   "cell_type": "markdown",
   "id": "32199783",
   "metadata": {},
   "source": [
    "#### Approach 2"
   ]
  },
  {
   "cell_type": "code",
   "execution_count": 229,
   "id": "46b0686a",
   "metadata": {},
   "outputs": [],
   "source": [
    "car.update({'name':'hero'})"
   ]
  },
  {
   "cell_type": "code",
   "execution_count": 230,
   "id": "25684770",
   "metadata": {},
   "outputs": [
    {
     "data": {
      "text/plain": [
       "{'brand': 'Ford', 'year': 1990, 'color': 'blue', 'name': 'hero'}"
      ]
     },
     "execution_count": 230,
     "metadata": {},
     "output_type": "execute_result"
    }
   ],
   "source": [
    "car"
   ]
  },
  {
   "cell_type": "code",
   "execution_count": null,
   "id": "41dfadca",
   "metadata": {},
   "outputs": [],
   "source": []
  },
  {
   "cell_type": "code",
   "execution_count": null,
   "id": "3906b897",
   "metadata": {},
   "outputs": [],
   "source": []
  },
  {
   "cell_type": "code",
   "execution_count": null,
   "id": "091afb54",
   "metadata": {},
   "outputs": [],
   "source": []
  },
  {
   "cell_type": "code",
   "execution_count": null,
   "id": "30aade69",
   "metadata": {},
   "outputs": [],
   "source": [
    "<h1><Center>Miscellaneous</Center></h1>\n",
    "\n",
    "### Python data copying\n",
    "\n",
    "a = [1,2,3]\n",
    "\n",
    "a\n",
    "\n",
    "b = a\n",
    "\n",
    "a\n",
    "\n",
    "b\n",
    "\n",
    "b[0] = 10\n",
    "\n",
    "b\n",
    "\n",
    "#### Now, what does a look like.\n",
    "\n",
    "a\n",
    "\n",
    "a = [1,2,3]\n",
    "\n",
    "#### If you do not want that\n",
    "\n",
    "b = a.copy()\n",
    "\n",
    "a\n",
    "\n",
    "b\n",
    "\n",
    "a[0]\n",
    "\n",
    "a[0] = 10\n",
    "\n",
    "a\n",
    "\n",
    "b\n",
    "\n",
    "----\n",
    "\n",
    "a = [1,2,3]\n",
    "\n",
    "a\n",
    "\n",
    "a.reverse()\n",
    "\n",
    "a\n",
    "\n",
    "a = [2,10,5]\n",
    "\n",
    "a.sort(reverse=True)\n",
    "\n",
    "a\n",
    "\n",
    "### Tuples\n",
    "\n",
    "fruits = [\"apple\", \"banana\", \"cherry\"]\n",
    "tup_fruits = (\"apple\", \"banana\", \"cherry\")\n",
    "\n",
    "fruits[0] = 'kiwi'\n",
    "\n",
    "tup_fruits[0] = 'kiwi'\n",
    "\n",
    "fruits[2]\n",
    "\n",
    "### Python data copying\n",
    "\n",
    "a = [1,2,3]\n",
    "\n",
    "a\n",
    "\n",
    "b = a\n",
    "\n",
    "a\n",
    "\n",
    "b\n",
    "\n",
    "b[0] = 10\n",
    "\n",
    "b\n",
    "\n",
    "#### Now, what does a look like.\n",
    "\n",
    "a\n",
    "\n",
    "a = [1,2,3]\n",
    "\n",
    "#### If you do not want that\n",
    "\n",
    "b = a.copy()\n",
    "\n",
    "a\n",
    "\n",
    "b\n",
    "\n",
    "a[0]\n",
    "\n",
    "a[0] = 10\n",
    "\n",
    "a\n",
    "\n",
    "b\n",
    "\n",
    "----\n",
    "\n",
    "a = [1,2,3]\n",
    "\n",
    "a\n",
    "\n",
    "a.reverse()\n",
    "\n",
    "a\n",
    "\n",
    "a = [2,10,5]\n",
    "\n",
    "a.sort(reverse=True)\n",
    "\n",
    "a\n",
    "\n",
    "### Tuples\n",
    "\n",
    "fruits = [\"apple\", \"banana\", \"cherry\"]\n",
    "tup_fruits = (\"apple\", \"banana\", \"cherry\")\n",
    "\n",
    "fruits[0] = 'kiwi'\n",
    "\n",
    "tup_fruits[0] = 'kiwi'\n",
    "\n",
    "fruits[2]\n",
    "\n",
    "--------\n",
    "\n",
    "--------\n",
    "\n",
    "--------\n",
    "\n",
    "--------\n",
    "\n",
    "#### How to add item:value pairs to a dictionary\n",
    "\n",
    "car['year'] = 1990\n",
    "\n",
    "car\n",
    "\n",
    "#### Value assignment is possible in dictionaries\n",
    "\n",
    "car['month']\n",
    "\n",
    "car['color'] = 'blue'\n",
    "\n",
    "car\n",
    "\n",
    "#### Approach 2\n",
    "\n",
    "car.update({'name':'hero'})\n",
    "\n",
    "car\n",
    "\n",
    "\n",
    "\n",
    "\n",
    "\n"
   ]
  }
 ],
 "metadata": {
  "kernelspec": {
   "display_name": "Python 3 (ipykernel)",
   "language": "python",
   "name": "python3"
  },
  "language_info": {
   "codemirror_mode": {
    "name": "ipython",
    "version": 3
   },
   "file_extension": ".py",
   "mimetype": "text/x-python",
   "name": "python",
   "nbconvert_exporter": "python",
   "pygments_lexer": "ipython3",
   "version": "3.7.15"
  }
 },
 "nbformat": 4,
 "nbformat_minor": 5
}
