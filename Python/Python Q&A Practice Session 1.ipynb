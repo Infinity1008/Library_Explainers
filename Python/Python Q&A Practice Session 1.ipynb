{
 "cells": [
  {
   "cell_type": "markdown",
   "id": "10de4649",
   "metadata": {},
   "source": [
    "## Python Practice"
   ]
  },
  {
   "cell_type": "markdown",
   "id": "4f65f323",
   "metadata": {},
   "source": [
    "### Strings"
   ]
  },
  {
   "cell_type": "markdown",
   "id": "e958f7b3",
   "metadata": {},
   "source": [
    "### Question 1\n",
    "Get the first character of the string txt."
   ]
  },
  {
   "cell_type": "code",
   "execution_count": 11,
   "id": "0eb366d1",
   "metadata": {},
   "outputs": [],
   "source": [
    "txt = \"Hello World\""
   ]
  },
  {
   "cell_type": "code",
   "execution_count": 12,
   "id": "15c70f50",
   "metadata": {},
   "outputs": [],
   "source": [
    "# Write your code here"
   ]
  },
  {
   "cell_type": "markdown",
   "id": "f361dfd0",
   "metadata": {},
   "source": [
    "#### Answer"
   ]
  },
  {
   "cell_type": "code",
   "execution_count": 36,
   "id": "fa1be0eb",
   "metadata": {},
   "outputs": [
    {
     "data": {
      "text/plain": [
       "'H'"
      ]
     },
     "execution_count": 36,
     "metadata": {},
     "output_type": "execute_result"
    }
   ],
   "source": [
    "txt[0]"
   ]
  },
  {
   "cell_type": "markdown",
   "id": "f4b6be9d",
   "metadata": {},
   "source": [
    "### Question 2\n",
    "Get the second last character of the given string txt."
   ]
  },
  {
   "cell_type": "code",
   "execution_count": 10,
   "id": "3c1aa9c8",
   "metadata": {},
   "outputs": [],
   "source": [
    "txt = \"Hello World\""
   ]
  },
  {
   "cell_type": "code",
   "execution_count": null,
   "id": "1974f51a",
   "metadata": {},
   "outputs": [],
   "source": [
    "# Write your code here"
   ]
  },
  {
   "cell_type": "code",
   "execution_count": 2,
   "id": "0ae5f64e",
   "metadata": {},
   "outputs": [
    {
     "name": "stdout",
     "output_type": "stream",
     "text": [
      "d\n",
      "l\n",
      "r\n",
      "o\n",
      "W\n"
     ]
    }
   ],
   "source": [
    "print(txt[-1])\n",
    "print(txt[-2])\n",
    "print(txt[-3])\n",
    "print(txt[-4])\n",
    "print(txt[-5])"
   ]
  },
  {
   "cell_type": "markdown",
   "id": "740d1e5c",
   "metadata": {},
   "source": [
    "#### Answer"
   ]
  },
  {
   "cell_type": "code",
   "execution_count": 45,
   "id": "72617559",
   "metadata": {},
   "outputs": [
    {
     "data": {
      "text/plain": [
       "'l'"
      ]
     },
     "execution_count": 45,
     "metadata": {},
     "output_type": "execute_result"
    }
   ],
   "source": [
    "txt[-2]"
   ]
  },
  {
   "cell_type": "markdown",
   "id": "39554dcb",
   "metadata": {},
   "source": [
    "### Question 3\n",
    "Get the characters from index 2 to index 4 (ll)."
   ]
  },
  {
   "cell_type": "code",
   "execution_count": 5,
   "id": "2968fc75",
   "metadata": {},
   "outputs": [],
   "source": [
    "txt = \"Hello World\""
   ]
  },
  {
   "cell_type": "code",
   "execution_count": null,
   "id": "b3ee34e7",
   "metadata": {},
   "outputs": [],
   "source": [
    "# Write your code here"
   ]
  },
  {
   "cell_type": "markdown",
   "id": "004516fd",
   "metadata": {},
   "source": [
    "#### Answer"
   ]
  },
  {
   "cell_type": "code",
   "execution_count": 8,
   "id": "53298207",
   "metadata": {},
   "outputs": [
    {
     "data": {
      "text/plain": [
       "'llo Wo'"
      ]
     },
     "execution_count": 8,
     "metadata": {},
     "output_type": "execute_result"
    }
   ],
   "source": [
    "# What is included and what is not, the starting item is included and the last one is not\n",
    "txt[2:8]"
   ]
  },
  {
   "cell_type": "code",
   "execution_count": 9,
   "id": "c5533b32",
   "metadata": {},
   "outputs": [
    {
     "data": {
      "text/plain": [
       "'llo Wo'"
      ]
     },
     "execution_count": 9,
     "metadata": {},
     "output_type": "execute_result"
    }
   ],
   "source": [
    "# Get the characters from index 2 to index 4 (ll).\n",
    "txt = \"Hello World\"\n",
    "txt[2:8]"
   ]
  },
  {
   "cell_type": "markdown",
   "id": "b10a7638",
   "metadata": {},
   "source": [
    "### Question 4\n",
    "Return the string without any whitespace at the beginning or the end."
   ]
  },
  {
   "cell_type": "code",
   "execution_count": 13,
   "id": "37b74688",
   "metadata": {},
   "outputs": [],
   "source": [
    "txt = \" Hello World \""
   ]
  },
  {
   "cell_type": "code",
   "execution_count": 21,
   "id": "9175a73a",
   "metadata": {},
   "outputs": [],
   "source": [
    "# Write your code here"
   ]
  },
  {
   "cell_type": "code",
   "execution_count": 15,
   "id": "c3f4cfb3",
   "metadata": {},
   "outputs": [
    {
     "data": {
      "text/plain": [
       "str"
      ]
     },
     "execution_count": 15,
     "metadata": {},
     "output_type": "execute_result"
    }
   ],
   "source": [
    "type(txt)"
   ]
  },
  {
   "cell_type": "markdown",
   "id": "36b17db9",
   "metadata": {},
   "source": [
    "#### Answer"
   ]
  },
  {
   "cell_type": "code",
   "execution_count": 63,
   "id": "fe30857f",
   "metadata": {},
   "outputs": [
    {
     "data": {
      "text/plain": [
       "' Hello World '"
      ]
     },
     "execution_count": 63,
     "metadata": {},
     "output_type": "execute_result"
    }
   ],
   "source": [
    "txt"
   ]
  },
  {
   "cell_type": "code",
   "execution_count": 61,
   "id": "f19c916c",
   "metadata": {},
   "outputs": [
    {
     "data": {
      "text/plain": [
       "'Hello World'"
      ]
     },
     "execution_count": 61,
     "metadata": {},
     "output_type": "execute_result"
    }
   ],
   "source": [
    "txt.strip()"
   ]
  },
  {
   "cell_type": "markdown",
   "id": "f7ef13e9",
   "metadata": {},
   "source": [
    "### Question 5\n",
    "Convert the value of txt to lower case."
   ]
  },
  {
   "cell_type": "code",
   "execution_count": 22,
   "id": "d6a01a25",
   "metadata": {},
   "outputs": [],
   "source": [
    "txt = \" Hello World \""
   ]
  },
  {
   "cell_type": "code",
   "execution_count": 24,
   "id": "fa6a3e77",
   "metadata": {},
   "outputs": [],
   "source": [
    "# Write your code here"
   ]
  },
  {
   "cell_type": "markdown",
   "id": "a2feb179",
   "metadata": {},
   "source": [
    "#### Answer"
   ]
  },
  {
   "cell_type": "code",
   "execution_count": 18,
   "id": "05682a45",
   "metadata": {},
   "outputs": [
    {
     "data": {
      "text/plain": [
       "str"
      ]
     },
     "execution_count": 18,
     "metadata": {},
     "output_type": "execute_result"
    }
   ],
   "source": [
    "type(txt)"
   ]
  },
  {
   "cell_type": "code",
   "execution_count": 19,
   "id": "4934a762",
   "metadata": {},
   "outputs": [
    {
     "data": {
      "text/plain": [
       "' hello world '"
      ]
     },
     "execution_count": 19,
     "metadata": {},
     "output_type": "execute_result"
    }
   ],
   "source": [
    "txt.lower()"
   ]
  },
  {
   "cell_type": "markdown",
   "id": "b3d11cda",
   "metadata": {},
   "source": [
    "### Question 6\n",
    "Count how many times \"l\" appeared in the text"
   ]
  },
  {
   "cell_type": "code",
   "execution_count": 28,
   "id": "cc13c68d",
   "metadata": {},
   "outputs": [],
   "source": [
    "txt = \"hello world\""
   ]
  },
  {
   "cell_type": "code",
   "execution_count": 29,
   "id": "fa24f1e0",
   "metadata": {},
   "outputs": [
    {
     "data": {
      "text/plain": [
       "'hello world'"
      ]
     },
     "execution_count": 29,
     "metadata": {},
     "output_type": "execute_result"
    }
   ],
   "source": [
    "txt"
   ]
  },
  {
   "cell_type": "code",
   "execution_count": 24,
   "id": "968b7f9f",
   "metadata": {},
   "outputs": [],
   "source": [
    "# Write your code here"
   ]
  },
  {
   "cell_type": "markdown",
   "id": "c3dc65eb",
   "metadata": {},
   "source": [
    "#### Answer"
   ]
  },
  {
   "cell_type": "code",
   "execution_count": 30,
   "id": "65fd233d",
   "metadata": {},
   "outputs": [
    {
     "data": {
      "text/plain": [
       "3"
      ]
     },
     "execution_count": 30,
     "metadata": {},
     "output_type": "execute_result"
    }
   ],
   "source": [
    "txt.count('l')"
   ]
  },
  {
   "cell_type": "markdown",
   "id": "ee4c32ae",
   "metadata": {},
   "source": [
    "**Another example**"
   ]
  },
  {
   "cell_type": "code",
   "execution_count": 31,
   "id": "104bd3e2",
   "metadata": {},
   "outputs": [],
   "source": [
    "big_text = \"The Second Punic War (218–201 BC) was the second of three wars fought between Carthage and Rome, the two main powers of the western Mediterranean in the 3rd century BC. For 17 years the two states struggled for supremacy. After immense materiel and human losses on both sides the Carthaginians were defeated. Macedonia, Syracuse and several Numidian kingdoms were drawn into the fighting, and Iberian and Gallic forces fought on both sides. There were three main military theatres during the war: Italy, where Hannibal defeated the Roman legions repeatedly, with occasional subsidiary campaigns on the islands of Sicily and Sardinia and in Greece; Iberia, where Hasdrubal, a younger brother of Hannibal, defended the Carthaginian colonial cities with mixed success before moving into Italy; and North Africa, where Rome finally won the war. \""
   ]
  },
  {
   "cell_type": "code",
   "execution_count": 32,
   "id": "31420501",
   "metadata": {},
   "outputs": [
    {
     "data": {
      "text/plain": [
       "'The Second Punic War (218–201 BC) was the second of three wars fought between Carthage and Rome, the two main powers of the western Mediterranean in the 3rd century BC. For 17 years the two states struggled for supremacy. After immense materiel and human losses on both sides the Carthaginians were defeated. Macedonia, Syracuse and several Numidian kingdoms were drawn into the fighting, and Iberian and Gallic forces fought on both sides. There were three main military theatres during the war: Italy, where Hannibal defeated the Roman legions repeatedly, with occasional subsidiary campaigns on the islands of Sicily and Sardinia and in Greece; Iberia, where Hasdrubal, a younger brother of Hannibal, defended the Carthaginian colonial cities with mixed success before moving into Italy; and North Africa, where Rome finally won the war. '"
      ]
     },
     "execution_count": 32,
     "metadata": {},
     "output_type": "execute_result"
    }
   ],
   "source": [
    "big_text"
   ]
  },
  {
   "cell_type": "code",
   "execution_count": 33,
   "id": "4ca7ea00",
   "metadata": {},
   "outputs": [
    {
     "data": {
      "text/plain": [
       "14"
      ]
     },
     "execution_count": 33,
     "metadata": {},
     "output_type": "execute_result"
    }
   ],
   "source": [
    "big_text.count(\"the\")"
   ]
  },
  {
   "cell_type": "markdown",
   "id": "3cf48798",
   "metadata": {},
   "source": [
    "### Question 7\n",
    "Replace the character H with a J."
   ]
  },
  {
   "cell_type": "code",
   "execution_count": 34,
   "id": "90dd70ae",
   "metadata": {},
   "outputs": [
    {
     "data": {
      "text/plain": [
       "'Hello World'"
      ]
     },
     "execution_count": 34,
     "metadata": {},
     "output_type": "execute_result"
    }
   ],
   "source": [
    "txt = \"Hello World\"\n",
    "txt"
   ]
  },
  {
   "cell_type": "code",
   "execution_count": 24,
   "id": "b4c9749e",
   "metadata": {},
   "outputs": [],
   "source": [
    "# Write your code here"
   ]
  },
  {
   "cell_type": "markdown",
   "id": "2b83dee8",
   "metadata": {},
   "source": [
    "#### Answer"
   ]
  },
  {
   "cell_type": "code",
   "execution_count": 35,
   "id": "b390cc86",
   "metadata": {},
   "outputs": [
    {
     "data": {
      "text/plain": [
       "'H'"
      ]
     },
     "execution_count": 35,
     "metadata": {},
     "output_type": "execute_result"
    }
   ],
   "source": [
    "txt[0]"
   ]
  },
  {
   "cell_type": "code",
   "execution_count": 37,
   "id": "b7ead887",
   "metadata": {},
   "outputs": [
    {
     "ename": "TypeError",
     "evalue": "'str' object does not support item assignment",
     "output_type": "error",
     "traceback": [
      "\u001b[0;31m---------------------------------------------------------------------------\u001b[0m",
      "\u001b[0;31mTypeError\u001b[0m                                 Traceback (most recent call last)",
      "\u001b[0;32m/var/folders/qm/dbhwkv990ggf8k64763bvn1w0000gn/T/ipykernel_6665/1487509120.py\u001b[0m in \u001b[0;36m<module>\u001b[0;34m\u001b[0m\n\u001b[0;32m----> 1\u001b[0;31m \u001b[0mtxt\u001b[0m\u001b[0;34m[\u001b[0m\u001b[0;36m0\u001b[0m\u001b[0;34m]\u001b[0m \u001b[0;34m=\u001b[0m \u001b[0;34m\"J\"\u001b[0m\u001b[0;34m\u001b[0m\u001b[0;34m\u001b[0m\u001b[0m\n\u001b[0m",
      "\u001b[0;31mTypeError\u001b[0m: 'str' object does not support item assignment"
     ]
    }
   ],
   "source": [
    "txt[0] = \"J\""
   ]
  },
  {
   "cell_type": "markdown",
   "id": "0d170bb3",
   "metadata": {},
   "source": [
    "That didn't work"
   ]
  },
  {
   "cell_type": "code",
   "execution_count": 41,
   "id": "a52c3e18",
   "metadata": {},
   "outputs": [
    {
     "data": {
      "text/plain": [
       "'Jello World'"
      ]
     },
     "execution_count": 41,
     "metadata": {},
     "output_type": "execute_result"
    }
   ],
   "source": [
    "txt.replace(\"H\",\"J\")"
   ]
  },
  {
   "cell_type": "markdown",
   "id": "2b050d90",
   "metadata": {},
   "source": [
    "Another Example"
   ]
  },
  {
   "cell_type": "code",
   "execution_count": 42,
   "id": "2ee2280a",
   "metadata": {},
   "outputs": [],
   "source": [
    "big_text = \"The Second Punic War (218–201 BC) was the second of three wars fought between Carthage and Rome, the two main powers of the western Mediterranean in the 3rd century BC. For 17 years the two states struggled for supremacy. After immense materiel and human losses on both sides the Carthaginians were defeated. Macedonia, Syracuse and several Numidian kingdoms were drawn into the fighting, and Iberian and Gallic forces fought on both sides. There were three main military theatres during the war: Italy, where Hannibal defeated the Roman legions repeatedly, with occasional subsidiary campaigns on the islands of Sicily and Sardinia and in Greece; Iberia, where Hasdrubal, a younger brother of Hannibal, defended the Carthaginian colonial cities with mixed success before moving into Italy; and North Africa, where Rome finally won the war. \""
   ]
  },
  {
   "cell_type": "code",
   "execution_count": 43,
   "id": "8ef7b45a",
   "metadata": {},
   "outputs": [
    {
     "data": {
      "text/plain": [
       "'The Second Punic War (218–201 BC) was the second of three wars fought between Carthage and Rome, the two main powers of the western Mediterranean in the 3rd century BC. For 17 years the two states struggled for supremacy. After immense materiel and human losses on both sides the Carthaginians were defeated. Macedonia, Syracuse and several Numidian kingdoms were drawn into the fighting, and Iberian and Gallic forces fought on both sides. There were three main military theatres during the war: Italy, where Hannibal defeated the Roman legions repeatedly, with occasional subsidiary campaigns on the islands of Sicily and Sardinia and in Greece; Iberia, where Hasdrubal, a younger brother of Hannibal, defended the Carthaginian colonial cities with mixed success before moving into Italy; and North Africa, where Rome finally won the war. '"
      ]
     },
     "execution_count": 43,
     "metadata": {},
     "output_type": "execute_result"
    }
   ],
   "source": [
    "big_text"
   ]
  },
  {
   "cell_type": "code",
   "execution_count": 44,
   "id": "bb2be7ed",
   "metadata": {},
   "outputs": [
    {
     "data": {
      "text/plain": [
       "'The Second Punic War (218–201 BC) was a second of three wars fought between Carthage and Rome, a two main powers of a western Mediterranean in a 3rd century BC. For 17 years a two states struggled for supremacy. After immense materiel and human losses on both sides a Carthaginians were defeated. Macedonia, Syracuse and several Numidian kingdoms were drawn into a fighting, and Iberian and Gallic forces fought on both sides. There were three main military aatres during a war: Italy, where Hannibal defeated a Roman legions repeatedly, with occasional subsidiary campaigns on a islands of Sicily and Sardinia and in Greece; Iberia, where Hasdrubal, a younger broar of Hannibal, defended a Carthaginian colonial cities with mixed success before moving into Italy; and North Africa, where Rome finally won a war. '"
      ]
     },
     "execution_count": 44,
     "metadata": {},
     "output_type": "execute_result"
    }
   ],
   "source": [
    "big_text.replace(\"the\",\"a\")"
   ]
  },
  {
   "cell_type": "code",
   "execution_count": 45,
   "id": "445cd65a",
   "metadata": {},
   "outputs": [
    {
     "data": {
      "text/plain": [
       "'The Second Punic Wr (218–201 BC) ws the second of three wrs fought between Crthge nd Rome, the two min powers of the western Mediterrnen in the 3rd century BC. For 17 yers the two sttes struggled for supremcy. After immense mteriel nd humn losses on both sides the Crthginins were defeted. Mcedoni, Syrcuse nd severl Numidin kingdoms were drwn into the fighting, nd Iberin nd Gllic forces fought on both sides. There were three min militry thetres during the wr: Itly, where Hnnibl defeted the Romn legions repetedly, with occsionl subsidiry cmpigns on the islnds of Sicily nd Srdini nd in Greece; Iberi, where Hsdrubl,  younger brother of Hnnibl, defended the Crthginin colonil cities with mixed success before moving into Itly; nd North Afric, where Rome finlly won the wr. '"
      ]
     },
     "execution_count": 45,
     "metadata": {},
     "output_type": "execute_result"
    }
   ],
   "source": [
    "big_text.replace(\"a\",\"\")"
   ]
  },
  {
   "cell_type": "markdown",
   "id": "98f3a68c",
   "metadata": {},
   "source": [
    "-----"
   ]
  },
  {
   "cell_type": "markdown",
   "id": "cfe9f6ae",
   "metadata": {},
   "source": [
    "### Additional Question\n",
    "Replace 'the' & 'The' & 'THE', with 'anythingyouwanttoreplacewith'"
   ]
  },
  {
   "cell_type": "code",
   "execution_count": 90,
   "id": "a14b0182",
   "metadata": {},
   "outputs": [],
   "source": [
    "big_text = \"The Second Punic War (218–201 BC) was the second of three wars fought between Carthage and Rome, the two main powers of the western Mediterranean in the 3rd century BC. For 17 years the two states struggled for supremacy. After immense materiel and human losses on both sides the Carthaginians were defeated. Macedonia, Syracuse and several Numidian kingdoms were drawn into the fighting, and Iberian and Gallic forces fought on both sides. There were three main military theatres during the war: Italy, where Hannibal defeated the Roman legions repeatedly, with occasional subsidiary campaigns on the islands of Sicily and Sardinia and in Greece; Iberia, where Hasdrubal, a younger brother of Hannibal, defended the Carthaginian colonial cities with mixed success before moving into Italy; and North Africa, where Rome finally won the war. \""
   ]
  },
  {
   "cell_type": "code",
   "execution_count": 46,
   "id": "9313e73f",
   "metadata": {},
   "outputs": [
    {
     "data": {
      "text/plain": [
       "'The Second Punic War (218–201 BC) was the second of three wars fought between Carthage and Rome, the two main powers of the western Mediterranean in the 3rd century BC. For 17 years the two states struggled for supremacy. After immense materiel and human losses on both sides the Carthaginians were defeated. Macedonia, Syracuse and several Numidian kingdoms were drawn into the fighting, and Iberian and Gallic forces fought on both sides. There were three main military theatres during the war: Italy, where Hannibal defeated the Roman legions repeatedly, with occasional subsidiary campaigns on the islands of Sicily and Sardinia and in Greece; Iberia, where Hasdrubal, a younger brother of Hannibal, defended the Carthaginian colonial cities with mixed success before moving into Italy; and North Africa, where Rome finally won the war. '"
      ]
     },
     "execution_count": 46,
     "metadata": {},
     "output_type": "execute_result"
    }
   ],
   "source": [
    "big_text"
   ]
  },
  {
   "cell_type": "code",
   "execution_count": 24,
   "id": "081f2770",
   "metadata": {},
   "outputs": [],
   "source": [
    "# Write your code here"
   ]
  },
  {
   "cell_type": "markdown",
   "id": "fef67526",
   "metadata": {},
   "source": [
    "#### Answer"
   ]
  },
  {
   "cell_type": "code",
   "execution_count": 47,
   "id": "43a6133b",
   "metadata": {},
   "outputs": [
    {
     "data": {
      "text/plain": [
       "'The Second Punic War (218–201 BC) was anythingyouwanttoreplacewith second of three wars fought between Carthage and Rome, anythingyouwanttoreplacewith two main powers of anythingyouwanttoreplacewith western Mediterranean in anythingyouwanttoreplacewith 3rd century BC. For 17 years anythingyouwanttoreplacewith two states struggled for supremacy. After immense materiel and human losses on both sides anythingyouwanttoreplacewith Carthaginians were defeated. Macedonia, Syracuse and several Numidian kingdoms were drawn into anythingyouwanttoreplacewith fighting, and Iberian and Gallic forces fought on both sides. There were three main military anythingyouwanttoreplacewithatres during anythingyouwanttoreplacewith war: Italy, where Hannibal defeated anythingyouwanttoreplacewith Roman legions repeatedly, with occasional subsidiary campaigns on anythingyouwanttoreplacewith islands of Sicily and Sardinia and in Greece; Iberia, where Hasdrubal, a younger broanythingyouwanttoreplacewithr of Hannibal, defended anythingyouwanttoreplacewith Carthaginian colonial cities with mixed success before moving into Italy; and North Africa, where Rome finally won anythingyouwanttoreplacewith war. '"
      ]
     },
     "execution_count": 47,
     "metadata": {},
     "output_type": "execute_result"
    }
   ],
   "source": [
    "big_text.lower()\n",
    "big_text.replace(\"the\",\"anythingyouwanttoreplacewith\")"
   ]
  },
  {
   "cell_type": "markdown",
   "id": "c412c0c4",
   "metadata": {},
   "source": [
    "### Question 7\n",
    "Reverse the string"
   ]
  },
  {
   "cell_type": "code",
   "execution_count": 50,
   "id": "dcc8f746",
   "metadata": {},
   "outputs": [],
   "source": [
    "txt = \"Hello World\""
   ]
  },
  {
   "cell_type": "code",
   "execution_count": 24,
   "id": "cad90938",
   "metadata": {},
   "outputs": [],
   "source": [
    "# Write your code here"
   ]
  },
  {
   "cell_type": "markdown",
   "id": "c6fe0496",
   "metadata": {},
   "source": [
    "#### Answer"
   ]
  },
  {
   "cell_type": "code",
   "execution_count": 58,
   "id": "1cbf2a6a",
   "metadata": {},
   "outputs": [
    {
     "data": {
      "text/plain": [
       "'dlroW olleH'"
      ]
     },
     "execution_count": 58,
     "metadata": {},
     "output_type": "execute_result"
    }
   ],
   "source": [
    "txt[::-1]"
   ]
  },
  {
   "cell_type": "markdown",
   "id": "8664c40b",
   "metadata": {},
   "source": [
    "The reasoning"
   ]
  },
  {
   "cell_type": "code",
   "execution_count": 59,
   "id": "cd803d50",
   "metadata": {},
   "outputs": [
    {
     "data": {
      "text/plain": [
       "'Hello Wor'"
      ]
     },
     "execution_count": 59,
     "metadata": {},
     "output_type": "execute_result"
    }
   ],
   "source": [
    "# We can use negative indexed to query from the back\n",
    "txt[-11:-2]"
   ]
  },
  {
   "cell_type": "code",
   "execution_count": 52,
   "id": "d094a201",
   "metadata": {},
   "outputs": [
    {
     "data": {
      "text/plain": [
       "'H'"
      ]
     },
     "execution_count": 52,
     "metadata": {},
     "output_type": "execute_result"
    }
   ],
   "source": [
    "txt[-11]"
   ]
  },
  {
   "cell_type": "code",
   "execution_count": 53,
   "id": "e0cee310",
   "metadata": {},
   "outputs": [
    {
     "data": {
      "text/plain": [
       "'Hello Worl'"
      ]
     },
     "execution_count": 53,
     "metadata": {},
     "output_type": "execute_result"
    }
   ],
   "source": [
    "txt[:10] # txt[from_the_beginning:10]"
   ]
  },
  {
   "cell_type": "code",
   "execution_count": 54,
   "id": "30236da9",
   "metadata": {},
   "outputs": [
    {
     "data": {
      "text/plain": [
       "' World'"
      ]
     },
     "execution_count": 54,
     "metadata": {},
     "output_type": "execute_result"
    }
   ],
   "source": [
    "txt[5:] # txt[5:till_the_end]"
   ]
  },
  {
   "cell_type": "code",
   "execution_count": 63,
   "id": "273562e6",
   "metadata": {},
   "outputs": [
    {
     "data": {
      "text/plain": [
       "'Hello World'"
      ]
     },
     "execution_count": 63,
     "metadata": {},
     "output_type": "execute_result"
    }
   ],
   "source": [
    "# When we use double \":\", we are saying give me each n'th step\n",
    "txt[::]"
   ]
  },
  {
   "cell_type": "code",
   "execution_count": 65,
   "id": "5e6d4dd3",
   "metadata": {},
   "outputs": [
    {
     "data": {
      "text/plain": [
       "'HloWrd'"
      ]
     },
     "execution_count": 65,
     "metadata": {},
     "output_type": "execute_result"
    }
   ],
   "source": [
    "# This gives me every 2nd character\n",
    "txt[::2]"
   ]
  },
  {
   "cell_type": "code",
   "execution_count": 66,
   "id": "614f6e1e",
   "metadata": {},
   "outputs": [
    {
     "data": {
      "text/plain": [
       "'HlWl'"
      ]
     },
     "execution_count": 66,
     "metadata": {},
     "output_type": "execute_result"
    }
   ],
   "source": [
    "# Every 3rd\n",
    "txt[::3]"
   ]
  },
  {
   "cell_type": "code",
   "execution_count": 67,
   "id": "be391cc1",
   "metadata": {},
   "outputs": [
    {
     "data": {
      "text/plain": [
       "' World'"
      ]
     },
     "execution_count": 67,
     "metadata": {},
     "output_type": "execute_result"
    }
   ],
   "source": [
    "# Anything before \"::\" tells it, where to start\n",
    "txt[5::]"
   ]
  },
  {
   "cell_type": "code",
   "execution_count": 68,
   "id": "9696dd1b",
   "metadata": {},
   "outputs": [
    {
     "data": {
      "text/plain": [
       "'H d'"
      ]
     },
     "execution_count": 68,
     "metadata": {},
     "output_type": "execute_result"
    }
   ],
   "source": [
    "# Every 5th\n",
    "txt[::5]"
   ]
  },
  {
   "cell_type": "markdown",
   "id": "0f5d255d",
   "metadata": {},
   "source": [
    "So, when we use -1 after \"::\" we are saying, give me every n'th item, just in reverse"
   ]
  },
  {
   "cell_type": "code",
   "execution_count": 57,
   "id": "628b21a2",
   "metadata": {},
   "outputs": [
    {
     "data": {
      "text/plain": [
       "'dlroW olleH'"
      ]
     },
     "execution_count": 57,
     "metadata": {},
     "output_type": "execute_result"
    }
   ],
   "source": [
    "txt[::-1]"
   ]
  },
  {
   "cell_type": "markdown",
   "id": "bf1f91c7",
   "metadata": {},
   "source": [
    "### Question 8\n",
    "Add 2 strings with space in between, create and save in a new variable string_3"
   ]
  },
  {
   "cell_type": "code",
   "execution_count": 69,
   "id": "03f07279",
   "metadata": {},
   "outputs": [],
   "source": [
    "string_1 = \"Hello\"\n",
    "string_2 = \"World\""
   ]
  },
  {
   "cell_type": "code",
   "execution_count": 24,
   "id": "1b816a07",
   "metadata": {},
   "outputs": [],
   "source": [
    "# Write your code here"
   ]
  },
  {
   "cell_type": "markdown",
   "id": "045f9fef",
   "metadata": {},
   "source": [
    "#### Answer"
   ]
  },
  {
   "cell_type": "code",
   "execution_count": 70,
   "id": "77acbd2a",
   "metadata": {},
   "outputs": [
    {
     "data": {
      "text/plain": [
       "'Hello World'"
      ]
     },
     "execution_count": 70,
     "metadata": {},
     "output_type": "execute_result"
    }
   ],
   "source": [
    "string_3 = string_1 + \" \" + string_2\n",
    "string_3"
   ]
  }
 ],
 "metadata": {
  "kernelspec": {
   "display_name": "Python 3 (ipykernel)",
   "language": "python",
   "name": "python3"
  },
  "language_info": {
   "codemirror_mode": {
    "name": "ipython",
    "version": 3
   },
   "file_extension": ".py",
   "mimetype": "text/x-python",
   "name": "python",
   "nbconvert_exporter": "python",
   "pygments_lexer": "ipython3",
   "version": "3.7.15"
  }
 },
 "nbformat": 4,
 "nbformat_minor": 5
}
