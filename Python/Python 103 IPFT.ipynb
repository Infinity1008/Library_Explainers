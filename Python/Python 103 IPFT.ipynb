{
 "cells": [
  {
   "cell_type": "markdown",
   "id": "395e558f",
   "metadata": {},
   "source": [
    "<h1><center>Python Practice</center></h1>\n",
    "\n",
    "    \n",
    "<img src=\"https://media1.giphy.com/media/v1.Y2lkPTc5MGI3NjExY2Q5NmQ2ZWI3OWQ3MzVmOWU0NzQ1ZGMxNDc2NGNjNzI5MWJkZTQ4MSZjdD1n/KAq5w47R9rmTuvWOWa/giphy.gif\" alt=\"\" width=\"300\" height=\"400\">"
   ]
  },
  {
   "cell_type": "markdown",
   "id": "89ce2b00",
   "metadata": {},
   "source": [
    "# Question\n",
    "1. Write a program to accept a number from a user and calculate the sum of all numbers from 1 to a given number For example, if the user entered 10 the output should be 55 (1+2+3+4+5+6+7+8+9+10)\n",
    "2. Write a program to print multiplication table(till 10) of a given number For example, num = 2 so the output should be 2,4,6,8,10,12,14,16,18,20"
   ]
  },
  {
   "cell_type": "markdown",
   "id": "1a9f0b52",
   "metadata": {},
   "source": [
    "# Answers "
   ]
  },
  {
   "cell_type": "code",
   "execution_count": 23,
   "id": "5c4d2292",
   "metadata": {},
   "outputs": [],
   "source": [
    "def sum_upto(x):\n",
    "    sum_result = 0\n",
    "    for i in range(x):\n",
    "        sum_result += i + 1\n",
    "        print('The value of sum variable right now is ' + str(sum_result))\n",
    "    \n",
    "    return sum_result"
   ]
  },
  {
   "cell_type": "code",
   "execution_count": 24,
   "id": "826d3df6",
   "metadata": {},
   "outputs": [
    {
     "name": "stdout",
     "output_type": "stream",
     "text": [
      "The value of sum variable right now is 1\n",
      "The value of sum variable right now is 3\n",
      "The value of sum variable right now is 6\n",
      "The value of sum variable right now is 10\n",
      "The value of sum variable right now is 15\n"
     ]
    },
    {
     "data": {
      "text/plain": [
       "15"
      ]
     },
     "execution_count": 24,
     "metadata": {},
     "output_type": "execute_result"
    }
   ],
   "source": [
    "sum_upto(5)"
   ]
  },
  {
   "cell_type": "code",
   "execution_count": 35,
   "id": "83e9d42c",
   "metadata": {},
   "outputs": [],
   "source": [
    "#Write a program to print multiplication table(till 10) of a given number For example, num = 2 so the output should be 2,4,6,8,10,12,14,16,18,20\n",
    "def multiplication_table(x):\n",
    "    output = []\n",
    "    for i in range(1,11):\n",
    "        output.append(x*i)\n",
    "    \n",
    "    return output"
   ]
  },
  {
   "cell_type": "code",
   "execution_count": 36,
   "id": "05f2e39b",
   "metadata": {},
   "outputs": [
    {
     "data": {
      "text/plain": [
       "[8, 16, 24, 32, 40, 48, 56, 64, 72, 80]"
      ]
     },
     "execution_count": 36,
     "metadata": {},
     "output_type": "execute_result"
    }
   ],
   "source": [
    "multiplication_table(8)"
   ]
  },
  {
   "cell_type": "code",
   "execution_count": 37,
   "id": "649ae4b1",
   "metadata": {},
   "outputs": [],
   "source": [
    "a = multiplication_table(7)"
   ]
  },
  {
   "cell_type": "code",
   "execution_count": 38,
   "id": "2bbf9d02",
   "metadata": {},
   "outputs": [
    {
     "data": {
      "text/plain": [
       "[7, 14, 21, 28, 35, 42, 49, 56, 63, 70]"
      ]
     },
     "execution_count": 38,
     "metadata": {},
     "output_type": "execute_result"
    }
   ],
   "source": [
    "a"
   ]
  },
  {
   "cell_type": "markdown",
   "id": "a0997f39",
   "metadata": {},
   "source": [
    "# Question 3\n",
    "Create a function that takes a list as an input and returns all the even index items back\n",
    "\n",
    "#### Your input\n",
    "yourfunction([10,2,3,4,5,1,2,6])\n",
    "#### Your output\n",
    "[10,3,5,2]"
   ]
  },
  {
   "cell_type": "code",
   "execution_count": 52,
   "id": "9e8dcf8e",
   "metadata": {},
   "outputs": [],
   "source": [
    "x = [1,3,4,5,10,20,1,2]"
   ]
  },
  {
   "cell_type": "code",
   "execution_count": 72,
   "id": "a82a3396",
   "metadata": {},
   "outputs": [
    {
     "data": {
      "text/plain": [
       "[1, 3, 4, 5, 10, 20, 1, 2]"
      ]
     },
     "execution_count": 72,
     "metadata": {},
     "output_type": "execute_result"
    }
   ],
   "source": [
    "x[::1]"
   ]
  },
  {
   "cell_type": "code",
   "execution_count": 55,
   "id": "fe13d23b",
   "metadata": {},
   "outputs": [],
   "source": [
    "# Apporach 1\n",
    "def even_items(x):\n",
    "    even_items_output = x[::2]\n",
    "    return even_items_output"
   ]
  },
  {
   "cell_type": "code",
   "execution_count": 103,
   "id": "9305aef1",
   "metadata": {},
   "outputs": [
    {
     "data": {
      "text/plain": [
       "[1, 4, 10, 1]"
      ]
     },
     "execution_count": 103,
     "metadata": {},
     "output_type": "execute_result"
    }
   ],
   "source": [
    "even_items(x)"
   ]
  },
  {
   "cell_type": "code",
   "execution_count": 98,
   "id": "76419159",
   "metadata": {},
   "outputs": [],
   "source": [
    "# Apporach 2\n",
    "x = [1,3,4,5,10,20,1,2]\n",
    "def even_items(x):\n",
    "    outputs = []\n",
    "    # We loop over how many items in the list\n",
    "    for i in range(len(x)):\n",
    "        if i % 2 == 0:\n",
    "            # Here, we append when the index is even\n",
    "            outputs.append(x[i])\n",
    "        else:\n",
    "            # If, index is not even, we don't do anything\n",
    "            pass\n",
    "\n",
    "    return outputs"
   ]
  },
  {
   "cell_type": "code",
   "execution_count": 99,
   "id": "7a6ded32",
   "metadata": {
    "scrolled": true
   },
   "outputs": [
    {
     "data": {
      "text/plain": [
       "[1, 4, 10, 1]"
      ]
     },
     "execution_count": 99,
     "metadata": {},
     "output_type": "execute_result"
    }
   ],
   "source": [
    "even_items(x)"
   ]
  },
  {
   "cell_type": "markdown",
   "id": "37aeb62f",
   "metadata": {},
   "source": [
    "# Question 4\n",
    "Write a function that takes a number as an input and reverses it and returns the same as an output"
   ]
  },
  {
   "cell_type": "code",
   "execution_count": null,
   "id": "e99c0ef2",
   "metadata": {},
   "outputs": [],
   "source": [
    "# The input is an integer and the out is an integer\n",
    "# 10 - 01\n",
    "# 51 - 15\n",
    "# 35 - 53"
   ]
  },
  {
   "cell_type": "code",
   "execution_count": 111,
   "id": "9c7be28f",
   "metadata": {},
   "outputs": [
    {
     "data": {
      "text/plain": [
       "1"
      ]
     },
     "execution_count": 111,
     "metadata": {},
     "output_type": "execute_result"
    }
   ],
   "source": [
    "# Hint 1\n",
    "51 % 10"
   ]
  },
  {
   "cell_type": "code",
   "execution_count": 117,
   "id": "3e9ad338",
   "metadata": {},
   "outputs": [
    {
     "data": {
      "text/plain": [
       "5"
      ]
     },
     "execution_count": 117,
     "metadata": {},
     "output_type": "execute_result"
    }
   ],
   "source": [
    "# Hint 2\n",
    "51 // 10"
   ]
  },
  {
   "cell_type": "code",
   "execution_count": null,
   "id": "62edbe9b",
   "metadata": {},
   "outputs": [],
   "source": [
    "# Hint \n",
    "51 = 5*10 + 1\n",
    "15 = 1*10 + 1\n",
    "\n",
    "123 = 1*100 + 2*10 + 3\n",
    "321 = 3*100 + 2*10 + 1"
   ]
  },
  {
   "cell_type": "code",
   "execution_count": 131,
   "id": "a61227e8",
   "metadata": {},
   "outputs": [],
   "source": [
    "def reverse_num(x):\n",
    "    tenth_number = x // 10\n",
    "    ones_number = x % 10\n",
    "    \n",
    "    reversed_number = ones_number * 10 + tenth_number\n",
    "    return reversed_number"
   ]
  },
  {
   "cell_type": "code",
   "execution_count": 134,
   "id": "e8cbe3f2",
   "metadata": {},
   "outputs": [
    {
     "data": {
      "text/plain": [
       "83"
      ]
     },
     "execution_count": 134,
     "metadata": {},
     "output_type": "execute_result"
    }
   ],
   "source": [
    "reverse_num(38)"
   ]
  },
  {
   "cell_type": "code",
   "execution_count": null,
   "id": "4322ad53",
   "metadata": {},
   "outputs": [],
   "source": []
  },
  {
   "cell_type": "code",
   "execution_count": null,
   "id": "d4f96707",
   "metadata": {},
   "outputs": [],
   "source": []
  },
  {
   "cell_type": "code",
   "execution_count": null,
   "id": "89068c90",
   "metadata": {},
   "outputs": [],
   "source": []
  },
  {
   "cell_type": "code",
   "execution_count": null,
   "id": "7feab710",
   "metadata": {},
   "outputs": [],
   "source": []
  },
  {
   "cell_type": "code",
   "execution_count": null,
   "id": "4aa8de78",
   "metadata": {},
   "outputs": [],
   "source": []
  },
  {
   "cell_type": "code",
   "execution_count": null,
   "id": "7cfef5d8",
   "metadata": {},
   "outputs": [],
   "source": []
  },
  {
   "cell_type": "code",
   "execution_count": null,
   "id": "4f6f2675",
   "metadata": {},
   "outputs": [],
   "source": []
  },
  {
   "cell_type": "code",
   "execution_count": null,
   "id": "225e0005",
   "metadata": {},
   "outputs": [],
   "source": []
  }
 ],
 "metadata": {
  "kernelspec": {
   "display_name": "Python 3 (ipykernel)",
   "language": "python",
   "name": "python3"
  },
  "language_info": {
   "codemirror_mode": {
    "name": "ipython",
    "version": 3
   },
   "file_extension": ".py",
   "mimetype": "text/x-python",
   "name": "python",
   "nbconvert_exporter": "python",
   "pygments_lexer": "ipython3",
   "version": "3.9.16"
  }
 },
 "nbformat": 4,
 "nbformat_minor": 5
}
